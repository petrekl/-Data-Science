{
 "cells": [
  {
   "cell_type": "markdown",
   "id": "13be834a",
   "metadata": {},
   "source": [
    "\n",
    "Исследование объявлений о продаже квартир\n",
    "    \n",
    "Цель работы — провести исследовательский анализ данных, который поможет установить параметры, влияющие на цену объектов. \n",
    "    \n",
    "План работы:\n",
    "    \n",
    "Шаг 1 Открытие файла с данными и изучение общей информации\n",
    "    \n",
    "Шаг 2 Предобработка данных\n",
    "    \n",
    "Шаг 3 Добавление в таблицу новых метрик\n",
    "    \n",
    "Шаг 4 Проведение исследовательского анализа данных\n",
    "    \n",
    "Шаг 5 Общий вывод\n",
    "\n",
    "Описание данных:\n",
    "В вашем распоряжении данные сервиса Яндекс Недвижимость — архив объявлений о продаже квартир в Санкт-Петербурге и соседних населённых пунктах за несколько лет. По каждой квартире на продажу доступны два вида данных. Первые вписаны пользователем, вторые — получены автоматически на основе картографических данных. Например, расстояние до центра, аэропорта и других объектов — эти данные автоматически получены из геосервисов. Количество парков и водоёмов также заполняется без участия пользователя.     "
   ]
  },
  {
   "cell_type": "markdown",
   "id": "df52aadc",
   "metadata": {},
   "source": [
    "__Шаг 1. Открытие файла с данными и изучение общей информацию__"
   ]
  },
  {
   "cell_type": "code",
   "execution_count": 1,
   "id": "b7a8cc15",
   "metadata": {},
   "outputs": [],
   "source": [
    "import pandas as pd\n",
    "import warnings"
   ]
  },
  {
   "cell_type": "code",
   "execution_count": 2,
   "id": "fff1be48",
   "metadata": {
    "scrolled": false
   },
   "outputs": [
    {
     "data": {
      "text/html": [
       "<div>\n",
       "<style scoped>\n",
       "    .dataframe tbody tr th:only-of-type {\n",
       "        vertical-align: middle;\n",
       "    }\n",
       "\n",
       "    .dataframe tbody tr th {\n",
       "        vertical-align: top;\n",
       "    }\n",
       "\n",
       "    .dataframe thead th {\n",
       "        text-align: right;\n",
       "    }\n",
       "</style>\n",
       "<table border=\"1\" class=\"dataframe\">\n",
       "  <thead>\n",
       "    <tr style=\"text-align: right;\">\n",
       "      <th></th>\n",
       "      <th>total_images</th>\n",
       "      <th>last_price</th>\n",
       "      <th>total_area</th>\n",
       "      <th>first_day_exposition</th>\n",
       "      <th>rooms</th>\n",
       "      <th>ceiling_height</th>\n",
       "      <th>floors_total</th>\n",
       "      <th>living_area</th>\n",
       "      <th>floor</th>\n",
       "      <th>is_apartment</th>\n",
       "      <th>...</th>\n",
       "      <th>kitchen_area</th>\n",
       "      <th>balcony</th>\n",
       "      <th>locality_name</th>\n",
       "      <th>airports_nearest</th>\n",
       "      <th>cityCenters_nearest</th>\n",
       "      <th>parks_around3000</th>\n",
       "      <th>parks_nearest</th>\n",
       "      <th>ponds_around3000</th>\n",
       "      <th>ponds_nearest</th>\n",
       "      <th>days_exposition</th>\n",
       "    </tr>\n",
       "  </thead>\n",
       "  <tbody>\n",
       "    <tr>\n",
       "      <th>0</th>\n",
       "      <td>20</td>\n",
       "      <td>13000000.0</td>\n",
       "      <td>108.0</td>\n",
       "      <td>2019-03-07T00:00:00</td>\n",
       "      <td>3</td>\n",
       "      <td>2.70</td>\n",
       "      <td>16.0</td>\n",
       "      <td>51.0</td>\n",
       "      <td>8</td>\n",
       "      <td>NaN</td>\n",
       "      <td>...</td>\n",
       "      <td>25.0</td>\n",
       "      <td>NaN</td>\n",
       "      <td>Санкт-Петербург</td>\n",
       "      <td>18863.0</td>\n",
       "      <td>16028.0</td>\n",
       "      <td>1.0</td>\n",
       "      <td>482.0</td>\n",
       "      <td>2.0</td>\n",
       "      <td>755.0</td>\n",
       "      <td>NaN</td>\n",
       "    </tr>\n",
       "    <tr>\n",
       "      <th>1</th>\n",
       "      <td>7</td>\n",
       "      <td>3350000.0</td>\n",
       "      <td>40.4</td>\n",
       "      <td>2018-12-04T00:00:00</td>\n",
       "      <td>1</td>\n",
       "      <td>NaN</td>\n",
       "      <td>11.0</td>\n",
       "      <td>18.6</td>\n",
       "      <td>1</td>\n",
       "      <td>NaN</td>\n",
       "      <td>...</td>\n",
       "      <td>11.0</td>\n",
       "      <td>2.0</td>\n",
       "      <td>посёлок Шушары</td>\n",
       "      <td>12817.0</td>\n",
       "      <td>18603.0</td>\n",
       "      <td>0.0</td>\n",
       "      <td>NaN</td>\n",
       "      <td>0.0</td>\n",
       "      <td>NaN</td>\n",
       "      <td>81.0</td>\n",
       "    </tr>\n",
       "    <tr>\n",
       "      <th>2</th>\n",
       "      <td>10</td>\n",
       "      <td>5196000.0</td>\n",
       "      <td>56.0</td>\n",
       "      <td>2015-08-20T00:00:00</td>\n",
       "      <td>2</td>\n",
       "      <td>NaN</td>\n",
       "      <td>5.0</td>\n",
       "      <td>34.3</td>\n",
       "      <td>4</td>\n",
       "      <td>NaN</td>\n",
       "      <td>...</td>\n",
       "      <td>8.3</td>\n",
       "      <td>0.0</td>\n",
       "      <td>Санкт-Петербург</td>\n",
       "      <td>21741.0</td>\n",
       "      <td>13933.0</td>\n",
       "      <td>1.0</td>\n",
       "      <td>90.0</td>\n",
       "      <td>2.0</td>\n",
       "      <td>574.0</td>\n",
       "      <td>558.0</td>\n",
       "    </tr>\n",
       "    <tr>\n",
       "      <th>3</th>\n",
       "      <td>0</td>\n",
       "      <td>64900000.0</td>\n",
       "      <td>159.0</td>\n",
       "      <td>2015-07-24T00:00:00</td>\n",
       "      <td>3</td>\n",
       "      <td>NaN</td>\n",
       "      <td>14.0</td>\n",
       "      <td>NaN</td>\n",
       "      <td>9</td>\n",
       "      <td>NaN</td>\n",
       "      <td>...</td>\n",
       "      <td>NaN</td>\n",
       "      <td>0.0</td>\n",
       "      <td>Санкт-Петербург</td>\n",
       "      <td>28098.0</td>\n",
       "      <td>6800.0</td>\n",
       "      <td>2.0</td>\n",
       "      <td>84.0</td>\n",
       "      <td>3.0</td>\n",
       "      <td>234.0</td>\n",
       "      <td>424.0</td>\n",
       "    </tr>\n",
       "    <tr>\n",
       "      <th>4</th>\n",
       "      <td>2</td>\n",
       "      <td>10000000.0</td>\n",
       "      <td>100.0</td>\n",
       "      <td>2018-06-19T00:00:00</td>\n",
       "      <td>2</td>\n",
       "      <td>3.03</td>\n",
       "      <td>14.0</td>\n",
       "      <td>32.0</td>\n",
       "      <td>13</td>\n",
       "      <td>NaN</td>\n",
       "      <td>...</td>\n",
       "      <td>41.0</td>\n",
       "      <td>NaN</td>\n",
       "      <td>Санкт-Петербург</td>\n",
       "      <td>31856.0</td>\n",
       "      <td>8098.0</td>\n",
       "      <td>2.0</td>\n",
       "      <td>112.0</td>\n",
       "      <td>1.0</td>\n",
       "      <td>48.0</td>\n",
       "      <td>121.0</td>\n",
       "    </tr>\n",
       "  </tbody>\n",
       "</table>\n",
       "<p>5 rows × 22 columns</p>\n",
       "</div>"
      ],
      "text/plain": [
       "   total_images  last_price  total_area first_day_exposition  rooms  \\\n",
       "0            20  13000000.0       108.0  2019-03-07T00:00:00      3   \n",
       "1             7   3350000.0        40.4  2018-12-04T00:00:00      1   \n",
       "2            10   5196000.0        56.0  2015-08-20T00:00:00      2   \n",
       "3             0  64900000.0       159.0  2015-07-24T00:00:00      3   \n",
       "4             2  10000000.0       100.0  2018-06-19T00:00:00      2   \n",
       "\n",
       "   ceiling_height  floors_total  living_area  floor is_apartment  ...  \\\n",
       "0            2.70          16.0         51.0      8          NaN  ...   \n",
       "1             NaN          11.0         18.6      1          NaN  ...   \n",
       "2             NaN           5.0         34.3      4          NaN  ...   \n",
       "3             NaN          14.0          NaN      9          NaN  ...   \n",
       "4            3.03          14.0         32.0     13          NaN  ...   \n",
       "\n",
       "   kitchen_area  balcony    locality_name  airports_nearest  \\\n",
       "0          25.0      NaN  Санкт-Петербург           18863.0   \n",
       "1          11.0      2.0   посёлок Шушары           12817.0   \n",
       "2           8.3      0.0  Санкт-Петербург           21741.0   \n",
       "3           NaN      0.0  Санкт-Петербург           28098.0   \n",
       "4          41.0      NaN  Санкт-Петербург           31856.0   \n",
       "\n",
       "  cityCenters_nearest  parks_around3000  parks_nearest  ponds_around3000  \\\n",
       "0             16028.0               1.0          482.0               2.0   \n",
       "1             18603.0               0.0            NaN               0.0   \n",
       "2             13933.0               1.0           90.0               2.0   \n",
       "3              6800.0               2.0           84.0               3.0   \n",
       "4              8098.0               2.0          112.0               1.0   \n",
       "\n",
       "   ponds_nearest  days_exposition  \n",
       "0          755.0              NaN  \n",
       "1            NaN             81.0  \n",
       "2          574.0            558.0  \n",
       "3          234.0            424.0  \n",
       "4           48.0            121.0  \n",
       "\n",
       "[5 rows x 22 columns]"
      ]
     },
     "metadata": {},
     "output_type": "display_data"
    }
   ],
   "source": [
    "data = pd.read_csv('https://code.s3.yandex.net/datasets/real_estate_data.csv', sep='\\t')\n",
    "display(data.head(5))"
   ]
  },
  {
   "cell_type": "code",
   "execution_count": 3,
   "id": "825b1cf3",
   "metadata": {},
   "outputs": [
    {
     "name": "stdout",
     "output_type": "stream",
     "text": [
      "<class 'pandas.core.frame.DataFrame'>\n",
      "RangeIndex: 23699 entries, 0 to 23698\n",
      "Data columns (total 22 columns):\n",
      " #   Column                Non-Null Count  Dtype  \n",
      "---  ------                --------------  -----  \n",
      " 0   total_images          23699 non-null  int64  \n",
      " 1   last_price            23699 non-null  float64\n",
      " 2   total_area            23699 non-null  float64\n",
      " 3   first_day_exposition  23699 non-null  object \n",
      " 4   rooms                 23699 non-null  int64  \n",
      " 5   ceiling_height        14504 non-null  float64\n",
      " 6   floors_total          23613 non-null  float64\n",
      " 7   living_area           21796 non-null  float64\n",
      " 8   floor                 23699 non-null  int64  \n",
      " 9   is_apartment          2775 non-null   object \n",
      " 10  studio                23699 non-null  bool   \n",
      " 11  open_plan             23699 non-null  bool   \n",
      " 12  kitchen_area          21421 non-null  float64\n",
      " 13  balcony               12180 non-null  float64\n",
      " 14  locality_name         23650 non-null  object \n",
      " 15  airports_nearest      18157 non-null  float64\n",
      " 16  cityCenters_nearest   18180 non-null  float64\n",
      " 17  parks_around3000      18181 non-null  float64\n",
      " 18  parks_nearest         8079 non-null   float64\n",
      " 19  ponds_around3000      18181 non-null  float64\n",
      " 20  ponds_nearest         9110 non-null   float64\n",
      " 21  days_exposition       20518 non-null  float64\n",
      "dtypes: bool(2), float64(14), int64(3), object(3)\n",
      "memory usage: 3.7+ MB\n"
     ]
    },
    {
     "data": {
      "text/plain": [
       "None"
      ]
     },
     "metadata": {},
     "output_type": "display_data"
    },
    {
     "name": "stdout",
     "output_type": "stream",
     "text": [
      "23699\n"
     ]
    }
   ],
   "source": [
    "display(data.info())\n",
    "started_len = len(data)\n",
    "print(started_len)"
   ]
  },
  {
   "cell_type": "code",
   "execution_count": 4,
   "id": "75502fc7",
   "metadata": {},
   "outputs": [
    {
     "name": "stdout",
     "output_type": "stream",
     "text": [
      "Index(['total_images', 'last_price', 'total_area', 'rooms', 'ceiling_height',\n",
      "       'floors_total', 'living_area', 'floor', 'kitchen_area', 'balcony',\n",
      "       'airports_nearest', 'cityCenters_nearest', 'parks_around3000',\n",
      "       'parks_nearest', 'ponds_around3000', 'ponds_nearest',\n",
      "       'days_exposition'],\n",
      "      dtype='object')\n"
     ]
    }
   ],
   "source": [
    "numeric_columns = data.select_dtypes(include=['number']).columns\n",
    "print(numeric_columns)"
   ]
  },
  {
   "cell_type": "code",
   "execution_count": 5,
   "id": "12ef0035",
   "metadata": {
    "scrolled": false
   },
   "outputs": [
    {
     "data": {
      "image/png": "[encoded data removed]",
      "text/plain": [
       "<Figure size 360x360 with 1 Axes>"
      ]
     },
     "metadata": {
      "needs_background": "light"
     },
     "output_type": "display_data"
    },
    {
     "data": {
      "image/png": "[encoded data removed]",
      "text/plain": [
       "<Figure size 360x360 with 1 Axes>"
      ]
     },
     "metadata": {
      "needs_background": "light"
     },
     "output_type": "display_data"
    },
    {
     "data": {
      "image/png": "[encoded data removed]",
      "text/plain": [
       "<Figure size 360x360 with 1 Axes>"
      ]
     },
     "metadata": {
      "needs_background": "light"
     },
     "output_type": "display_data"
    },
    {
     "data": {
      "image/png": "[encoded data removed]",
      "text/plain": [
       "<Figure size 360x360 with 1 Axes>"
      ]
     },
     "metadata": {
      "needs_background": "light"
     },
     "output_type": "display_data"
    },
    {
     "data": {
      "image/png": "[encoded data removed]",
      "text/plain": [
       "<Figure size 360x360 with 1 Axes>"
      ]
     },
     "metadata": {
      "needs_background": "light"
     },
     "output_type": "display_data"
    },
    {
     "data": {
      "image/png": "[encoded data removed]",
      "text/plain": [
       "<Figure size 360x360 with 1 Axes>"
      ]
     },
     "metadata": {
      "needs_background": "light"
     },
     "output_type": "display_data"
    },
    {
     "data": {
      "image/png": "[encoded data removed]",
      "text/plain": [
       "<Figure size 360x360 with 1 Axes>"
      ]
     },
     "metadata": {
      "needs_background": "light"
     },
     "output_type": "display_data"
    },
    {
     "data": {
      "image/png": "[encoded data removed]",
      "text/plain": [
       "<Figure size 360x360 with 1 Axes>"
      ]
     },
     "metadata": {
      "needs_background": "light"
     },
     "output_type": "display_data"
    },
    {
     "data": {
      "image/png": "[encoded data removed]",
      "text/plain": [
       "<Figure size 360x360 with 1 Axes>"
      ]
     },
     "metadata": {
      "needs_background": "light"
     },
     "output_type": "display_data"
    },
    {
     "data": {
      "image/png": "[encoded data removed]",
      "text/plain": [
       "<Figure size 360x360 with 1 Axes>"
      ]
     },
     "metadata": {
      "needs_background": "light"
     },
     "output_type": "display_data"
    },
    {
     "data": {
      "image/png": "[encoded data removed]",
      "text/plain": [
       "<Figure size 360x360 with 1 Axes>"
      ]
     },
     "metadata": {
      "needs_background": "light"
     },
     "output_type": "display_data"
    },
    {
     "data": {
      "image/png": "[encoded data removed]",
      "text/plain": [
       "<Figure size 360x360 with 1 Axes>"
      ]
     },
     "metadata": {
      "needs_background": "light"
     },
     "output_type": "display_data"
    },
    {
     "data": {
      "image/png": "[encoded data removed]",
      "text/plain": [
       "<Figure size 360x360 with 1 Axes>"
      ]
     },
     "metadata": {
      "needs_background": "light"
     },
     "output_type": "display_data"
    },
    {
     "data": {
      "image/png": "[encoded data removed]",
      "text/plain": [
       "<Figure size 360x360 with 1 Axes>"
      ]
     },
     "metadata": {
      "needs_background": "light"
     },
     "output_type": "display_data"
    },
    {
     "data": {
      "image/png": "[encoded data removed]",
      "text/plain": [
       "<Figure size 360x360 with 1 Axes>"
      ]
     },
     "metadata": {
      "needs_background": "light"
     },
     "output_type": "display_data"
    },
    {
     "data": {
      "image/png": "[encoded data removed]",
      "text/plain": [
       "<Figure size 360x360 with 1 Axes>"
      ]
     },
     "metadata": {
      "needs_background": "light"
     },
     "output_type": "display_data"
    },
    {
     "data": {
      "image/png": "[encoded data removed]",
      "text/plain": [
       "<Figure size 360x360 with 1 Axes>"
      ]
     },
     "metadata": {
      "needs_background": "light"
     },
     "output_type": "display_data"
    }
   ],
   "source": [
    "for i in numeric_columns:\n",
    "    data.plot(y = i, kind = 'hist', figsize = (5, 5))"
   ]
  },
  {
   "cell_type": "markdown",
   "id": "7126dc15",
   "metadata": {},
   "source": [
    "__Шаг 2. Предобработка данных__"
   ]
  },
  {
   "cell_type": "markdown",
   "id": "fe74ea4a",
   "metadata": {},
   "source": [
    "__2.1 Нахождение и изучение пропущенных значений в столбцах__"
   ]
  },
  {
   "cell_type": "code",
   "execution_count": 6,
   "id": "09fbb311",
   "metadata": {
    "scrolled": true
   },
   "outputs": [
    {
     "data": {
      "text/plain": [
       "is_apartment            20924\n",
       "parks_nearest           15620\n",
       "ponds_nearest           14589\n",
       "balcony                 11519\n",
       "ceiling_height           9195\n",
       "airports_nearest         5542\n",
       "cityCenters_nearest      5519\n",
       "ponds_around3000         5518\n",
       "parks_around3000         5518\n",
       "days_exposition          3181\n",
       "kitchen_area             2278\n",
       "living_area              1903\n",
       "floors_total               86\n",
       "locality_name              49\n",
       "total_images                0\n",
       "last_price                  0\n",
       "studio                      0\n",
       "floor                       0\n",
       "rooms                       0\n",
       "first_day_exposition        0\n",
       "total_area                  0\n",
       "open_plan                   0\n",
       "dtype: int64"
      ]
     },
     "execution_count": 6,
     "metadata": {},
     "output_type": "execute_result"
    }
   ],
   "source": [
    "#Определим в каких столбцах есть пропуски\n",
    "data.isna().sum().sort_values(ascending = False)"
   ]
  },
  {
   "cell_type": "markdown",
   "id": "99c9f53a",
   "metadata": {},
   "source": [
    "Первым стообцом с пропусками является ceiling_height,владельцы квартир могут не указывать высоту потолков при сдаче квартир в первую очередь из-за того, что высота потолков является незначительным показателем для сдачи квартиры в аренду  "
   ]
  },
  {
   "cell_type": "code",
   "execution_count": 7,
   "id": "471706e5",
   "metadata": {},
   "outputs": [
    {
     "name": "stdout",
     "output_type": "stream",
     "text": [
      "14504\n",
      "Процент пропусков в столбце ceiling_height равен 38.8 %\n"
     ]
    }
   ],
   "source": [
    "print(data['ceiling_height'].count())\n",
    "print(\"Процент пропусков в столбце ceiling_height равен\", round(9195/23699*100, 2),'%')"
   ]
  },
  {
   "cell_type": "code",
   "execution_count": 8,
   "id": "2b1dd75d",
   "metadata": {},
   "outputs": [
    {
     "name": "stdout",
     "output_type": "stream",
     "text": [
      "             Column_Name  Missing_Count  Percentage_Missing\n",
      "9           is_apartment          20924           88.290645\n",
      "18         parks_nearest          15620           65.909954\n",
      "20         ponds_nearest          14589           61.559559\n",
      "13               balcony          11519           48.605426\n",
      "5         ceiling_height           9195           38.799105\n",
      "15      airports_nearest           5542           23.384953\n",
      "16   cityCenters_nearest           5519           23.287902\n",
      "19      ponds_around3000           5518           23.283683\n",
      "17      parks_around3000           5518           23.283683\n",
      "21       days_exposition           3181           13.422507\n",
      "12          kitchen_area           2278            9.612220\n",
      "7            living_area           1903            8.029875\n",
      "6           floors_total             86            0.362885\n",
      "14         locality_name             49            0.206760\n",
      "0           total_images              0            0.000000\n",
      "1             last_price              0            0.000000\n",
      "10                studio              0            0.000000\n",
      "8                  floor              0            0.000000\n",
      "4                  rooms              0            0.000000\n",
      "3   first_day_exposition              0            0.000000\n",
      "2             total_area              0            0.000000\n",
      "11             open_plan              0            0.000000\n"
     ]
    }
   ],
   "source": [
    "missing = pd.DataFrame()\n",
    "missing['Column_Name'] = data.columns\n",
    "missing['Missing_Count'] = data.isna().sum().values\n",
    "missing['Percentage_Missing'] = (missing['Missing_Count'] / len(data)) * 100\n",
    "\n",
    "print(missing.sort_values('Percentage_Missing', ascending = False))"
   ]
  },
  {
   "cell_type": "markdown",
   "id": "402d78f6",
   "metadata": {},
   "source": [
    "Заметим, что 63.4% объявлений не содержат информацию о высоте потолков, так как пропусков слишком много, мы не можем заменить их всех на среднее/медианное значение."
   ]
  },
  {
   "cell_type": "markdown",
   "id": "2c69c9e8",
   "metadata": {},
   "source": [
    "Далее идет стобец floors_total, так как всего 86 объявлений не содеражт информации о этажности дома, мы можем посчиать, что эти пропуски были сделаны либо из-за невнимательности владельцев при заполнении объявления, либо из-за того, что сами владельцы не владеют этой иноформацией, например живут в друом городе.\n",
    "Процент пропусков совссем небольшой, мы можем заменить пропуски на среднее занчение в столбце."
   ]
  },
  {
   "cell_type": "code",
   "execution_count": 9,
   "id": "cf49923d",
   "metadata": {},
   "outputs": [
    {
     "name": "stdout",
     "output_type": "stream",
     "text": [
      "Процент пропусков в столбце floors_total равен 0.36 %\n"
     ]
    }
   ],
   "source": [
    "print(\"Процент пропусков в столбце floors_total равен\", round(86/23699*100, 2),'%')"
   ]
  },
  {
   "cell_type": "code",
   "execution_count": 10,
   "id": "433d9911",
   "metadata": {
    "scrolled": true
   },
   "outputs": [
    {
     "name": "stdout",
     "output_type": "stream",
     "text": [
      "0\n"
     ]
    }
   ],
   "source": [
    "data = data.dropna(subset=['floors_total'])\n",
    "print(data['floors_total'].isna().sum())"
   ]
  },
  {
   "cell_type": "markdown",
   "id": "48a388b4",
   "metadata": {},
   "source": [
    "Следующим столбцом с пропусками ялвяется living_area, владельцы могут скрывать инофрмацию о размере квартиры, которую они сдают, по нескольким причинам: 1)Владельцы квартиры могут счиать, что уклонение от указания размера квартиры может предоставить им простарноство для торга. 2)В некоторых случаях владельцы могут использовать стратегию маркетинга, не раскрывая точный размер квартиры, чтобы создать дополнительный интерес со стороны потенциальных арендаторов. Это может быть полезным, если квартира обладает другими уникальными характеристиками, которые могут быть привлекательными. "
   ]
  },
  {
   "cell_type": "code",
   "execution_count": 11,
   "id": "503b69e0",
   "metadata": {},
   "outputs": [
    {
     "name": "stdout",
     "output_type": "stream",
     "text": [
      "Процент пропусков в столбце living_area равен 8.03 %\n"
     ]
    }
   ],
   "source": [
    "print(\"Процент пропусков в столбце living_area равен\", round(1903/23699*100, 2),'%')"
   ]
  },
  {
   "cell_type": "markdown",
   "id": "52e6994d",
   "metadata": {},
   "source": [
    "Так как площадь квартиры является одним из наиболее значимых характеристик квартиры, которые влияют в том числе и на цену объявления, мы не можем заменить пропуски этих данных на какие-либо средние значения этого столбца. "
   ]
  },
  {
   "cell_type": "markdown",
   "id": "43b0c20f",
   "metadata": {},
   "source": [
    "Следующим столбцом с прорусками является столбец is_apartment, если продавец не указал апартаменты это или нет, то, скорее всего, его недвижимость не является апартаментами. Заменим все пропуски на занчение False "
   ]
  },
  {
   "cell_type": "code",
   "execution_count": 12,
   "id": "3ecf79a7",
   "metadata": {},
   "outputs": [
    {
     "name": "stdout",
     "output_type": "stream",
     "text": [
      "0\n"
     ]
    },
    {
     "name": "stderr",
     "output_type": "stream",
     "text": [
      "/opt/conda/lib/python3.9/site-packages/pandas/core/series.py:4463: SettingWithCopyWarning: \n",
      "A value is trying to be set on a copy of a slice from a DataFrame\n",
      "\n",
      "See the caveats in the documentation: https://pandas.pydata.org/pandas-docs/stable/user_guide/indexing.html#returning-a-view-versus-a-copy\n",
      "  return super().fillna(\n"
     ]
    }
   ],
   "source": [
    "data['is_apartment'].fillna(False, inplace = True)\n",
    "print(data['is_apartment'].isna().sum())#Проверили, что все пропуски удалены"
   ]
  },
  {
   "cell_type": "markdown",
   "id": "36ea793d",
   "metadata": {},
   "source": [
    "Следующим столбцом с прорусками является kitchen_area, причины скрытия информации о размере кухни могут быть схожи с причинами пропусков в столбце living_area, поэтому аналогично livivng_area мы не будем заменять пропуски на какие-лиюо средние величины "
   ]
  },
  {
   "cell_type": "code",
   "execution_count": 13,
   "id": "67681548",
   "metadata": {
    "scrolled": true
   },
   "outputs": [
    {
     "name": "stdout",
     "output_type": "stream",
     "text": [
      "Процент пропусков в столбце kitchen_area равен 9.61 %\n"
     ]
    }
   ],
   "source": [
    "print(\"Процент пропусков в столбце kitchen_area равен\", round(2278/23699*100, 2),'%')"
   ]
  },
  {
   "cell_type": "markdown",
   "id": "8c11dae4",
   "metadata": {},
   "source": [
    "Далее идет столбец balcony, если продавец не указал число балконов, то, скорее всего, в его квартире их нет. Заменим такие проруски на число 0."
   ]
  },
  {
   "cell_type": "code",
   "execution_count": 14,
   "id": "9be2fa63",
   "metadata": {},
   "outputs": [
    {
     "name": "stdout",
     "output_type": "stream",
     "text": [
      "Процент пропусков в столбце balcony равен 48.61 %\n"
     ]
    }
   ],
   "source": [
    "print(\"Процент пропусков в столбце balcony равен\", round(11519/23699*100, 2),'%')"
   ]
  },
  {
   "cell_type": "code",
   "execution_count": 15,
   "id": "f698eaf8",
   "metadata": {},
   "outputs": [
    {
     "name": "stdout",
     "output_type": "stream",
     "text": [
      "0\n"
     ]
    }
   ],
   "source": [
    "data['balcony'].fillna(0, inplace = True)\n",
    "print(data['balcony'].isna().sum())#Проверили, что все пропуски удалены"
   ]
  },
  {
   "cell_type": "markdown",
   "id": "ee472167",
   "metadata": {},
   "source": [
    "Далее идет столбец с названием locality_name, указание населенного пункта в объявлении может быть ключевым фактором для потенциальных арендоторов при принятии решения, поэтому пропуски в этом столбце, вероятнее всего, возникли из-за каких-либо ошибок со стороны владельцев. Здесь нет смысла изменять пропускм на какие-либо иные значения."
   ]
  },
  {
   "cell_type": "code",
   "execution_count": 16,
   "id": "536089ea",
   "metadata": {},
   "outputs": [
    {
     "name": "stdout",
     "output_type": "stream",
     "text": [
      "Процент пропусков в столбце locality_name равен 0.21 %\n"
     ]
    }
   ],
   "source": [
    "print(\"Процент пропусков в столбце locality_name равен\", round(49/23699*100, 2),'%')"
   ]
  },
  {
   "cell_type": "markdown",
   "id": "d5416176",
   "metadata": {},
   "source": [
    "Далее идет информация про ближайший аэропорт, ближайший центр города, парки и водоемы на расстоянии 3000 метров и ближайшие парки и водоемы, во всех этих данных есть пропуски, вероятнее всего они возникают из-за сложности описания, в некоторых случаях владельцы могут не указывать подробности о близлежащей инфраструктуре из-за сложности предоставления точной информации. Например, если есть несколько аэропортов или центров города вблизи, или же их просто нет, указание конкретных данных может быть затруднительным. В этих столбцах некорректно указывать какие-либо данные "
   ]
  },
  {
   "cell_type": "code",
   "execution_count": 17,
   "id": "af9a7f82",
   "metadata": {},
   "outputs": [
    {
     "name": "stdout",
     "output_type": "stream",
     "text": [
      "Процент пропусков в столбце airports_nearest равен 23.38 %\n",
      "Процент пропусков в столбце cityCenters_nearest равен 23.29 %\n",
      "Процент пропусков в столбце parks_around3000 равен 23.28 %\n",
      "Процент пропусков в столбце parks_nearest равен 65.91 %\n",
      "Процент пропусков в столбце ponds_around3000 равен 23.28 %\n",
      "Процент пропусков в столбце ponds_nearest равен 61.56 %\n"
     ]
    }
   ],
   "source": [
    "print(\"Процент пропусков в столбце airports_nearest равен\", round(5542/23699*100, 2),'%')\n",
    "print(\"Процент пропусков в столбце cityCenters_nearest равен\", round(5519/23699*100, 2),'%')\n",
    "print(\"Процент пропусков в столбце parks_around3000 равен\", round(5518/23699*100, 2),'%')\n",
    "print(\"Процент пропусков в столбце parks_nearest равен\", round(15620/23699*100, 2),'%')\n",
    "print(\"Процент пропусков в столбце ponds_around3000 равен\", round(5518/23699*100, 2),'%')\n",
    "print(\"Процент пропусков в столбце ponds_nearest равен\", round(14589/23699*100, 2),'%')"
   ]
  },
  {
   "cell_type": "markdown",
   "id": "bedefcdc",
   "metadata": {},
   "source": [
    "Последним столбцом с пропусками ялвяется days_exposition, причина припусков в этой строке, вероятнее всего, кроется в проблеме сервиса, который собирал информацию, ведь владельцы квартир не должны сами заполнять информацию о том, сколько дней это объявление актуально. Соответсвенно мы не можем исправить пропуски в этом столбце"
   ]
  },
  {
   "cell_type": "code",
   "execution_count": 18,
   "id": "c73af627",
   "metadata": {
    "scrolled": true
   },
   "outputs": [
    {
     "name": "stdout",
     "output_type": "stream",
     "text": [
      "Процент пропусков в столбце days_exposition равен 13.42 %\n"
     ]
    }
   ],
   "source": [
    "print(\"Процент пропусков в столбце days_exposition равен\", round(3181/23699*100, 2),'%')"
   ]
  },
  {
   "cell_type": "markdown",
   "id": "7b4b3dc1",
   "metadata": {},
   "source": [
    "__2.2 Преобразование типов данных в некоторых стобцах__"
   ]
  },
  {
   "cell_type": "code",
   "execution_count": 19,
   "id": "293c868c",
   "metadata": {},
   "outputs": [
    {
     "name": "stdout",
     "output_type": "stream",
     "text": [
      "<class 'pandas.core.frame.DataFrame'>\n",
      "Int64Index: 23613 entries, 0 to 23698\n",
      "Data columns (total 22 columns):\n",
      " #   Column                Non-Null Count  Dtype  \n",
      "---  ------                --------------  -----  \n",
      " 0   total_images          23613 non-null  int64  \n",
      " 1   last_price            23613 non-null  float64\n",
      " 2   total_area            23613 non-null  float64\n",
      " 3   first_day_exposition  23613 non-null  object \n",
      " 4   rooms                 23613 non-null  int64  \n",
      " 5   ceiling_height        14495 non-null  float64\n",
      " 6   floors_total          23613 non-null  float64\n",
      " 7   living_area           21743 non-null  float64\n",
      " 8   floor                 23613 non-null  int64  \n",
      " 9   is_apartment          23613 non-null  bool   \n",
      " 10  studio                23613 non-null  bool   \n",
      " 11  open_plan             23613 non-null  bool   \n",
      " 12  kitchen_area          21382 non-null  float64\n",
      " 13  balcony               23613 non-null  float64\n",
      " 14  locality_name         23565 non-null  object \n",
      " 15  airports_nearest      18081 non-null  float64\n",
      " 16  cityCenters_nearest   18104 non-null  float64\n",
      " 17  parks_around3000      18105 non-null  float64\n",
      " 18  parks_nearest         8045 non-null   float64\n",
      " 19  ponds_around3000      18105 non-null  float64\n",
      " 20  ponds_nearest         9061 non-null   float64\n",
      " 21  days_exposition       20441 non-null  float64\n",
      "dtypes: bool(3), float64(14), int64(3), object(2)\n",
      "memory usage: 3.7+ MB\n",
      "None\n"
     ]
    }
   ],
   "source": [
    "#выведем информацию о типах данных для каждого столбца\n",
    "print(data.info())"
   ]
  },
  {
   "cell_type": "markdown",
   "id": "e33de036",
   "metadata": {},
   "source": [
    "всего  в таблице представлено 4 вида типопа данных(int, float, bool и object), в основном типо данных раставлены правильно, значениям, которым соответствует целое число, присвоен int, значениям с плавующей точков присвоен тип float, качесвтенным показателям - bool. Обратим внимание на тип данных столбца first_day_exposition. \n",
    "Этому столбцу соответсвуют строки с датой первого поялвения объявления, присвоен тип object, соответсвующий строке. Для того, чтобы с этими данными можно было совершать арифметичнские операции переведем этот столбец в datetime."
   ]
  },
  {
   "cell_type": "code",
   "execution_count": 20,
   "id": "8a32ca85",
   "metadata": {},
   "outputs": [
    {
     "name": "stderr",
     "output_type": "stream",
     "text": [
      "/tmp/ipykernel_63/563377426.py:1: SettingWithCopyWarning: \n",
      "A value is trying to be set on a copy of a slice from a DataFrame.\n",
      "Try using .loc[row_indexer,col_indexer] = value instead\n",
      "\n",
      "See the caveats in the documentation: https://pandas.pydata.org/pandas-docs/stable/user_guide/indexing.html#returning-a-view-versus-a-copy\n",
      "  data['first_day_exposition'] = pd.to_datetime(\n",
      "/tmp/ipykernel_63/563377426.py:4: SettingWithCopyWarning: \n",
      "A value is trying to be set on a copy of a slice from a DataFrame.\n",
      "Try using .loc[row_indexer,col_indexer] = value instead\n",
      "\n",
      "See the caveats in the documentation: https://pandas.pydata.org/pandas-docs/stable/user_guide/indexing.html#returning-a-view-versus-a-copy\n",
      "  data['floors_total'] =data['floors_total'].astype(int)\n",
      "/tmp/ipykernel_63/563377426.py:5: SettingWithCopyWarning: \n",
      "A value is trying to be set on a copy of a slice from a DataFrame.\n",
      "Try using .loc[row_indexer,col_indexer] = value instead\n",
      "\n",
      "See the caveats in the documentation: https://pandas.pydata.org/pandas-docs/stable/user_guide/indexing.html#returning-a-view-versus-a-copy\n",
      "  data['parks_around3000'] = pd.to_numeric(data['parks_around3000'], errors='coerce', downcast='integer')\n",
      "/tmp/ipykernel_63/563377426.py:6: SettingWithCopyWarning: \n",
      "A value is trying to be set on a copy of a slice from a DataFrame.\n",
      "Try using .loc[row_indexer,col_indexer] = value instead\n",
      "\n",
      "See the caveats in the documentation: https://pandas.pydata.org/pandas-docs/stable/user_guide/indexing.html#returning-a-view-versus-a-copy\n",
      "  data['ponds_around3000'] = pd.to_numeric(data['ponds_around3000'], errors='coerce', downcast='integer')\n"
     ]
    }
   ],
   "source": [
    "data['first_day_exposition'] = pd.to_datetime(\n",
    "    data['first_day_exposition'], format='%Y-%m-%dT%H:%M:%S'\n",
    ")\n",
    "data['floors_total'] =data['floors_total'].astype(int)\n",
    "data['parks_around3000'] = pd.to_numeric(data['parks_around3000'], errors='coerce', downcast='integer')\n",
    "data['ponds_around3000'] = pd.to_numeric(data['ponds_around3000'], errors='coerce', downcast='integer')"
   ]
  },
  {
   "cell_type": "code",
   "execution_count": 21,
   "id": "92340c7e",
   "metadata": {
    "scrolled": true
   },
   "outputs": [
    {
     "name": "stdout",
     "output_type": "stream",
     "text": [
      "<class 'pandas.core.frame.DataFrame'>\n",
      "Int64Index: 23613 entries, 0 to 23698\n",
      "Data columns (total 22 columns):\n",
      " #   Column                Non-Null Count  Dtype         \n",
      "---  ------                --------------  -----         \n",
      " 0   total_images          23613 non-null  int64         \n",
      " 1   last_price            23613 non-null  float64       \n",
      " 2   total_area            23613 non-null  float64       \n",
      " 3   first_day_exposition  23613 non-null  datetime64[ns]\n",
      " 4   rooms                 23613 non-null  int64         \n",
      " 5   ceiling_height        14495 non-null  float64       \n",
      " 6   floors_total          23613 non-null  int64         \n",
      " 7   living_area           21743 non-null  float64       \n",
      " 8   floor                 23613 non-null  int64         \n",
      " 9   is_apartment          23613 non-null  bool          \n",
      " 10  studio                23613 non-null  bool          \n",
      " 11  open_plan             23613 non-null  bool          \n",
      " 12  kitchen_area          21382 non-null  float64       \n",
      " 13  balcony               23613 non-null  float64       \n",
      " 14  locality_name         23565 non-null  object        \n",
      " 15  airports_nearest      18081 non-null  float64       \n",
      " 16  cityCenters_nearest   18104 non-null  float64       \n",
      " 17  parks_around3000      18105 non-null  float64       \n",
      " 18  parks_nearest         8045 non-null   float64       \n",
      " 19  ponds_around3000      18105 non-null  float64       \n",
      " 20  ponds_nearest         9061 non-null   float64       \n",
      " 21  days_exposition       20441 non-null  float64       \n",
      "dtypes: bool(3), datetime64[ns](1), float64(13), int64(4), object(1)\n",
      "memory usage: 3.7+ MB\n",
      "None\n"
     ]
    }
   ],
   "source": [
    "print(data.info())"
   ]
  },
  {
   "cell_type": "code",
   "execution_count": 22,
   "id": "fc990187",
   "metadata": {},
   "outputs": [
    {
     "name": "stdout",
     "output_type": "stream",
     "text": [
      "0        3\n",
      "1        1\n",
      "2        2\n",
      "3        3\n",
      "4        2\n",
      "        ..\n",
      "23694    3\n",
      "23695    3\n",
      "23696    2\n",
      "23697    2\n",
      "23698    1\n",
      "Name: rooms, Length: 23613, dtype: int64\n"
     ]
    }
   ],
   "source": [
    "print(data['rooms'])"
   ]
  },
  {
   "cell_type": "markdown",
   "id": "cfb1721d",
   "metadata": {},
   "source": [
    "__2.3 Поиск и удаление неявных дубликатов__"
   ]
  },
  {
   "cell_type": "code",
   "execution_count": 23,
   "id": "cb945c76",
   "metadata": {},
   "outputs": [
    {
     "name": "stdout",
     "output_type": "stream",
     "text": [
      "['Санкт-Петербург' 'посёлок Шушары' 'городской посёлок Янино-1'\n",
      " 'посёлок Парголово' 'посёлок Мурино' 'Ломоносов' 'Сертолово' 'Петергоф'\n",
      " 'Пушкин' 'деревня Кудрово' 'Коммунар' 'Колпино'\n",
      " 'поселок городского типа Красный Бор' 'Гатчина' 'поселок Мурино'\n",
      " 'деревня Фёдоровское' 'Выборг' 'Кронштадт' 'Кировск'\n",
      " 'деревня Новое Девяткино' 'посёлок Металлострой'\n",
      " 'посёлок городского типа Лебяжье' 'посёлок городского типа Сиверский'\n",
      " 'поселок Молодцово' 'поселок городского типа Кузьмоловский'\n",
      " 'садовое товарищество Новая Ропша' 'Павловск' 'деревня Пикколово'\n",
      " 'Всеволожск' 'Волхов' 'Кингисепп' 'Приозерск' 'Сестрорецк'\n",
      " 'деревня Куттузи' 'посёлок Аннино' 'поселок городского типа Ефимовский'\n",
      " 'посёлок Плодовое' 'деревня Заклинье' 'поселок Торковичи'\n",
      " 'поселок Первомайское' 'Красное Село' 'посёлок Понтонный' 'Сясьстрой'\n",
      " 'деревня Старая' 'деревня Лесколово' 'посёлок Новый Свет' 'Сланцы'\n",
      " 'село Путилово' 'Ивангород' 'Мурино' 'Шлиссельбург' 'Никольское'\n",
      " 'Зеленогорск' 'Сосновый Бор' 'поселок Новый Свет' 'деревня Оржицы'\n",
      " 'деревня Кальтино' 'Кудрово' 'поселок Романовка' 'посёлок Бугры'\n",
      " 'поселок Бугры' 'поселок городского типа Рощино' 'Кириши' 'Луга'\n",
      " 'Волосово' 'Отрадное' 'село Павлово' 'поселок Оредеж' 'село Копорье'\n",
      " 'посёлок городского типа Красный Бор' 'посёлок Молодёжное' 'Тихвин'\n",
      " 'посёлок Победа' 'деревня Нурма' 'поселок городского типа Синявино'\n",
      " 'Тосно' 'посёлок городского типа Кузьмоловский' 'посёлок Стрельна'\n",
      " 'Бокситогорск' 'посёлок Александровская' 'деревня Лопухинка' 'Пикалёво'\n",
      " 'поселок Терволово' 'поселок городского типа Советский' 'Подпорожье'\n",
      " 'посёлок Петровское' 'посёлок городского типа Токсово' 'поселок Сельцо'\n",
      " 'посёлок городского типа Вырица' 'деревня Кипень' 'деревня Келози'\n",
      " 'деревня Вартемяги' 'посёлок Тельмана' 'поселок Севастьяново'\n",
      " 'городской поселок Большая Ижора' nan 'городской посёлок Павлово'\n",
      " 'деревня Агалатово' 'посёлок Новогорелово'\n",
      " 'городской посёлок Лесогорский' 'деревня Лаголово' 'поселок Цвелодубово'\n",
      " 'поселок городского типа Рахья' 'поселок городского типа Вырица'\n",
      " 'деревня Белогорка' 'поселок Заводской' 'городской посёлок Новоселье'\n",
      " 'деревня Большие Колпаны' 'деревня Горбунки' 'деревня Батово'\n",
      " 'деревня Заневка' 'деревня Иссад' 'Приморск'\n",
      " 'городской посёлок Фёдоровское' 'деревня Мистолово' 'Новая Ладога'\n",
      " 'поселок Зимитицы' 'поселок Барышево' 'деревня Разметелево'\n",
      " 'поселок городского типа имени Свердлова' 'деревня Пеники'\n",
      " 'поселок Рябово' 'деревня Пудомяги' 'поселок станции Корнево'\n",
      " 'деревня Низино' 'деревня Бегуницы' 'посёлок Поляны'\n",
      " 'городской посёлок Мга' 'поселок Елизаветино'\n",
      " 'посёлок городского типа Кузнечное' 'деревня Колтуши'\n",
      " 'поселок Запорожское' 'посёлок городского типа Рощино'\n",
      " 'деревня Гостилицы' 'деревня Малое Карлино' 'посёлок Мичуринское'\n",
      " 'посёлок городского типа имени Морозова' 'посёлок Песочный'\n",
      " 'посёлок Сосново' 'деревня Аро' 'поселок Ильичёво'\n",
      " 'посёлок городского типа Тайцы' 'деревня Малое Верево' 'деревня Извара'\n",
      " 'поселок станции Вещево' 'село Паша' 'деревня Калитино'\n",
      " 'посёлок городского типа Ульяновка' 'деревня Чудской Бор'\n",
      " 'поселок городского типа Дубровка' 'деревня Мины' 'поселок Войсковицы'\n",
      " 'посёлок городского типа имени Свердлова' 'деревня Коркино'\n",
      " 'посёлок Ропша' 'поселок городского типа Приладожский' 'посёлок Щеглово'\n",
      " 'посёлок Гаврилово' 'Лодейное Поле' 'деревня Рабитицы'\n",
      " 'поселок городского типа Никольский' 'деревня Кузьмолово'\n",
      " 'деревня Малые Колпаны' 'поселок Тельмана' 'посёлок Петро-Славянка'\n",
      " 'городской посёлок Назия' 'посёлок Репино' 'посёлок Ильичёво'\n",
      " 'поселок Углово' 'поселок Старая Малукса' 'садовое товарищество Рахья'\n",
      " 'поселок Аннино' 'поселок Победа' 'деревня Меньково'\n",
      " 'деревня Старые Бегуницы' 'посёлок Сапёрный' 'поселок Семрино'\n",
      " 'поселок Гаврилово' 'поселок Глажево' 'поселок Кобринское'\n",
      " 'деревня Гарболово' 'деревня Юкки' 'поселок станции Приветнинское'\n",
      " 'деревня Мануйлово' 'деревня Пчева' 'поселок Поляны' 'поселок Цвылёво'\n",
      " 'поселок Мельниково' 'посёлок Пудость' 'посёлок Усть-Луга' 'Светогорск'\n",
      " 'Любань' 'поселок Селезнёво' 'поселок городского типа Рябово'\n",
      " 'Каменногорск' 'деревня Кривко' 'поселок Глебычево' 'деревня Парицы'\n",
      " 'поселок Жилпосёлок' 'посёлок городского типа Мга'\n",
      " 'городской поселок Янино-1' 'посёлок Войскорово' 'село Никольское'\n",
      " 'посёлок Терволово' 'поселок Стеклянный' 'посёлок городского типа Важины'\n",
      " 'посёлок Мыза-Ивановка' 'село Русско-Высоцкое'\n",
      " 'поселок городского типа Лебяжье' 'поселок городского типа Форносово'\n",
      " 'село Старая Ладога' 'поселок Житково' 'городской посёлок Виллози'\n",
      " 'деревня Лампово' 'деревня Шпаньково' 'деревня Лаврики' 'посёлок Сумино'\n",
      " 'посёлок Возрождение' 'деревня Старосиверская' 'посёлок Кикерино'\n",
      " 'поселок Возрождение' 'деревня Старое Хинколово' 'посёлок Пригородный'\n",
      " 'посёлок Торфяное' 'городской посёлок Будогощь' 'поселок Суходолье'\n",
      " 'поселок Красная Долина' 'деревня Хапо-Ое'\n",
      " 'поселок городского типа Дружная Горка' 'поселок Лисий Нос'\n",
      " 'деревня Яльгелево' 'посёлок Стеклянный' 'село Рождествено'\n",
      " 'деревня Старополье' 'посёлок Левашово' 'деревня Сяськелево'\n",
      " 'деревня Камышовка'\n",
      " 'садоводческое некоммерческое товарищество Лесная Поляна'\n",
      " 'деревня Хязельки' 'поселок Жилгородок' 'посёлок городского типа Павлово'\n",
      " 'деревня Ялгино' 'поселок Новый Учхоз' 'городской посёлок Рощино'\n",
      " 'поселок Гончарово' 'поселок Почап' 'посёлок Сапёрное'\n",
      " 'посёлок Платформа 69-й километр' 'поселок Каложицы' 'деревня Фалилеево'\n",
      " 'деревня Пельгора' 'поселок городского типа Лесогорский'\n",
      " 'деревня Торошковичи' 'посёлок Белоостров' 'посёлок Алексеевка'\n",
      " 'поселок Серебрянский' 'поселок Лукаши' 'поселок Петровское'\n",
      " 'деревня Щеглово' 'поселок Мичуринское' 'деревня Тарасово'\n",
      " 'поселок Кингисеппский' 'посёлок при железнодорожной станции Вещево'\n",
      " 'поселок Ушаки' 'деревня Котлы' 'деревня Сижно' 'деревня Торосово'\n",
      " 'посёлок Форт Красная Горка' 'деревня Новолисино'\n",
      " 'посёлок станции Громово' 'деревня Глинка' 'посёлок Мельниково'\n",
      " 'поселок городского типа Назия' 'деревня Старая Пустошь'\n",
      " 'поселок Коммунары' 'поселок Починок'\n",
      " 'посёлок городского типа Вознесенье' 'деревня Разбегаево'\n",
      " 'посёлок городского типа Рябово' 'поселок Гладкое'\n",
      " 'посёлок при железнодорожной станции Приветнинское' 'поселок Тёсово-4'\n",
      " 'посёлок Жилгородок' 'деревня Бор' 'посёлок Коробицыно'\n",
      " 'деревня Большая Вруда' 'деревня Курковицы' 'посёлок Лисий Нос'\n",
      " 'городской посёлок Советский' 'посёлок Кобралово' 'деревня Суоранда'\n",
      " 'поселок Кобралово' 'поселок городского типа Кондратьево'\n",
      " 'коттеджный поселок Счастье' 'поселок Любань' 'деревня Реброво'\n",
      " 'деревня Зимитицы' 'деревня Тойворово' 'поселок Семиозерье'\n",
      " 'поселок Лесное' 'поселок Совхозный' 'поселок Усть-Луга'\n",
      " 'посёлок Ленинское' 'посёлок Суйда' 'посёлок городского типа Форносово'\n",
      " 'деревня Нижние Осельки' 'посёлок станции Свирь' 'поселок Перово'\n",
      " 'Высоцк' 'поселок Гарболово' 'село Шум' 'поселок Котельский'\n",
      " 'поселок станции Лужайка' 'деревня Большая Пустомержа'\n",
      " 'поселок Красносельское' 'деревня Вахнова Кара' 'деревня Пижма'\n",
      " 'коттеджный поселок Кивеннапа Север' 'поселок Коробицыно'\n",
      " 'поселок Ромашки' 'посёлок Перово' 'деревня Каськово' 'деревня Куровицы'\n",
      " 'посёлок Плоское' 'поселок Сумино'\n",
      " 'поселок городского типа Большая Ижора' 'поселок Кирпичное'\n",
      " 'деревня Ям-Тесово' 'деревня Раздолье' 'деревня Терпилицы'\n",
      " 'поселок городского типа Токсово' 'посёлок Шугозеро' 'деревня Ваганово'\n",
      " 'поселок Пушное' 'садовое товарищество Садко' 'посёлок Усть-Ижора'\n",
      " 'деревня Выскатка' 'городской посёлок Свирьстрой' 'поселок Громово'\n",
      " 'деревня Кисельня' 'посёлок Старая Малукса' 'деревня Трубников Бор'\n",
      " 'поселок Калитино' 'посёлок Высокоключевой'\n",
      " 'садовое товарищество Приладожский' 'посёлок Пансионат Зелёный Бор'\n",
      " 'деревня Ненимяки' 'поселок Пансионат Зелёный Бор' 'деревня Снегирёвка'\n",
      " 'деревня Рапполово' 'деревня Пустынка' 'поселок Рабитицы'\n",
      " 'деревня Большой Сабск' 'деревня Русско' 'деревня Лупполово'\n",
      " 'деревня Большое Рейзино' 'деревня Малая Романовка' 'поселок Дружноселье'\n",
      " 'поселок Пчевжа' 'поселок Володарское' 'деревня Нижняя'\n",
      " 'коттеджный посёлок Лесное' 'деревня Тихковицы' 'деревня Борисова Грива'\n",
      " 'посёлок Дзержинского']\n"
     ]
    }
   ],
   "source": [
    "print(data['locality_name'].unique())"
   ]
  },
  {
   "cell_type": "markdown",
   "id": "ba03e41c",
   "metadata": {},
   "source": [
    "Заменим все буквы 'ё' в названиях наслеленных пунктов на 'е', а также изменим в названиях 'поселок городского типа' на 'поселок', так мы исключим некоторые неявные дубликаты."
   ]
  },
  {
   "cell_type": "code",
   "execution_count": 24,
   "id": "fb7200ee",
   "metadata": {},
   "outputs": [
    {
     "name": "stderr",
     "output_type": "stream",
     "text": [
      "/tmp/ipykernel_63/4147371662.py:2: SettingWithCopyWarning: \n",
      "A value is trying to be set on a copy of a slice from a DataFrame.\n",
      "Try using .loc[row_indexer,col_indexer] = value instead\n",
      "\n",
      "See the caveats in the documentation: https://pandas.pydata.org/pandas-docs/stable/user_guide/indexing.html#returning-a-view-versus-a-copy\n",
      "  data['locality_name'] = (\n"
     ]
    }
   ],
   "source": [
    "replace_dict = {'ё': 'е', 'поселок городского типа': 'поселок', 'Поселок Городского Типа': 'Поселок'}\n",
    "data['locality_name'] = (\n",
    "    data['locality_name'].replace(replace_dict, regex = True)\n",
    ") "
   ]
  },
  {
   "cell_type": "code",
   "execution_count": 25,
   "id": "b26de711",
   "metadata": {},
   "outputs": [
    {
     "name": "stdout",
     "output_type": "stream",
     "text": [
      "0\n"
     ]
    }
   ],
   "source": [
    "print(data.duplicated().sum())"
   ]
  },
  {
   "cell_type": "markdown",
   "id": "84bf0c45",
   "metadata": {},
   "source": [
    "\n",
    "Явных дубликатов нет\n",
    " "
   ]
  },
  {
   "cell_type": "markdown",
   "id": "22e06c56",
   "metadata": {},
   "source": [
    "__Шаг 3 Добавление в таблицу новых столбцов__"
   ]
  },
  {
   "cell_type": "markdown",
   "id": "1346885e",
   "metadata": {},
   "source": [
    "Цена одного квадратного метра"
   ]
  },
  {
   "cell_type": "code",
   "execution_count": 26,
   "id": "40b92c45",
   "metadata": {},
   "outputs": [
    {
     "name": "stderr",
     "output_type": "stream",
     "text": [
      "/tmp/ipykernel_63/4042035410.py:1: SettingWithCopyWarning: \n",
      "A value is trying to be set on a copy of a slice from a DataFrame.\n",
      "Try using .loc[row_indexer,col_indexer] = value instead\n",
      "\n",
      "See the caveats in the documentation: https://pandas.pydata.org/pandas-docs/stable/user_guide/indexing.html#returning-a-view-versus-a-copy\n",
      "  data['price_square_meter'] = round(data['last_price'] / data['total_area'], 2)\n"
     ]
    }
   ],
   "source": [
    "data['price_square_meter'] = round(data['last_price'] / data['total_area'], 2)"
   ]
  },
  {
   "cell_type": "markdown",
   "id": "532297f2",
   "metadata": {},
   "source": [
    "День недели публикации объявления "
   ]
  },
  {
   "cell_type": "code",
   "execution_count": 27,
   "id": "ed11f6e6",
   "metadata": {},
   "outputs": [
    {
     "name": "stderr",
     "output_type": "stream",
     "text": [
      "/tmp/ipykernel_63/2164802325.py:1: SettingWithCopyWarning: \n",
      "A value is trying to be set on a copy of a slice from a DataFrame.\n",
      "Try using .loc[row_indexer,col_indexer] = value instead\n",
      "\n",
      "See the caveats in the documentation: https://pandas.pydata.org/pandas-docs/stable/user_guide/indexing.html#returning-a-view-versus-a-copy\n",
      "  data['weekday_of_publication'] = data['first_day_exposition'].dt.weekday\n"
     ]
    }
   ],
   "source": [
    "data['weekday_of_publication'] = data['first_day_exposition'].dt.weekday"
   ]
  },
  {
   "cell_type": "markdown",
   "id": "459a511b",
   "metadata": {},
   "source": [
    "Месяц публикации объявления"
   ]
  },
  {
   "cell_type": "code",
   "execution_count": 28,
   "id": "76ce9853",
   "metadata": {},
   "outputs": [
    {
     "name": "stderr",
     "output_type": "stream",
     "text": [
      "/tmp/ipykernel_63/1966932341.py:1: SettingWithCopyWarning: \n",
      "A value is trying to be set on a copy of a slice from a DataFrame.\n",
      "Try using .loc[row_indexer,col_indexer] = value instead\n",
      "\n",
      "See the caveats in the documentation: https://pandas.pydata.org/pandas-docs/stable/user_guide/indexing.html#returning-a-view-versus-a-copy\n",
      "  data['month_of_publication'] = data['first_day_exposition'].dt.month\n"
     ]
    }
   ],
   "source": [
    "data['month_of_publication'] = data['first_day_exposition'].dt.month"
   ]
  },
  {
   "cell_type": "markdown",
   "id": "d10432c3",
   "metadata": {},
   "source": [
    "Год публикации объявления"
   ]
  },
  {
   "cell_type": "code",
   "execution_count": 29,
   "id": "c6a30bc7",
   "metadata": {},
   "outputs": [
    {
     "name": "stderr",
     "output_type": "stream",
     "text": [
      "/tmp/ipykernel_63/2739622878.py:1: SettingWithCopyWarning: \n",
      "A value is trying to be set on a copy of a slice from a DataFrame.\n",
      "Try using .loc[row_indexer,col_indexer] = value instead\n",
      "\n",
      "See the caveats in the documentation: https://pandas.pydata.org/pandas-docs/stable/user_guide/indexing.html#returning-a-view-versus-a-copy\n",
      "  data['year_of_publication'] = data['first_day_exposition'].dt.year\n"
     ]
    }
   ],
   "source": [
    "data['year_of_publication'] = data['first_day_exposition'].dt.year"
   ]
  },
  {
   "cell_type": "markdown",
   "id": "909876d8",
   "metadata": {},
   "source": [
    "Тип этажа квартиры"
   ]
  },
  {
   "cell_type": "code",
   "execution_count": 30,
   "id": "0c0b2d51",
   "metadata": {},
   "outputs": [
    {
     "name": "stderr",
     "output_type": "stream",
     "text": [
      "/tmp/ipykernel_63/3422898878.py:1: SettingWithCopyWarning: \n",
      "A value is trying to be set on a copy of a slice from a DataFrame.\n",
      "Try using .loc[row_indexer,col_indexer] = value instead\n",
      "\n",
      "See the caveats in the documentation: https://pandas.pydata.org/pandas-docs/stable/user_guide/indexing.html#returning-a-view-versus-a-copy\n",
      "  data['apartment_floor_type'] = data.apply(\n"
     ]
    }
   ],
   "source": [
    "data['apartment_floor_type'] = data.apply(\n",
    "    lambda row: 'последний' if row['floor'] == row['floors_total']\n",
    "    else 'первый' if row['floor'] == 1\n",
    "    else 'другой',\n",
    "    axis=1)"
   ]
  },
  {
   "cell_type": "markdown",
   "id": "f842ced0",
   "metadata": {},
   "source": [
    "Расстояние до центра города в км"
   ]
  },
  {
   "cell_type": "code",
   "execution_count": 31,
   "id": "189749c6",
   "metadata": {},
   "outputs": [
    {
     "name": "stderr",
     "output_type": "stream",
     "text": [
      "/tmp/ipykernel_63/3744531076.py:1: SettingWithCopyWarning: \n",
      "A value is trying to be set on a copy of a slice from a DataFrame.\n",
      "Try using .loc[row_indexer,col_indexer] = value instead\n",
      "\n",
      "See the caveats in the documentation: https://pandas.pydata.org/pandas-docs/stable/user_guide/indexing.html#returning-a-view-versus-a-copy\n",
      "  data['cityCenters_nearest_km'] = round(data['cityCenters_nearest'] / 1000, 0)\n"
     ]
    }
   ],
   "source": [
    "data['cityCenters_nearest_km'] = round(data['cityCenters_nearest'] / 1000, 0)"
   ]
  },
  {
   "cell_type": "markdown",
   "id": "28dd67c8",
   "metadata": {},
   "source": [
    "__Шаг 4. Исследовательский анализ данных__\n",
    "\n",
    "__1.Изучение отедльных параметров объектов и пстроение гистограм__"
   ]
  },
  {
   "cell_type": "markdown",
   "id": "d7482995",
   "metadata": {},
   "source": [
    "Каждый раз когда удаляем данные, будем счиать какой процент данных мы удаляем"
   ]
  },
  {
   "cell_type": "markdown",
   "id": "f7115638",
   "metadata": {},
   "source": [
    "Общая площадь"
   ]
  },
  {
   "cell_type": "code",
   "execution_count": 32,
   "id": "bbac19de",
   "metadata": {},
   "outputs": [
    {
     "name": "stdout",
     "output_type": "stream",
     "text": [
      "0.25833227459450303\n"
     ]
    }
   ],
   "source": [
    "#Определим процент квартир, площадь которых больше 300, чтобы понять, что график можно строить с range = (: 300), для того, чтобы график был более наглядным\n",
    "print(data.query('total_area > 300').count()['total_area']/data['total_area'].count() * 100)"
   ]
  },
  {
   "cell_type": "code",
   "execution_count": 33,
   "id": "d90ad21e",
   "metadata": {},
   "outputs": [
    {
     "data": {
      "text/plain": [
       "<AxesSubplot:ylabel='Frequency'>"
      ]
     },
     "execution_count": 33,
     "metadata": {},
     "output_type": "execute_result"
    },
    {
     "data": {
      "image/png": "[encoded data removed]",
      "text/plain": [
       "<Figure size 432x288 with 1 Axes>"
      ]
     },
     "metadata": {
      "needs_background": "light"
     },
     "output_type": "display_data"
    }
   ],
   "source": [
    "data.plot(y = 'total_area', kind = 'hist', bins = 100, range = (data['total_area'].min(), 300), xlabel = 'Площадь', ylabel = 'Площадь квартир')"
   ]
  },
  {
   "cell_type": "code",
   "execution_count": 34,
   "id": "0cf81648",
   "metadata": {},
   "outputs": [],
   "source": [
    "data = data[data['total_area'] < 300]"
   ]
  },
  {
   "cell_type": "markdown",
   "id": "21a3f993",
   "metadata": {},
   "source": [
    "На этой гистограме не видно каких-либо аномалей, данные логичны, можно предположить, что первый локальный максимум - это среднестатистическся однокомнатная квартира, площадь которой 30-40кв м.. Следующий пик в районе 50-60 кв.м., вероянее всего, соответствует стандартным 2-ухкомнатным квартирам, и последний пик в райное 65-75кв.м. соответсвует трехкомнатным квартирам. Также есть значения, которые на первый взгляд кажутся выбросами, например квартиры по 20 кв метров и более 200, но таких значений очень мало, так что, скорее всего, это не ошибки, а реальные квартиры с необычной площадью."
   ]
  },
  {
   "cell_type": "markdown",
   "id": "ed231996",
   "metadata": {},
   "source": [
    "Жилая площадь"
   ]
  },
  {
   "cell_type": "code",
   "execution_count": 35,
   "id": "7826a761",
   "metadata": {},
   "outputs": [
    {
     "name": "stdout",
     "output_type": "stream",
     "text": [
      "0.34573364679850643\n"
     ]
    }
   ],
   "source": [
    "print(data.query('living_area > 150').count()['living_area']/data['living_area'].count() * 100)"
   ]
  },
  {
   "cell_type": "code",
   "execution_count": 36,
   "id": "b6a7dc9f",
   "metadata": {},
   "outputs": [
    {
     "data": {
      "text/plain": [
       "<AxesSubplot:ylabel='Frequency'>"
      ]
     },
     "execution_count": 36,
     "metadata": {},
     "output_type": "execute_result"
    },
    {
     "data": {
      "image/png": "[encoded data removed]",
      "text/plain": [
       "<Figure size 432x288 with 1 Axes>"
      ]
     },
     "metadata": {
      "needs_background": "light"
     },
     "output_type": "display_data"
    }
   ],
   "source": [
    "data.plot(y = 'living_area', kind = 'hist', bins = 150, range = (data['living_area'].min(), 150), xlabel = 'Жилая площадь', ylabel = 'Количество квартир')"
   ]
  },
  {
   "cell_type": "code",
   "execution_count": 37,
   "id": "25dc3d0e",
   "metadata": {},
   "outputs": [],
   "source": [
    "data = data[(data['living_area'] <= 150) | data['living_area'].isnull()]"
   ]
  },
  {
   "cell_type": "markdown",
   "id": "3da620c6",
   "metadata": {},
   "source": [
    "Данные выглядт логично за исключением резкого пика в районе 18 кв м и спада в районе 25 кв м, давайте попробуем объяснить это.Резкий пик в районе 18 квадратных метров может быть связан с определенным типом квартир или стандартной планировкой, которая находится в этом диапазоне. Возможно, это популярный вариант для студий, комнат для одного человека или маленьких квартир.Возможно, квартиры с жилой площадью в 25 квадратных метров не так популярны среди потребителей из-за особенностей их планировки или ограниченных функциональных возможностей."
   ]
  },
  {
   "cell_type": "markdown",
   "id": "cdbe9211",
   "metadata": {},
   "source": [
    "Площадь кухни"
   ]
  },
  {
   "cell_type": "code",
   "execution_count": 38,
   "id": "a300d798",
   "metadata": {},
   "outputs": [
    {
     "name": "stdout",
     "output_type": "stream",
     "text": [
      "0.15990969805286426\n"
     ]
    }
   ],
   "source": [
    "print(data.query('kitchen_area > 50').count()['kitchen_area']/data['kitchen_area'].count() * 100)"
   ]
  },
  {
   "cell_type": "code",
   "execution_count": 39,
   "id": "cc380705",
   "metadata": {
    "scrolled": false
   },
   "outputs": [
    {
     "data": {
      "text/plain": [
       "<AxesSubplot:ylabel='Frequency'>"
      ]
     },
     "execution_count": 39,
     "metadata": {},
     "output_type": "execute_result"
    },
    {
     "data": {
      "image/png": "[encoded data removed]",
      "text/plain": [
       "<Figure size 432x288 with 1 Axes>"
      ]
     },
     "metadata": {
      "needs_background": "light"
     },
     "output_type": "display_data"
    }
   ],
   "source": [
    "data.plot(y = 'kitchen_area', kind = 'hist', bins = 50, range = (0, 50), xlabel = 'Площадь кухни', ylabel = 'Количество квартир')"
   ]
  },
  {
   "cell_type": "code",
   "execution_count": 40,
   "id": "de9b011e",
   "metadata": {},
   "outputs": [],
   "source": [
    "data = data[(data['kitchen_area'] <= 50) | data['kitchen_area'].isnull()]"
   ]
  },
  {
   "cell_type": "markdown",
   "id": "c91b9f84",
   "metadata": {},
   "source": [
    "Данные выглядят логично, большинство кухонь находятся в диапозоне от 7 до 12 кв метров, этот диапазон размеров является распространенным и популярным выбором в планировке кухонь, также есть кухни более 20 метров, возможно это совмещенные кухни с гостинной."
   ]
  },
  {
   "cell_type": "markdown",
   "id": "555d122e",
   "metadata": {},
   "source": [
    "Цена квартиры"
   ]
  },
  {
   "cell_type": "code",
   "execution_count": 41,
   "id": "ae569ec5",
   "metadata": {},
   "outputs": [
    {
     "name": "stdout",
     "output_type": "stream",
     "text": [
      "0.26875986519346445\n"
     ]
    }
   ],
   "source": [
    "print(data.query('last_price > 50000000').count()['last_price']/data['last_price'].count() * 100)"
   ]
  },
  {
   "cell_type": "code",
   "execution_count": 42,
   "id": "ba3d21dc",
   "metadata": {},
   "outputs": [
    {
     "data": {
      "text/plain": [
       "<AxesSubplot:ylabel='Frequency'>"
      ]
     },
     "execution_count": 42,
     "metadata": {},
     "output_type": "execute_result"
    },
    {
     "data": {
      "image/png": "[encoded data removed]",
      "text/plain": [
       "<Figure size 432x288 with 1 Axes>"
      ]
     },
     "metadata": {
      "needs_background": "light"
     },
     "output_type": "display_data"
    }
   ],
   "source": [
    "data.plot(y = 'last_price', kind = 'hist', bins = 100, range = (data['last_price'].dropna().min(), 50000000), xlabel = 'Цена квартиры', ylabel = 'Количество квартир')"
   ]
  },
  {
   "cell_type": "code",
   "execution_count": 43,
   "id": "6b857803",
   "metadata": {},
   "outputs": [
    {
     "data": {
      "text/plain": [
       "<AxesSubplot:>"
      ]
     },
     "execution_count": 43,
     "metadata": {},
     "output_type": "execute_result"
    },
    {
     "data": {
      "image/png": "[encoded data removed]",
      "text/plain": [
       "<Figure size 432x288 with 1 Axes>"
      ]
     },
     "metadata": {
      "needs_background": "light"
     },
     "output_type": "display_data"
    }
   ],
   "source": [
    "data.query('last_price < 50000000').boxplot('last_price')"
   ]
  },
  {
   "cell_type": "code",
   "execution_count": 44,
   "id": "154ac85c",
   "metadata": {},
   "outputs": [],
   "source": [
    "data = data[(data['last_price'] <= 50000000) | data['last_price'].isnull()]"
   ]
  },
  {
   "cell_type": "markdown",
   "id": "eadf6df6",
   "metadata": {},
   "source": [
    "На графике цен видно, что основная масса квартир сосредоточена в ценовом диапазоне от 5 до 7 миллионов. Это свидетельствует о наличии стабильного и разнообразного предложения на рынке недвижимости. Несмотря на наличие более дорогих квартир, их относительно небольшое количество не создает значительного искажения распределения цен. Таким образом, данные о ценах выглядят логичными и отражают разнообразие предложения на рынке недвижимости в рассматриваемом сегменте."
   ]
  },
  {
   "cell_type": "markdown",
   "id": "76adb105",
   "metadata": {},
   "source": [
    "Количество комнат"
   ]
  },
  {
   "cell_type": "code",
   "execution_count": 45,
   "id": "8d6c5bf4",
   "metadata": {},
   "outputs": [
    {
     "name": "stdout",
     "output_type": "stream",
     "text": [
      "0.4405851655402515\n"
     ]
    }
   ],
   "source": [
    "print(data.query('rooms > 5').count()['rooms']/data['rooms'].count() * 100)"
   ]
  },
  {
   "cell_type": "code",
   "execution_count": 46,
   "id": "5c47222f",
   "metadata": {},
   "outputs": [
    {
     "data": {
      "text/plain": [
       "<AxesSubplot:xlabel='Количество комнат в квартире', ylabel='Количество квартир'>"
      ]
     },
     "execution_count": 46,
     "metadata": {},
     "output_type": "execute_result"
    },
    {
     "data": {
      "image/png": "[encoded data removed]",
      "text/plain": [
       "<Figure size 432x288 with 1 Axes>"
      ]
     },
     "metadata": {
      "needs_background": "light"
     },
     "output_type": "display_data"
    }
   ],
   "source": [
    "data['rooms'].value_counts().plot(kind='bar', xlabel = 'Количество комнат в квартире', ylabel = 'Количество квартир')"
   ]
  },
  {
   "cell_type": "markdown",
   "id": "079d17be",
   "metadata": {},
   "source": [
    "Студия иногда может рассматриваться как квартира с 0 комнат, так как в таких помещениях обычно отсутствует физическое разделение на отдельные комнаты. Зачастую студии и однокомнатные квартиры разделяют в варинтах, здесь этого сделано не было, поэтому, возможно, некотрорые воадельцы студий отнесли их к квартирам с 0 комнат, а некоторые с 1(Если счиать, что студия - это квартира с 0 комнат и ошибки в воде данных нет, то студий подозрительно мало). Изменим все 0 на 1."
   ]
  },
  {
   "cell_type": "code",
   "execution_count": 47,
   "id": "1336a523",
   "metadata": {
    "scrolled": true
   },
   "outputs": [
    {
     "name": "stderr",
     "output_type": "stream",
     "text": [
      "/tmp/ipykernel_63/1180768066.py:1: SettingWithCopyWarning: \n",
      "A value is trying to be set on a copy of a slice from a DataFrame.\n",
      "Try using .loc[row_indexer,col_indexer] = value instead\n",
      "\n",
      "See the caveats in the documentation: https://pandas.pydata.org/pandas-docs/stable/user_guide/indexing.html#returning-a-view-versus-a-copy\n",
      "  data['rooms'] = data['rooms'].replace(0, 1)\n"
     ]
    },
    {
     "data": {
      "image/png": "[encoded data removed]",
      "text/plain": [
       "<Figure size 432x288 with 1 Axes>"
      ]
     },
     "metadata": {
      "needs_background": "light"
     },
     "output_type": "display_data"
    }
   ],
   "source": [
    "data['rooms'] = data['rooms'].replace(0, 1)\n",
    "data['rooms'].value_counts().plot(kind='bar', xlabel = 'Количество комнат в квартире', ylabel = 'Количество квартир')\n",
    "warnings.filterwarnings(\"ignore\")"
   ]
  },
  {
   "cell_type": "markdown",
   "id": "3317fbae",
   "metadata": {},
   "source": [
    "Теперь на графике наблюдается логичная картина: большинство квартир представлены однокомнатными и студийными вариантами, за ними идут двушки, затем трешки, и, наконец, четырехкомнатные квартиры."
   ]
  },
  {
   "cell_type": "markdown",
   "id": "7924cd17",
   "metadata": {},
   "source": [
    "Высота потолков"
   ]
  },
  {
   "cell_type": "code",
   "execution_count": 48,
   "id": "a09a23ab",
   "metadata": {},
   "outputs": [
    {
     "name": "stdout",
     "output_type": "stream",
     "text": [
      "total_images              21\n",
      "last_price                21\n",
      "total_area                21\n",
      "first_day_exposition      21\n",
      "rooms                     21\n",
      "ceiling_height            21\n",
      "floors_total              21\n",
      "living_area               21\n",
      "floor                     21\n",
      "is_apartment              21\n",
      "studio                    21\n",
      "open_plan                 21\n",
      "kitchen_area              17\n",
      "balcony                   21\n",
      "locality_name             21\n",
      "airports_nearest          12\n",
      "cityCenters_nearest       12\n",
      "parks_around3000          12\n",
      "parks_nearest              6\n",
      "ponds_around3000          12\n",
      "ponds_nearest              7\n",
      "days_exposition           16\n",
      "price_square_meter        21\n",
      "weekday_of_publication    21\n",
      "month_of_publication      21\n",
      "year_of_publication       21\n",
      "apartment_floor_type      21\n",
      "cityCenters_nearest_km    12\n",
      "dtype: int64\n"
     ]
    }
   ],
   "source": [
    "print(data.query('ceiling_height > 23').count())"
   ]
  },
  {
   "cell_type": "markdown",
   "id": "a384efde",
   "metadata": {},
   "source": [
    "Заметим, что есть данные превышающие 23 метра, вероятнее всего, владельцы, которые зполняли данные о их квартире допустили ошибку и не поставили '.' в цифре, давайте разделим все значения большие 23 на 10 (Значения от 5 до 23 тоже не очень логичны, но причины их поялвяения не понятны)"
   ]
  },
  {
   "cell_type": "code",
   "execution_count": 49,
   "id": "ee86ac8c",
   "metadata": {},
   "outputs": [],
   "source": [
    "data['ceiling_height'] = data['ceiling_height'].apply(lambda x: x / 10 if x > 23 else x)\n",
    "warnings.filterwarnings(\"ignore\")"
   ]
  },
  {
   "cell_type": "code",
   "execution_count": 50,
   "id": "78fdb684",
   "metadata": {},
   "outputs": [
    {
     "data": {
      "text/plain": [
       "<AxesSubplot:ylabel='Frequency'>"
      ]
     },
     "execution_count": 50,
     "metadata": {},
     "output_type": "execute_result"
    },
    {
     "data": {
      "image/png": "[encoded data removed]",
      "text/plain": [
       "<Figure size 432x288 with 1 Axes>"
      ]
     },
     "metadata": {
      "needs_background": "light"
     },
     "output_type": "display_data"
    }
   ],
   "source": [
    "data.plot(y = 'ceiling_height', kind = 'hist', bins = 100, range = (2, 5), xlabel = 'Высота потолков', ylabel = 'Количество квартир')"
   ]
  },
  {
   "cell_type": "code",
   "execution_count": 51,
   "id": "e4a4d978",
   "metadata": {},
   "outputs": [
    {
     "name": "stdout",
     "output_type": "stream",
     "text": [
      "23366\n"
     ]
    }
   ],
   "source": [
    "data = data[(data['ceiling_height'] <= 5) | data['ceiling_height'].isnull()]\n",
    "print(len(data))"
   ]
  },
  {
   "cell_type": "markdown",
   "id": "0843af76",
   "metadata": {},
   "source": [
    "Теперь данные выглядят логично, большинство домов строится с стандартной высотой потолков, на нашем графике это локальные максимумы"
   ]
  },
  {
   "cell_type": "markdown",
   "id": "7a8f42c5",
   "metadata": {},
   "source": [
    "Тип квартиры"
   ]
  },
  {
   "cell_type": "code",
   "execution_count": 52,
   "id": "90ab324f",
   "metadata": {},
   "outputs": [
    {
     "data": {
      "text/plain": [
       "<AxesSubplot:xlabel='Тип квартиры', ylabel='Количество квартир'>"
      ]
     },
     "execution_count": 52,
     "metadata": {},
     "output_type": "execute_result"
    },
    {
     "data": {
      "image/png": "[encoded data removed]",
      "text/plain": [
       "<Figure size 432x288 with 1 Axes>"
      ]
     },
     "metadata": {
      "needs_background": "light"
     },
     "output_type": "display_data"
    }
   ],
   "source": [
    "data['apartment_floor_type'].value_counts().plot(kind='bar', xlabel = 'Тип квартиры', ylabel = 'Количество квартир')"
   ]
  },
  {
   "cell_type": "markdown",
   "id": "2eeee87a",
   "metadata": {},
   "source": [
    "Гистограма выглядит логично, 'других' квартир примерно в 7 раз больше чем квартир с первых и последних этажей. Ничего изменять не будем"
   ]
  },
  {
   "cell_type": "markdown",
   "id": "bae7e910",
   "metadata": {},
   "source": [
    "Общее количество этажей в доме"
   ]
  },
  {
   "cell_type": "code",
   "execution_count": 53,
   "id": "34fcdde5",
   "metadata": {},
   "outputs": [
    {
     "data": {
      "text/plain": [
       "<AxesSubplot:ylabel='Frequency'>"
      ]
     },
     "execution_count": 53,
     "metadata": {},
     "output_type": "execute_result"
    },
    {
     "data": {
      "image/png": "[encoded data removed]",
      "text/plain": [
       "<Figure size 432x288 with 1 Axes>"
      ]
     },
     "metadata": {
      "needs_background": "light"
     },
     "output_type": "display_data"
    }
   ],
   "source": [
    "data.plot(y = 'floors_total', kind = 'hist', bins = 100, range = (data['floors_total'].min(), data['floors_total'].max()), xlabel = 'Общее количество этажей в доме', ylabel = 'Количество квартир')"
   ]
  },
  {
   "cell_type": "markdown",
   "id": "3121c2e3",
   "metadata": {},
   "source": [
    "Из графика видно, что в основном здания в нашем наборе данных имеют пять этажей, также значительное количество девятиэтажных домов. Даже значение около 35 может быть объяснено тем, что сейчас существуют здания с таким количеством этажей."
   ]
  },
  {
   "cell_type": "markdown",
   "id": "79b0b9e9",
   "metadata": {},
   "source": [
    "Расстояние до центра"
   ]
  },
  {
   "cell_type": "code",
   "execution_count": 54,
   "id": "753e8e1b",
   "metadata": {},
   "outputs": [
    {
     "data": {
      "text/plain": [
       "<AxesSubplot:ylabel='Frequency'>"
      ]
     },
     "execution_count": 54,
     "metadata": {},
     "output_type": "execute_result"
    },
    {
     "data": {
      "image/png": "[encoded data removed]",
      "text/plain": [
       "<Figure size 432x288 with 1 Axes>"
      ]
     },
     "metadata": {
      "needs_background": "light"
     },
     "output_type": "display_data"
    }
   ],
   "source": [
    "data.plot(y = 'cityCenters_nearest', kind = 'hist', bins = 100, range = (data['cityCenters_nearest'].min(), data['cityCenters_nearest'].max()), xlabel = 'Расстояние до центра города в метрах', ylabel = 'Количество квартир')"
   ]
  },
  {
   "cell_type": "markdown",
   "id": "ee3df1d1",
   "metadata": {},
   "source": [
    "Расстояние до центра может быть любым, особенно если мы рассматриваем Россию, где между ближайшими населенными пунктами может быть несколько сотен км"
   ]
  },
  {
   "cell_type": "markdown",
   "id": "5f7e5250",
   "metadata": {},
   "source": [
    "Расстояние до ближайшего парка"
   ]
  },
  {
   "cell_type": "code",
   "execution_count": 55,
   "id": "0e08b3a3",
   "metadata": {},
   "outputs": [
    {
     "data": {
      "text/plain": [
       "<AxesSubplot:ylabel='Frequency'>"
      ]
     },
     "execution_count": 55,
     "metadata": {},
     "output_type": "execute_result"
    },
    {
     "data": {
      "image/png": "[encoded data removed]",
      "text/plain": [
       "<Figure size 432x288 with 1 Axes>"
      ]
     },
     "metadata": {
      "needs_background": "light"
     },
     "output_type": "display_data"
    }
   ],
   "source": [
    "data.plot(y = 'parks_nearest', kind = 'hist', bins = 100, range = (data['parks_nearest'].min(), data['parks_nearest'].max()), xlabel = 'Расстояние до ближайшего парка', ylabel = 'Количество квартир')"
   ]
  },
  {
   "cell_type": "markdown",
   "id": "13a7cc6a",
   "metadata": {},
   "source": [
    "Аналогично расстоянию до центра, расстояние до ближайшего парка может быть абсолютно любым"
   ]
  },
  {
   "cell_type": "code",
   "execution_count": 56,
   "id": "0e0f819b",
   "metadata": {
    "scrolled": true
   },
   "outputs": [
    {
     "name": "stdout",
     "output_type": "stream",
     "text": [
      "0.9859487742098823\n"
     ]
    }
   ],
   "source": [
    "print(len(data)/started_len)"
   ]
  },
  {
   "cell_type": "markdown",
   "id": "6b8e7d37",
   "metadata": {},
   "source": [
    "__2 Изучение скорости продажи квартир__"
   ]
  },
  {
   "cell_type": "code",
   "execution_count": 57,
   "id": "98ae285f",
   "metadata": {},
   "outputs": [
    {
     "data": {
      "text/plain": [
       "<AxesSubplot:ylabel='Frequency'>"
      ]
     },
     "execution_count": 57,
     "metadata": {},
     "output_type": "execute_result"
    },
    {
     "data": {
      "image/png": "[encoded data removed]",
      "text/plain": [
       "<Figure size 432x288 with 1 Axes>"
      ]
     },
     "metadata": {
      "needs_background": "light"
     },
     "output_type": "display_data"
    }
   ],
   "source": [
    "data.plot(y = 'days_exposition', kind = 'hist', bins = 100, range = (data['days_exposition'].min(), data['days_exposition'].max()), xlabel = 'Сколько дней продавалась квартира', ylabel = 'количество квартир')"
   ]
  },
  {
   "cell_type": "code",
   "execution_count": 58,
   "id": "55e16958",
   "metadata": {},
   "outputs": [
    {
     "data": {
      "text/plain": [
       "<AxesSubplot:>"
      ]
     },
     "execution_count": 58,
     "metadata": {},
     "output_type": "execute_result"
    },
    {
     "data": {
      "image/png": "[encoded data removed]",
      "text/plain": [
       "<Figure size 432x288 with 1 Axes>"
      ]
     },
     "metadata": {
      "needs_background": "light"
     },
     "output_type": "display_data"
    }
   ],
   "source": [
    "data.boxplot('days_exposition')"
   ]
  },
  {
   "cell_type": "code",
   "execution_count": 59,
   "id": "52702cb4",
   "metadata": {},
   "outputs": [
    {
     "name": "stdout",
     "output_type": "stream",
     "text": [
      "179.7084362343179\n",
      "95.0\n"
     ]
    }
   ],
   "source": [
    "print(data['days_exposition'].mean())\n",
    "print(data['days_exposition'].median())"
   ]
  },
  {
   "cell_type": "markdown",
   "id": "bdd9a66d",
   "metadata": {},
   "source": [
    "Среднее значение выборки получилось равным 179, а медианное значение равным 95, оъеденение этих двух метрик может указывать на наличие скошенного распределения времени продажи. Есть множество квартир, которые продаются медленнее, из-за этого среднее знаачение существенно выше медианного"
   ]
  },
  {
   "cell_type": "code",
   "execution_count": 60,
   "id": "ea766c97",
   "metadata": {},
   "outputs": [
    {
     "name": "stdout",
     "output_type": "stream",
     "text": [
      "count    20246.000000\n",
      "mean       179.708436\n",
      "std        218.659643\n",
      "min          1.000000\n",
      "25%         45.000000\n",
      "50%         95.000000\n",
      "75%        229.000000\n",
      "max       1580.000000\n",
      "Name: days_exposition, dtype: float64\n"
     ]
    }
   ],
   "source": [
    "print(data['days_exposition'].describe())"
   ]
  },
  {
   "cell_type": "markdown",
   "id": "5c3f59dd",
   "metadata": {},
   "source": [
    "Будем считать быстрыми продажами те, которые входят в первые 25% по скорости, медленными те, которые входят в псоледние 25%, то есть быстрые продажи были завершены за 45 дней и менее, медленные более чем за 229 дней"
   ]
  },
  {
   "cell_type": "markdown",
   "id": "7ce4c281",
   "metadata": {},
   "source": [
    "__Какие факторы больше всего влияют на общую (полную) стоимость объекта?__"
   ]
  },
  {
   "cell_type": "markdown",
   "id": "7b5ced53",
   "metadata": {},
   "source": [
    "Зависит ли цена от общей площади ?"
   ]
  },
  {
   "cell_type": "code",
   "execution_count": 61,
   "id": "46e0a64e",
   "metadata": {},
   "outputs": [
    {
     "data": {
      "text/plain": [
       "<AxesSubplot:xlabel='общая площадь', ylabel='стоимость квартиры'>"
      ]
     },
     "execution_count": 61,
     "metadata": {},
     "output_type": "execute_result"
    },
    {
     "data": {
      "image/png": "[encoded data removed]",
      "text/plain": [
       "<Figure size 432x288 with 1 Axes>"
      ]
     },
     "metadata": {
      "needs_background": "light"
     },
     "output_type": "display_data"
    }
   ],
   "source": [
    "stat_total_area = data.pivot_table(values = 'last_price', index = 'total_area' )\n",
    "stat_total_area.plot(y = 'last_price', ylabel = 'стоимость квартиры', xlabel = 'общая площадь')"
   ]
  },
  {
   "cell_type": "code",
   "execution_count": 62,
   "id": "3aa6b354",
   "metadata": {},
   "outputs": [
    {
     "name": "stdout",
     "output_type": "stream",
     "text": [
      "0.7726966679737788\n"
     ]
    }
   ],
   "source": [
    "print(data['last_price'].corr(data['total_area']))"
   ]
  },
  {
   "cell_type": "markdown",
   "id": "5260cc97",
   "metadata": {},
   "source": [
    "Коэффициент корреляции между стоимостью квартиры и её площадью в значении 0,772 указывает на сильную положительную линейную зависимость между этими двумя переменными. В данном случае, площадь квартиры имеет сильное влияние на её стоимость. Это может быть логичным, поскольку обычно большие квартиры стоят дороже."
   ]
  },
  {
   "cell_type": "markdown",
   "id": "42fd554b",
   "metadata": {},
   "source": [
    "Зависит ли цена от жилой площади ?"
   ]
  },
  {
   "cell_type": "code",
   "execution_count": 63,
   "id": "259b0adc",
   "metadata": {},
   "outputs": [
    {
     "data": {
      "text/plain": [
       "<AxesSubplot:xlabel='жилая площадь', ylabel='стоимость квартиры'>"
      ]
     },
     "execution_count": 63,
     "metadata": {},
     "output_type": "execute_result"
    },
    {
     "data": {
      "image/png": "[encoded data removed]",
      "text/plain": [
       "<Figure size 432x288 with 1 Axes>"
      ]
     },
     "metadata": {
      "needs_background": "light"
     },
     "output_type": "display_data"
    }
   ],
   "source": [
    "stat_living_area = data.pivot_table(values = 'last_price', index = 'living_area' )\n",
    "stat_living_area.plot(y = 'last_price', ylabel = 'стоимость квартиры', xlabel = 'жилая площадь')"
   ]
  },
  {
   "cell_type": "code",
   "execution_count": 64,
   "id": "fae8f788",
   "metadata": {},
   "outputs": [
    {
     "name": "stdout",
     "output_type": "stream",
     "text": [
      "0.6677025229614204\n"
     ]
    }
   ],
   "source": [
    "print(data['last_price'].corr(data['living_area']))"
   ]
  },
  {
   "cell_type": "markdown",
   "id": "bcf066d2",
   "metadata": {},
   "source": [
    "Когда корреляция между ценой и общей площадью (0,78) выше, чем между ценой и жилой площадью (0,67), это может указывать на наличие нежилых пространств в больших квартирах. Большие квартиры могут включать в себя дополнительные помещения, такие как кладовые, коридоры, туалеты или другие нежилые зоны, которые не относятся к жилой площади. Такие пространства могут влиять на общую площадь, но не обязательно на жилую площадь. При этом корелция между ценой и жилой площадью все равно остается большой, что указывает на положительную линейную зависимость "
   ]
  },
  {
   "cell_type": "markdown",
   "id": "59580025",
   "metadata": {},
   "source": [
    "Зависит ли цена от площади кухни ?"
   ]
  },
  {
   "cell_type": "code",
   "execution_count": 65,
   "id": "cb19ec0c",
   "metadata": {},
   "outputs": [
    {
     "data": {
      "text/plain": [
       "<AxesSubplot:xlabel='площадь кухни', ylabel='стоимость квартиры'>"
      ]
     },
     "execution_count": 65,
     "metadata": {},
     "output_type": "execute_result"
    },
    {
     "data": {
      "image/png": "[encoded data removed]",
      "text/plain": [
       "<Figure size 432x288 with 1 Axes>"
      ]
     },
     "metadata": {
      "needs_background": "light"
     },
     "output_type": "display_data"
    }
   ],
   "source": [
    "stat_kitchen_area = data.pivot_table(values = 'last_price', index = 'kitchen_area' )\n",
    "stat_kitchen_area.plot(y = 'last_price', ylabel = 'стоимость квартиры', xlabel = 'площадь кухни')"
   ]
  },
  {
   "cell_type": "code",
   "execution_count": 66,
   "id": "9167135e",
   "metadata": {},
   "outputs": [
    {
     "name": "stdout",
     "output_type": "stream",
     "text": [
      "0.5901357021414813\n"
     ]
    }
   ],
   "source": [
    "print(data['last_price'].corr(data['kitchen_area']))"
   ]
  },
  {
   "cell_type": "markdown",
   "id": "11f8b0ac",
   "metadata": {},
   "source": [
    "Коэффициент корреляции между стоимостью квартиры и её площадью в значении 0,59 указывает на положительную линейную зависимость между этими двумя переменными. В данном случае, стоимость квартиры влияет на площадь кухни. Это может быть логичным, поскольку обычно чем больше квартиры стоят, тем больше в них делают кухни."
   ]
  },
  {
   "cell_type": "markdown",
   "id": "205d81d1",
   "metadata": {},
   "source": [
    "Зависит ли цена от количества комнат в квартире ?"
   ]
  },
  {
   "cell_type": "code",
   "execution_count": 67,
   "id": "3cc15be9",
   "metadata": {},
   "outputs": [
    {
     "data": {
      "text/plain": [
       "<AxesSubplot:xlabel='количество комнат', ylabel='стоимость квартиры'>"
      ]
     },
     "execution_count": 67,
     "metadata": {},
     "output_type": "execute_result"
    },
    {
     "data": {
      "image/png": "[encoded data removed]",
      "text/plain": [
       "<Figure size 432x288 with 1 Axes>"
      ]
     },
     "metadata": {
      "needs_background": "light"
     },
     "output_type": "display_data"
    }
   ],
   "source": [
    "stat_rooms = data.pivot_table(values = 'last_price', index = 'rooms' )\n",
    "stat_rooms.plot(y = 'last_price', ylabel = 'стоимость квартиры', xlabel = 'количество комнат')"
   ]
  },
  {
   "cell_type": "code",
   "execution_count": 68,
   "id": "d7d8870f",
   "metadata": {},
   "outputs": [
    {
     "name": "stdout",
     "output_type": "stream",
     "text": [
      "0.48361581476587406\n"
     ]
    }
   ],
   "source": [
    "print(data['last_price'].corr(data['rooms']))"
   ]
  },
  {
   "cell_type": "markdown",
   "id": "36b7e0a6",
   "metadata": {},
   "source": [
    "Корреляция в 0.48 между количеством комнат и ценой квартиры указывает на умеренную положительную связь между этими двумя переменными. В данном контексте это означает, что, в среднем, более крупные квартиры (с большим количеством комнат) имеют тенденцию быть более дорогими. Однако корреляция в 0.48 не является очень сильной, и многое может зависеть от других факторов.\n",
    "Это также означает, что изменение в количестве комнат может объяснить лишь часть изменений в цене квартиры, и другие факторы, возможно, также влияют на цену. "
   ]
  },
  {
   "cell_type": "markdown",
   "id": "19b8c193",
   "metadata": {},
   "source": [
    "Зависит ли цена от того, на каком этаже находится квартира ?"
   ]
  },
  {
   "cell_type": "code",
   "execution_count": 69,
   "id": "35e1fb0f",
   "metadata": {},
   "outputs": [
    {
     "data": {
      "text/plain": [
       "<AxesSubplot:xlabel='тип этажа', ylabel='стоимость квартиры'>"
      ]
     },
     "execution_count": 69,
     "metadata": {},
     "output_type": "execute_result"
    },
    {
     "data": {
      "image/png": "[encoded data removed]",
      "text/plain": [
       "<Figure size 432x288 with 1 Axes>"
      ]
     },
     "metadata": {
      "needs_background": "light"
     },
     "output_type": "display_data"
    }
   ],
   "source": [
    "stat_floor_type = data.pivot_table(values = 'last_price', index = 'apartment_floor_type' )\n",
    "stat_floor_type.plot(y = 'last_price', ylabel = 'стоимость квартиры', xlabel = 'тип этажа')"
   ]
  },
  {
   "cell_type": "markdown",
   "id": "118f032d",
   "metadata": {},
   "source": [
    "Так как параметр apartment_floor_type ялвяется не количественным, а качественным, воспользуемся корреляцией Крамера.Коэффициент корреляции Крамера — это статистическая мера, используемая для определения силы связи между категориальными переменными.Коэффициент корреляции Крамера формула основана на базе Пирсоновского коэффициента корреляции и является его улучшенным вариантом для использования с категориальными переменными."
   ]
  },
  {
   "cell_type": "code",
   "execution_count": 70,
   "id": "5e31e3e9",
   "metadata": {},
   "outputs": [
    {
     "name": "stdout",
     "output_type": "stream",
     "text": [
      "Кореляция равна: 0.3494401147216233\n"
     ]
    }
   ],
   "source": [
    "from scipy.stats import chi2_contingency\n",
    "import numpy as np\n",
    "\n",
    "contingency_table = pd.crosstab(data['last_price'], data['apartment_floor_type'])\n",
    "chi2, _, _, _ = chi2_contingency(contingency_table)\n",
    "n = contingency_table.sum().sum()\n",
    "min_dim = min(contingency_table.shape) - 1\n",
    "correlation = np.sqrt(chi2 / (n * min_dim))\n",
    "print(f\"Кореляция равна: {correlation}\")"
   ]
  },
  {
   "cell_type": "markdown",
   "id": "ff53f11a",
   "metadata": {},
   "source": [
    "В данном случае, положительная корреляция может указывать на то, что, например, квартиры на более высоких этажах имеют, в среднем, более высокие цены, а квартиры на первом этаже или последнем этаже - более низкие цены. Однако это не означает, что этаж напрямую влияет на цену. Влияние может быть связано с другими факторами, например, видом из окна, шумом и т. д."
   ]
  },
  {
   "cell_type": "markdown",
   "id": "5aa13606",
   "metadata": {},
   "source": [
    "Зависит ли цена от дня недели, месяца и года размещения квартиры ?"
   ]
  },
  {
   "cell_type": "code",
   "execution_count": 71,
   "id": "40076324",
   "metadata": {
    "scrolled": true
   },
   "outputs": [
    {
     "name": "stdout",
     "output_type": "stream",
     "text": [
      "Корреляция между ценой и днем недели: -0.01699099811083886\n",
      "Корреляция между ценой и месяцем: 0.0021218452926673364\n",
      "Корреляция между ценой и годом: -0.044066029545959964\n"
     ]
    },
    {
     "data": {
      "text/plain": [
       "<AxesSubplot:xlabel='год размещениея объявления', ylabel='стоимость квартиры'>"
      ]
     },
     "execution_count": 71,
     "metadata": {},
     "output_type": "execute_result"
    },
    {
     "data": {
      "image/png": "[encoded data removed]",
      "text/plain": [
       "<Figure size 432x288 with 1 Axes>"
      ]
     },
     "metadata": {
      "needs_background": "light"
     },
     "output_type": "display_data"
    },
    {
     "data": {
      "image/png": "[encoded data removed]",
      "text/plain": [
       "<Figure size 432x288 with 1 Axes>"
      ]
     },
     "metadata": {
      "needs_background": "light"
     },
     "output_type": "display_data"
    },
    {
     "data": {
      "image/png": "[encoded data removed]",
      "text/plain": [
       "<Figure size 432x288 with 1 Axes>"
      ]
     },
     "metadata": {
      "needs_background": "light"
     },
     "output_type": "display_data"
    }
   ],
   "source": [
    "data['day_of_week'] = data['first_day_exposition'].dt.dayofweek\n",
    "data['month'] = data['first_day_exposition'].dt.month\n",
    "data['year'] = data['first_day_exposition'].dt.year\n",
    "\n",
    "correlation_day_of_week = data['last_price'].corr(data['day_of_week'])\n",
    "correlation_month = data['last_price'].corr(data['month'])\n",
    "correlation_year = data['last_price'].corr(data['year'])\n",
    "\n",
    "print(\"Корреляция между ценой и днем недели:\", correlation_day_of_week)\n",
    "stat_day_of_week = data.pivot_table(values = 'last_price', index = 'day_of_week')\n",
    "stat_day_of_week.plot(y = 'last_price', ylabel = 'стоимость квартиры', xlabel = 'день недели размещениея объявления')\n",
    "print(\"Корреляция между ценой и месяцем:\", correlation_month)\n",
    "stat_month = data.pivot_table(values = 'last_price', index = 'month')\n",
    "stat_month.plot(y = 'last_price', ylabel = 'стоимость квартиры', xlabel = 'месяц размещениея объявления')\n",
    "print(\"Корреляция между ценой и годом:\", correlation_year)\n",
    "stat_year = data.pivot_table(values = 'last_price', index = 'year')\n",
    "stat_year.plot(y = 'last_price', ylabel = 'стоимость квартиры', xlabel = 'год размещениея объявления')"
   ]
  },
  {
   "cell_type": "markdown",
   "id": "18cbff43",
   "metadata": {},
   "source": [
    "На основе представленных данных линейная зависимость между ценой квартиры и днем недели, месяцем или годом выставления объявления отсутствует или является слабой."
   ]
  },
  {
   "cell_type": "markdown",
   "id": "dec12992",
   "metadata": {},
   "source": [
    "__Посчитаем среднюю цену одного квадратного метра в 10 населённых пунктах с наибольшим числом объявлений — построим сводную таблицу с количеством объявлений и средней ценой квадратного метра для этих населенных пунктов. Выделим населённые пункты с самой высокой и низкой стоимостью квадратного метра.__"
   ]
  },
  {
   "cell_type": "markdown",
   "id": "8712cb26",
   "metadata": {},
   "source": [
    "Найдем 10 населенных пунктов с наибольшим числом объявлений"
   ]
  },
  {
   "cell_type": "code",
   "execution_count": 72,
   "id": "98be319b",
   "metadata": {},
   "outputs": [
    {
     "name": "stdout",
     "output_type": "stream",
     "text": [
      "Index(['Санкт-Петербург', 'поселок Мурино', 'поселок Шушары', 'Всеволожск',\n",
      "       'Пушкин', 'Колпино', 'поселок Парголово', 'Гатчина', 'деревня Кудрово',\n",
      "       'Выборг'],\n",
      "      dtype='object')\n"
     ]
    }
   ],
   "source": [
    "top_localities = data['locality_name'].value_counts().head(10).index\n",
    "print(top_localities)"
   ]
  },
  {
   "cell_type": "markdown",
   "id": "f0a0e0ab",
   "metadata": {},
   "source": [
    "Создадим сводную таюлицу, где в стобцах average_price и average_area будут средняя цена и площадь для каждого населенного пункта"
   ]
  },
  {
   "cell_type": "code",
   "execution_count": 73,
   "id": "acb17b8a",
   "metadata": {},
   "outputs": [
    {
     "data": {
      "text/html": [
       "<div>\n",
       "<style scoped>\n",
       "    .dataframe tbody tr th:only-of-type {\n",
       "        vertical-align: middle;\n",
       "    }\n",
       "\n",
       "    .dataframe tbody tr th {\n",
       "        vertical-align: top;\n",
       "    }\n",
       "\n",
       "    .dataframe thead th {\n",
       "        text-align: right;\n",
       "    }\n",
       "</style>\n",
       "<table border=\"1\" class=\"dataframe\">\n",
       "  <thead>\n",
       "    <tr style=\"text-align: right;\">\n",
       "      <th></th>\n",
       "      <th>average_price</th>\n",
       "      <th>average_area</th>\n",
       "    </tr>\n",
       "    <tr>\n",
       "      <th>locality_name</th>\n",
       "      <th></th>\n",
       "      <th></th>\n",
       "    </tr>\n",
       "  </thead>\n",
       "  <tbody>\n",
       "    <tr>\n",
       "      <th>Всеволожск</th>\n",
       "      <td>3.789068e+06</td>\n",
       "      <td>56.022186</td>\n",
       "    </tr>\n",
       "    <tr>\n",
       "      <th>Выборг</th>\n",
       "      <td>3.250983e+06</td>\n",
       "      <td>56.150042</td>\n",
       "    </tr>\n",
       "    <tr>\n",
       "      <th>Гатчина</th>\n",
       "      <td>3.488337e+06</td>\n",
       "      <td>50.942932</td>\n",
       "    </tr>\n",
       "    <tr>\n",
       "      <th>Колпино</th>\n",
       "      <td>3.866289e+06</td>\n",
       "      <td>52.358279</td>\n",
       "    </tr>\n",
       "    <tr>\n",
       "      <th>Пушкин</th>\n",
       "      <td>6.217539e+06</td>\n",
       "      <td>59.329066</td>\n",
       "    </tr>\n",
       "    <tr>\n",
       "      <th>Санкт-Петербург</th>\n",
       "      <td>7.124517e+06</td>\n",
       "      <td>61.891395</td>\n",
       "    </tr>\n",
       "    <tr>\n",
       "      <th>деревня Кудрово</th>\n",
       "      <td>4.234158e+06</td>\n",
       "      <td>46.571739</td>\n",
       "    </tr>\n",
       "    <tr>\n",
       "      <th>поселок Мурино</th>\n",
       "      <td>3.654697e+06</td>\n",
       "      <td>44.008261</td>\n",
       "    </tr>\n",
       "    <tr>\n",
       "      <th>поселок Парголово</th>\n",
       "      <td>4.488075e+06</td>\n",
       "      <td>51.521407</td>\n",
       "    </tr>\n",
       "    <tr>\n",
       "      <th>поселок Шушары</th>\n",
       "      <td>4.109809e+06</td>\n",
       "      <td>53.886925</td>\n",
       "    </tr>\n",
       "  </tbody>\n",
       "</table>\n",
       "</div>"
      ],
      "text/plain": [
       "                   average_price  average_area\n",
       "locality_name                                 \n",
       "Всеволожск          3.789068e+06     56.022186\n",
       "Выборг              3.250983e+06     56.150042\n",
       "Гатчина             3.488337e+06     50.942932\n",
       "Колпино             3.866289e+06     52.358279\n",
       "Пушкин              6.217539e+06     59.329066\n",
       "Санкт-Петербург     7.124517e+06     61.891395\n",
       "деревня Кудрово     4.234158e+06     46.571739\n",
       "поселок Мурино      3.654697e+06     44.008261\n",
       "поселок Парголово   4.488075e+06     51.521407\n",
       "поселок Шушары      4.109809e+06     53.886925"
      ]
     },
     "metadata": {},
     "output_type": "display_data"
    }
   ],
   "source": [
    "summary_table = pd.pivot_table(data[data['locality_name'].isin(top_localities)], \n",
    "                                index='locality_name',\n",
    "                                values=['last_price', 'total_area'],\n",
    "                                aggfunc={'last_price': 'mean', 'total_area': 'mean'})\n",
    "summary_table.columns = ['average_price', 'average_area']\n",
    "display(summary_table)"
   ]
  },
  {
   "cell_type": "markdown",
   "id": "11de35a6",
   "metadata": {},
   "source": [
    "Добавим столбцы с количесвтом объявлений и стредней стоимостью квадратного метра"
   ]
  },
  {
   "cell_type": "code",
   "execution_count": 74,
   "id": "fab09f64",
   "metadata": {},
   "outputs": [
    {
     "data": {
      "text/html": [
       "<div>\n",
       "<style scoped>\n",
       "    .dataframe tbody tr th:only-of-type {\n",
       "        vertical-align: middle;\n",
       "    }\n",
       "\n",
       "    .dataframe tbody tr th {\n",
       "        vertical-align: top;\n",
       "    }\n",
       "\n",
       "    .dataframe thead th {\n",
       "        text-align: right;\n",
       "    }\n",
       "</style>\n",
       "<table border=\"1\" class=\"dataframe\">\n",
       "  <thead>\n",
       "    <tr style=\"text-align: right;\">\n",
       "      <th></th>\n",
       "      <th>average_price</th>\n",
       "      <th>average_area</th>\n",
       "      <th>number_of_ads</th>\n",
       "      <th>average_price_per_sqm</th>\n",
       "    </tr>\n",
       "    <tr>\n",
       "      <th>locality_name</th>\n",
       "      <th></th>\n",
       "      <th></th>\n",
       "      <th></th>\n",
       "      <th></th>\n",
       "    </tr>\n",
       "  </thead>\n",
       "  <tbody>\n",
       "    <tr>\n",
       "      <th>Всеволожск</th>\n",
       "      <td>3.789068e+06</td>\n",
       "      <td>56.022186</td>\n",
       "      <td>398</td>\n",
       "      <td>67635.128626</td>\n",
       "    </tr>\n",
       "    <tr>\n",
       "      <th>Выборг</th>\n",
       "      <td>3.250983e+06</td>\n",
       "      <td>56.150042</td>\n",
       "      <td>237</td>\n",
       "      <td>57898.142109</td>\n",
       "    </tr>\n",
       "    <tr>\n",
       "      <th>Гатчина</th>\n",
       "      <td>3.488337e+06</td>\n",
       "      <td>50.942932</td>\n",
       "      <td>307</td>\n",
       "      <td>68475.381534</td>\n",
       "    </tr>\n",
       "    <tr>\n",
       "      <th>Колпино</th>\n",
       "      <td>3.866289e+06</td>\n",
       "      <td>52.358279</td>\n",
       "      <td>337</td>\n",
       "      <td>73842.926901</td>\n",
       "    </tr>\n",
       "    <tr>\n",
       "      <th>Пушкин</th>\n",
       "      <td>6.217539e+06</td>\n",
       "      <td>59.329066</td>\n",
       "      <td>364</td>\n",
       "      <td>104797.523590</td>\n",
       "    </tr>\n",
       "    <tr>\n",
       "      <th>Санкт-Петербург</th>\n",
       "      <td>7.124517e+06</td>\n",
       "      <td>61.891395</td>\n",
       "      <td>15414</td>\n",
       "      <td>115113.210569</td>\n",
       "    </tr>\n",
       "    <tr>\n",
       "      <th>деревня Кудрово</th>\n",
       "      <td>4.234158e+06</td>\n",
       "      <td>46.571739</td>\n",
       "      <td>299</td>\n",
       "      <td>90916.895213</td>\n",
       "    </tr>\n",
       "    <tr>\n",
       "      <th>поселок Мурино</th>\n",
       "      <td>3.654697e+06</td>\n",
       "      <td>44.008261</td>\n",
       "      <td>552</td>\n",
       "      <td>83045.711526</td>\n",
       "    </tr>\n",
       "    <tr>\n",
       "      <th>поселок Парголово</th>\n",
       "      <td>4.488075e+06</td>\n",
       "      <td>51.521407</td>\n",
       "      <td>327</td>\n",
       "      <td>87110.874551</td>\n",
       "    </tr>\n",
       "    <tr>\n",
       "      <th>поселок Шушары</th>\n",
       "      <td>4.109809e+06</td>\n",
       "      <td>53.886925</td>\n",
       "      <td>439</td>\n",
       "      <td>76267.270155</td>\n",
       "    </tr>\n",
       "  </tbody>\n",
       "</table>\n",
       "</div>"
      ],
      "text/plain": [
       "                   average_price  average_area  number_of_ads  \\\n",
       "locality_name                                                   \n",
       "Всеволожск          3.789068e+06     56.022186            398   \n",
       "Выборг              3.250983e+06     56.150042            237   \n",
       "Гатчина             3.488337e+06     50.942932            307   \n",
       "Колпино             3.866289e+06     52.358279            337   \n",
       "Пушкин              6.217539e+06     59.329066            364   \n",
       "Санкт-Петербург     7.124517e+06     61.891395          15414   \n",
       "деревня Кудрово     4.234158e+06     46.571739            299   \n",
       "поселок Мурино      3.654697e+06     44.008261            552   \n",
       "поселок Парголово   4.488075e+06     51.521407            327   \n",
       "поселок Шушары      4.109809e+06     53.886925            439   \n",
       "\n",
       "                   average_price_per_sqm  \n",
       "locality_name                             \n",
       "Всеволожск                  67635.128626  \n",
       "Выборг                      57898.142109  \n",
       "Гатчина                     68475.381534  \n",
       "Колпино                     73842.926901  \n",
       "Пушкин                     104797.523590  \n",
       "Санкт-Петербург            115113.210569  \n",
       "деревня Кудрово             90916.895213  \n",
       "поселок Мурино              83045.711526  \n",
       "поселок Парголово           87110.874551  \n",
       "поселок Шушары              76267.270155  "
      ]
     },
     "metadata": {},
     "output_type": "display_data"
    }
   ],
   "source": [
    "summary_table['number_of_ads'] = data[data['locality_name'].isin(top_localities)]['locality_name'].value_counts()\n",
    "summary_table['average_price_per_sqm'] = summary_table['average_price'] / summary_table['average_area']\n",
    "display(summary_table)"
   ]
  },
  {
   "cell_type": "markdown",
   "id": "622a133e",
   "metadata": {},
   "source": [
    "Найдем населённые пункты с самой высокой и низкой стоимостью квадратного метра"
   ]
  },
  {
   "cell_type": "code",
   "execution_count": 75,
   "id": "09bbc210",
   "metadata": {},
   "outputs": [
    {
     "name": "stdout",
     "output_type": "stream",
     "text": [
      "Санкт-Петербург\n",
      "Выборг\n"
     ]
    }
   ],
   "source": [
    "highest_price_locality = summary_table['average_price_per_sqm'].idxmax()\n",
    "lowest_price_locality = summary_table['average_price_per_sqm'].idxmin()\n",
    "print(highest_price_locality)\n",
    "print(lowest_price_locality)"
   ]
  },
  {
   "cell_type": "markdown",
   "id": "919cdecc",
   "metadata": {},
   "source": [
    " __Теперь выделим квартиры в Санкт-Петербурге с помощью столбца locality_name и вычислим их среднюю стоимость на разном удалении от центра. Будем учитывать каждый километр расстояния: узнаем среднюю цену квартир в одном километре от центра, в двух и так далее. Опишем, как стоимость объектов зависит от расстояния до центра города — построим график изменения средней цены для каждого километра от центра Петербурга.__"
   ]
  },
  {
   "cell_type": "markdown",
   "id": "8a540c63",
   "metadata": {},
   "source": [
    "Создадим столбец расстояния до центра и выберем квартир только в Санкт-Петербурге"
   ]
  },
  {
   "cell_type": "code",
   "execution_count": 76,
   "id": "87219269",
   "metadata": {},
   "outputs": [
    {
     "data": {
      "text/html": [
       "<div>\n",
       "<style scoped>\n",
       "    .dataframe tbody tr th:only-of-type {\n",
       "        vertical-align: middle;\n",
       "    }\n",
       "\n",
       "    .dataframe tbody tr th {\n",
       "        vertical-align: top;\n",
       "    }\n",
       "\n",
       "    .dataframe thead th {\n",
       "        text-align: right;\n",
       "    }\n",
       "</style>\n",
       "<table border=\"1\" class=\"dataframe\">\n",
       "  <thead>\n",
       "    <tr style=\"text-align: right;\">\n",
       "      <th></th>\n",
       "      <th>total_images</th>\n",
       "      <th>last_price</th>\n",
       "      <th>total_area</th>\n",
       "      <th>first_day_exposition</th>\n",
       "      <th>rooms</th>\n",
       "      <th>ceiling_height</th>\n",
       "      <th>floors_total</th>\n",
       "      <th>living_area</th>\n",
       "      <th>floor</th>\n",
       "      <th>is_apartment</th>\n",
       "      <th>...</th>\n",
       "      <th>price_square_meter</th>\n",
       "      <th>weekday_of_publication</th>\n",
       "      <th>month_of_publication</th>\n",
       "      <th>year_of_publication</th>\n",
       "      <th>apartment_floor_type</th>\n",
       "      <th>cityCenters_nearest_km</th>\n",
       "      <th>day_of_week</th>\n",
       "      <th>month</th>\n",
       "      <th>year</th>\n",
       "      <th>distance_to_center_km</th>\n",
       "    </tr>\n",
       "  </thead>\n",
       "  <tbody>\n",
       "    <tr>\n",
       "      <th>0</th>\n",
       "      <td>20</td>\n",
       "      <td>13000000.0</td>\n",
       "      <td>108.0</td>\n",
       "      <td>2019-03-07</td>\n",
       "      <td>3</td>\n",
       "      <td>2.70</td>\n",
       "      <td>16</td>\n",
       "      <td>51.0</td>\n",
       "      <td>8</td>\n",
       "      <td>False</td>\n",
       "      <td>...</td>\n",
       "      <td>120370.37</td>\n",
       "      <td>3</td>\n",
       "      <td>3</td>\n",
       "      <td>2019</td>\n",
       "      <td>другой</td>\n",
       "      <td>16.0</td>\n",
       "      <td>3</td>\n",
       "      <td>3</td>\n",
       "      <td>2019</td>\n",
       "      <td>16.0</td>\n",
       "    </tr>\n",
       "    <tr>\n",
       "      <th>2</th>\n",
       "      <td>10</td>\n",
       "      <td>5196000.0</td>\n",
       "      <td>56.0</td>\n",
       "      <td>2015-08-20</td>\n",
       "      <td>2</td>\n",
       "      <td>NaN</td>\n",
       "      <td>5</td>\n",
       "      <td>34.3</td>\n",
       "      <td>4</td>\n",
       "      <td>False</td>\n",
       "      <td>...</td>\n",
       "      <td>92785.71</td>\n",
       "      <td>3</td>\n",
       "      <td>8</td>\n",
       "      <td>2015</td>\n",
       "      <td>другой</td>\n",
       "      <td>14.0</td>\n",
       "      <td>3</td>\n",
       "      <td>8</td>\n",
       "      <td>2015</td>\n",
       "      <td>14.0</td>\n",
       "    </tr>\n",
       "    <tr>\n",
       "      <th>4</th>\n",
       "      <td>2</td>\n",
       "      <td>10000000.0</td>\n",
       "      <td>100.0</td>\n",
       "      <td>2018-06-19</td>\n",
       "      <td>2</td>\n",
       "      <td>3.03</td>\n",
       "      <td>14</td>\n",
       "      <td>32.0</td>\n",
       "      <td>13</td>\n",
       "      <td>False</td>\n",
       "      <td>...</td>\n",
       "      <td>100000.00</td>\n",
       "      <td>1</td>\n",
       "      <td>6</td>\n",
       "      <td>2018</td>\n",
       "      <td>другой</td>\n",
       "      <td>8.0</td>\n",
       "      <td>1</td>\n",
       "      <td>6</td>\n",
       "      <td>2018</td>\n",
       "      <td>8.0</td>\n",
       "    </tr>\n",
       "    <tr>\n",
       "      <th>7</th>\n",
       "      <td>5</td>\n",
       "      <td>7915000.0</td>\n",
       "      <td>71.6</td>\n",
       "      <td>2019-04-18</td>\n",
       "      <td>2</td>\n",
       "      <td>NaN</td>\n",
       "      <td>24</td>\n",
       "      <td>NaN</td>\n",
       "      <td>22</td>\n",
       "      <td>False</td>\n",
       "      <td>...</td>\n",
       "      <td>110544.69</td>\n",
       "      <td>3</td>\n",
       "      <td>4</td>\n",
       "      <td>2019</td>\n",
       "      <td>другой</td>\n",
       "      <td>12.0</td>\n",
       "      <td>3</td>\n",
       "      <td>4</td>\n",
       "      <td>2019</td>\n",
       "      <td>12.0</td>\n",
       "    </tr>\n",
       "    <tr>\n",
       "      <th>9</th>\n",
       "      <td>18</td>\n",
       "      <td>5400000.0</td>\n",
       "      <td>61.0</td>\n",
       "      <td>2017-02-26</td>\n",
       "      <td>3</td>\n",
       "      <td>2.50</td>\n",
       "      <td>9</td>\n",
       "      <td>43.6</td>\n",
       "      <td>7</td>\n",
       "      <td>False</td>\n",
       "      <td>...</td>\n",
       "      <td>88524.59</td>\n",
       "      <td>6</td>\n",
       "      <td>2</td>\n",
       "      <td>2017</td>\n",
       "      <td>другой</td>\n",
       "      <td>15.0</td>\n",
       "      <td>6</td>\n",
       "      <td>2</td>\n",
       "      <td>2017</td>\n",
       "      <td>15.0</td>\n",
       "    </tr>\n",
       "  </tbody>\n",
       "</table>\n",
       "<p>5 rows × 32 columns</p>\n",
       "</div>"
      ],
      "text/plain": [
       "   total_images  last_price  total_area first_day_exposition  rooms  \\\n",
       "0            20  13000000.0       108.0           2019-03-07      3   \n",
       "2            10   5196000.0        56.0           2015-08-20      2   \n",
       "4             2  10000000.0       100.0           2018-06-19      2   \n",
       "7             5   7915000.0        71.6           2019-04-18      2   \n",
       "9            18   5400000.0        61.0           2017-02-26      3   \n",
       "\n",
       "   ceiling_height  floors_total  living_area  floor  is_apartment  ...  \\\n",
       "0            2.70            16         51.0      8         False  ...   \n",
       "2             NaN             5         34.3      4         False  ...   \n",
       "4            3.03            14         32.0     13         False  ...   \n",
       "7             NaN            24          NaN     22         False  ...   \n",
       "9            2.50             9         43.6      7         False  ...   \n",
       "\n",
       "   price_square_meter  weekday_of_publication  month_of_publication  \\\n",
       "0           120370.37                       3                     3   \n",
       "2            92785.71                       3                     8   \n",
       "4           100000.00                       1                     6   \n",
       "7           110544.69                       3                     4   \n",
       "9            88524.59                       6                     2   \n",
       "\n",
       "   year_of_publication apartment_floor_type  cityCenters_nearest_km  \\\n",
       "0                 2019               другой                    16.0   \n",
       "2                 2015               другой                    14.0   \n",
       "4                 2018               другой                     8.0   \n",
       "7                 2019               другой                    12.0   \n",
       "9                 2017               другой                    15.0   \n",
       "\n",
       "   day_of_week  month  year  distance_to_center_km  \n",
       "0            3      3  2019                   16.0  \n",
       "2            3      8  2015                   14.0  \n",
       "4            1      6  2018                    8.0  \n",
       "7            3      4  2019                   12.0  \n",
       "9            6      2  2017                   15.0  \n",
       "\n",
       "[5 rows x 32 columns]"
      ]
     },
     "metadata": {},
     "output_type": "display_data"
    }
   ],
   "source": [
    "data['distance_to_center_km'] = round(data['cityCenters_nearest'] / 1000)\n",
    "spb_data = data.loc[data['locality_name'] == 'Санкт-Петербург']\n",
    "display(spb_data.head(5))"
   ]
  },
  {
   "cell_type": "markdown",
   "id": "cac8a2b8",
   "metadata": {},
   "source": [
    "Группируем данные по расстоянию от центра и вычисляем среднюю цену для каждой группы"
   ]
  },
  {
   "cell_type": "code",
   "execution_count": 77,
   "id": "3b270f81",
   "metadata": {},
   "outputs": [
    {
     "data": {
      "text/plain": [
       "distance_to_center_km\n",
       "0.0     2.003553e+07\n",
       "1.0     1.244175e+07\n",
       "2.0     1.186668e+07\n",
       "3.0     1.008382e+07\n",
       "4.0     1.090960e+07\n",
       "5.0     1.137725e+07\n",
       "6.0     1.154527e+07\n",
       "7.0     1.131891e+07\n",
       "8.0     9.003871e+06\n",
       "9.0     6.909052e+06\n",
       "10.0    6.411851e+06\n",
       "11.0    6.115468e+06\n",
       "12.0    5.823008e+06\n",
       "13.0    6.051250e+06\n",
       "14.0    5.577414e+06\n",
       "15.0    5.793181e+06\n",
       "16.0    5.373131e+06\n",
       "17.0    5.222945e+06\n",
       "18.0    4.999375e+06\n",
       "19.0    5.051410e+06\n",
       "20.0    5.951465e+06\n",
       "21.0    5.493469e+06\n",
       "22.0    5.415524e+06\n",
       "23.0    4.689843e+06\n",
       "24.0    3.854430e+06\n",
       "25.0    4.052840e+06\n",
       "26.0    4.014287e+06\n",
       "27.0    8.300000e+06\n",
       "28.0    5.026429e+06\n",
       "29.0    4.236667e+06\n",
       "Name: last_price, dtype: float64"
      ]
     },
     "metadata": {},
     "output_type": "display_data"
    }
   ],
   "source": [
    "average_price_by_distance = spb_data.groupby('distance_to_center_km')['last_price'].mean()\n",
    "display(average_price_by_distance)"
   ]
  },
  {
   "cell_type": "code",
   "execution_count": 78,
   "id": "114989f4",
   "metadata": {},
   "outputs": [
    {
     "data": {
      "text/plain": [
       "<AxesSubplot:xlabel='расстояние до центра', ylabel='средняя стоимость квартир'>"
      ]
     },
     "execution_count": 78,
     "metadata": {},
     "output_type": "execute_result"
    },
    {
     "data": {
      "image/png": "[encoded data removed]",
      "text/plain": [
       "<Figure size 432x288 with 1 Axes>"
      ]
     },
     "metadata": {
      "needs_background": "light"
     },
     "output_type": "display_data"
    }
   ],
   "source": [
    "average_price_by_distance.plot(xlabel = 'расстояние до центра', ylabel = 'средняя стоимость квартир')"
   ]
  },
  {
   "cell_type": "code",
   "execution_count": 79,
   "id": "42d81f16",
   "metadata": {},
   "outputs": [
    {
     "name": "stdout",
     "output_type": "stream",
     "text": [
      "-0.33390476932060753\n"
     ]
    }
   ],
   "source": [
    "print(data['distance_to_center_km'].corr(data['last_price']))"
   ]
  },
  {
   "cell_type": "markdown",
   "id": "27c4cb96",
   "metadata": {},
   "source": [
    "По графику и кореляции видно, что взаимосвязь отрицательная, что логично, чем дальше квартира от центра, тем она дешевле, но непонятен скачок цены в районе 27-28 км, возможно он вызван тем, что на этом расстоянии от города находится какой-то поселок с элитным жильем, либо же это выброс, который мы не отсеяли "
   ]
  },
  {
   "cell_type": "markdown",
   "id": "929926c5",
   "metadata": {},
   "source": [
    "__Шаг 5 Общий вывод__"
   ]
  },
  {
   "cell_type": "markdown",
   "id": "3e6018ff",
   "metadata": {},
   "source": [
    "Исследование взаимосвязи факторов, влияющих на стоимость квартиры, позволило выявить несколько ключевых закономерностей. Мы рассмотрели различные аспекты, такие как общая площадь, количество комнат, удаленность от центра, этажность, а также другие факторы.\n",
    "Одним из наиболее значимых параметров, влияющих на цену квартиры, является её общая площадь. Мы обнаружили сильную положительную корреляцию между общей площадью и стоимостью квартиры. Это можно объяснить тем, что большая площадь часто ассоциируется с более комфортным пространством, что может повысить ценность недвижимости.\n",
    "Также стоит отметить, что другие факторы, такие как количество комнат, влияют на цену, но их влияние может быть менее значительным по сравнению с общей площадью. Тем не менее, они остаются важными для потенциальных покупателей.\n",
    "Некоторые факторы, такие как площадь кухни, могут оказывать меньшее влияние на цену квартиры. Это может объясняться тем, что покупатели чаще всего оценивают общую площадь и количество комнат как более существенные критерии.\n",
    "Исходя из наших результатов, можно заключить, что цена квартиры тесно связана с её основными параметрами, но также подвержена воздействию ряда других факторов. "
   ]
  },
  {
   "cell_type": "code",
   "execution_count": null,
   "id": "45d72d04",
   "metadata": {},
   "outputs": [],
   "source": []
  }
 ],
 "metadata": {
  "ExecuteTimeLog": [
   {
    "duration": 339,
    "start_time": "2023-11-25T16:21:23.537Z"
   },
   {
    "duration": 94,
    "start_time": "2023-11-25T16:21:23.877Z"
   },
   {
    "duration": 0,
    "start_time": "2023-11-25T16:21:23.973Z"
   },
   {
    "duration": 0,
    "start_time": "2023-11-25T16:21:23.974Z"
   },
   {
    "duration": 0,
    "start_time": "2023-11-25T16:21:23.975Z"
   },
   {
    "duration": 0,
    "start_time": "2023-11-25T16:21:23.976Z"
   },
   {
    "duration": 0,
    "start_time": "2023-11-25T16:21:23.977Z"
   },
   {
    "duration": 0,
    "start_time": "2023-11-25T16:21:23.977Z"
   },
   {
    "duration": 0,
    "start_time": "2023-11-25T16:21:23.978Z"
   },
   {
    "duration": 0,
    "start_time": "2023-11-25T16:21:23.979Z"
   },
   {
    "duration": 0,
    "start_time": "2023-11-25T16:21:23.980Z"
   },
   {
    "duration": 0,
    "start_time": "2023-11-25T16:21:23.981Z"
   },
   {
    "duration": 0,
    "start_time": "2023-11-25T16:21:23.982Z"
   },
   {
    "duration": 0,
    "start_time": "2023-11-25T16:21:23.983Z"
   },
   {
    "duration": 0,
    "start_time": "2023-11-25T16:21:23.984Z"
   },
   {
    "duration": 0,
    "start_time": "2023-11-25T16:21:23.986Z"
   },
   {
    "duration": 0,
    "start_time": "2023-11-25T16:21:23.986Z"
   },
   {
    "duration": 0,
    "start_time": "2023-11-25T16:21:23.988Z"
   },
   {
    "duration": 0,
    "start_time": "2023-11-25T16:21:23.989Z"
   },
   {
    "duration": 0,
    "start_time": "2023-11-25T16:21:23.990Z"
   },
   {
    "duration": 0,
    "start_time": "2023-11-25T16:21:23.991Z"
   },
   {
    "duration": 0,
    "start_time": "2023-11-25T16:21:24.015Z"
   },
   {
    "duration": 0,
    "start_time": "2023-11-25T16:21:24.016Z"
   },
   {
    "duration": 0,
    "start_time": "2023-11-25T16:21:24.017Z"
   },
   {
    "duration": 0,
    "start_time": "2023-11-25T16:21:24.018Z"
   },
   {
    "duration": 0,
    "start_time": "2023-11-25T16:21:24.019Z"
   },
   {
    "duration": 0,
    "start_time": "2023-11-25T16:21:24.019Z"
   },
   {
    "duration": 0,
    "start_time": "2023-11-25T16:21:24.020Z"
   },
   {
    "duration": 0,
    "start_time": "2023-11-25T16:21:24.021Z"
   },
   {
    "duration": 0,
    "start_time": "2023-11-25T16:21:24.022Z"
   },
   {
    "duration": 0,
    "start_time": "2023-11-25T16:21:24.023Z"
   },
   {
    "duration": 0,
    "start_time": "2023-11-25T16:21:24.023Z"
   },
   {
    "duration": 0,
    "start_time": "2023-11-25T16:21:24.024Z"
   },
   {
    "duration": 0,
    "start_time": "2023-11-25T16:21:24.025Z"
   },
   {
    "duration": 0,
    "start_time": "2023-11-25T16:21:24.025Z"
   },
   {
    "duration": 0,
    "start_time": "2023-11-25T16:21:24.026Z"
   },
   {
    "duration": 0,
    "start_time": "2023-11-25T16:21:24.027Z"
   },
   {
    "duration": 0,
    "start_time": "2023-11-25T16:21:24.027Z"
   },
   {
    "duration": 0,
    "start_time": "2023-11-25T16:21:24.028Z"
   },
   {
    "duration": 0,
    "start_time": "2023-11-25T16:21:24.029Z"
   },
   {
    "duration": 0,
    "start_time": "2023-11-25T16:21:24.029Z"
   },
   {
    "duration": 0,
    "start_time": "2023-11-25T16:21:24.030Z"
   },
   {
    "duration": 0,
    "start_time": "2023-11-25T16:21:24.031Z"
   },
   {
    "duration": 0,
    "start_time": "2023-11-25T16:21:24.031Z"
   },
   {
    "duration": 0,
    "start_time": "2023-11-25T16:21:24.032Z"
   },
   {
    "duration": 0,
    "start_time": "2023-11-25T16:21:24.032Z"
   },
   {
    "duration": 0,
    "start_time": "2023-11-25T16:21:24.033Z"
   },
   {
    "duration": 0,
    "start_time": "2023-11-25T16:21:24.034Z"
   },
   {
    "duration": 0,
    "start_time": "2023-11-25T16:21:24.035Z"
   },
   {
    "duration": 0,
    "start_time": "2023-11-25T16:21:24.037Z"
   },
   {
    "duration": 0,
    "start_time": "2023-11-25T16:21:24.037Z"
   },
   {
    "duration": 0,
    "start_time": "2023-11-25T16:21:24.038Z"
   },
   {
    "duration": 0,
    "start_time": "2023-11-25T16:21:24.039Z"
   },
   {
    "duration": 0,
    "start_time": "2023-11-25T16:21:24.040Z"
   },
   {
    "duration": 0,
    "start_time": "2023-11-25T16:21:24.041Z"
   },
   {
    "duration": 0,
    "start_time": "2023-11-25T16:21:24.042Z"
   },
   {
    "duration": 0,
    "start_time": "2023-11-25T16:21:24.042Z"
   },
   {
    "duration": 0,
    "start_time": "2023-11-25T16:21:24.043Z"
   },
   {
    "duration": 0,
    "start_time": "2023-11-25T16:21:24.044Z"
   },
   {
    "duration": 0,
    "start_time": "2023-11-25T16:21:24.045Z"
   },
   {
    "duration": 0,
    "start_time": "2023-11-25T16:21:24.046Z"
   },
   {
    "duration": 0,
    "start_time": "2023-11-25T16:21:24.047Z"
   },
   {
    "duration": 0,
    "start_time": "2023-11-25T16:21:24.047Z"
   },
   {
    "duration": 0,
    "start_time": "2023-11-25T16:21:24.048Z"
   },
   {
    "duration": 0,
    "start_time": "2023-11-25T16:21:24.049Z"
   },
   {
    "duration": 0,
    "start_time": "2023-11-25T16:21:24.050Z"
   },
   {
    "duration": 0,
    "start_time": "2023-11-25T16:21:24.115Z"
   },
   {
    "duration": 0,
    "start_time": "2023-11-25T16:21:24.116Z"
   },
   {
    "duration": 0,
    "start_time": "2023-11-25T16:21:24.117Z"
   },
   {
    "duration": 0,
    "start_time": "2023-11-25T16:21:24.118Z"
   },
   {
    "duration": 0,
    "start_time": "2023-11-25T16:21:24.119Z"
   },
   {
    "duration": 0,
    "start_time": "2023-11-25T16:21:24.120Z"
   },
   {
    "duration": 0,
    "start_time": "2023-11-25T16:21:24.120Z"
   },
   {
    "duration": 0,
    "start_time": "2023-11-25T16:21:24.121Z"
   },
   {
    "duration": 0,
    "start_time": "2023-11-25T16:21:24.122Z"
   },
   {
    "duration": 0,
    "start_time": "2023-11-25T16:21:24.123Z"
   },
   {
    "duration": 153,
    "start_time": "2023-11-25T16:22:52.054Z"
   },
   {
    "duration": 370,
    "start_time": "2023-11-25T16:22:57.005Z"
   },
   {
    "duration": 134,
    "start_time": "2023-11-25T16:22:57.376Z"
   },
   {
    "duration": 11,
    "start_time": "2023-11-25T16:22:57.511Z"
   },
   {
    "duration": 4,
    "start_time": "2023-11-25T16:22:57.524Z"
   },
   {
    "duration": 2137,
    "start_time": "2023-11-25T16:22:57.529Z"
   },
   {
    "duration": 7,
    "start_time": "2023-11-25T16:22:59.668Z"
   },
   {
    "duration": 3,
    "start_time": "2023-11-25T16:22:59.676Z"
   },
   {
    "duration": 3,
    "start_time": "2023-11-25T16:22:59.680Z"
   },
   {
    "duration": 6,
    "start_time": "2023-11-25T16:22:59.684Z"
   },
   {
    "duration": 24,
    "start_time": "2023-11-25T16:22:59.692Z"
   },
   {
    "duration": 6,
    "start_time": "2023-11-25T16:22:59.717Z"
   },
   {
    "duration": 3,
    "start_time": "2023-11-25T16:22:59.724Z"
   },
   {
    "duration": 4,
    "start_time": "2023-11-25T16:22:59.728Z"
   },
   {
    "duration": 3,
    "start_time": "2023-11-25T16:22:59.733Z"
   },
   {
    "duration": 3,
    "start_time": "2023-11-25T16:22:59.737Z"
   },
   {
    "duration": 4,
    "start_time": "2023-11-25T16:22:59.741Z"
   },
   {
    "duration": 3,
    "start_time": "2023-11-25T16:22:59.746Z"
   },
   {
    "duration": 10,
    "start_time": "2023-11-25T16:22:59.750Z"
   },
   {
    "duration": 6,
    "start_time": "2023-11-25T16:22:59.761Z"
   },
   {
    "duration": 48,
    "start_time": "2023-11-25T16:22:59.768Z"
   },
   {
    "duration": 3,
    "start_time": "2023-11-25T16:22:59.818Z"
   },
   {
    "duration": 55,
    "start_time": "2023-11-25T16:22:59.823Z"
   },
   {
    "duration": 5,
    "start_time": "2023-11-25T16:22:59.879Z"
   },
   {
    "duration": 4,
    "start_time": "2023-11-25T16:22:59.885Z"
   },
   {
    "duration": 5,
    "start_time": "2023-11-25T16:22:59.890Z"
   },
   {
    "duration": 4,
    "start_time": "2023-11-25T16:22:59.914Z"
   },
   {
    "duration": 305,
    "start_time": "2023-11-25T16:22:59.919Z"
   },
   {
    "duration": 3,
    "start_time": "2023-11-25T16:23:00.228Z"
   },
   {
    "duration": 31,
    "start_time": "2023-11-25T16:23:00.233Z"
   },
   {
    "duration": 272,
    "start_time": "2023-11-25T16:23:00.266Z"
   },
   {
    "duration": 5,
    "start_time": "2023-11-25T16:23:00.539Z"
   },
   {
    "duration": 35,
    "start_time": "2023-11-25T16:23:00.545Z"
   },
   {
    "duration": 379,
    "start_time": "2023-11-25T16:23:00.581Z"
   },
   {
    "duration": 4,
    "start_time": "2023-11-25T16:23:00.961Z"
   },
   {
    "duration": 84,
    "start_time": "2023-11-25T16:23:00.966Z"
   },
   {
    "duration": 191,
    "start_time": "2023-11-25T16:23:01.051Z"
   },
   {
    "duration": 4,
    "start_time": "2023-11-25T16:23:01.243Z"
   },
   {
    "duration": 17,
    "start_time": "2023-11-25T16:23:01.248Z"
   },
   {
    "duration": 216,
    "start_time": "2023-11-25T16:23:01.266Z"
   },
   {
    "duration": 96,
    "start_time": "2023-11-25T16:23:01.483Z"
   },
   {
    "duration": 6,
    "start_time": "2023-11-25T16:23:01.580Z"
   },
   {
    "duration": 36,
    "start_time": "2023-11-25T16:23:01.587Z"
   },
   {
    "duration": 142,
    "start_time": "2023-11-25T16:23:01.625Z"
   },
   {
    "duration": 122,
    "start_time": "2023-11-25T16:23:01.768Z"
   },
   {
    "duration": 8,
    "start_time": "2023-11-25T16:23:01.891Z"
   },
   {
    "duration": 18,
    "start_time": "2023-11-25T16:23:01.900Z"
   },
   {
    "duration": 208,
    "start_time": "2023-11-25T16:23:01.920Z"
   },
   {
    "duration": 4,
    "start_time": "2023-11-25T16:23:02.129Z"
   },
   {
    "duration": 147,
    "start_time": "2023-11-25T16:23:02.134Z"
   },
   {
    "duration": 258,
    "start_time": "2023-11-25T16:23:02.282Z"
   },
   {
    "duration": 216,
    "start_time": "2023-11-25T16:23:02.541Z"
   },
   {
    "duration": 209,
    "start_time": "2023-11-25T16:23:02.758Z"
   },
   {
    "duration": 219,
    "start_time": "2023-11-25T16:23:02.968Z"
   },
   {
    "duration": 91,
    "start_time": "2023-11-25T16:23:03.188Z"
   },
   {
    "duration": 3,
    "start_time": "2023-11-25T16:23:03.280Z"
   },
   {
    "duration": 6,
    "start_time": "2023-11-25T16:23:03.284Z"
   },
   {
    "duration": 126,
    "start_time": "2023-11-25T16:23:03.291Z"
   },
   {
    "duration": 4,
    "start_time": "2023-11-25T16:23:03.418Z"
   },
   {
    "duration": 124,
    "start_time": "2023-11-25T16:23:03.423Z"
   },
   {
    "duration": 3,
    "start_time": "2023-11-25T16:23:03.548Z"
   },
   {
    "duration": 186,
    "start_time": "2023-11-25T16:23:03.552Z"
   },
   {
    "duration": 4,
    "start_time": "2023-11-25T16:23:03.739Z"
   },
   {
    "duration": 118,
    "start_time": "2023-11-25T16:23:03.744Z"
   },
   {
    "duration": 4,
    "start_time": "2023-11-25T16:23:03.863Z"
   },
   {
    "duration": 126,
    "start_time": "2023-11-25T16:23:03.868Z"
   },
   {
    "duration": 404,
    "start_time": "2023-11-25T16:23:03.996Z"
   },
   {
    "duration": 247,
    "start_time": "2023-11-25T16:23:04.401Z"
   },
   {
    "duration": 6,
    "start_time": "2023-11-25T16:23:04.650Z"
   },
   {
    "duration": 5,
    "start_time": "2023-11-25T16:23:04.657Z"
   },
   {
    "duration": 14,
    "start_time": "2023-11-25T16:23:04.664Z"
   },
   {
    "duration": 9,
    "start_time": "2023-11-25T16:23:04.679Z"
   },
   {
    "duration": 3,
    "start_time": "2023-11-25T16:23:04.715Z"
   },
   {
    "duration": 15,
    "start_time": "2023-11-25T16:23:04.720Z"
   },
   {
    "duration": 6,
    "start_time": "2023-11-25T16:23:04.737Z"
   },
   {
    "duration": 133,
    "start_time": "2023-11-25T16:23:04.744Z"
   },
   {
    "duration": 4,
    "start_time": "2023-11-25T16:23:04.879Z"
   },
   {
    "duration": 11,
    "start_time": "2023-11-25T16:38:26.766Z"
   },
   {
    "duration": 373,
    "start_time": "2023-11-27T18:00:26.155Z"
   },
   {
    "duration": 245,
    "start_time": "2023-11-27T18:00:26.529Z"
   },
   {
    "duration": 22,
    "start_time": "2023-11-27T18:00:26.776Z"
   },
   {
    "duration": 5,
    "start_time": "2023-11-27T18:00:26.810Z"
   },
   {
    "duration": 2803,
    "start_time": "2023-11-27T18:00:26.817Z"
   },
   {
    "duration": 13,
    "start_time": "2023-11-27T18:00:29.622Z"
   },
   {
    "duration": 5,
    "start_time": "2023-11-27T18:00:29.639Z"
   },
   {
    "duration": 22,
    "start_time": "2023-11-27T18:00:29.645Z"
   },
   {
    "duration": 19,
    "start_time": "2023-11-27T18:00:29.668Z"
   },
   {
    "duration": 49,
    "start_time": "2023-11-27T18:00:29.690Z"
   },
   {
    "duration": 3,
    "start_time": "2023-11-27T18:00:29.740Z"
   },
   {
    "duration": 14,
    "start_time": "2023-11-27T18:00:29.744Z"
   },
   {
    "duration": 21,
    "start_time": "2023-11-27T18:00:29.760Z"
   },
   {
    "duration": 16,
    "start_time": "2023-11-27T18:00:29.783Z"
   },
   {
    "duration": 19,
    "start_time": "2023-11-27T18:00:29.800Z"
   },
   {
    "duration": 10,
    "start_time": "2023-11-27T18:00:29.821Z"
   },
   {
    "duration": 11,
    "start_time": "2023-11-27T18:00:29.832Z"
   },
   {
    "duration": 18,
    "start_time": "2023-11-27T18:00:29.845Z"
   },
   {
    "duration": 27,
    "start_time": "2023-11-27T18:00:29.864Z"
   },
   {
    "duration": 17,
    "start_time": "2023-11-27T18:00:29.892Z"
   },
   {
    "duration": 18,
    "start_time": "2023-11-27T18:00:29.911Z"
   },
   {
    "duration": 17,
    "start_time": "2023-11-27T18:00:29.931Z"
   },
   {
    "duration": 16,
    "start_time": "2023-11-27T18:00:29.949Z"
   },
   {
    "duration": 79,
    "start_time": "2023-11-27T18:00:29.967Z"
   },
   {
    "duration": 22,
    "start_time": "2023-11-27T18:00:30.047Z"
   },
   {
    "duration": 10,
    "start_time": "2023-11-27T18:00:30.071Z"
   },
   {
    "duration": 19,
    "start_time": "2023-11-27T18:00:30.083Z"
   },
   {
    "duration": 26,
    "start_time": "2023-11-27T18:00:30.107Z"
   },
   {
    "duration": 19,
    "start_time": "2023-11-27T18:00:30.135Z"
   },
   {
    "duration": 344,
    "start_time": "2023-11-27T18:00:30.156Z"
   },
   {
    "duration": 11,
    "start_time": "2023-11-27T18:00:30.502Z"
   },
   {
    "duration": 36,
    "start_time": "2023-11-27T18:00:30.515Z"
   },
   {
    "duration": 289,
    "start_time": "2023-11-27T18:00:30.552Z"
   },
   {
    "duration": 6,
    "start_time": "2023-11-27T18:00:30.843Z"
   },
   {
    "duration": 37,
    "start_time": "2023-11-27T18:00:30.851Z"
   },
   {
    "duration": 472,
    "start_time": "2023-11-27T18:00:30.890Z"
   },
   {
    "duration": 7,
    "start_time": "2023-11-27T18:00:31.364Z"
   },
   {
    "duration": 35,
    "start_time": "2023-11-27T18:00:31.372Z"
   },
   {
    "duration": 202,
    "start_time": "2023-11-27T18:00:31.409Z"
   },
   {
    "duration": 6,
    "start_time": "2023-11-27T18:00:31.613Z"
   },
   {
    "duration": 22,
    "start_time": "2023-11-27T18:00:31.621Z"
   },
   {
    "duration": 296,
    "start_time": "2023-11-27T18:00:31.645Z"
   },
   {
    "duration": 122,
    "start_time": "2023-11-27T18:00:31.943Z"
   },
   {
    "duration": 6,
    "start_time": "2023-11-27T18:00:32.066Z"
   },
   {
    "duration": 31,
    "start_time": "2023-11-27T18:00:32.073Z"
   },
   {
    "duration": 177,
    "start_time": "2023-11-27T18:00:32.105Z"
   },
   {
    "duration": 154,
    "start_time": "2023-11-27T18:00:32.283Z"
   },
   {
    "duration": 9,
    "start_time": "2023-11-27T18:00:32.439Z"
   },
   {
    "duration": 19,
    "start_time": "2023-11-27T18:00:32.449Z"
   },
   {
    "duration": 309,
    "start_time": "2023-11-27T18:00:32.469Z"
   },
   {
    "duration": 6,
    "start_time": "2023-11-27T18:00:32.779Z"
   },
   {
    "duration": 187,
    "start_time": "2023-11-27T18:00:32.787Z"
   },
   {
    "duration": 279,
    "start_time": "2023-11-27T18:00:32.976Z"
   },
   {
    "duration": 296,
    "start_time": "2023-11-27T18:00:33.257Z"
   },
   {
    "duration": 286,
    "start_time": "2023-11-27T18:00:33.555Z"
   },
   {
    "duration": 3,
    "start_time": "2023-11-27T18:00:33.843Z"
   },
   {
    "duration": 291,
    "start_time": "2023-11-27T18:00:33.848Z"
   },
   {
    "duration": 129,
    "start_time": "2023-11-27T18:00:34.140Z"
   },
   {
    "duration": 5,
    "start_time": "2023-11-27T18:00:34.271Z"
   },
   {
    "duration": 9,
    "start_time": "2023-11-27T18:00:34.277Z"
   },
   {
    "duration": 173,
    "start_time": "2023-11-27T18:00:34.287Z"
   },
   {
    "duration": 6,
    "start_time": "2023-11-27T18:00:34.462Z"
   },
   {
    "duration": 248,
    "start_time": "2023-11-27T18:00:34.470Z"
   },
   {
    "duration": 6,
    "start_time": "2023-11-27T18:00:34.720Z"
   },
   {
    "duration": 159,
    "start_time": "2023-11-27T18:00:34.727Z"
   },
   {
    "duration": 4,
    "start_time": "2023-11-27T18:00:34.888Z"
   },
   {
    "duration": 144,
    "start_time": "2023-11-27T18:00:34.894Z"
   },
   {
    "duration": 5,
    "start_time": "2023-11-27T18:00:35.039Z"
   },
   {
    "duration": 159,
    "start_time": "2023-11-27T18:00:35.045Z"
   },
   {
    "duration": 476,
    "start_time": "2023-11-27T18:00:35.206Z"
   },
   {
    "duration": 488,
    "start_time": "2023-11-27T18:00:35.684Z"
   },
   {
    "duration": 6,
    "start_time": "2023-11-27T18:00:36.174Z"
   },
   {
    "duration": 38,
    "start_time": "2023-11-27T18:00:36.182Z"
   },
   {
    "duration": 16,
    "start_time": "2023-11-27T18:00:36.222Z"
   },
   {
    "duration": 4,
    "start_time": "2023-11-27T18:00:36.240Z"
   },
   {
    "duration": 45,
    "start_time": "2023-11-27T18:00:36.245Z"
   },
   {
    "duration": 24,
    "start_time": "2023-11-27T18:00:36.291Z"
   },
   {
    "duration": 145,
    "start_time": "2023-11-27T18:00:36.317Z"
   },
   {
    "duration": 5,
    "start_time": "2023-11-27T18:00:36.464Z"
   }
  ],
  "kernelspec": {
   "display_name": "Python 3 (ipykernel)",
   "language": "python",
   "name": "python3"
  },
  "language_info": {
   "codemirror_mode": {
    "name": "ipython",
    "version": 3
   },
   "file_extension": ".py",
   "mimetype": "text/x-python",
   "name": "python",
   "nbconvert_exporter": "python",
   "pygments_lexer": "ipython3",
   "version": "3.11.5"
  },
  "toc": {
   "base_numbering": 1,
   "nav_menu": {},
   "number_sections": true,
   "sideBar": true,
   "skip_h1_title": true,
   "title_cell": "Table of Contents",
   "title_sidebar": "Contents",
   "toc_cell": false,
   "toc_position": {},
   "toc_section_display": true,
   "toc_window_display": false
  }
 },
 "nbformat": 4,
 "nbformat_minor": 5
}
