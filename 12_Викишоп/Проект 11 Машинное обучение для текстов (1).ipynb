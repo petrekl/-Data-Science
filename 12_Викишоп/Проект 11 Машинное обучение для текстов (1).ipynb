{
 "cells": [
  {
   "cell_type": "markdown",
   "id": "d323a397",
   "metadata": {},
   "source": [
    "# Поиск токсичных комментариев"
   ]
  },
  {
   "cell_type": "markdown",
   "id": "a66d8d31",
   "metadata": {},
   "source": [
    "__Описание проекта__:   \n",
    "Интернет-магазин «Викишоп» запускает новый сервис. Теперь пользователи могут редактировать и дополнять описания товаров, как в вики-сообществах. То есть клиенты предлагают свои правки и комментируют изменения других. Магазину нужен инструмент, который будет искать токсичные комментарии и отправлять их на модерацию.  \n",
    "\n",
    "__Цель проекта__:  \n",
    "Обучите модель классифицировать комментарии на позитивные и негативные. В вашем распоряжении набор данных с разметкой о токсичности правок.\n",
    "Постройте модель со значением метрики качества F1 не меньше 0.75. \n",
    "\n",
    "__Ход исследования__:  \n",
    "Шаг 1. Загрузка данных  \n",
    "Шаг 2. Изучение данных    \n",
    "Шаг 3. Лемматизация  \n",
    "Шаг 4. Подготовка данных к обучению  \n",
    "Шаг 5. Обучение моделей   \n",
    "Шаг 6. Выводы\n",
    "\n",
    "\n"
   ]
  },
  {
   "cell_type": "code",
   "execution_count": null,
   "id": "f7bc11de",
   "metadata": {},
   "outputs": [],
   "source": [
    "#!pip install spacy\n",
    "#!python -m spacy download en_core_web_sm"
   ]
  },
  {
   "cell_type": "code",
   "execution_count": null,
   "id": "bef6f365",
   "metadata": {},
   "outputs": [],
   "source": [
    "import pandas as pd\n",
    "import numpy as np\n",
    "import nltk\n",
    "from nltk.tokenize import word_tokenize \n",
    "from nltk.stem import WordNetLemmatizer\n",
    "from nltk.corpus import stopwords\n",
    "import re\n",
    "import spacy\n",
    "import matplotlib.pyplot as plt\n",
    "from tqdm import tqdm\n",
    "from tqdm._tqdm_notebook import tqdm_notebook\n",
    "tqdm_notebook.pandas()\n",
    "from sklearn.feature_extraction.text import TfidfVectorizer\n",
    "from sklearn.model_selection import train_test_split\n",
    "from sklearn.linear_model import LogisticRegression\n",
    "from sklearn.metrics import f1_score\n",
    "from sklearn.tree import DecisionTreeClassifier\n",
    "from catboost import CatBoostClassifier\n",
    "from sklearn.model_selection import GridSearchCV"
   ]
  },
  {
   "cell_type": "markdown",
   "id": "432fa3d7",
   "metadata": {},
   "source": [
    "## Шаг 1. Загрузка данных"
   ]
  },
  {
   "cell_type": "code",
   "execution_count": null,
   "id": "f6c3c997",
   "metadata": {},
   "outputs": [],
   "source": [
    "data = pd.read_csv('https://code.s3.yandex.net/datasets/toxic_comments.csv', sep=',')\n",
    "data.head()"
   ]
  },
  {
   "cell_type": "markdown",
   "id": "a755b882",
   "metadata": {},
   "source": [
    "## Шаг 2. Изучение данных"
   ]
  },
  {
   "cell_type": "code",
   "execution_count": null,
   "id": "274fc4d6",
   "metadata": {},
   "outputs": [],
   "source": [
    "data.describe()"
   ]
  },
  {
   "cell_type": "code",
   "execution_count": null,
   "id": "236a7872",
   "metadata": {},
   "outputs": [],
   "source": [
    "data.info()"
   ]
  },
  {
   "cell_type": "code",
   "execution_count": null,
   "id": "dff88f13",
   "metadata": {},
   "outputs": [],
   "source": [
    "data.duplicated().sum()"
   ]
  },
  {
   "cell_type": "markdown",
   "id": "3fd82de6",
   "metadata": {},
   "source": [
    "Дубликатов в нашем датафрейме нет"
   ]
  },
  {
   "cell_type": "code",
   "execution_count": null,
   "id": "f09e9468",
   "metadata": {},
   "outputs": [],
   "source": [
    "data.isna().sum()"
   ]
  },
  {
   "cell_type": "markdown",
   "id": "81d2c507",
   "metadata": {},
   "source": [
    "Как нет и пропусков"
   ]
  },
  {
   "cell_type": "code",
   "execution_count": null,
   "id": "8fcb7940",
   "metadata": {},
   "outputs": [],
   "source": [
    "data['toxic'].value_counts(normalize=True)"
   ]
  },
  {
   "cell_type": "code",
   "execution_count": null,
   "id": "447f6ad1",
   "metadata": {},
   "outputs": [],
   "source": [
    "data['toxic'].value_counts().plot(kind = 'pie', autopct = '%.2f')\n",
    "plt.title('Отношение позитивных и токсичных комментариев')"
   ]
  },
  {
   "cell_type": "markdown",
   "id": "17bbec3f",
   "metadata": {},
   "source": [
    "Присутсвует дисбаланс классов"
   ]
  },
  {
   "cell_type": "markdown",
   "id": "b07d1b56",
   "metadata": {},
   "source": [
    "## Шаг 3. Лемматизация "
   ]
  },
  {
   "cell_type": "code",
   "execution_count": null,
   "id": "6b8ef332",
   "metadata": {},
   "outputs": [],
   "source": [
    "nltk.download('stopwords') \n",
    "nltk.download('punkt')\n",
    "nltk.download('wordnet')"
   ]
  },
  {
   "cell_type": "code",
   "execution_count": null,
   "id": "ea03bd7d",
   "metadata": {},
   "outputs": [],
   "source": [
    "def lemmatize(text, lemmatizer):\n",
    "    doc = lemmatizer(text)\n",
    "    lemm_text = \" \".join([token.lemma_ for token in doc])\n",
    "        \n",
    "    return lemm_text"
   ]
  },
  {
   "cell_type": "code",
   "execution_count": null,
   "id": "2d61a10a",
   "metadata": {},
   "outputs": [],
   "source": [
    "def clear(text):\n",
    "    cleaned = re.sub(r\"[^a-zA-Z\\' ]\", ' ', text)\n",
    "    return \" \".join(cleaned.split())"
   ]
  },
  {
   "cell_type": "code",
   "execution_count": null,
   "id": "733be1e1",
   "metadata": {},
   "outputs": [],
   "source": [
    "sp = spacy.load('en_core_web_sm', disable=['parser', 'ner'])\n"
   ]
  },
  {
   "cell_type": "code",
   "execution_count": null,
   "id": "80cb4a36",
   "metadata": {},
   "outputs": [],
   "source": [
    "data['predproc'] = data['text'].apply(lemmatize, lemmatizer=sp)"
   ]
  },
  {
   "cell_type": "code",
   "execution_count": null,
   "id": "e66bdc75",
   "metadata": {},
   "outputs": [],
   "source": [
    "data.head()"
   ]
  },
  {
   "cell_type": "code",
   "execution_count": null,
   "id": "b53b8c4a",
   "metadata": {},
   "outputs": [],
   "source": [
    "data['predproc'] = data['predproc'].apply(clear)"
   ]
  },
  {
   "cell_type": "code",
   "execution_count": null,
   "id": "2e899bdd",
   "metadata": {},
   "outputs": [],
   "source": [
    "data.drop('Unnamed: 0', axis=1, inplace=True)"
   ]
  },
  {
   "cell_type": "code",
   "execution_count": null,
   "id": "5b89b1b6",
   "metadata": {},
   "outputs": [],
   "source": [
    "data.head()"
   ]
  },
  {
   "cell_type": "markdown",
   "id": "84ec8cd9",
   "metadata": {},
   "source": [
    "Данные очищены от лишних символов, лемматизированы, векторизированы"
   ]
  },
  {
   "cell_type": "markdown",
   "id": "c1cd58b8",
   "metadata": {},
   "source": [
    "## Шаг 4.Подготовка данных к обучению"
   ]
  },
  {
   "cell_type": "code",
   "execution_count": null,
   "id": "d9bc89b2",
   "metadata": {},
   "outputs": [],
   "source": [
    "features = data['predproc']\n",
    "target = data['toxic']\n",
    "\n",
    "X_train, X_test, y_train, y_test = train_test_split(\n",
    "    features, target, test_size=0.25, random_state=88)\n",
    "X_train, X_val, y_train, y_val = train_test_split(X_train, y_train, test_size=0.25, random_state=88)\n",
    "print(X_train.shape, y_train.shape)\n",
    "print(X_test.shape, y_test.shape)\n",
    "print(X_val.shape, y_val.shape)"
   ]
  },
  {
   "cell_type": "code",
   "execution_count": null,
   "id": "58615944",
   "metadata": {},
   "outputs": [],
   "source": [
    "stop_words = set(stopwords.words('english'))\n",
    "count_tf_idf = TfidfVectorizer(stop_words=stop_words) "
   ]
  },
  {
   "cell_type": "code",
   "execution_count": null,
   "id": "33e3e527",
   "metadata": {},
   "outputs": [],
   "source": [
    "X_train_vector = count_tf_idf.fit_transform(X_train)\n",
    "X_test_vector = count_tf_idf.transform(X_test)\n",
    "X_val_vector = count_tf_idf.transform(X_val)"
   ]
  },
  {
   "cell_type": "markdown",
   "id": "14b34971",
   "metadata": {},
   "source": [
    "Созданы тренировочная, валидационная и тестовая выборки"
   ]
  },
  {
   "cell_type": "markdown",
   "id": "10ea8e37",
   "metadata": {},
   "source": [
    "## Шаг 5. Обучение моделей"
   ]
  },
  {
   "cell_type": "markdown",
   "id": "795992f8",
   "metadata": {},
   "source": [
    "Логистическая регрессия"
   ]
  },
  {
   "cell_type": "code",
   "execution_count": null,
   "id": "3a676ecd",
   "metadata": {},
   "outputs": [],
   "source": [
    "model_logistic = LogisticRegression()\n",
    "\n",
    "param_grid_logistic = {\n",
    "    'penalty': ['l2', 'none'],\n",
    "    'C': [5, 10, 15],\n",
    "}\n",
    "\n",
    "gs_logistic = GridSearchCV(\n",
    "    model_logistic,\n",
    "    param_grid=param_grid_logistic,\n",
    "    scoring='f1',\n",
    "    n_jobs=-1\n",
    ")\n",
    "\n",
    "gs_logistic.fit(X_train_vector, y_train)\n",
    "best_params_logistic = gs_logistic.best_params_\n",
    "print(f'best_score: {gs_logistic.best_score_}')\n",
    "\n",
    "print(f'best_params: {gs_logistic.best_params_}')"
   ]
  },
  {
   "cell_type": "code",
   "execution_count": null,
   "id": "30852d11",
   "metadata": {},
   "outputs": [],
   "source": [
    "best_model_lr =  LogisticRegression(**best_params_logistic)\n",
    "best_model_lr.fit(X_train_vector, y_train)"
   ]
  },
  {
   "cell_type": "code",
   "execution_count": null,
   "id": "ac47bfd8",
   "metadata": {},
   "outputs": [],
   "source": [
    "val_predictions_lr = best_model_lr.predict(X_val_vector)"
   ]
  },
  {
   "cell_type": "code",
   "execution_count": null,
   "id": "aa3f5e02",
   "metadata": {},
   "outputs": [],
   "source": [
    "f1_lr = f1_score(y_val, val_predictions_lr)\n",
    "f1_lr"
   ]
  },
  {
   "cell_type": "markdown",
   "id": "2751c375",
   "metadata": {},
   "source": [
    "модель DecisionTreeClassifier"
   ]
  },
  {
   "cell_type": "code",
   "execution_count": null,
   "id": "ae4d0051",
   "metadata": {},
   "outputs": [],
   "source": [
    "model_decision_tree = DecisionTreeClassifier()\n",
    "\n",
    "param_grid_decision_tree = {\n",
    "    'criterion': ['gini', 'entropy'],\n",
    "    'max_depth': [1, 10, 20, 30],\n",
    "}\n",
    "\n",
    "gs_decision_tree = GridSearchCV(\n",
    "    model_decision_tree,\n",
    "    param_grid=param_grid_decision_tree,\n",
    "    scoring='f1',\n",
    "    n_jobs=-1\n",
    ")\n",
    "\n",
    "gs_decision_tree.fit(X_train_vector, y_train)\n",
    "best_params_decision_tree = gs_decision_tree.best_params_\n",
    "print(f'best_score: {gs_decision_tree.best_score_}')\n",
    "\n",
    "print(f'best_params: {gs_decision_tree.best_params_}')"
   ]
  },
  {
   "cell_type": "code",
   "execution_count": null,
   "id": "0e442b44",
   "metadata": {},
   "outputs": [],
   "source": [
    "best_model_dt =  DecisionTreeClassifier(**best_params_decision_tree)\n",
    "best_model_dt.fit(X_train_vector, y_train)"
   ]
  },
  {
   "cell_type": "code",
   "execution_count": null,
   "id": "242ba5c0",
   "metadata": {},
   "outputs": [],
   "source": [
    "val_predictions_dt = best_model_dt.predict(X_val_vector)"
   ]
  },
  {
   "cell_type": "code",
   "execution_count": null,
   "id": "abfed974",
   "metadata": {},
   "outputs": [],
   "source": [
    "f1_dt = f1_score(y_val, val_predictions_dt)\n",
    "f1_dt"
   ]
  },
  {
   "cell_type": "markdown",
   "id": "d7a0da1b",
   "metadata": {},
   "source": [
    "модель CatBoostClassifier"
   ]
  },
  {
   "cell_type": "code",
   "execution_count": null,
   "id": "a8a4dca7",
   "metadata": {},
   "outputs": [],
   "source": [
    "model_catboost = CatBoostClassifier(auto_class_weights='Balanced')\n",
    "\n",
    "param_grid_catboost = {\n",
    "    'iterations': [10],\n",
    "    'learning_rate': [0.01]\n",
    "}\n",
    "\n",
    "gs_catboost = GridSearchCV(\n",
    "    model_catboost,\n",
    "    param_grid=param_grid_catboost,\n",
    "    scoring='f1',\n",
    "    n_jobs=-1\n",
    ")\n",
    "\n",
    "gs_catboost.fit(X_train_vector, y_train)\n",
    "best_params_catboost = gs_catboost.best_params_\n",
    "\n",
    "print(f'best_params: {gs_catboost.best_params_}')"
   ]
  },
  {
   "cell_type": "code",
   "execution_count": null,
   "id": "6320a891",
   "metadata": {},
   "outputs": [],
   "source": [
    "best_model_catboost =  CatBoostClassifier(**best_params_catboost)\n",
    "best_model_catboost.fit(X_train_vector, y_train)"
   ]
  },
  {
   "cell_type": "code",
   "execution_count": null,
   "id": "184acf35",
   "metadata": {},
   "outputs": [],
   "source": [
    "val_predictions_catboost = best_model_catboost.predict(X_val_vector)"
   ]
  },
  {
   "cell_type": "code",
   "execution_count": null,
   "id": "b154d803",
   "metadata": {},
   "outputs": [],
   "source": [
    "f1_catboost = f1_score(y_val, val_predictions_catboost)\n",
    "f1_catboost"
   ]
  },
  {
   "cell_type": "markdown",
   "id": "b104151b",
   "metadata": {},
   "source": [
    "Обучены три модели и для каждой подсчитано значение F1 меры на валидационной выборке"
   ]
  },
  {
   "cell_type": "markdown",
   "id": "b052495c",
   "metadata": {},
   "source": [
    "## Шаг 6 Выводы"
   ]
  },
  {
   "cell_type": "markdown",
   "id": "168fde52",
   "metadata": {},
   "source": [
    "Модель LogisticRegression показала лучший результат на валидационной выборке, проверим показатель F1 меры этой модели на тестовой выборке "
   ]
  },
  {
   "cell_type": "code",
   "execution_count": null,
   "id": "ab9337e2",
   "metadata": {},
   "outputs": [],
   "source": [
    "final_predictions = best_model_lr.predict(X_test_vector)\n",
    "f1_final = f1_score(y_test, final_predictions)\n",
    "f1_final"
   ]
  },
  {
   "cell_type": "markdown",
   "id": "11ac71f6",
   "metadata": {},
   "source": [
    "Модель LogisticRegression показала значение метрики F1 на тестовой выборке равное 0.7757197872730606, что проходит порог в 0.75"
   ]
  },
  {
   "cell_type": "markdown",
   "id": "766e0150",
   "metadata": {},
   "source": [
    "# Общий Вывод"
   ]
  },
  {
   "cell_type": "markdown",
   "id": "53f6bf4e",
   "metadata": {},
   "source": [
    "В этом проекте мы загрузили данные и провели их предобработку, обучили 3 модели с разлчиными гиперпараметрами и подсчитали для них значение метрики F1 на валидационной выборке.\n",
    "Лучшей оказалась LogisticRegression, для нее мы и подсчитали значение метрики F1 для тестовой выборки, получили результат в 0.7757197872730606, что больше 0.75 и удовлетворяет условию."
   ]
  },
  {
   "cell_type": "code",
   "execution_count": null,
   "id": "13c8c67a",
   "metadata": {},
   "outputs": [],
   "source": []
  }
 ],
 "metadata": {
  "kernelspec": {
   "display_name": "Python 3 (ipykernel)",
   "language": "python",
   "name": "python3"
  },
  "language_info": {
   "codemirror_mode": {
    "name": "ipython",
    "version": 3
   },
   "file_extension": ".py",
   "mimetype": "text/x-python",
   "name": "python",
   "nbconvert_exporter": "python",
   "pygments_lexer": "ipython3",
   "version": "3.11.5"
  },
  "toc": {
   "base_numbering": 1,
   "nav_menu": {},
   "number_sections": true,
   "sideBar": true,
   "skip_h1_title": true,
   "title_cell": "Table of Contents",
   "title_sidebar": "Contents",
   "toc_cell": false,
   "toc_position": {
    "height": "calc(100% - 180px)",
    "left": "10px",
    "top": "150px",
    "width": "195.391px"
   },
   "toc_section_display": true,
   "toc_window_display": true
  }
 },
 "nbformat": 4,
 "nbformat_minor": 5
}
