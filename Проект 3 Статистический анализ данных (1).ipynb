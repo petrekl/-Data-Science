{
 "cells": [
  {
   "cell_type": "markdown",
   "id": "9223bab1",
   "metadata": {},
   "source": [
    "__Анализ данных и проверка некоторых гипотез для сервиса аренды самокатов GoFast.__"
   ]
  },
  {
   "cell_type": "markdown",
   "id": "3ed1c4e6",
   "metadata": {},
   "source": [
    "__Заголовок:__ Анализ данных о клиентах и их поездках сервиса аренды самокатов GoFast. \n",
    "\n",
    "__Описание проекта:__ Сервисы аренды самокатов, вновь появившиеся на рынке, еще не имеют утвержденных стандартов и метрик, определяющих их эффективность и качество обслуживания. В связи с этим необходимость в аналитике данных становится крайне важной, поскольку она позволяет компаниям адаптироваться к изменчивым требованиям рынка и разрабатывать оптимальные стратегии для улучшения сервиса и удовлетворения потребностей пользователей.\n",
    "\n",
    "__Цель проекта:__ Проанализировать результаты исследований, направленных на выявление ключевых факторов влияния на бизнес-модель и эффективность сервиса аренды самокатов. В результате анализа гипотез, связанных с продолжительностью поездок, использованием подписок, оптимальным расстоянием, месячной выручкой и техническим обновлением, создать выводы и рекомендации для оптимизации стратегии компании.\n",
    "\n",
    "__Ход исследования:__\n",
    "Шаг 1. Загрузка данных\n",
    "Шаг 2. Предобработка данных\n",
    "Шаг 3. Исследовательский анализ данных\n",
    "Шаг 4. Объединение данных\n",
    "Шаг 5. Подсчёт выручки\n",
    "Шаг 6. Проверка гипотез\n",
    "\n",
    "__Общий вывод:__ резюмирование полученных результатов, формулировка ключевых выводов и рекомендаций.\n"
   ]
  },
  {
   "cell_type": "markdown",
   "id": "db88a9dc",
   "metadata": {},
   "source": [
    "__Шаг 1. Загрузка данных__"
   ]
  },
  {
   "cell_type": "markdown",
   "id": "7b0e94c0",
   "metadata": {},
   "source": [
    "1.1 Считывание CSV-файлов с данными и вывод первых строк каждого файла"
   ]
  },
  {
   "cell_type": "code",
   "execution_count": 1,
   "id": "c98df908",
   "metadata": {},
   "outputs": [],
   "source": [
    "import pandas as pd\n",
    "import math\n",
    "from scipy.stats import ttest_ind, ttest_1samp\n",
    "import matplotlib.pyplot as plt"
   ]
  },
  {
   "cell_type": "code",
   "execution_count": 2,
   "id": "fe9eda18",
   "metadata": {},
   "outputs": [
    {
     "data": {
      "text/html": [
       "<div>\n",
       "<style scoped>\n",
       "    .dataframe tbody tr th:only-of-type {\n",
       "        vertical-align: middle;\n",
       "    }\n",
       "\n",
       "    .dataframe tbody tr th {\n",
       "        vertical-align: top;\n",
       "    }\n",
       "\n",
       "    .dataframe thead th {\n",
       "        text-align: right;\n",
       "    }\n",
       "</style>\n",
       "<table border=\"1\" class=\"dataframe\">\n",
       "  <thead>\n",
       "    <tr style=\"text-align: right;\">\n",
       "      <th></th>\n",
       "      <th>user_id</th>\n",
       "      <th>name</th>\n",
       "      <th>age</th>\n",
       "      <th>city</th>\n",
       "      <th>subscription_type</th>\n",
       "    </tr>\n",
       "  </thead>\n",
       "  <tbody>\n",
       "    <tr>\n",
       "      <th>0</th>\n",
       "      <td>1</td>\n",
       "      <td>Кира</td>\n",
       "      <td>22</td>\n",
       "      <td>Тюмень</td>\n",
       "      <td>ultra</td>\n",
       "    </tr>\n",
       "    <tr>\n",
       "      <th>1</th>\n",
       "      <td>2</td>\n",
       "      <td>Станислав</td>\n",
       "      <td>31</td>\n",
       "      <td>Омск</td>\n",
       "      <td>ultra</td>\n",
       "    </tr>\n",
       "    <tr>\n",
       "      <th>2</th>\n",
       "      <td>3</td>\n",
       "      <td>Алексей</td>\n",
       "      <td>20</td>\n",
       "      <td>Москва</td>\n",
       "      <td>ultra</td>\n",
       "    </tr>\n",
       "    <tr>\n",
       "      <th>3</th>\n",
       "      <td>4</td>\n",
       "      <td>Константин</td>\n",
       "      <td>26</td>\n",
       "      <td>Ростов-на-Дону</td>\n",
       "      <td>ultra</td>\n",
       "    </tr>\n",
       "    <tr>\n",
       "      <th>4</th>\n",
       "      <td>5</td>\n",
       "      <td>Адель</td>\n",
       "      <td>28</td>\n",
       "      <td>Омск</td>\n",
       "      <td>ultra</td>\n",
       "    </tr>\n",
       "  </tbody>\n",
       "</table>\n",
       "</div>"
      ],
      "text/plain": [
       "   user_id        name  age            city subscription_type\n",
       "0        1        Кира   22          Тюмень             ultra\n",
       "1        2   Станислав   31            Омск             ultra\n",
       "2        3     Алексей   20          Москва             ultra\n",
       "3        4  Константин   26  Ростов-на-Дону             ultra\n",
       "4        5       Адель   28            Омск             ultra"
      ]
     },
     "metadata": {},
     "output_type": "display_data"
    }
   ],
   "source": [
    "data_users = pd.read_csv('https://code.s3.yandex.net/datasets/users_go.csv', sep=',')\n",
    "display(data_users.head(5))"
   ]
  },
  {
   "cell_type": "code",
   "execution_count": 3,
   "id": "00431d8e",
   "metadata": {},
   "outputs": [
    {
     "data": {
      "text/html": [
       "<div>\n",
       "<style scoped>\n",
       "    .dataframe tbody tr th:only-of-type {\n",
       "        vertical-align: middle;\n",
       "    }\n",
       "\n",
       "    .dataframe tbody tr th {\n",
       "        vertical-align: top;\n",
       "    }\n",
       "\n",
       "    .dataframe thead th {\n",
       "        text-align: right;\n",
       "    }\n",
       "</style>\n",
       "<table border=\"1\" class=\"dataframe\">\n",
       "  <thead>\n",
       "    <tr style=\"text-align: right;\">\n",
       "      <th></th>\n",
       "      <th>user_id</th>\n",
       "      <th>distance</th>\n",
       "      <th>duration</th>\n",
       "      <th>date</th>\n",
       "    </tr>\n",
       "  </thead>\n",
       "  <tbody>\n",
       "    <tr>\n",
       "      <th>0</th>\n",
       "      <td>1</td>\n",
       "      <td>4409.919140</td>\n",
       "      <td>25.599769</td>\n",
       "      <td>2021-01-01</td>\n",
       "    </tr>\n",
       "    <tr>\n",
       "      <th>1</th>\n",
       "      <td>1</td>\n",
       "      <td>2617.592153</td>\n",
       "      <td>15.816871</td>\n",
       "      <td>2021-01-18</td>\n",
       "    </tr>\n",
       "    <tr>\n",
       "      <th>2</th>\n",
       "      <td>1</td>\n",
       "      <td>754.159807</td>\n",
       "      <td>6.232113</td>\n",
       "      <td>2021-04-20</td>\n",
       "    </tr>\n",
       "    <tr>\n",
       "      <th>3</th>\n",
       "      <td>1</td>\n",
       "      <td>2694.783254</td>\n",
       "      <td>18.511000</td>\n",
       "      <td>2021-08-11</td>\n",
       "    </tr>\n",
       "    <tr>\n",
       "      <th>4</th>\n",
       "      <td>1</td>\n",
       "      <td>4028.687306</td>\n",
       "      <td>26.265803</td>\n",
       "      <td>2021-08-28</td>\n",
       "    </tr>\n",
       "  </tbody>\n",
       "</table>\n",
       "</div>"
      ],
      "text/plain": [
       "   user_id     distance   duration        date\n",
       "0        1  4409.919140  25.599769  2021-01-01\n",
       "1        1  2617.592153  15.816871  2021-01-18\n",
       "2        1   754.159807   6.232113  2021-04-20\n",
       "3        1  2694.783254  18.511000  2021-08-11\n",
       "4        1  4028.687306  26.265803  2021-08-28"
      ]
     },
     "metadata": {},
     "output_type": "display_data"
    }
   ],
   "source": [
    "data_rides = pd.read_csv('https://code.s3.yandex.net/datasets/rides_go.csv', sep=',')\n",
    "display(data_rides.head(5))"
   ]
  },
  {
   "cell_type": "code",
   "execution_count": 4,
   "id": "85c1e01f",
   "metadata": {},
   "outputs": [
    {
     "data": {
      "text/html": [
       "<div>\n",
       "<style scoped>\n",
       "    .dataframe tbody tr th:only-of-type {\n",
       "        vertical-align: middle;\n",
       "    }\n",
       "\n",
       "    .dataframe tbody tr th {\n",
       "        vertical-align: top;\n",
       "    }\n",
       "\n",
       "    .dataframe thead th {\n",
       "        text-align: right;\n",
       "    }\n",
       "</style>\n",
       "<table border=\"1\" class=\"dataframe\">\n",
       "  <thead>\n",
       "    <tr style=\"text-align: right;\">\n",
       "      <th></th>\n",
       "      <th>subscription_type</th>\n",
       "      <th>minute_price</th>\n",
       "      <th>start_ride_price</th>\n",
       "      <th>subscription_fee</th>\n",
       "    </tr>\n",
       "  </thead>\n",
       "  <tbody>\n",
       "    <tr>\n",
       "      <th>0</th>\n",
       "      <td>free</td>\n",
       "      <td>8</td>\n",
       "      <td>50</td>\n",
       "      <td>0</td>\n",
       "    </tr>\n",
       "    <tr>\n",
       "      <th>1</th>\n",
       "      <td>ultra</td>\n",
       "      <td>6</td>\n",
       "      <td>0</td>\n",
       "      <td>199</td>\n",
       "    </tr>\n",
       "  </tbody>\n",
       "</table>\n",
       "</div>"
      ],
      "text/plain": [
       "  subscription_type  minute_price  start_ride_price  subscription_fee\n",
       "0              free             8                50                 0\n",
       "1             ultra             6                 0               199"
      ]
     },
     "metadata": {},
     "output_type": "display_data"
    }
   ],
   "source": [
    "data_subscriptions = pd.read_csv('https://code.s3.yandex.net/datasets/subscriptions_go.csv', sep=',')\n",
    "display(data_subscriptions)"
   ]
  },
  {
   "cell_type": "markdown",
   "id": "d1125de9",
   "metadata": {},
   "source": [
    "1.2 Изучение общей информации о каждом файле"
   ]
  },
  {
   "cell_type": "code",
   "execution_count": 5,
   "id": "09b2fa68",
   "metadata": {},
   "outputs": [
    {
     "name": "stdout",
     "output_type": "stream",
     "text": [
      "<class 'pandas.core.frame.DataFrame'>\n",
      "RangeIndex: 1565 entries, 0 to 1564\n",
      "Data columns (total 5 columns):\n",
      " #   Column             Non-Null Count  Dtype \n",
      "---  ------             --------------  ----- \n",
      " 0   user_id            1565 non-null   int64 \n",
      " 1   name               1565 non-null   object\n",
      " 2   age                1565 non-null   int64 \n",
      " 3   city               1565 non-null   object\n",
      " 4   subscription_type  1565 non-null   object\n",
      "dtypes: int64(2), object(3)\n",
      "memory usage: 61.3+ KB\n"
     ]
    },
    {
     "data": {
      "text/plain": [
       "None"
      ]
     },
     "metadata": {},
     "output_type": "display_data"
    }
   ],
   "source": [
    "display(data_users.info())"
   ]
  },
  {
   "cell_type": "markdown",
   "id": "66b1f5cf",
   "metadata": {},
   "source": [
    "Пользователи — users_go.csv\n",
    "\n",
    "user_id  -  уникальный идентификатор пользователя\n",
    "\n",
    "name  -  имя пользователя\n",
    "\n",
    "age  -  возраст\n",
    "\n",
    "city  -  город\n",
    "\n",
    "subscription_type  -  тип подписки (free, ultra)"
   ]
  },
  {
   "cell_type": "code",
   "execution_count": 6,
   "id": "d31b2338",
   "metadata": {},
   "outputs": [
    {
     "name": "stdout",
     "output_type": "stream",
     "text": [
      "<class 'pandas.core.frame.DataFrame'>\n",
      "RangeIndex: 18068 entries, 0 to 18067\n",
      "Data columns (total 4 columns):\n",
      " #   Column    Non-Null Count  Dtype  \n",
      "---  ------    --------------  -----  \n",
      " 0   user_id   18068 non-null  int64  \n",
      " 1   distance  18068 non-null  float64\n",
      " 2   duration  18068 non-null  float64\n",
      " 3   date      18068 non-null  object \n",
      "dtypes: float64(2), int64(1), object(1)\n",
      "memory usage: 564.8+ KB\n"
     ]
    },
    {
     "data": {
      "text/plain": [
       "None"
      ]
     },
     "metadata": {},
     "output_type": "display_data"
    }
   ],
   "source": [
    "display(data_rides.info())"
   ]
  },
  {
   "cell_type": "markdown",
   "id": "0bca2313",
   "metadata": {},
   "source": [
    "Поездки  -  rides_go.csv\n",
    "\n",
    "user_id  -  уникальный идентификатор пользователя\n",
    "\n",
    "distance  -  расстояние, которое пользователь проехал в текущей сессии (в метрах)\n",
    "\n",
    "duratio  -  продолжительность сессии (в минутах) — время с того момента, как пользователь нажал кнопку «Начать поездку» до момента, как он нажал кнопку «Завершить поездку»\n",
    "\n",
    "date  -  дата совершения поездки"
   ]
  },
  {
   "cell_type": "code",
   "execution_count": 7,
   "id": "6f5a66ec",
   "metadata": {},
   "outputs": [
    {
     "name": "stdout",
     "output_type": "stream",
     "text": [
      "<class 'pandas.core.frame.DataFrame'>\n",
      "RangeIndex: 2 entries, 0 to 1\n",
      "Data columns (total 4 columns):\n",
      " #   Column             Non-Null Count  Dtype \n",
      "---  ------             --------------  ----- \n",
      " 0   subscription_type  2 non-null      object\n",
      " 1   minute_price       2 non-null      int64 \n",
      " 2   start_ride_price   2 non-null      int64 \n",
      " 3   subscription_fee   2 non-null      int64 \n",
      "dtypes: int64(3), object(1)\n",
      "memory usage: 192.0+ bytes\n"
     ]
    },
    {
     "data": {
      "text/plain": [
       "None"
      ]
     },
     "metadata": {},
     "output_type": "display_data"
    }
   ],
   "source": [
    "display(data_subscriptions.info())"
   ]
  },
  {
   "cell_type": "markdown",
   "id": "b39739ae",
   "metadata": {},
   "source": [
    "Подписки  -  subscriptions_go.csv\n",
    "\n",
    "subscription_type  -  тип подписки\n",
    "\n",
    "minute_price  -  стоимость одной минуты поездки по данной подписке\n",
    "\n",
    "start_ride_price  -  стоимость начала поездки\n",
    "\n",
    "subscription_fee  -  стоимость ежемесячного платежа"
   ]
  },
  {
   "cell_type": "markdown",
   "id": "ab663e24",
   "metadata": {},
   "source": [
    "__Шаг 2. Предобработка данных__"
   ]
  },
  {
   "cell_type": "markdown",
   "id": "d6d42ff7",
   "metadata": {},
   "source": [
    "2.1 Приведем стобец data к типу даты pandas"
   ]
  },
  {
   "cell_type": "code",
   "execution_count": 8,
   "id": "63c1c8cf",
   "metadata": {},
   "outputs": [
    {
     "data": {
      "text/plain": [
       "0    2021-01-01\n",
       "1    2021-01-18\n",
       "2    2021-04-20\n",
       "3    2021-08-11\n",
       "4    2021-08-28\n",
       "Name: date, dtype: object"
      ]
     },
     "metadata": {},
     "output_type": "display_data"
    }
   ],
   "source": [
    "display(data_rides['date'].head(5))"
   ]
  },
  {
   "cell_type": "code",
   "execution_count": 9,
   "id": "1139c7ef",
   "metadata": {},
   "outputs": [],
   "source": [
    "data_rides['date'] = pd.to_datetime(\n",
    "    data_rides['date'], format='%Y-%m-%d')"
   ]
  },
  {
   "cell_type": "code",
   "execution_count": 10,
   "id": "add609df",
   "metadata": {},
   "outputs": [
    {
     "name": "stdout",
     "output_type": "stream",
     "text": [
      "<class 'pandas.core.frame.DataFrame'>\n",
      "RangeIndex: 18068 entries, 0 to 18067\n",
      "Data columns (total 4 columns):\n",
      " #   Column    Non-Null Count  Dtype         \n",
      "---  ------    --------------  -----         \n",
      " 0   user_id   18068 non-null  int64         \n",
      " 1   distance  18068 non-null  float64       \n",
      " 2   duration  18068 non-null  float64       \n",
      " 3   date      18068 non-null  datetime64[ns]\n",
      "dtypes: datetime64[ns](1), float64(2), int64(1)\n",
      "memory usage: 564.8 KB\n"
     ]
    },
    {
     "data": {
      "text/plain": [
       "None"
      ]
     },
     "metadata": {},
     "output_type": "display_data"
    }
   ],
   "source": [
    "display(data_rides.info())"
   ]
  },
  {
   "cell_type": "markdown",
   "id": "c9f2dd6c",
   "metadata": {},
   "source": [
    "2.2 Создание нового столбца с номером месяца"
   ]
  },
  {
   "cell_type": "code",
   "execution_count": 11,
   "id": "27b9c059",
   "metadata": {},
   "outputs": [],
   "source": [
    "data_rides['month'] = data_rides['date'].dt.month"
   ]
  },
  {
   "cell_type": "code",
   "execution_count": 12,
   "id": "b4ce5414",
   "metadata": {},
   "outputs": [
    {
     "data": {
      "text/html": [
       "<div>\n",
       "<style scoped>\n",
       "    .dataframe tbody tr th:only-of-type {\n",
       "        vertical-align: middle;\n",
       "    }\n",
       "\n",
       "    .dataframe tbody tr th {\n",
       "        vertical-align: top;\n",
       "    }\n",
       "\n",
       "    .dataframe thead th {\n",
       "        text-align: right;\n",
       "    }\n",
       "</style>\n",
       "<table border=\"1\" class=\"dataframe\">\n",
       "  <thead>\n",
       "    <tr style=\"text-align: right;\">\n",
       "      <th></th>\n",
       "      <th>user_id</th>\n",
       "      <th>distance</th>\n",
       "      <th>duration</th>\n",
       "      <th>date</th>\n",
       "      <th>month</th>\n",
       "    </tr>\n",
       "  </thead>\n",
       "  <tbody>\n",
       "    <tr>\n",
       "      <th>0</th>\n",
       "      <td>1</td>\n",
       "      <td>4409.919140</td>\n",
       "      <td>25.599769</td>\n",
       "      <td>2021-01-01</td>\n",
       "      <td>1</td>\n",
       "    </tr>\n",
       "    <tr>\n",
       "      <th>1</th>\n",
       "      <td>1</td>\n",
       "      <td>2617.592153</td>\n",
       "      <td>15.816871</td>\n",
       "      <td>2021-01-18</td>\n",
       "      <td>1</td>\n",
       "    </tr>\n",
       "    <tr>\n",
       "      <th>2</th>\n",
       "      <td>1</td>\n",
       "      <td>754.159807</td>\n",
       "      <td>6.232113</td>\n",
       "      <td>2021-04-20</td>\n",
       "      <td>4</td>\n",
       "    </tr>\n",
       "    <tr>\n",
       "      <th>3</th>\n",
       "      <td>1</td>\n",
       "      <td>2694.783254</td>\n",
       "      <td>18.511000</td>\n",
       "      <td>2021-08-11</td>\n",
       "      <td>8</td>\n",
       "    </tr>\n",
       "    <tr>\n",
       "      <th>4</th>\n",
       "      <td>1</td>\n",
       "      <td>4028.687306</td>\n",
       "      <td>26.265803</td>\n",
       "      <td>2021-08-28</td>\n",
       "      <td>8</td>\n",
       "    </tr>\n",
       "  </tbody>\n",
       "</table>\n",
       "</div>"
      ],
      "text/plain": [
       "   user_id     distance   duration       date  month\n",
       "0        1  4409.919140  25.599769 2021-01-01      1\n",
       "1        1  2617.592153  15.816871 2021-01-18      1\n",
       "2        1   754.159807   6.232113 2021-04-20      4\n",
       "3        1  2694.783254  18.511000 2021-08-11      8\n",
       "4        1  4028.687306  26.265803 2021-08-28      8"
      ]
     },
     "metadata": {},
     "output_type": "display_data"
    }
   ],
   "source": [
    "display(data_rides.head(5))"
   ]
  },
  {
   "cell_type": "markdown",
   "id": "8fe613f4",
   "metadata": {},
   "source": [
    "2.3 Проверка наличия пропущенных значений и дубликатов в датафреймах"
   ]
  },
  {
   "cell_type": "code",
   "execution_count": 13,
   "id": "7e8ae26e",
   "metadata": {},
   "outputs": [
    {
     "data": {
      "text/plain": [
       "user_id              0\n",
       "name                 0\n",
       "age                  0\n",
       "city                 0\n",
       "subscription_type    0\n",
       "dtype: int64"
      ]
     },
     "execution_count": 13,
     "metadata": {},
     "output_type": "execute_result"
    }
   ],
   "source": [
    "data_users.isna().sum().sort_values(ascending = False)"
   ]
  },
  {
   "cell_type": "code",
   "execution_count": 14,
   "id": "7139bbf8",
   "metadata": {},
   "outputs": [
    {
     "data": {
      "text/plain": [
       "user_id     0\n",
       "distance    0\n",
       "duration    0\n",
       "date        0\n",
       "month       0\n",
       "dtype: int64"
      ]
     },
     "execution_count": 14,
     "metadata": {},
     "output_type": "execute_result"
    }
   ],
   "source": [
    "data_rides.isna().sum().sort_values(ascending = False)"
   ]
  },
  {
   "cell_type": "code",
   "execution_count": 15,
   "id": "f0f02c5b",
   "metadata": {},
   "outputs": [
    {
     "data": {
      "text/plain": [
       "subscription_type    0\n",
       "minute_price         0\n",
       "start_ride_price     0\n",
       "subscription_fee     0\n",
       "dtype: int64"
      ]
     },
     "execution_count": 15,
     "metadata": {},
     "output_type": "execute_result"
    }
   ],
   "source": [
    "data_subscriptions.isna().sum().sort_values(ascending = False)"
   ]
  },
  {
   "cell_type": "markdown",
   "id": "4be10197",
   "metadata": {},
   "source": [
    "Пропущенных значений нет\n",
    "\n",
    "Приступим к поиску дубликатов\n",
    "\n",
    "Заметим, что в первых двух таблицах не должно быть дубликатов, ведь  в перовй таблице есть уникальный для каждой строчки праметр user_id, а для второй таблицы есть вероятность того, что один и тот же пользователь в одну и ту же дату взял самокат и проехал одинаковое расстояние по времени и расстоянию, но такое очень маловероятно ведь время и дистанция поездки считаются очень точно( с несколькими цифрами после запятой). В третей же таблице дубликатов быть не может, ведь там всего 2 строчки."
   ]
  },
  {
   "cell_type": "code",
   "execution_count": 16,
   "id": "2bc7abb9",
   "metadata": {},
   "outputs": [
    {
     "name": "stdout",
     "output_type": "stream",
     "text": [
      "31\n"
     ]
    }
   ],
   "source": [
    "print(data_users.duplicated().sum())"
   ]
  },
  {
   "cell_type": "code",
   "execution_count": 17,
   "id": "e580eba7",
   "metadata": {},
   "outputs": [],
   "source": [
    "data_users = data_users.drop_duplicates().reset_index(drop=True)"
   ]
  },
  {
   "cell_type": "code",
   "execution_count": 18,
   "id": "6509ae9c",
   "metadata": {},
   "outputs": [
    {
     "name": "stdout",
     "output_type": "stream",
     "text": [
      "0\n"
     ]
    }
   ],
   "source": [
    "print(data_users.duplicated().sum())"
   ]
  },
  {
   "cell_type": "code",
   "execution_count": 19,
   "id": "3bae2d8e",
   "metadata": {},
   "outputs": [
    {
     "name": "stdout",
     "output_type": "stream",
     "text": [
      "0\n"
     ]
    }
   ],
   "source": [
    "print(data_rides.duplicated().sum())"
   ]
  },
  {
   "cell_type": "markdown",
   "id": "11da8289",
   "metadata": {},
   "source": [
    "Явные дубликаты удалили, теперь приступим к поиску неявных дубликатов"
   ]
  },
  {
   "cell_type": "code",
   "execution_count": 20,
   "id": "e060dfec",
   "metadata": {},
   "outputs": [
    {
     "name": "stdout",
     "output_type": "stream",
     "text": [
      "['Тюмень' 'Омск' 'Москва' 'Ростов-на-Дону' 'Краснодар' 'Пятигорск'\n",
      " 'Екатеринбург' 'Сочи']\n"
     ]
    }
   ],
   "source": [
    "print(data_users['city'].unique())"
   ]
  },
  {
   "cell_type": "code",
   "execution_count": 21,
   "id": "d3b24080",
   "metadata": {},
   "outputs": [
    {
     "name": "stdout",
     "output_type": "stream",
     "text": [
      "['Агата', 'Аделина', 'Адель', 'Айдар', 'Александр', 'Александра', 'Алексей', 'Алина', 'Алиса', 'Алия', 'Алла', 'Альберт', 'Альбина', 'Алёна', 'Амалия', 'Амина', 'Амир', 'Анастасия', 'Анатолий', 'Ангелина', 'Андрей', 'Анжелика', 'Анна', 'Антон', 'Антонина', 'Ариана', 'Арина', 'Арсен', 'Арсений', 'Артемий', 'Артур', 'Артём', 'Богдан', 'Борис', 'Вадим', 'Валентина', 'Валерий', 'Валерия', 'Варвара', 'Василий', 'Василина', 'Василиса', 'Вера', 'Вероника', 'Виктор', 'Виктория', 'Виолетта', 'Виталий', 'Виталина', 'Влад', 'Влада', 'Владимир', 'Владислав', 'Владислава', 'Всеволод', 'Вячеслав', 'Галина', 'Георгий', 'Герман', 'Глеб', 'Гордей', 'Григорий', 'Давид', 'Дамир', 'Даниил', 'Данил', 'Данила', 'Даниэль', 'Дарина', 'Дарья', 'Демид', 'Денис', 'Диана', 'Дмитрий', 'Ева', 'Евгений', 'Евгения', 'Егор', 'Екатерина', 'Елена', 'Елизавета', 'Елисей', 'Есения', 'Жанна', 'Зарина', 'Захар', 'Злата', 'Иван', 'Игнат', 'Игорь', 'Ильдар', 'Илья', 'Инна', 'Ирина', 'Камилла', 'Карина', 'Каролина', 'Кира', 'Кирилл', 'Константин', 'Кристина', 'Ксения', 'Лариса', 'Лев', 'Леонид', 'Лиана', 'Лидия', 'Лилия', 'Любовь', 'Людмила', 'Мадина', 'Майя', 'Макар', 'Максим', 'Марат', 'Маргарита', 'Марина', 'Мария', 'Марк', 'Марсель', 'Матвей', 'Мелания', 'Милана', 'Милена', 'Мирон', 'Мирослав', 'Мирослава', 'Михаил', 'Назар', 'Наталия', 'Наталья', 'Наташа', 'Нелли', 'Ника', 'Никита', 'Николай', 'Нина', 'Одиссей', 'Оксана', 'Олег', 'Олеся', 'Ольга', 'Павел', 'Петр', 'Платон', 'Полина', 'Радмир', 'Рамиль', 'Регина', 'Роберт', 'Родион', 'Роман', 'Ростислав', 'Руслан', 'Рустам', 'Савелий', 'Самир', 'Самира', 'Светлана', 'Святогор', 'Святослав', 'Семен', 'Сергей', 'Снежана', 'София', 'Софья', 'Станислав', 'Степан', 'Стефания', 'Таисия', 'Тамара', 'Тамерлан', 'Татьяна', 'Тимофей', 'Тимур', 'Тихон', 'Ульяна', 'Федор', 'Эвелина', 'Эдуард', 'Элина', 'Эльвира', 'Эльмира', 'Эмилия', 'Эмиль', 'Юлиана', 'Юлия', 'Юрий', 'Ян', 'Яна', 'Яромир', 'Ярослав', 'Ярослава', 'Ясмина']\n"
     ]
    }
   ],
   "source": [
    "print(sorted(data_users['name'].unique()))"
   ]
  },
  {
   "cell_type": "markdown",
   "id": "1066012e",
   "metadata": {},
   "source": [
    "Неявных дубликтов не было обнаружено "
   ]
  },
  {
   "cell_type": "code",
   "execution_count": 22,
   "id": "26ce0a49",
   "metadata": {},
   "outputs": [
    {
     "data": {
      "text/html": [
       "<div>\n",
       "<style scoped>\n",
       "    .dataframe tbody tr th:only-of-type {\n",
       "        vertical-align: middle;\n",
       "    }\n",
       "\n",
       "    .dataframe tbody tr th {\n",
       "        vertical-align: top;\n",
       "    }\n",
       "\n",
       "    .dataframe thead th {\n",
       "        text-align: right;\n",
       "    }\n",
       "</style>\n",
       "<table border=\"1\" class=\"dataframe\">\n",
       "  <thead>\n",
       "    <tr style=\"text-align: right;\">\n",
       "      <th></th>\n",
       "      <th>user_id</th>\n",
       "      <th>distance</th>\n",
       "      <th>duration</th>\n",
       "      <th>date</th>\n",
       "      <th>month</th>\n",
       "      <th>disatnce</th>\n",
       "    </tr>\n",
       "  </thead>\n",
       "  <tbody>\n",
       "    <tr>\n",
       "      <th>0</th>\n",
       "      <td>1</td>\n",
       "      <td>4409.919140</td>\n",
       "      <td>25.599769</td>\n",
       "      <td>2021-01-01</td>\n",
       "      <td>1</td>\n",
       "      <td>4410.0</td>\n",
       "    </tr>\n",
       "    <tr>\n",
       "      <th>1</th>\n",
       "      <td>1</td>\n",
       "      <td>2617.592153</td>\n",
       "      <td>15.816871</td>\n",
       "      <td>2021-01-18</td>\n",
       "      <td>1</td>\n",
       "      <td>2618.0</td>\n",
       "    </tr>\n",
       "    <tr>\n",
       "      <th>2</th>\n",
       "      <td>1</td>\n",
       "      <td>754.159807</td>\n",
       "      <td>6.232113</td>\n",
       "      <td>2021-04-20</td>\n",
       "      <td>4</td>\n",
       "      <td>754.0</td>\n",
       "    </tr>\n",
       "    <tr>\n",
       "      <th>3</th>\n",
       "      <td>1</td>\n",
       "      <td>2694.783254</td>\n",
       "      <td>18.511000</td>\n",
       "      <td>2021-08-11</td>\n",
       "      <td>8</td>\n",
       "      <td>2695.0</td>\n",
       "    </tr>\n",
       "    <tr>\n",
       "      <th>4</th>\n",
       "      <td>1</td>\n",
       "      <td>4028.687306</td>\n",
       "      <td>26.265803</td>\n",
       "      <td>2021-08-28</td>\n",
       "      <td>8</td>\n",
       "      <td>4029.0</td>\n",
       "    </tr>\n",
       "    <tr>\n",
       "      <th>5</th>\n",
       "      <td>1</td>\n",
       "      <td>2770.890808</td>\n",
       "      <td>16.650138</td>\n",
       "      <td>2021-10-09</td>\n",
       "      <td>10</td>\n",
       "      <td>2771.0</td>\n",
       "    </tr>\n",
       "    <tr>\n",
       "      <th>6</th>\n",
       "      <td>1</td>\n",
       "      <td>3039.020292</td>\n",
       "      <td>14.927879</td>\n",
       "      <td>2021-10-19</td>\n",
       "      <td>10</td>\n",
       "      <td>3039.0</td>\n",
       "    </tr>\n",
       "    <tr>\n",
       "      <th>7</th>\n",
       "      <td>1</td>\n",
       "      <td>2842.118050</td>\n",
       "      <td>23.117468</td>\n",
       "      <td>2021-11-06</td>\n",
       "      <td>11</td>\n",
       "      <td>2842.0</td>\n",
       "    </tr>\n",
       "    <tr>\n",
       "      <th>8</th>\n",
       "      <td>1</td>\n",
       "      <td>3412.690668</td>\n",
       "      <td>15.238072</td>\n",
       "      <td>2021-11-14</td>\n",
       "      <td>11</td>\n",
       "      <td>3413.0</td>\n",
       "    </tr>\n",
       "    <tr>\n",
       "      <th>9</th>\n",
       "      <td>1</td>\n",
       "      <td>748.690645</td>\n",
       "      <td>15.041884</td>\n",
       "      <td>2021-11-22</td>\n",
       "      <td>11</td>\n",
       "      <td>749.0</td>\n",
       "    </tr>\n",
       "  </tbody>\n",
       "</table>\n",
       "</div>"
      ],
      "text/plain": [
       "   user_id     distance   duration       date  month  disatnce\n",
       "0        1  4409.919140  25.599769 2021-01-01      1    4410.0\n",
       "1        1  2617.592153  15.816871 2021-01-18      1    2618.0\n",
       "2        1   754.159807   6.232113 2021-04-20      4     754.0\n",
       "3        1  2694.783254  18.511000 2021-08-11      8    2695.0\n",
       "4        1  4028.687306  26.265803 2021-08-28      8    4029.0\n",
       "5        1  2770.890808  16.650138 2021-10-09     10    2771.0\n",
       "6        1  3039.020292  14.927879 2021-10-19     10    3039.0\n",
       "7        1  2842.118050  23.117468 2021-11-06     11    2842.0\n",
       "8        1  3412.690668  15.238072 2021-11-14     11    3413.0\n",
       "9        1   748.690645  15.041884 2021-11-22     11     749.0"
      ]
     },
     "metadata": {},
     "output_type": "display_data"
    }
   ],
   "source": [
    "data_rides['disatnce'] = data_rides['distance'].round()\n",
    "display(data_rides.head(10))\n",
    "#data_rides['duration'] на предмет наличия аномалий я проверяю в следующем шаге"
   ]
  },
  {
   "cell_type": "markdown",
   "id": "4b333ada",
   "metadata": {},
   "source": [
    "__Шаг 3. Исследовательский анализ данных__"
   ]
  },
  {
   "cell_type": "markdown",
   "id": "ce39d21c",
   "metadata": {},
   "source": [
    "Опишем и визуализируем общую информацию о пользователях и поездках"
   ]
  },
  {
   "cell_type": "markdown",
   "id": "4489ea7a",
   "metadata": {},
   "source": [
    "3.1 частота встречаемости городов"
   ]
  },
  {
   "cell_type": "code",
   "execution_count": 23,
   "id": "1bd43cc7",
   "metadata": {},
   "outputs": [
    {
     "data": {
      "text/plain": [
       "Пятигорск         219\n",
       "Екатеринбург      204\n",
       "Ростов-на-Дону    198\n",
       "Краснодар         193\n",
       "Сочи              189\n",
       "Омск              183\n",
       "Тюмень            180\n",
       "Москва            168\n",
       "Name: city, dtype: int64"
      ]
     },
     "metadata": {},
     "output_type": "display_data"
    }
   ],
   "source": [
    "display(data_users['city'].value_counts())"
   ]
  },
  {
   "cell_type": "code",
   "execution_count": 24,
   "id": "96c777a3",
   "metadata": {},
   "outputs": [
    {
     "data": {
      "text/plain": [
       "<AxesSubplot:title={'center':'Зависимость количества пользователей от города'}, xlabel='Город', ylabel='Количество пользователей'>"
      ]
     },
     "execution_count": 24,
     "metadata": {},
     "output_type": "execute_result"
    },
    {
     "data": {
      "image/png": "[encoded data removed]",
      "text/plain": [
       "<Figure size 432x288 with 1 Axes>"
      ]
     },
     "metadata": {
      "needs_background": "light"
     },
     "output_type": "display_data"
    }
   ],
   "source": [
    "data_users['city'].value_counts().plot(kind='bar', xlabel = 'Город', ylabel = 'Количество пользователей',  title='Зависимость количества пользователей от города')"
   ]
  },
  {
   "cell_type": "markdown",
   "id": "b46977c3",
   "metadata": {},
   "source": [
    "\n",
    "    \n",
    "Наибольшее количесвто пользователей проживает в городе Пятигорск, но разница между Москвой, где пользователей нименьшее количество и Пятигорском составляет всего 50 человек\n",
    "\n"
   ]
  },
  {
   "cell_type": "markdown",
   "id": "bc91ce65",
   "metadata": {},
   "source": [
    "3.2 соотношение пользователей с подпиской и без подписки"
   ]
  },
  {
   "cell_type": "code",
   "execution_count": 25,
   "id": "970a7d66",
   "metadata": {},
   "outputs": [
    {
     "data": {
      "text/plain": [
       "free     835\n",
       "ultra    699\n",
       "Name: subscription_type, dtype: int64"
      ]
     },
     "metadata": {},
     "output_type": "display_data"
    }
   ],
   "source": [
    "display(data_users['subscription_type'].value_counts())"
   ]
  },
  {
   "cell_type": "code",
   "execution_count": 26,
   "id": "a93c7071",
   "metadata": {},
   "outputs": [
    {
     "data": {
      "image/png": "[encoded data removed]",
      "text/plain": [
       "<Figure size 432x288 with 1 Axes>"
      ]
     },
     "metadata": {},
     "output_type": "display_data"
    }
   ],
   "source": [
    "subscription_counts = data_users['subscription_type'].value_counts()\n",
    "\n",
    "subscription_counts.plot(kind='pie', autopct='%1.1f%%', startangle=90, legend=True)\n",
    "\n",
    "plt.title('Количество пользователей с подпиской и без нее')\n",
    "\n",
    "plt.show()"
   ]
  },
  {
   "cell_type": "markdown",
   "id": "9053c8fa",
   "metadata": {},
   "source": [
    "\n",
    "Пользователей с подпиской и без нее примерно одинаковое количество, но все же пользователей без подписки немного больше( 54.4% на 45.6%)\n"
   ]
  },
  {
   "cell_type": "markdown",
   "id": "a3a2ef46",
   "metadata": {},
   "source": [
    "3.3 возраст пользователей"
   ]
  },
  {
   "cell_type": "code",
   "execution_count": 27,
   "id": "12ef98f5",
   "metadata": {},
   "outputs": [
    {
     "data": {
      "text/plain": [
       "12      4\n",
       "13      8\n",
       "14      9\n",
       "15     13\n",
       "16     19\n",
       "17     26\n",
       "18     46\n",
       "19     47\n",
       "20     71\n",
       "21     93\n",
       "22    119\n",
       "23    129\n",
       "24    132\n",
       "25    145\n",
       "26    131\n",
       "27    119\n",
       "28    112\n",
       "29     68\n",
       "30     68\n",
       "31     48\n",
       "32     41\n",
       "33     39\n",
       "34     19\n",
       "35     15\n",
       "36      6\n",
       "37      2\n",
       "38      3\n",
       "39      1\n",
       "43      1\n",
       "Name: age, dtype: int64"
      ]
     },
     "metadata": {},
     "output_type": "display_data"
    }
   ],
   "source": [
    "display(data_users['age'].value_counts().sort_index())"
   ]
  },
  {
   "cell_type": "code",
   "execution_count": 28,
   "id": "015d9eb9",
   "metadata": {},
   "outputs": [
    {
     "data": {
      "text/plain": [
       "<AxesSubplot:title={'center':'Зависимость количества пользователей от их возраста'}, xlabel='возраст', ylabel='Количество пользователей'>"
      ]
     },
     "execution_count": 28,
     "metadata": {},
     "output_type": "execute_result"
    },
    {
     "data": {
      "image/png": "[encoded data removed]",
      "text/plain": [
       "<Figure size 432x288 with 1 Axes>"
      ]
     },
     "metadata": {
      "needs_background": "light"
     },
     "output_type": "display_data"
    }
   ],
   "source": [
    "data_users['age'].value_counts().sort_index().plot(kind='bar', xlabel = 'возраст', ylabel = 'Количество пользователей', title = 'Зависимость количества пользователей от их возраста')"
   ]
  },
  {
   "cell_type": "code",
   "execution_count": 29,
   "id": "c0bd0565",
   "metadata": {},
   "outputs": [
    {
     "data": {
      "text/plain": [
       "count    1534.000000\n",
       "mean       24.903520\n",
       "std         4.572367\n",
       "min        12.000000\n",
       "25%        22.000000\n",
       "50%        25.000000\n",
       "75%        28.000000\n",
       "max        43.000000\n",
       "Name: age, dtype: float64"
      ]
     },
     "execution_count": 29,
     "metadata": {},
     "output_type": "execute_result"
    }
   ],
   "source": [
    "data_users['age'].describe()"
   ]
  },
  {
   "cell_type": "markdown",
   "id": "6a512405",
   "metadata": {},
   "source": [
    "График похож на график нормального распределения, откуда можем предположить, что данные по возрасту собраны корректно"
   ]
  },
  {
   "cell_type": "markdown",
   "id": "07bcf5dc",
   "metadata": {},
   "source": [
    "\n",
    "    \n",
    "Минимальный возраст пользователя - 12 лет, максимальный - 43 года. Основной возрастной группой являются люди от 22 до 28 лет (таких в нащей выборке аж 50%), средний возраст всех пользователей составялет 24.9\n"
   ]
  },
  {
   "cell_type": "markdown",
   "id": "f877cc8c",
   "metadata": {},
   "source": [
    "3.4 расстояние, которое пользователь преодолел за одну поездку"
   ]
  },
  {
   "cell_type": "code",
   "execution_count": 30,
   "id": "ca8c6ff9",
   "metadata": {},
   "outputs": [
    {
     "data": {
      "text/plain": [
       "0.855683       1\n",
       "2.570787       1\n",
       "4.329506       1\n",
       "6.784447       1\n",
       "7.097072       1\n",
       "              ..\n",
       "6724.932981    1\n",
       "6760.940067    1\n",
       "6908.491343    1\n",
       "7066.003772    1\n",
       "7211.007745    1\n",
       "Name: distance, Length: 18068, dtype: int64"
      ]
     },
     "metadata": {},
     "output_type": "display_data"
    }
   ],
   "source": [
    "display(data_rides['distance'].value_counts().sort_index())"
   ]
  },
  {
   "cell_type": "code",
   "execution_count": 31,
   "id": "df678248",
   "metadata": {},
   "outputs": [
    {
     "data": {
      "text/plain": [
       "<AxesSubplot:title={'center':'Заисимость количества поездок от их дистанции'}, ylabel='Frequency'>"
      ]
     },
     "execution_count": 31,
     "metadata": {},
     "output_type": "execute_result"
    },
    {
     "data": {
      "image/png": "[encoded data removed]",
      "text/plain": [
       "<Figure size 432x288 with 1 Axes>"
      ]
     },
     "metadata": {
      "needs_background": "light"
     },
     "output_type": "display_data"
    }
   ],
   "source": [
    "data_rides.plot(y = 'distance', kind = 'hist', bins = 100, range = (data_rides['distance'].min(), data_rides['distance'].max()), xlabel = 'дистанция поездки', ylabel = 'Количество поездок', title = 'Заисимость количества поездок от их дистанции')"
   ]
  },
  {
   "cell_type": "markdown",
   "id": "bc9a5137",
   "metadata": {},
   "source": [
    "3.5 продолжительность поездок."
   ]
  },
  {
   "cell_type": "code",
   "execution_count": 32,
   "id": "ef58c435",
   "metadata": {},
   "outputs": [
    {
     "data": {
      "text/plain": [
       "0.500000     95\n",
       "2.035632      1\n",
       "2.053251      1\n",
       "2.180879      1\n",
       "2.222598      1\n",
       "             ..\n",
       "38.265229     1\n",
       "38.352763     1\n",
       "39.526602     1\n",
       "39.873856     1\n",
       "40.823963     1\n",
       "Name: duration, Length: 17974, dtype: int64"
      ]
     },
     "metadata": {},
     "output_type": "display_data"
    }
   ],
   "source": [
    "display(data_rides['duration'].value_counts().sort_index())"
   ]
  },
  {
   "cell_type": "code",
   "execution_count": 33,
   "id": "e037cd0f",
   "metadata": {},
   "outputs": [
    {
     "data": {
      "text/plain": [
       "<AxesSubplot:ylabel='Frequency'>"
      ]
     },
     "execution_count": 33,
     "metadata": {},
     "output_type": "execute_result"
    },
    {
     "data": {
      "image/png": "[encoded data removed]",
      "text/plain": [
       "<Figure size 432x288 with 1 Axes>"
      ]
     },
     "metadata": {
      "needs_background": "light"
     },
     "output_type": "display_data"
    }
   ],
   "source": [
    "data_rides.plot(y = 'duration', kind = 'hist', bins = 100, range = (data_rides['duration'].min(), data_rides['duration'].max()), xlabel = 'время поездки', ylabel = 'Количество поездок')"
   ]
  },
  {
   "cell_type": "markdown",
   "id": "ea882c75",
   "metadata": {},
   "source": [
    "На предпоследнем графике мы видим, что существует два локальных максимума, один из которых находится на отметке в 800 метров дистанции поездки. На последнем же графике мы видим, что есть около 100 поездок, которые длились 0.5 минуты, давайте разберемся выбросы ли это"
   ]
  },
  {
   "cell_type": "code",
   "execution_count": 34,
   "id": "7d4de33a",
   "metadata": {},
   "outputs": [
    {
     "data": {
      "text/html": [
       "<div>\n",
       "<style scoped>\n",
       "    .dataframe tbody tr th:only-of-type {\n",
       "        vertical-align: middle;\n",
       "    }\n",
       "\n",
       "    .dataframe tbody tr th {\n",
       "        vertical-align: top;\n",
       "    }\n",
       "\n",
       "    .dataframe thead th {\n",
       "        text-align: right;\n",
       "    }\n",
       "</style>\n",
       "<table border=\"1\" class=\"dataframe\">\n",
       "  <thead>\n",
       "    <tr style=\"text-align: right;\">\n",
       "      <th></th>\n",
       "      <th>user_id</th>\n",
       "      <th>distance</th>\n",
       "      <th>duration</th>\n",
       "      <th>date</th>\n",
       "      <th>month</th>\n",
       "      <th>disatnce</th>\n",
       "    </tr>\n",
       "  </thead>\n",
       "  <tbody>\n",
       "    <tr>\n",
       "      <th>6531</th>\n",
       "      <td>701</td>\n",
       "      <td>4196.445201</td>\n",
       "      <td>0.5</td>\n",
       "      <td>2021-08-31</td>\n",
       "      <td>8</td>\n",
       "      <td>4196.0</td>\n",
       "    </tr>\n",
       "    <tr>\n",
       "      <th>6570</th>\n",
       "      <td>704</td>\n",
       "      <td>4830.824371</td>\n",
       "      <td>0.5</td>\n",
       "      <td>2021-10-14</td>\n",
       "      <td>10</td>\n",
       "      <td>4831.0</td>\n",
       "    </tr>\n",
       "    <tr>\n",
       "      <th>6680</th>\n",
       "      <td>712</td>\n",
       "      <td>4684.004397</td>\n",
       "      <td>0.5</td>\n",
       "      <td>2021-03-04</td>\n",
       "      <td>3</td>\n",
       "      <td>4684.0</td>\n",
       "    </tr>\n",
       "    <tr>\n",
       "      <th>6695</th>\n",
       "      <td>713</td>\n",
       "      <td>5215.642710</td>\n",
       "      <td>0.5</td>\n",
       "      <td>2021-02-25</td>\n",
       "      <td>2</td>\n",
       "      <td>5216.0</td>\n",
       "    </tr>\n",
       "    <tr>\n",
       "      <th>6768</th>\n",
       "      <td>718</td>\n",
       "      <td>5197.436649</td>\n",
       "      <td>0.5</td>\n",
       "      <td>2021-02-11</td>\n",
       "      <td>2</td>\n",
       "      <td>5197.0</td>\n",
       "    </tr>\n",
       "    <tr>\n",
       "      <th>...</th>\n",
       "      <td>...</td>\n",
       "      <td>...</td>\n",
       "      <td>...</td>\n",
       "      <td>...</td>\n",
       "      <td>...</td>\n",
       "      <td>...</td>\n",
       "    </tr>\n",
       "    <tr>\n",
       "      <th>17004</th>\n",
       "      <td>1460</td>\n",
       "      <td>5531.335845</td>\n",
       "      <td>0.5</td>\n",
       "      <td>2021-01-19</td>\n",
       "      <td>1</td>\n",
       "      <td>5531.0</td>\n",
       "    </tr>\n",
       "    <tr>\n",
       "      <th>17242</th>\n",
       "      <td>1477</td>\n",
       "      <td>6724.932981</td>\n",
       "      <td>0.5</td>\n",
       "      <td>2021-01-12</td>\n",
       "      <td>1</td>\n",
       "      <td>6725.0</td>\n",
       "    </tr>\n",
       "    <tr>\n",
       "      <th>17314</th>\n",
       "      <td>1483</td>\n",
       "      <td>4445.481070</td>\n",
       "      <td>0.5</td>\n",
       "      <td>2021-03-06</td>\n",
       "      <td>3</td>\n",
       "      <td>4445.0</td>\n",
       "    </tr>\n",
       "    <tr>\n",
       "      <th>17505</th>\n",
       "      <td>1496</td>\n",
       "      <td>5722.551787</td>\n",
       "      <td>0.5</td>\n",
       "      <td>2021-02-14</td>\n",
       "      <td>2</td>\n",
       "      <td>5723.0</td>\n",
       "    </tr>\n",
       "    <tr>\n",
       "      <th>17909</th>\n",
       "      <td>1524</td>\n",
       "      <td>4103.998874</td>\n",
       "      <td>0.5</td>\n",
       "      <td>2021-06-18</td>\n",
       "      <td>6</td>\n",
       "      <td>4104.0</td>\n",
       "    </tr>\n",
       "  </tbody>\n",
       "</table>\n",
       "<p>95 rows × 6 columns</p>\n",
       "</div>"
      ],
      "text/plain": [
       "       user_id     distance  duration       date  month  disatnce\n",
       "6531       701  4196.445201       0.5 2021-08-31      8    4196.0\n",
       "6570       704  4830.824371       0.5 2021-10-14     10    4831.0\n",
       "6680       712  4684.004397       0.5 2021-03-04      3    4684.0\n",
       "6695       713  5215.642710       0.5 2021-02-25      2    5216.0\n",
       "6768       718  5197.436649       0.5 2021-02-11      2    5197.0\n",
       "...        ...          ...       ...        ...    ...       ...\n",
       "17004     1460  5531.335845       0.5 2021-01-19      1    5531.0\n",
       "17242     1477  6724.932981       0.5 2021-01-12      1    6725.0\n",
       "17314     1483  4445.481070       0.5 2021-03-06      3    4445.0\n",
       "17505     1496  5722.551787       0.5 2021-02-14      2    5723.0\n",
       "17909     1524  4103.998874       0.5 2021-06-18      6    4104.0\n",
       "\n",
       "[95 rows x 6 columns]"
      ]
     },
     "metadata": {},
     "output_type": "display_data"
    }
   ],
   "source": [
    "duration_05 = data_rides.loc[data_rides['duration'] == 0.5]\n",
    "display(duration_05)"
   ]
  },
  {
   "cell_type": "markdown",
   "id": "ffff1a14",
   "metadata": {},
   "source": [
    "Как мы видим поездок в 0.5 минуты 95, посмотрим какое расстояние за это время смогли преодалеть каждый из пользователей"
   ]
  },
  {
   "cell_type": "code",
   "execution_count": 35,
   "id": "c329167c",
   "metadata": {},
   "outputs": [
    {
     "data": {
      "text/plain": [
       "<AxesSubplot:ylabel='Frequency'>"
      ]
     },
     "execution_count": 35,
     "metadata": {},
     "output_type": "execute_result"
    },
    {
     "data": {
      "image/png": "[encoded data removed]",
      "text/plain": [
       "<Figure size 432x288 with 1 Axes>"
      ]
     },
     "metadata": {
      "needs_background": "light"
     },
     "output_type": "display_data"
    }
   ],
   "source": [
    "duration_05.plot(y = 'distance', kind = 'hist', bins = 50, range = (duration_05['distance'].min(), duration_05['distance'].max()), xlabel = 'дистанция поездки', ylabel = 'Количество поездок')"
   ]
  },
  {
   "cell_type": "markdown",
   "id": "56853f8a",
   "metadata": {},
   "source": [
    "Как мы видим, значения дистанции не выявили никакой закономерности, вдобавок к этому заметим, что самокат за полминуты не может преодалеть растояние в 4 км и болл, поэтому, вероятнее всего, все поездки с продолжительностью в 0.5 минут являются выбросами. Удалим их из исходного датафрейма."
   ]
  },
  {
   "cell_type": "code",
   "execution_count": 36,
   "id": "39fa1f38",
   "metadata": {},
   "outputs": [
    {
     "name": "stdout",
     "output_type": "stream",
     "text": [
      "процент удаленных данных равен 0.5257914545051978%\n"
     ]
    }
   ],
   "source": [
    "len_data_rides = len(data_rides)\n",
    "data_rides = data_rides[data_rides['duration'] != 0.5]\n",
    "print(f'процент удаленных данных равен {(1 - len(data_rides) / len_data_rides)*100}%')"
   ]
  },
  {
   "cell_type": "markdown",
   "id": "2bad705d",
   "metadata": {},
   "source": [
    "Что же касается графика с дистанцией поездки, давайте расмотрим этот график на участке от 0 до 1500 метров."
   ]
  },
  {
   "cell_type": "code",
   "execution_count": 37,
   "id": "2b3df507",
   "metadata": {},
   "outputs": [
    {
     "data": {
      "text/plain": [
       "<AxesSubplot:ylabel='Frequency'>"
      ]
     },
     "execution_count": 37,
     "metadata": {},
     "output_type": "execute_result"
    },
    {
     "data": {
      "image/png": "[encoded data removed]",
      "text/plain": [
       "<Figure size 432x288 with 1 Axes>"
      ]
     },
     "metadata": {
      "needs_background": "light"
     },
     "output_type": "display_data"
    }
   ],
   "source": [
    "data_rides.query('distance < 1500').plot(y = 'distance', kind = 'hist', bins = 100, range = (0, 1500), xlabel = 'дистанция поездки', ylabel = 'Количество поездок')"
   ]
  },
  {
   "cell_type": "markdown",
   "id": "f7b488cd",
   "metadata": {},
   "source": [
    "Как мы видим на этом графике, все данные распределены равномерно на всем выбранном отрезеке, есть локальный максимум на отметке в около 700 метров, вероятнее всего эти данные не являются выбросами, ведь люди действительно могут проезжать расстояния на самокатах до 1500 метров. Вероятнее всего два локальных максимума на общем графике обусловлены тем, что у людей есть разные причины пользоваться самокатом, большинство из них использует его для прогулок по паркам или иного досуга, а есть и те, кто используют его для поездки на небольшие расстояния, например от метро до работы или дома."
   ]
  },
  {
   "cell_type": "markdown",
   "id": "c865c951",
   "metadata": {},
   "source": [
    "__Шаг 4. Объединение данных__"
   ]
  },
  {
   "cell_type": "markdown",
   "id": "715ed4ed",
   "metadata": {},
   "source": [
    "4.1 Объединим данные о пользователях, поездках и подписках в один датафрейм. "
   ]
  },
  {
   "cell_type": "markdown",
   "id": "6c87f2ce",
   "metadata": {},
   "source": [
    "Объединим для начала первые две таблицы"
   ]
  },
  {
   "cell_type": "code",
   "execution_count": 38,
   "id": "dd31894e",
   "metadata": {},
   "outputs": [
    {
     "name": "stdout",
     "output_type": "stream",
     "text": [
      "<class 'pandas.core.frame.DataFrame'>\n",
      "Int64Index: 17973 entries, 0 to 17972\n",
      "Data columns (total 10 columns):\n",
      " #   Column             Non-Null Count  Dtype         \n",
      "---  ------             --------------  -----         \n",
      " 0   user_id            17973 non-null  int64         \n",
      " 1   distance           17973 non-null  float64       \n",
      " 2   duration           17973 non-null  float64       \n",
      " 3   date               17973 non-null  datetime64[ns]\n",
      " 4   month              17973 non-null  int64         \n",
      " 5   disatnce           17973 non-null  float64       \n",
      " 6   name               17973 non-null  object        \n",
      " 7   age                17973 non-null  int64         \n",
      " 8   city               17973 non-null  object        \n",
      " 9   subscription_type  17973 non-null  object        \n",
      "dtypes: datetime64[ns](1), float64(3), int64(3), object(3)\n",
      "memory usage: 1.5+ MB\n"
     ]
    },
    {
     "data": {
      "text/plain": [
       "None"
      ]
     },
     "metadata": {},
     "output_type": "display_data"
    },
    {
     "data": {
      "text/html": [
       "<div>\n",
       "<style scoped>\n",
       "    .dataframe tbody tr th:only-of-type {\n",
       "        vertical-align: middle;\n",
       "    }\n",
       "\n",
       "    .dataframe tbody tr th {\n",
       "        vertical-align: top;\n",
       "    }\n",
       "\n",
       "    .dataframe thead th {\n",
       "        text-align: right;\n",
       "    }\n",
       "</style>\n",
       "<table border=\"1\" class=\"dataframe\">\n",
       "  <thead>\n",
       "    <tr style=\"text-align: right;\">\n",
       "      <th></th>\n",
       "      <th>user_id</th>\n",
       "      <th>distance</th>\n",
       "      <th>duration</th>\n",
       "      <th>date</th>\n",
       "      <th>month</th>\n",
       "      <th>disatnce</th>\n",
       "      <th>name</th>\n",
       "      <th>age</th>\n",
       "      <th>city</th>\n",
       "      <th>subscription_type</th>\n",
       "    </tr>\n",
       "  </thead>\n",
       "  <tbody>\n",
       "    <tr>\n",
       "      <th>8885</th>\n",
       "      <td>880</td>\n",
       "      <td>11.283615</td>\n",
       "      <td>2.035632</td>\n",
       "      <td>2021-03-28</td>\n",
       "      <td>3</td>\n",
       "      <td>11.0</td>\n",
       "      <td>Евгений</td>\n",
       "      <td>29</td>\n",
       "      <td>Краснодар</td>\n",
       "      <td>free</td>\n",
       "    </tr>\n",
       "    <tr>\n",
       "      <th>6688</th>\n",
       "      <td>712</td>\n",
       "      <td>23.963062</td>\n",
       "      <td>2.053251</td>\n",
       "      <td>2021-11-22</td>\n",
       "      <td>11</td>\n",
       "      <td>24.0</td>\n",
       "      <td>Дарья</td>\n",
       "      <td>28</td>\n",
       "      <td>Москва</td>\n",
       "      <td>free</td>\n",
       "    </tr>\n",
       "    <tr>\n",
       "      <th>13249</th>\n",
       "      <td>1198</td>\n",
       "      <td>84.410014</td>\n",
       "      <td>2.180879</td>\n",
       "      <td>2021-06-11</td>\n",
       "      <td>6</td>\n",
       "      <td>84.0</td>\n",
       "      <td>Демид</td>\n",
       "      <td>29</td>\n",
       "      <td>Ростов-на-Дону</td>\n",
       "      <td>free</td>\n",
       "    </tr>\n",
       "    <tr>\n",
       "      <th>17217</th>\n",
       "      <td>1482</td>\n",
       "      <td>111.298857</td>\n",
       "      <td>2.222598</td>\n",
       "      <td>2021-07-24</td>\n",
       "      <td>7</td>\n",
       "      <td>111.0</td>\n",
       "      <td>Глеб</td>\n",
       "      <td>21</td>\n",
       "      <td>Краснодар</td>\n",
       "      <td>free</td>\n",
       "    </tr>\n",
       "    <tr>\n",
       "      <th>14017</th>\n",
       "      <td>1251</td>\n",
       "      <td>41.212830</td>\n",
       "      <td>2.224797</td>\n",
       "      <td>2021-04-15</td>\n",
       "      <td>4</td>\n",
       "      <td>41.0</td>\n",
       "      <td>Кирилл</td>\n",
       "      <td>25</td>\n",
       "      <td>Краснодар</td>\n",
       "      <td>free</td>\n",
       "    </tr>\n",
       "  </tbody>\n",
       "</table>\n",
       "</div>"
      ],
      "text/plain": [
       "       user_id    distance  duration       date  month  disatnce     name  \\\n",
       "8885       880   11.283615  2.035632 2021-03-28      3      11.0  Евгений   \n",
       "6688       712   23.963062  2.053251 2021-11-22     11      24.0    Дарья   \n",
       "13249     1198   84.410014  2.180879 2021-06-11      6      84.0    Демид   \n",
       "17217     1482  111.298857  2.222598 2021-07-24      7     111.0     Глеб   \n",
       "14017     1251   41.212830  2.224797 2021-04-15      4      41.0   Кирилл   \n",
       "\n",
       "       age            city subscription_type  \n",
       "8885    29       Краснодар              free  \n",
       "6688    28          Москва              free  \n",
       "13249   29  Ростов-на-Дону              free  \n",
       "17217   21       Краснодар              free  \n",
       "14017   25       Краснодар              free  "
      ]
     },
     "metadata": {},
     "output_type": "display_data"
    },
    {
     "data": {
      "text/plain": [
       "user_id              0\n",
       "distance             0\n",
       "duration             0\n",
       "date                 0\n",
       "month                0\n",
       "disatnce             0\n",
       "name                 0\n",
       "age                  0\n",
       "city                 0\n",
       "subscription_type    0\n",
       "dtype: int64"
      ]
     },
     "metadata": {},
     "output_type": "display_data"
    }
   ],
   "source": [
    "data = pd.merge(data_rides, data_users, on='user_id', how='left')\n",
    "display(data.info())\n",
    "display(data.sort_values(by = 'duration').head(5))\n",
    "display(data.isna().sum())"
   ]
  },
  {
   "cell_type": "markdown",
   "id": "6a737969",
   "metadata": {},
   "source": [
    "Теперь добавим к этой таюлице значения из data_subscriptions"
   ]
  },
  {
   "cell_type": "code",
   "execution_count": 39,
   "id": "05c56bae",
   "metadata": {},
   "outputs": [
    {
     "name": "stdout",
     "output_type": "stream",
     "text": [
      "<class 'pandas.core.frame.DataFrame'>\n",
      "Int64Index: 17973 entries, 0 to 17972\n",
      "Data columns (total 13 columns):\n",
      " #   Column             Non-Null Count  Dtype         \n",
      "---  ------             --------------  -----         \n",
      " 0   user_id            17973 non-null  int64         \n",
      " 1   distance           17973 non-null  float64       \n",
      " 2   duration           17973 non-null  float64       \n",
      " 3   date               17973 non-null  datetime64[ns]\n",
      " 4   month              17973 non-null  int64         \n",
      " 5   disatnce           17973 non-null  float64       \n",
      " 6   name               17973 non-null  object        \n",
      " 7   age                17973 non-null  int64         \n",
      " 8   city               17973 non-null  object        \n",
      " 9   subscription_type  17973 non-null  object        \n",
      " 10  minute_price       17973 non-null  int64         \n",
      " 11  start_ride_price   17973 non-null  int64         \n",
      " 12  subscription_fee   17973 non-null  int64         \n",
      "dtypes: datetime64[ns](1), float64(3), int64(6), object(3)\n",
      "memory usage: 1.9+ MB\n"
     ]
    },
    {
     "data": {
      "text/plain": [
       "None"
      ]
     },
     "metadata": {},
     "output_type": "display_data"
    },
    {
     "data": {
      "text/html": [
       "<div>\n",
       "<style scoped>\n",
       "    .dataframe tbody tr th:only-of-type {\n",
       "        vertical-align: middle;\n",
       "    }\n",
       "\n",
       "    .dataframe tbody tr th {\n",
       "        vertical-align: top;\n",
       "    }\n",
       "\n",
       "    .dataframe thead th {\n",
       "        text-align: right;\n",
       "    }\n",
       "</style>\n",
       "<table border=\"1\" class=\"dataframe\">\n",
       "  <thead>\n",
       "    <tr style=\"text-align: right;\">\n",
       "      <th></th>\n",
       "      <th>user_id</th>\n",
       "      <th>distance</th>\n",
       "      <th>duration</th>\n",
       "      <th>date</th>\n",
       "      <th>month</th>\n",
       "      <th>disatnce</th>\n",
       "      <th>name</th>\n",
       "      <th>age</th>\n",
       "      <th>city</th>\n",
       "      <th>subscription_type</th>\n",
       "      <th>minute_price</th>\n",
       "      <th>start_ride_price</th>\n",
       "      <th>subscription_fee</th>\n",
       "    </tr>\n",
       "  </thead>\n",
       "  <tbody>\n",
       "    <tr>\n",
       "      <th>8885</th>\n",
       "      <td>880</td>\n",
       "      <td>11.283615</td>\n",
       "      <td>2.035632</td>\n",
       "      <td>2021-03-28</td>\n",
       "      <td>3</td>\n",
       "      <td>11.0</td>\n",
       "      <td>Евгений</td>\n",
       "      <td>29</td>\n",
       "      <td>Краснодар</td>\n",
       "      <td>free</td>\n",
       "      <td>8</td>\n",
       "      <td>50</td>\n",
       "      <td>0</td>\n",
       "    </tr>\n",
       "    <tr>\n",
       "      <th>6688</th>\n",
       "      <td>712</td>\n",
       "      <td>23.963062</td>\n",
       "      <td>2.053251</td>\n",
       "      <td>2021-11-22</td>\n",
       "      <td>11</td>\n",
       "      <td>24.0</td>\n",
       "      <td>Дарья</td>\n",
       "      <td>28</td>\n",
       "      <td>Москва</td>\n",
       "      <td>free</td>\n",
       "      <td>8</td>\n",
       "      <td>50</td>\n",
       "      <td>0</td>\n",
       "    </tr>\n",
       "    <tr>\n",
       "      <th>13249</th>\n",
       "      <td>1198</td>\n",
       "      <td>84.410014</td>\n",
       "      <td>2.180879</td>\n",
       "      <td>2021-06-11</td>\n",
       "      <td>6</td>\n",
       "      <td>84.0</td>\n",
       "      <td>Демид</td>\n",
       "      <td>29</td>\n",
       "      <td>Ростов-на-Дону</td>\n",
       "      <td>free</td>\n",
       "      <td>8</td>\n",
       "      <td>50</td>\n",
       "      <td>0</td>\n",
       "    </tr>\n",
       "    <tr>\n",
       "      <th>17217</th>\n",
       "      <td>1482</td>\n",
       "      <td>111.298857</td>\n",
       "      <td>2.222598</td>\n",
       "      <td>2021-07-24</td>\n",
       "      <td>7</td>\n",
       "      <td>111.0</td>\n",
       "      <td>Глеб</td>\n",
       "      <td>21</td>\n",
       "      <td>Краснодар</td>\n",
       "      <td>free</td>\n",
       "      <td>8</td>\n",
       "      <td>50</td>\n",
       "      <td>0</td>\n",
       "    </tr>\n",
       "    <tr>\n",
       "      <th>14017</th>\n",
       "      <td>1251</td>\n",
       "      <td>41.212830</td>\n",
       "      <td>2.224797</td>\n",
       "      <td>2021-04-15</td>\n",
       "      <td>4</td>\n",
       "      <td>41.0</td>\n",
       "      <td>Кирилл</td>\n",
       "      <td>25</td>\n",
       "      <td>Краснодар</td>\n",
       "      <td>free</td>\n",
       "      <td>8</td>\n",
       "      <td>50</td>\n",
       "      <td>0</td>\n",
       "    </tr>\n",
       "  </tbody>\n",
       "</table>\n",
       "</div>"
      ],
      "text/plain": [
       "       user_id    distance  duration       date  month  disatnce     name  \\\n",
       "8885       880   11.283615  2.035632 2021-03-28      3      11.0  Евгений   \n",
       "6688       712   23.963062  2.053251 2021-11-22     11      24.0    Дарья   \n",
       "13249     1198   84.410014  2.180879 2021-06-11      6      84.0    Демид   \n",
       "17217     1482  111.298857  2.222598 2021-07-24      7     111.0     Глеб   \n",
       "14017     1251   41.212830  2.224797 2021-04-15      4      41.0   Кирилл   \n",
       "\n",
       "       age            city subscription_type  minute_price  start_ride_price  \\\n",
       "8885    29       Краснодар              free             8                50   \n",
       "6688    28          Москва              free             8                50   \n",
       "13249   29  Ростов-на-Дону              free             8                50   \n",
       "17217   21       Краснодар              free             8                50   \n",
       "14017   25       Краснодар              free             8                50   \n",
       "\n",
       "       subscription_fee  \n",
       "8885                  0  \n",
       "6688                  0  \n",
       "13249                 0  \n",
       "17217                 0  \n",
       "14017                 0  "
      ]
     },
     "metadata": {},
     "output_type": "display_data"
    },
    {
     "data": {
      "text/plain": [
       "user_id              0\n",
       "distance             0\n",
       "duration             0\n",
       "date                 0\n",
       "month                0\n",
       "disatnce             0\n",
       "name                 0\n",
       "age                  0\n",
       "city                 0\n",
       "subscription_type    0\n",
       "minute_price         0\n",
       "start_ride_price     0\n",
       "subscription_fee     0\n",
       "dtype: int64"
      ]
     },
     "metadata": {},
     "output_type": "display_data"
    }
   ],
   "source": [
    "final_data = pd.merge(data, data_subscriptions, on='subscription_type', how='left')\n",
    "data = pd.merge(data_rides, data_users, on='user_id', how='left')\n",
    "display(final_data.info())\n",
    "display(final_data.sort_values(by = 'duration').head(5))\n",
    "display(final_data.isna().sum())"
   ]
  },
  {
   "cell_type": "markdown",
   "id": "0d62b20f",
   "metadata": {},
   "source": [
    "4.2 Создадим ещё два датафрейма из датафрейма, созданного на этапе 4.1\n",
    "\n",
    "-c данными о пользователях без подписки;\n",
    "\n",
    "-с данными о пользователях с подпиской."
   ]
  },
  {
   "cell_type": "code",
   "execution_count": 40,
   "id": "7d5096d3",
   "metadata": {},
   "outputs": [
    {
     "data": {
      "text/html": [
       "<div>\n",
       "<style scoped>\n",
       "    .dataframe tbody tr th:only-of-type {\n",
       "        vertical-align: middle;\n",
       "    }\n",
       "\n",
       "    .dataframe tbody tr th {\n",
       "        vertical-align: top;\n",
       "    }\n",
       "\n",
       "    .dataframe thead th {\n",
       "        text-align: right;\n",
       "    }\n",
       "</style>\n",
       "<table border=\"1\" class=\"dataframe\">\n",
       "  <thead>\n",
       "    <tr style=\"text-align: right;\">\n",
       "      <th></th>\n",
       "      <th>user_id</th>\n",
       "      <th>distance</th>\n",
       "      <th>duration</th>\n",
       "      <th>date</th>\n",
       "      <th>month</th>\n",
       "      <th>disatnce</th>\n",
       "      <th>name</th>\n",
       "      <th>age</th>\n",
       "      <th>city</th>\n",
       "      <th>subscription_type</th>\n",
       "      <th>minute_price</th>\n",
       "      <th>start_ride_price</th>\n",
       "      <th>subscription_fee</th>\n",
       "    </tr>\n",
       "  </thead>\n",
       "  <tbody>\n",
       "    <tr>\n",
       "      <th>6500</th>\n",
       "      <td>700</td>\n",
       "      <td>2515.690719</td>\n",
       "      <td>14.944286</td>\n",
       "      <td>2021-01-02</td>\n",
       "      <td>1</td>\n",
       "      <td>2516.0</td>\n",
       "      <td>Айдар</td>\n",
       "      <td>22</td>\n",
       "      <td>Омск</td>\n",
       "      <td>free</td>\n",
       "      <td>8</td>\n",
       "      <td>50</td>\n",
       "      <td>0</td>\n",
       "    </tr>\n",
       "    <tr>\n",
       "      <th>6501</th>\n",
       "      <td>700</td>\n",
       "      <td>846.932642</td>\n",
       "      <td>16.234663</td>\n",
       "      <td>2021-02-01</td>\n",
       "      <td>2</td>\n",
       "      <td>847.0</td>\n",
       "      <td>Айдар</td>\n",
       "      <td>22</td>\n",
       "      <td>Омск</td>\n",
       "      <td>free</td>\n",
       "      <td>8</td>\n",
       "      <td>50</td>\n",
       "      <td>0</td>\n",
       "    </tr>\n",
       "    <tr>\n",
       "      <th>6502</th>\n",
       "      <td>700</td>\n",
       "      <td>4004.434142</td>\n",
       "      <td>20.016628</td>\n",
       "      <td>2021-02-04</td>\n",
       "      <td>2</td>\n",
       "      <td>4004.0</td>\n",
       "      <td>Айдар</td>\n",
       "      <td>22</td>\n",
       "      <td>Омск</td>\n",
       "      <td>free</td>\n",
       "      <td>8</td>\n",
       "      <td>50</td>\n",
       "      <td>0</td>\n",
       "    </tr>\n",
       "    <tr>\n",
       "      <th>6503</th>\n",
       "      <td>700</td>\n",
       "      <td>1205.911290</td>\n",
       "      <td>9.782872</td>\n",
       "      <td>2021-02-10</td>\n",
       "      <td>2</td>\n",
       "      <td>1206.0</td>\n",
       "      <td>Айдар</td>\n",
       "      <td>22</td>\n",
       "      <td>Омск</td>\n",
       "      <td>free</td>\n",
       "      <td>8</td>\n",
       "      <td>50</td>\n",
       "      <td>0</td>\n",
       "    </tr>\n",
       "    <tr>\n",
       "      <th>6504</th>\n",
       "      <td>700</td>\n",
       "      <td>3047.379435</td>\n",
       "      <td>17.427673</td>\n",
       "      <td>2021-02-14</td>\n",
       "      <td>2</td>\n",
       "      <td>3047.0</td>\n",
       "      <td>Айдар</td>\n",
       "      <td>22</td>\n",
       "      <td>Омск</td>\n",
       "      <td>free</td>\n",
       "      <td>8</td>\n",
       "      <td>50</td>\n",
       "      <td>0</td>\n",
       "    </tr>\n",
       "  </tbody>\n",
       "</table>\n",
       "</div>"
      ],
      "text/plain": [
       "      user_id     distance   duration       date  month  disatnce   name  age  \\\n",
       "6500      700  2515.690719  14.944286 2021-01-02      1    2516.0  Айдар   22   \n",
       "6501      700   846.932642  16.234663 2021-02-01      2     847.0  Айдар   22   \n",
       "6502      700  4004.434142  20.016628 2021-02-04      2    4004.0  Айдар   22   \n",
       "6503      700  1205.911290   9.782872 2021-02-10      2    1206.0  Айдар   22   \n",
       "6504      700  3047.379435  17.427673 2021-02-14      2    3047.0  Айдар   22   \n",
       "\n",
       "      city subscription_type  minute_price  start_ride_price  subscription_fee  \n",
       "6500  Омск              free             8                50                 0  \n",
       "6501  Омск              free             8                50                 0  \n",
       "6502  Омск              free             8                50                 0  \n",
       "6503  Омск              free             8                50                 0  \n",
       "6504  Омск              free             8                50                 0  "
      ]
     },
     "metadata": {},
     "output_type": "display_data"
    },
    {
     "data": {
      "text/html": [
       "<div>\n",
       "<style scoped>\n",
       "    .dataframe tbody tr th:only-of-type {\n",
       "        vertical-align: middle;\n",
       "    }\n",
       "\n",
       "    .dataframe tbody tr th {\n",
       "        vertical-align: top;\n",
       "    }\n",
       "\n",
       "    .dataframe thead th {\n",
       "        text-align: right;\n",
       "    }\n",
       "</style>\n",
       "<table border=\"1\" class=\"dataframe\">\n",
       "  <thead>\n",
       "    <tr style=\"text-align: right;\">\n",
       "      <th></th>\n",
       "      <th>user_id</th>\n",
       "      <th>distance</th>\n",
       "      <th>duration</th>\n",
       "      <th>date</th>\n",
       "      <th>month</th>\n",
       "      <th>disatnce</th>\n",
       "      <th>name</th>\n",
       "      <th>age</th>\n",
       "      <th>city</th>\n",
       "      <th>subscription_type</th>\n",
       "      <th>minute_price</th>\n",
       "      <th>start_ride_price</th>\n",
       "      <th>subscription_fee</th>\n",
       "    </tr>\n",
       "  </thead>\n",
       "  <tbody>\n",
       "    <tr>\n",
       "      <th>0</th>\n",
       "      <td>1</td>\n",
       "      <td>4409.919140</td>\n",
       "      <td>25.599769</td>\n",
       "      <td>2021-01-01</td>\n",
       "      <td>1</td>\n",
       "      <td>4410.0</td>\n",
       "      <td>Кира</td>\n",
       "      <td>22</td>\n",
       "      <td>Тюмень</td>\n",
       "      <td>ultra</td>\n",
       "      <td>6</td>\n",
       "      <td>0</td>\n",
       "      <td>199</td>\n",
       "    </tr>\n",
       "    <tr>\n",
       "      <th>1</th>\n",
       "      <td>1</td>\n",
       "      <td>2617.592153</td>\n",
       "      <td>15.816871</td>\n",
       "      <td>2021-01-18</td>\n",
       "      <td>1</td>\n",
       "      <td>2618.0</td>\n",
       "      <td>Кира</td>\n",
       "      <td>22</td>\n",
       "      <td>Тюмень</td>\n",
       "      <td>ultra</td>\n",
       "      <td>6</td>\n",
       "      <td>0</td>\n",
       "      <td>199</td>\n",
       "    </tr>\n",
       "    <tr>\n",
       "      <th>2</th>\n",
       "      <td>1</td>\n",
       "      <td>754.159807</td>\n",
       "      <td>6.232113</td>\n",
       "      <td>2021-04-20</td>\n",
       "      <td>4</td>\n",
       "      <td>754.0</td>\n",
       "      <td>Кира</td>\n",
       "      <td>22</td>\n",
       "      <td>Тюмень</td>\n",
       "      <td>ultra</td>\n",
       "      <td>6</td>\n",
       "      <td>0</td>\n",
       "      <td>199</td>\n",
       "    </tr>\n",
       "    <tr>\n",
       "      <th>3</th>\n",
       "      <td>1</td>\n",
       "      <td>2694.783254</td>\n",
       "      <td>18.511000</td>\n",
       "      <td>2021-08-11</td>\n",
       "      <td>8</td>\n",
       "      <td>2695.0</td>\n",
       "      <td>Кира</td>\n",
       "      <td>22</td>\n",
       "      <td>Тюмень</td>\n",
       "      <td>ultra</td>\n",
       "      <td>6</td>\n",
       "      <td>0</td>\n",
       "      <td>199</td>\n",
       "    </tr>\n",
       "    <tr>\n",
       "      <th>4</th>\n",
       "      <td>1</td>\n",
       "      <td>4028.687306</td>\n",
       "      <td>26.265803</td>\n",
       "      <td>2021-08-28</td>\n",
       "      <td>8</td>\n",
       "      <td>4029.0</td>\n",
       "      <td>Кира</td>\n",
       "      <td>22</td>\n",
       "      <td>Тюмень</td>\n",
       "      <td>ultra</td>\n",
       "      <td>6</td>\n",
       "      <td>0</td>\n",
       "      <td>199</td>\n",
       "    </tr>\n",
       "  </tbody>\n",
       "</table>\n",
       "</div>"
      ],
      "text/plain": [
       "   user_id     distance   duration       date  month  disatnce  name  age  \\\n",
       "0        1  4409.919140  25.599769 2021-01-01      1    4410.0  Кира   22   \n",
       "1        1  2617.592153  15.816871 2021-01-18      1    2618.0  Кира   22   \n",
       "2        1   754.159807   6.232113 2021-04-20      4     754.0  Кира   22   \n",
       "3        1  2694.783254  18.511000 2021-08-11      8    2695.0  Кира   22   \n",
       "4        1  4028.687306  26.265803 2021-08-28      8    4029.0  Кира   22   \n",
       "\n",
       "     city subscription_type  minute_price  start_ride_price  subscription_fee  \n",
       "0  Тюмень             ultra             6                 0               199  \n",
       "1  Тюмень             ultra             6                 0               199  \n",
       "2  Тюмень             ultra             6                 0               199  \n",
       "3  Тюмень             ultra             6                 0               199  \n",
       "4  Тюмень             ultra             6                 0               199  "
      ]
     },
     "metadata": {},
     "output_type": "display_data"
    }
   ],
   "source": [
    "people_unsubscribed = final_data.loc[final_data['subscription_type'] == 'free'] \n",
    "people_subscribed = final_data.loc[final_data['subscription_type'] != 'free']\n",
    "display(people_unsubscribed.head(5))\n",
    "display(people_subscribed.head(5))"
   ]
  },
  {
   "cell_type": "markdown",
   "id": "83fb3c7e",
   "metadata": {},
   "source": [
    "4.3 Визуализируем информацию о расстоянии и времени поездок для пользователей обеих категорий."
   ]
  },
  {
   "cell_type": "markdown",
   "id": "702203e4",
   "metadata": {},
   "source": [
    "Для пользователей без подписки:"
   ]
  },
  {
   "cell_type": "code",
   "execution_count": 41,
   "id": "776b29e0",
   "metadata": {},
   "outputs": [
    {
     "data": {
      "text/plain": [
       "<AxesSubplot:title={'center':'Заисимость количетсва поездок от врмени у пользоватлей с подпиской'}, ylabel='Frequency'>"
      ]
     },
     "execution_count": 41,
     "metadata": {},
     "output_type": "execute_result"
    },
    {
     "data": {
      "image/png": "[encoded data removed]",
      "text/plain": [
       "<Figure size 432x288 with 1 Axes>"
      ]
     },
     "metadata": {
      "needs_background": "light"
     },
     "output_type": "display_data"
    },
    {
     "data": {
      "image/png": "[encoded data removed]",
      "text/plain": [
       "<Figure size 432x288 with 1 Axes>"
      ]
     },
     "metadata": {
      "needs_background": "light"
     },
     "output_type": "display_data"
    }
   ],
   "source": [
    "people_unsubscribed.plot(y = 'duration', kind = 'hist', bins = 100, range = (people_unsubscribed['duration'].min(), people_unsubscribed['duration'].max()), xlabel = 'время поездки', ylabel = 'Количество поездок', title = 'Заисимость количетсва поездок от врмени у пользоватлей без подписки')\n",
    "people_subscribed.plot(y = 'duration', kind = 'hist', bins = 100, range = (people_subscribed['duration'].min(), people_subscribed['duration'].max()), xlabel = 'время поездки', ylabel = 'Количество поездок', title = 'Заисимость количетсва поездок от врмени у пользоватлей с подпиской')"
   ]
  },
  {
   "cell_type": "markdown",
   "id": "d86d4a36",
   "metadata": {},
   "source": [
    "Для людей с подпиской:"
   ]
  },
  {
   "cell_type": "code",
   "execution_count": 42,
   "id": "5fa44008",
   "metadata": {},
   "outputs": [
    {
     "data": {
      "text/plain": [
       "<AxesSubplot:title={'center':'Заисимость количетсва поездок от дистанции у пользоватлей с подпиской'}, ylabel='Frequency'>"
      ]
     },
     "execution_count": 42,
     "metadata": {},
     "output_type": "execute_result"
    },
    {
     "data": {
      "image/png": "[encoded data removed]",
      "text/plain": [
       "<Figure size 432x288 with 1 Axes>"
      ]
     },
     "metadata": {
      "needs_background": "light"
     },
     "output_type": "display_data"
    },
    {
     "data": {
      "image/png": "[encoded data removed]",
      "text/plain": [
       "<Figure size 432x288 with 1 Axes>"
      ]
     },
     "metadata": {
      "needs_background": "light"
     },
     "output_type": "display_data"
    }
   ],
   "source": [
    "people_unsubscribed.plot(y = 'distance', kind = 'hist', bins = 100, range = (people_unsubscribed['distance'].min(), people_unsubscribed['distance'].max()), xlabel = 'дистанция поездки', ylabel = 'Количество поездок', title = 'Заисимость количетсва поездок от дистанции у пользоватлей без подписки')\n",
    "people_subscribed.plot(y = 'distance', kind = 'hist', bins = 100, range = (people_subscribed['distance'].min(), people_subscribed['distance'].max()), xlabel = 'дистанция поездки', ylabel = 'Количество поездок', title = 'Заисимость количетсва поездок от дистанции у пользоватлей с подпиской')"
   ]
  },
  {
   "cell_type": "code",
   "execution_count": 43,
   "id": "9def7cf3",
   "metadata": {},
   "outputs": [
    {
     "name": "stdout",
     "output_type": "stream",
     "text": [
      "Средняя дистанция у людей с подпиской: 3115.4453880370247, у людей без подписки: 3028.3742391936416\n",
      "Среднее время поездки у людей с подпиской: 18.54198516280583, у людей без подписки: 17.530771268800226\n"
     ]
    }
   ],
   "source": [
    "print(f\"Средняя дистанция у людей с подпиской: {people_subscribed['distance'].mean()}, у людей без подписки: {people_unsubscribed['distance'].mean()}\")\n",
    "print(f\"Среднее время поездки у людей с подпиской: {people_subscribed['duration'].mean()}, у людей без подписки: {people_unsubscribed['duration'].mean()}\")"
   ]
  },
  {
   "cell_type": "markdown",
   "id": "980219cb",
   "metadata": {},
   "source": [
    "Мы видим, что большой разницы в показателях времени поездки и расстояния у людей с подпиской и без нее нет"
   ]
  },
  {
   "cell_type": "markdown",
   "id": "dfb95a7c",
   "metadata": {},
   "source": [
    "__Шаг 5. Подсчёт выручки__"
   ]
  },
  {
   "cell_type": "markdown",
   "id": "2ab4c161",
   "metadata": {},
   "source": [
    "5.1 Создадим датафрейм с агрегированными данными о поездках на основе датафрейма с объединёнными данными из шага 4: найдем суммарное расстояние, количество поездок и суммарное время для каждого пользователя за каждый месяц."
   ]
  },
  {
   "cell_type": "code",
   "execution_count": 44,
   "id": "0955cf5b",
   "metadata": {},
   "outputs": [
    {
     "name": "stdout",
     "output_type": "stream",
     "text": [
      "<class 'pandas.core.frame.DataFrame'>\n",
      "Int64Index: 17973 entries, 0 to 17972\n",
      "Data columns (total 13 columns):\n",
      " #   Column             Non-Null Count  Dtype         \n",
      "---  ------             --------------  -----         \n",
      " 0   user_id            17973 non-null  int64         \n",
      " 1   distance           17973 non-null  float64       \n",
      " 2   duration           17973 non-null  float64       \n",
      " 3   date               17973 non-null  datetime64[ns]\n",
      " 4   month              17973 non-null  int64         \n",
      " 5   disatnce           17973 non-null  float64       \n",
      " 6   name               17973 non-null  object        \n",
      " 7   age                17973 non-null  int64         \n",
      " 8   city               17973 non-null  object        \n",
      " 9   subscription_type  17973 non-null  object        \n",
      " 10  minute_price       17973 non-null  int64         \n",
      " 11  start_ride_price   17973 non-null  int64         \n",
      " 12  subscription_fee   17973 non-null  int64         \n",
      "dtypes: datetime64[ns](1), float64(3), int64(6), object(3)\n",
      "memory usage: 1.9+ MB\n"
     ]
    }
   ],
   "source": [
    "final_data.info()"
   ]
  },
  {
   "cell_type": "code",
   "execution_count": 45,
   "id": "4a1218b0",
   "metadata": {},
   "outputs": [
    {
     "data": {
      "text/html": [
       "<div>\n",
       "<style scoped>\n",
       "    .dataframe tbody tr th:only-of-type {\n",
       "        vertical-align: middle;\n",
       "    }\n",
       "\n",
       "    .dataframe tbody tr th {\n",
       "        vertical-align: top;\n",
       "    }\n",
       "\n",
       "    .dataframe thead th {\n",
       "        text-align: right;\n",
       "    }\n",
       "</style>\n",
       "<table border=\"1\" class=\"dataframe\">\n",
       "  <thead>\n",
       "    <tr style=\"text-align: right;\">\n",
       "      <th></th>\n",
       "      <th></th>\n",
       "      <th>distance</th>\n",
       "      <th>duration</th>\n",
       "      <th>age</th>\n",
       "      <th>city</th>\n",
       "      <th>subscription_fee</th>\n",
       "      <th>minute_price</th>\n",
       "      <th>start_ride_price</th>\n",
       "      <th>subscription_type</th>\n",
       "      <th>starts</th>\n",
       "    </tr>\n",
       "    <tr>\n",
       "      <th>user_id</th>\n",
       "      <th>month</th>\n",
       "      <th></th>\n",
       "      <th></th>\n",
       "      <th></th>\n",
       "      <th></th>\n",
       "      <th></th>\n",
       "      <th></th>\n",
       "      <th></th>\n",
       "      <th></th>\n",
       "      <th></th>\n",
       "    </tr>\n",
       "  </thead>\n",
       "  <tbody>\n",
       "    <tr>\n",
       "      <th rowspan=\"6\" valign=\"top\">1</th>\n",
       "      <th>1</th>\n",
       "      <td>7027.511294</td>\n",
       "      <td>41.416640</td>\n",
       "      <td>22</td>\n",
       "      <td>Тюмень</td>\n",
       "      <td>199</td>\n",
       "      <td>6</td>\n",
       "      <td>0</td>\n",
       "      <td>ultra</td>\n",
       "      <td>2</td>\n",
       "    </tr>\n",
       "    <tr>\n",
       "      <th>4</th>\n",
       "      <td>754.159807</td>\n",
       "      <td>6.232113</td>\n",
       "      <td>22</td>\n",
       "      <td>Тюмень</td>\n",
       "      <td>199</td>\n",
       "      <td>6</td>\n",
       "      <td>0</td>\n",
       "      <td>ultra</td>\n",
       "      <td>1</td>\n",
       "    </tr>\n",
       "    <tr>\n",
       "      <th>8</th>\n",
       "      <td>6723.470560</td>\n",
       "      <td>44.776802</td>\n",
       "      <td>22</td>\n",
       "      <td>Тюмень</td>\n",
       "      <td>199</td>\n",
       "      <td>6</td>\n",
       "      <td>0</td>\n",
       "      <td>ultra</td>\n",
       "      <td>2</td>\n",
       "    </tr>\n",
       "    <tr>\n",
       "      <th>10</th>\n",
       "      <td>5809.911100</td>\n",
       "      <td>31.578017</td>\n",
       "      <td>22</td>\n",
       "      <td>Тюмень</td>\n",
       "      <td>199</td>\n",
       "      <td>6</td>\n",
       "      <td>0</td>\n",
       "      <td>ultra</td>\n",
       "      <td>2</td>\n",
       "    </tr>\n",
       "    <tr>\n",
       "      <th>11</th>\n",
       "      <td>7003.499363</td>\n",
       "      <td>53.397424</td>\n",
       "      <td>22</td>\n",
       "      <td>Тюмень</td>\n",
       "      <td>199</td>\n",
       "      <td>6</td>\n",
       "      <td>0</td>\n",
       "      <td>ultra</td>\n",
       "      <td>3</td>\n",
       "    </tr>\n",
       "    <tr>\n",
       "      <th>12</th>\n",
       "      <td>6751.629942</td>\n",
       "      <td>27.203912</td>\n",
       "      <td>22</td>\n",
       "      <td>Тюмень</td>\n",
       "      <td>199</td>\n",
       "      <td>6</td>\n",
       "      <td>0</td>\n",
       "      <td>ultra</td>\n",
       "      <td>2</td>\n",
       "    </tr>\n",
       "    <tr>\n",
       "      <th rowspan=\"4\" valign=\"top\">2</th>\n",
       "      <th>3</th>\n",
       "      <td>10187.723006</td>\n",
       "      <td>60.959959</td>\n",
       "      <td>31</td>\n",
       "      <td>Омск</td>\n",
       "      <td>199</td>\n",
       "      <td>6</td>\n",
       "      <td>0</td>\n",
       "      <td>ultra</td>\n",
       "      <td>3</td>\n",
       "    </tr>\n",
       "    <tr>\n",
       "      <th>4</th>\n",
       "      <td>6164.381824</td>\n",
       "      <td>39.048633</td>\n",
       "      <td>31</td>\n",
       "      <td>Омск</td>\n",
       "      <td>199</td>\n",
       "      <td>6</td>\n",
       "      <td>0</td>\n",
       "      <td>ultra</td>\n",
       "      <td>2</td>\n",
       "    </tr>\n",
       "    <tr>\n",
       "      <th>6</th>\n",
       "      <td>3255.338202</td>\n",
       "      <td>13.851127</td>\n",
       "      <td>31</td>\n",
       "      <td>Омск</td>\n",
       "      <td>199</td>\n",
       "      <td>6</td>\n",
       "      <td>0</td>\n",
       "      <td>ultra</td>\n",
       "      <td>1</td>\n",
       "    </tr>\n",
       "    <tr>\n",
       "      <th>7</th>\n",
       "      <td>6780.722964</td>\n",
       "      <td>46.170157</td>\n",
       "      <td>31</td>\n",
       "      <td>Омск</td>\n",
       "      <td>199</td>\n",
       "      <td>6</td>\n",
       "      <td>0</td>\n",
       "      <td>ultra</td>\n",
       "      <td>2</td>\n",
       "    </tr>\n",
       "  </tbody>\n",
       "</table>\n",
       "</div>"
      ],
      "text/plain": [
       "                   distance   duration  age    city  subscription_fee  \\\n",
       "user_id month                                                           \n",
       "1       1       7027.511294  41.416640   22  Тюмень               199   \n",
       "        4        754.159807   6.232113   22  Тюмень               199   \n",
       "        8       6723.470560  44.776802   22  Тюмень               199   \n",
       "        10      5809.911100  31.578017   22  Тюмень               199   \n",
       "        11      7003.499363  53.397424   22  Тюмень               199   \n",
       "        12      6751.629942  27.203912   22  Тюмень               199   \n",
       "2       3      10187.723006  60.959959   31    Омск               199   \n",
       "        4       6164.381824  39.048633   31    Омск               199   \n",
       "        6       3255.338202  13.851127   31    Омск               199   \n",
       "        7       6780.722964  46.170157   31    Омск               199   \n",
       "\n",
       "               minute_price  start_ride_price subscription_type  starts  \n",
       "user_id month                                                            \n",
       "1       1                 6                 0             ultra       2  \n",
       "        4                 6                 0             ultra       1  \n",
       "        8                 6                 0             ultra       2  \n",
       "        10                6                 0             ultra       2  \n",
       "        11                6                 0             ultra       3  \n",
       "        12                6                 0             ultra       2  \n",
       "2       3                 6                 0             ultra       3  \n",
       "        4                 6                 0             ultra       2  \n",
       "        6                 6                 0             ultra       1  \n",
       "        7                 6                 0             ultra       2  "
      ]
     },
     "metadata": {},
     "output_type": "display_data"
    }
   ],
   "source": [
    "groupby_columns = ['user_id', 'month']\n",
    "final_data['starts'] = 1\n",
    "aggregated_data = final_data.groupby(groupby_columns).agg({\n",
    "    'distance': 'sum',\n",
    "    'duration': 'sum',\n",
    "    'age': 'first',\n",
    "    'city': 'first',\n",
    "    'subscription_fee': 'first',\n",
    "    'minute_price': 'first',\n",
    "    'start_ride_price': 'first',\n",
    "    'subscription_type': 'first',\n",
    "    'starts': 'count'\n",
    "})\n",
    "\n",
    "display(aggregated_data.head(10))\n"
   ]
  },
  {
   "cell_type": "markdown",
   "id": "3c6f017f",
   "metadata": {},
   "source": [
    "5.2 В этот же датафрейм добавим столбец с помесячной выручкой, которую принёс каждый пользователь. Для этого обратимся к информации об условиях оплаты для подписчиков и тех, у кого нет подписки. Продолжительность каждой поездки в каждой строке исходного датафрейма для подсчёта стоимости будем округлять до следующего целого числа: например, значения \n",
    "25.3\n",
    "25.3, \n",
    "25.5\n",
    "25.5 и \n",
    "26.0\n",
    "26.0 будут преобразованы к \n",
    "26."
   ]
  },
  {
   "cell_type": "markdown",
   "id": "4db64e75",
   "metadata": {},
   "source": [
    "Чтобы совершать поездки по городу, пользователи сервиса GoFast пользуются мобильным приложением. Сервисом можно пользоваться:\n",
    "\n",
    "без подписки\n",
    "абонентская плата отсутствует;\n",
    "стоимость одной минуты поездки — \n",
    "8 рублей;\n",
    "стоимость старта (начала поездки) — \n",
    "50 рублей;\n",
    "\n",
    "с подпиской Ultra\n",
    "абонентская плата — \n",
    "199 рублей в месяц;\n",
    "стоимость одной минуты поездки — \n",
    "6 рублей;\n",
    "стоимость старта — бесплатно."
   ]
  },
  {
   "cell_type": "code",
   "execution_count": 46,
   "id": "8cfc82ad",
   "metadata": {},
   "outputs": [
    {
     "data": {
      "text/html": [
       "<div>\n",
       "<style scoped>\n",
       "    .dataframe tbody tr th:only-of-type {\n",
       "        vertical-align: middle;\n",
       "    }\n",
       "\n",
       "    .dataframe tbody tr th {\n",
       "        vertical-align: top;\n",
       "    }\n",
       "\n",
       "    .dataframe thead th {\n",
       "        text-align: right;\n",
       "    }\n",
       "</style>\n",
       "<table border=\"1\" class=\"dataframe\">\n",
       "  <thead>\n",
       "    <tr style=\"text-align: right;\">\n",
       "      <th></th>\n",
       "      <th></th>\n",
       "      <th>distance</th>\n",
       "      <th>duration</th>\n",
       "      <th>age</th>\n",
       "      <th>city</th>\n",
       "      <th>subscription_fee</th>\n",
       "      <th>minute_price</th>\n",
       "      <th>start_ride_price</th>\n",
       "      <th>subscription_type</th>\n",
       "      <th>starts</th>\n",
       "      <th>monthly_total</th>\n",
       "    </tr>\n",
       "    <tr>\n",
       "      <th>user_id</th>\n",
       "      <th>month</th>\n",
       "      <th></th>\n",
       "      <th></th>\n",
       "      <th></th>\n",
       "      <th></th>\n",
       "      <th></th>\n",
       "      <th></th>\n",
       "      <th></th>\n",
       "      <th></th>\n",
       "      <th></th>\n",
       "      <th></th>\n",
       "    </tr>\n",
       "  </thead>\n",
       "  <tbody>\n",
       "    <tr>\n",
       "      <th rowspan=\"5\" valign=\"top\">1</th>\n",
       "      <th>1</th>\n",
       "      <td>7027.511294</td>\n",
       "      <td>41.416640</td>\n",
       "      <td>22</td>\n",
       "      <td>Тюмень</td>\n",
       "      <td>199</td>\n",
       "      <td>6</td>\n",
       "      <td>0</td>\n",
       "      <td>ultra</td>\n",
       "      <td>2</td>\n",
       "      <td>451</td>\n",
       "    </tr>\n",
       "    <tr>\n",
       "      <th>4</th>\n",
       "      <td>754.159807</td>\n",
       "      <td>6.232113</td>\n",
       "      <td>22</td>\n",
       "      <td>Тюмень</td>\n",
       "      <td>199</td>\n",
       "      <td>6</td>\n",
       "      <td>0</td>\n",
       "      <td>ultra</td>\n",
       "      <td>1</td>\n",
       "      <td>241</td>\n",
       "    </tr>\n",
       "    <tr>\n",
       "      <th>8</th>\n",
       "      <td>6723.470560</td>\n",
       "      <td>44.776802</td>\n",
       "      <td>22</td>\n",
       "      <td>Тюмень</td>\n",
       "      <td>199</td>\n",
       "      <td>6</td>\n",
       "      <td>0</td>\n",
       "      <td>ultra</td>\n",
       "      <td>2</td>\n",
       "      <td>469</td>\n",
       "    </tr>\n",
       "    <tr>\n",
       "      <th>10</th>\n",
       "      <td>5809.911100</td>\n",
       "      <td>31.578017</td>\n",
       "      <td>22</td>\n",
       "      <td>Тюмень</td>\n",
       "      <td>199</td>\n",
       "      <td>6</td>\n",
       "      <td>0</td>\n",
       "      <td>ultra</td>\n",
       "      <td>2</td>\n",
       "      <td>391</td>\n",
       "    </tr>\n",
       "    <tr>\n",
       "      <th>11</th>\n",
       "      <td>7003.499363</td>\n",
       "      <td>53.397424</td>\n",
       "      <td>22</td>\n",
       "      <td>Тюмень</td>\n",
       "      <td>199</td>\n",
       "      <td>6</td>\n",
       "      <td>0</td>\n",
       "      <td>ultra</td>\n",
       "      <td>3</td>\n",
       "      <td>523</td>\n",
       "    </tr>\n",
       "    <tr>\n",
       "      <th>...</th>\n",
       "      <th>...</th>\n",
       "      <td>...</td>\n",
       "      <td>...</td>\n",
       "      <td>...</td>\n",
       "      <td>...</td>\n",
       "      <td>...</td>\n",
       "      <td>...</td>\n",
       "      <td>...</td>\n",
       "      <td>...</td>\n",
       "      <td>...</td>\n",
       "      <td>...</td>\n",
       "    </tr>\n",
       "    <tr>\n",
       "      <th rowspan=\"5\" valign=\"top\">1534</th>\n",
       "      <th>6</th>\n",
       "      <td>3409.468534</td>\n",
       "      <td>24.812678</td>\n",
       "      <td>25</td>\n",
       "      <td>Краснодар</td>\n",
       "      <td>0</td>\n",
       "      <td>8</td>\n",
       "      <td>50</td>\n",
       "      <td>free</td>\n",
       "      <td>2</td>\n",
       "      <td>300</td>\n",
       "    </tr>\n",
       "    <tr>\n",
       "      <th>8</th>\n",
       "      <td>7622.453034</td>\n",
       "      <td>47.205960</td>\n",
       "      <td>25</td>\n",
       "      <td>Краснодар</td>\n",
       "      <td>0</td>\n",
       "      <td>8</td>\n",
       "      <td>50</td>\n",
       "      <td>free</td>\n",
       "      <td>2</td>\n",
       "      <td>484</td>\n",
       "    </tr>\n",
       "    <tr>\n",
       "      <th>9</th>\n",
       "      <td>4928.173852</td>\n",
       "      <td>22.560373</td>\n",
       "      <td>25</td>\n",
       "      <td>Краснодар</td>\n",
       "      <td>0</td>\n",
       "      <td>8</td>\n",
       "      <td>50</td>\n",
       "      <td>free</td>\n",
       "      <td>1</td>\n",
       "      <td>234</td>\n",
       "    </tr>\n",
       "    <tr>\n",
       "      <th>11</th>\n",
       "      <td>13350.015305</td>\n",
       "      <td>76.342174</td>\n",
       "      <td>25</td>\n",
       "      <td>Краснодар</td>\n",
       "      <td>0</td>\n",
       "      <td>8</td>\n",
       "      <td>50</td>\n",
       "      <td>free</td>\n",
       "      <td>4</td>\n",
       "      <td>816</td>\n",
       "    </tr>\n",
       "    <tr>\n",
       "      <th>12</th>\n",
       "      <td>2371.711192</td>\n",
       "      <td>15.893917</td>\n",
       "      <td>25</td>\n",
       "      <td>Краснодар</td>\n",
       "      <td>0</td>\n",
       "      <td>8</td>\n",
       "      <td>50</td>\n",
       "      <td>free</td>\n",
       "      <td>1</td>\n",
       "      <td>178</td>\n",
       "    </tr>\n",
       "  </tbody>\n",
       "</table>\n",
       "<p>11300 rows × 10 columns</p>\n",
       "</div>"
      ],
      "text/plain": [
       "                   distance   duration  age       city  subscription_fee  \\\n",
       "user_id month                                                              \n",
       "1       1       7027.511294  41.416640   22     Тюмень               199   \n",
       "        4        754.159807   6.232113   22     Тюмень               199   \n",
       "        8       6723.470560  44.776802   22     Тюмень               199   \n",
       "        10      5809.911100  31.578017   22     Тюмень               199   \n",
       "        11      7003.499363  53.397424   22     Тюмень               199   \n",
       "...                     ...        ...  ...        ...               ...   \n",
       "1534    6       3409.468534  24.812678   25  Краснодар                 0   \n",
       "        8       7622.453034  47.205960   25  Краснодар                 0   \n",
       "        9       4928.173852  22.560373   25  Краснодар                 0   \n",
       "        11     13350.015305  76.342174   25  Краснодар                 0   \n",
       "        12      2371.711192  15.893917   25  Краснодар                 0   \n",
       "\n",
       "               minute_price  start_ride_price subscription_type  starts  \\\n",
       "user_id month                                                             \n",
       "1       1                 6                 0             ultra       2   \n",
       "        4                 6                 0             ultra       1   \n",
       "        8                 6                 0             ultra       2   \n",
       "        10                6                 0             ultra       2   \n",
       "        11                6                 0             ultra       3   \n",
       "...                     ...               ...               ...     ...   \n",
       "1534    6                 8                50              free       2   \n",
       "        8                 8                50              free       2   \n",
       "        9                 8                50              free       1   \n",
       "        11                8                50              free       4   \n",
       "        12                8                50              free       1   \n",
       "\n",
       "               monthly_total  \n",
       "user_id month                 \n",
       "1       1                451  \n",
       "        4                241  \n",
       "        8                469  \n",
       "        10               391  \n",
       "        11               523  \n",
       "...                      ...  \n",
       "1534    6                300  \n",
       "        8                484  \n",
       "        9                234  \n",
       "        11               816  \n",
       "        12               178  \n",
       "\n",
       "[11300 rows x 10 columns]"
      ]
     },
     "metadata": {},
     "output_type": "display_data"
    }
   ],
   "source": [
    "aggregated_data['monthly_total'] = aggregated_data.apply(lambda x: (math.ceil(float(x['duration'])) * 8 + 50 * int(x['starts'])) if x['subscription_type'] == 'free' else (199 + math.ceil(float(x['duration'])) * 6), axis=1)\n",
    "\n",
    "display(aggregated_data)"
   ]
  },
  {
   "cell_type": "markdown",
   "id": "dd5bfeed",
   "metadata": {},
   "source": [
    "__Шаг 6. Проверка гипотез__"
   ]
  },
  {
   "cell_type": "markdown",
   "id": "88a56642",
   "metadata": {},
   "source": [
    "Продакт-менеджеры сервиса хотят увеличить количество пользователей с подпиской. Для этого они будут проводить различные акции, но сначала нужно выяснить несколько важных моментов."
   ]
  },
  {
   "cell_type": "markdown",
   "id": "240c9cd1",
   "metadata": {},
   "source": [
    "6.1 Важно понять, тратят ли пользователи с подпиской больше времени на поездки? Если да, то пользователи с подпиской могут быть «выгоднее» для компании. Проверьте гипотезу. Используйте исходные данные о продолжительности каждой сессии — отдельно для подписчиков и тех, у кого нет подписки."
   ]
  },
  {
   "cell_type": "markdown",
   "id": "b1dcfdbf",
   "metadata": {},
   "source": [
    "Для проверки гипотезы о том, тратят ли пользователи с подпиской больше времени на поездки, будем использовать статистический тест."
   ]
  },
  {
   "cell_type": "markdown",
   "id": "768cc992",
   "metadata": {},
   "source": [
    "Нулевая гипотеза (H0): Среднее время поездок пользователей с подпиской не меньше, чем среднее время поездок пользователей без подписки.\n",
    "Альтернативная гипотеза (H1): Среднее время поездок пользователей с подпиской меньше, чем среднее время поездок пользователей без подписки."
   ]
  },
  {
   "cell_type": "code",
   "execution_count": 47,
   "id": "03d3c6a5",
   "metadata": {},
   "outputs": [
    {
     "name": "stdout",
     "output_type": "stream",
     "text": [
      "t-статистика: 11.24490594195034\n",
      "P-значение: 1.6162210195311063e-29\n",
      "Отвергаем нулевую гипотезу: среднее время поездок пользователей с подпиской меньше\n"
     ]
    }
   ],
   "source": [
    "t_stat, p_value = ttest_ind(people_subscribed['duration'], people_unsubscribed['duration'], alternative='greater', equal_var=False)\n",
    "\n",
    "print(f\"t-статистика: {t_stat}\")\n",
    "print(f\"P-значение: {p_value}\")\n",
    "\n",
    "alpha = 0.05\n",
    "if p_value < alpha:\n",
    "    print(\"Отвергаем нулевую гипотезу: среднее время поездок пользователей с подпиской меньше\")\n",
    "else:\n",
    "    print(\"Не удалось отвергнуть нулевую гипотезу: среднее время поездок пользователей с подпиской не меньше\")"
   ]
  },
  {
   "cell_type": "markdown",
   "id": "43b2d461",
   "metadata": {},
   "source": [
    "Статичтический тест показал, что люди с подпиской тратят меньше времени на поездки, это означает, что компании нельзя их счиать более 'выгодными'"
   ]
  },
  {
   "cell_type": "markdown",
   "id": "63c721b6",
   "metadata": {},
   "source": [
    "6.2 Расстояние одной поездки в \n",
    "3130 метров — оптимальное с точки зрения износа самоката. Можно ли сказать, что среднее расстояние, которое проезжают пользователи с подпиской за одну поездку, не превышает \n",
    "3130 метров? Проверьте гипотезу и сделайте выводы."
   ]
  },
  {
   "cell_type": "markdown",
   "id": "e5a3f6c2",
   "metadata": {},
   "source": [
    "Для проверки гипотезы о том, что среднее расстояние, которое проезжают пользователи с подпиской за одну поездку, не превышает 3130 метров, будем использовать аналогичный метод, основанный на t-тесте."
   ]
  },
  {
   "cell_type": "markdown",
   "id": "2be6911e",
   "metadata": {},
   "source": [
    "Нулевая гипотеза (H0): Среднее расстояние поездок пользователей с подпиской не превышает 3130 метров.\n",
    "\n",
    "Альтернативная гипотеза (H1): Среднее расстояние поездок пользователей с подпиской больше 3130 метров."
   ]
  },
  {
   "cell_type": "code",
   "execution_count": 48,
   "id": "5c9cc7d5",
   "metadata": {},
   "outputs": [
    {
     "name": "stdout",
     "output_type": "stream",
     "text": [
      "t-статистика: -45020.02675908614\n",
      "P-значение: 1.0\n",
      "Не удалось отвергнуть нулевую гипотезу: среднее расстояние поездок пользователей с подпиской не больше 3130 метров\n"
     ]
    }
   ],
   "source": [
    "t_stat, p_value = ttest_1samp(people_subscribed['duration'], popmean=3130, alternative='greater')\n",
    "\n",
    "print(f\"t-статистика: {t_stat}\")\n",
    "print(f\"P-значение: {p_value}\")\n",
    "\n",
    "alpha = 0.05\n",
    "if p_value < alpha:\n",
    "    print(\"Отвергаем нулевую гипотезу: среднее расстояние поездок пользователей с подпиской больше 3130 метров\")\n",
    "else:\n",
    "    print(\"Не удалось отвергнуть нулевую гипотезу: среднее расстояние поездок пользователей с подпиской не больше 3130 метров\")"
   ]
  },
  {
   "cell_type": "markdown",
   "id": "731f99e1",
   "metadata": {},
   "source": [
    "Тест показал, что среднее расстояние, которое проезжают пользователи с подпиской за одну поездку не превышает 3130 метров, а значит они не вредят самокатам с точки зрения износа"
   ]
  },
  {
   "cell_type": "markdown",
   "id": "74110792",
   "metadata": {},
   "source": [
    "6.3 Проверьте гипотезу о том, будет ли помесячная выручка от пользователей с подпиской по месяцам выше, чем выручка от пользователей без подписки. Сделайте вывод."
   ]
  },
  {
   "cell_type": "markdown",
   "id": "c4a15d12",
   "metadata": {},
   "source": [
    "Посчитаем общую выручку по месяцам для людей с подпиской и без нее"
   ]
  },
  {
   "cell_type": "code",
   "execution_count": 49,
   "id": "28b84e78",
   "metadata": {},
   "outputs": [
    {
     "data": {
      "text/html": [
       "<div>\n",
       "<style scoped>\n",
       "    .dataframe tbody tr th:only-of-type {\n",
       "        vertical-align: middle;\n",
       "    }\n",
       "\n",
       "    .dataframe tbody tr th {\n",
       "        vertical-align: top;\n",
       "    }\n",
       "\n",
       "    .dataframe thead th {\n",
       "        text-align: right;\n",
       "    }\n",
       "</style>\n",
       "<table border=\"1\" class=\"dataframe\">\n",
       "  <thead>\n",
       "    <tr style=\"text-align: right;\">\n",
       "      <th></th>\n",
       "      <th></th>\n",
       "      <th>distance</th>\n",
       "      <th>duration</th>\n",
       "      <th>age</th>\n",
       "      <th>city</th>\n",
       "      <th>subscription_fee</th>\n",
       "      <th>minute_price</th>\n",
       "      <th>start_ride_price</th>\n",
       "      <th>subscription_type</th>\n",
       "      <th>starts</th>\n",
       "      <th>monthly_total</th>\n",
       "    </tr>\n",
       "    <tr>\n",
       "      <th>user_id</th>\n",
       "      <th>month</th>\n",
       "      <th></th>\n",
       "      <th></th>\n",
       "      <th></th>\n",
       "      <th></th>\n",
       "      <th></th>\n",
       "      <th></th>\n",
       "      <th></th>\n",
       "      <th></th>\n",
       "      <th></th>\n",
       "      <th></th>\n",
       "    </tr>\n",
       "  </thead>\n",
       "  <tbody>\n",
       "    <tr>\n",
       "      <th rowspan=\"5\" valign=\"top\">1</th>\n",
       "      <th>1</th>\n",
       "      <td>7027.511294</td>\n",
       "      <td>41.416640</td>\n",
       "      <td>22</td>\n",
       "      <td>Тюмень</td>\n",
       "      <td>199</td>\n",
       "      <td>6</td>\n",
       "      <td>0</td>\n",
       "      <td>ultra</td>\n",
       "      <td>2</td>\n",
       "      <td>451</td>\n",
       "    </tr>\n",
       "    <tr>\n",
       "      <th>4</th>\n",
       "      <td>754.159807</td>\n",
       "      <td>6.232113</td>\n",
       "      <td>22</td>\n",
       "      <td>Тюмень</td>\n",
       "      <td>199</td>\n",
       "      <td>6</td>\n",
       "      <td>0</td>\n",
       "      <td>ultra</td>\n",
       "      <td>1</td>\n",
       "      <td>241</td>\n",
       "    </tr>\n",
       "    <tr>\n",
       "      <th>8</th>\n",
       "      <td>6723.470560</td>\n",
       "      <td>44.776802</td>\n",
       "      <td>22</td>\n",
       "      <td>Тюмень</td>\n",
       "      <td>199</td>\n",
       "      <td>6</td>\n",
       "      <td>0</td>\n",
       "      <td>ultra</td>\n",
       "      <td>2</td>\n",
       "      <td>469</td>\n",
       "    </tr>\n",
       "    <tr>\n",
       "      <th>10</th>\n",
       "      <td>5809.911100</td>\n",
       "      <td>31.578017</td>\n",
       "      <td>22</td>\n",
       "      <td>Тюмень</td>\n",
       "      <td>199</td>\n",
       "      <td>6</td>\n",
       "      <td>0</td>\n",
       "      <td>ultra</td>\n",
       "      <td>2</td>\n",
       "      <td>391</td>\n",
       "    </tr>\n",
       "    <tr>\n",
       "      <th>11</th>\n",
       "      <td>7003.499363</td>\n",
       "      <td>53.397424</td>\n",
       "      <td>22</td>\n",
       "      <td>Тюмень</td>\n",
       "      <td>199</td>\n",
       "      <td>6</td>\n",
       "      <td>0</td>\n",
       "      <td>ultra</td>\n",
       "      <td>3</td>\n",
       "      <td>523</td>\n",
       "    </tr>\n",
       "    <tr>\n",
       "      <th>...</th>\n",
       "      <th>...</th>\n",
       "      <td>...</td>\n",
       "      <td>...</td>\n",
       "      <td>...</td>\n",
       "      <td>...</td>\n",
       "      <td>...</td>\n",
       "      <td>...</td>\n",
       "      <td>...</td>\n",
       "      <td>...</td>\n",
       "      <td>...</td>\n",
       "      <td>...</td>\n",
       "    </tr>\n",
       "    <tr>\n",
       "      <th rowspan=\"5\" valign=\"top\">1534</th>\n",
       "      <th>6</th>\n",
       "      <td>3409.468534</td>\n",
       "      <td>24.812678</td>\n",
       "      <td>25</td>\n",
       "      <td>Краснодар</td>\n",
       "      <td>0</td>\n",
       "      <td>8</td>\n",
       "      <td>50</td>\n",
       "      <td>free</td>\n",
       "      <td>2</td>\n",
       "      <td>300</td>\n",
       "    </tr>\n",
       "    <tr>\n",
       "      <th>8</th>\n",
       "      <td>7622.453034</td>\n",
       "      <td>47.205960</td>\n",
       "      <td>25</td>\n",
       "      <td>Краснодар</td>\n",
       "      <td>0</td>\n",
       "      <td>8</td>\n",
       "      <td>50</td>\n",
       "      <td>free</td>\n",
       "      <td>2</td>\n",
       "      <td>484</td>\n",
       "    </tr>\n",
       "    <tr>\n",
       "      <th>9</th>\n",
       "      <td>4928.173852</td>\n",
       "      <td>22.560373</td>\n",
       "      <td>25</td>\n",
       "      <td>Краснодар</td>\n",
       "      <td>0</td>\n",
       "      <td>8</td>\n",
       "      <td>50</td>\n",
       "      <td>free</td>\n",
       "      <td>1</td>\n",
       "      <td>234</td>\n",
       "    </tr>\n",
       "    <tr>\n",
       "      <th>11</th>\n",
       "      <td>13350.015305</td>\n",
       "      <td>76.342174</td>\n",
       "      <td>25</td>\n",
       "      <td>Краснодар</td>\n",
       "      <td>0</td>\n",
       "      <td>8</td>\n",
       "      <td>50</td>\n",
       "      <td>free</td>\n",
       "      <td>4</td>\n",
       "      <td>816</td>\n",
       "    </tr>\n",
       "    <tr>\n",
       "      <th>12</th>\n",
       "      <td>2371.711192</td>\n",
       "      <td>15.893917</td>\n",
       "      <td>25</td>\n",
       "      <td>Краснодар</td>\n",
       "      <td>0</td>\n",
       "      <td>8</td>\n",
       "      <td>50</td>\n",
       "      <td>free</td>\n",
       "      <td>1</td>\n",
       "      <td>178</td>\n",
       "    </tr>\n",
       "  </tbody>\n",
       "</table>\n",
       "<p>11300 rows × 10 columns</p>\n",
       "</div>"
      ],
      "text/plain": [
       "                   distance   duration  age       city  subscription_fee  \\\n",
       "user_id month                                                              \n",
       "1       1       7027.511294  41.416640   22     Тюмень               199   \n",
       "        4        754.159807   6.232113   22     Тюмень               199   \n",
       "        8       6723.470560  44.776802   22     Тюмень               199   \n",
       "        10      5809.911100  31.578017   22     Тюмень               199   \n",
       "        11      7003.499363  53.397424   22     Тюмень               199   \n",
       "...                     ...        ...  ...        ...               ...   \n",
       "1534    6       3409.468534  24.812678   25  Краснодар                 0   \n",
       "        8       7622.453034  47.205960   25  Краснодар                 0   \n",
       "        9       4928.173852  22.560373   25  Краснодар                 0   \n",
       "        11     13350.015305  76.342174   25  Краснодар                 0   \n",
       "        12      2371.711192  15.893917   25  Краснодар                 0   \n",
       "\n",
       "               minute_price  start_ride_price subscription_type  starts  \\\n",
       "user_id month                                                             \n",
       "1       1                 6                 0             ultra       2   \n",
       "        4                 6                 0             ultra       1   \n",
       "        8                 6                 0             ultra       2   \n",
       "        10                6                 0             ultra       2   \n",
       "        11                6                 0             ultra       3   \n",
       "...                     ...               ...               ...     ...   \n",
       "1534    6                 8                50              free       2   \n",
       "        8                 8                50              free       2   \n",
       "        9                 8                50              free       1   \n",
       "        11                8                50              free       4   \n",
       "        12                8                50              free       1   \n",
       "\n",
       "               monthly_total  \n",
       "user_id month                 \n",
       "1       1                451  \n",
       "        4                241  \n",
       "        8                469  \n",
       "        10               391  \n",
       "        11               523  \n",
       "...                      ...  \n",
       "1534    6                300  \n",
       "        8                484  \n",
       "        9                234  \n",
       "        11               816  \n",
       "        12               178  \n",
       "\n",
       "[11300 rows x 10 columns]"
      ]
     },
     "metadata": {},
     "output_type": "display_data"
    }
   ],
   "source": [
    "display(aggregated_data)"
   ]
  },
  {
   "cell_type": "code",
   "execution_count": 50,
   "id": "0d3dc964",
   "metadata": {},
   "outputs": [
    {
     "data": {
      "text/html": [
       "<div>\n",
       "<style scoped>\n",
       "    .dataframe tbody tr th:only-of-type {\n",
       "        vertical-align: middle;\n",
       "    }\n",
       "\n",
       "    .dataframe tbody tr th {\n",
       "        vertical-align: top;\n",
       "    }\n",
       "\n",
       "    .dataframe thead th {\n",
       "        text-align: right;\n",
       "    }\n",
       "</style>\n",
       "<table border=\"1\" class=\"dataframe\">\n",
       "  <thead>\n",
       "    <tr style=\"text-align: right;\">\n",
       "      <th></th>\n",
       "      <th></th>\n",
       "      <th>monthly_total</th>\n",
       "    </tr>\n",
       "    <tr>\n",
       "      <th>month</th>\n",
       "      <th>subscription_type</th>\n",
       "      <th></th>\n",
       "    </tr>\n",
       "  </thead>\n",
       "  <tbody>\n",
       "    <tr>\n",
       "      <th rowspan=\"2\" valign=\"top\">1</th>\n",
       "      <th>free</th>\n",
       "      <td>191856</td>\n",
       "    </tr>\n",
       "    <tr>\n",
       "      <th>ultra</th>\n",
       "      <td>143502</td>\n",
       "    </tr>\n",
       "    <tr>\n",
       "      <th rowspan=\"2\" valign=\"top\">2</th>\n",
       "      <th>free</th>\n",
       "      <td>164064</td>\n",
       "    </tr>\n",
       "    <tr>\n",
       "      <th>ultra</th>\n",
       "      <td>124266</td>\n",
       "    </tr>\n",
       "    <tr>\n",
       "      <th rowspan=\"2\" valign=\"top\">3</th>\n",
       "      <th>free</th>\n",
       "      <td>185032</td>\n",
       "    </tr>\n",
       "    <tr>\n",
       "      <th>ultra</th>\n",
       "      <td>142074</td>\n",
       "    </tr>\n",
       "    <tr>\n",
       "      <th rowspan=\"2\" valign=\"top\">4</th>\n",
       "      <th>free</th>\n",
       "      <td>183544</td>\n",
       "    </tr>\n",
       "    <tr>\n",
       "      <th>ultra</th>\n",
       "      <td>136826</td>\n",
       "    </tr>\n",
       "    <tr>\n",
       "      <th rowspan=\"2\" valign=\"top\">5</th>\n",
       "      <th>free</th>\n",
       "      <td>185878</td>\n",
       "    </tr>\n",
       "    <tr>\n",
       "      <th>ultra</th>\n",
       "      <td>148647</td>\n",
       "    </tr>\n",
       "    <tr>\n",
       "      <th rowspan=\"2\" valign=\"top\">6</th>\n",
       "      <th>free</th>\n",
       "      <td>190214</td>\n",
       "    </tr>\n",
       "    <tr>\n",
       "      <th>ultra</th>\n",
       "      <td>143342</td>\n",
       "    </tr>\n",
       "    <tr>\n",
       "      <th rowspan=\"2\" valign=\"top\">7</th>\n",
       "      <th>free</th>\n",
       "      <td>183168</td>\n",
       "    </tr>\n",
       "    <tr>\n",
       "      <th>ultra</th>\n",
       "      <td>142896</td>\n",
       "    </tr>\n",
       "    <tr>\n",
       "      <th rowspan=\"2\" valign=\"top\">8</th>\n",
       "      <th>free</th>\n",
       "      <td>184972</td>\n",
       "    </tr>\n",
       "    <tr>\n",
       "      <th>ultra</th>\n",
       "      <td>138096</td>\n",
       "    </tr>\n",
       "    <tr>\n",
       "      <th rowspan=\"2\" valign=\"top\">9</th>\n",
       "      <th>free</th>\n",
       "      <td>191768</td>\n",
       "    </tr>\n",
       "    <tr>\n",
       "      <th>ultra</th>\n",
       "      <td>128863</td>\n",
       "    </tr>\n",
       "    <tr>\n",
       "      <th rowspan=\"2\" valign=\"top\">10</th>\n",
       "      <th>free</th>\n",
       "      <td>179500</td>\n",
       "    </tr>\n",
       "    <tr>\n",
       "      <th>ultra</th>\n",
       "      <td>133446</td>\n",
       "    </tr>\n",
       "    <tr>\n",
       "      <th rowspan=\"2\" valign=\"top\">11</th>\n",
       "      <th>free</th>\n",
       "      <td>176990</td>\n",
       "    </tr>\n",
       "    <tr>\n",
       "      <th>ultra</th>\n",
       "      <td>126096</td>\n",
       "    </tr>\n",
       "    <tr>\n",
       "      <th rowspan=\"2\" valign=\"top\">12</th>\n",
       "      <th>free</th>\n",
       "      <td>192808</td>\n",
       "    </tr>\n",
       "    <tr>\n",
       "      <th>ultra</th>\n",
       "      <td>130543</td>\n",
       "    </tr>\n",
       "  </tbody>\n",
       "</table>\n",
       "</div>"
      ],
      "text/plain": [
       "                         monthly_total\n",
       "month subscription_type               \n",
       "1     free                      191856\n",
       "      ultra                     143502\n",
       "2     free                      164064\n",
       "      ultra                     124266\n",
       "3     free                      185032\n",
       "      ultra                     142074\n",
       "4     free                      183544\n",
       "      ultra                     136826\n",
       "5     free                      185878\n",
       "      ultra                     148647\n",
       "6     free                      190214\n",
       "      ultra                     143342\n",
       "7     free                      183168\n",
       "      ultra                     142896\n",
       "8     free                      184972\n",
       "      ultra                     138096\n",
       "9     free                      191768\n",
       "      ultra                     128863\n",
       "10    free                      179500\n",
       "      ultra                     133446\n",
       "11    free                      176990\n",
       "      ultra                     126096\n",
       "12    free                      192808\n",
       "      ultra                     130543"
      ]
     },
     "metadata": {},
     "output_type": "display_data"
    }
   ],
   "source": [
    "groupby_columns = ['month', 'subscription_type']\n",
    "data_for63 = aggregated_data.groupby(groupby_columns).agg({\n",
    "    'monthly_total': 'sum'\n",
    "})\n",
    "\n",
    "display(data_for63)"
   ]
  },
  {
   "cell_type": "code",
   "execution_count": 51,
   "id": "2880e0c0",
   "metadata": {},
   "outputs": [
    {
     "data": {
      "text/plain": [
       "<AxesSubplot:title={'center':'Monthly Total by Subscription Type'}, xlabel='Month', ylabel='Monthly Total'>"
      ]
     },
     "execution_count": 51,
     "metadata": {},
     "output_type": "execute_result"
    },
    {
     "data": {
      "image/png": "[encoded data removed]",
      "text/plain": [
       "<Figure size 432x288 with 1 Axes>"
      ]
     },
     "metadata": {
      "needs_background": "light"
     },
     "output_type": "display_data"
    }
   ],
   "source": [
    "grouped_data_for63 = data_for63.pivot_table(index='month', columns='subscription_type', values='monthly_total')\n",
    "\n",
    "grouped_data_for63.plot(kind='bar', position=0, width=0.4, title='Monthly Total by Subscription Type', xlabel='Month', ylabel='Monthly Total')\n"
   ]
  },
  {
   "cell_type": "markdown",
   "id": "80eccdea",
   "metadata": {},
   "source": [
    "Из графика и таблицы делаем вывод, что общая помесечная прибыль больше с людей, у которых нет подписки\n",
    "Теперь посчитаем среднее значение"
   ]
  },
  {
   "cell_type": "code",
   "execution_count": 52,
   "id": "9b7d2402",
   "metadata": {},
   "outputs": [
    {
     "data": {
      "text/html": [
       "<div>\n",
       "<style scoped>\n",
       "    .dataframe tbody tr th:only-of-type {\n",
       "        vertical-align: middle;\n",
       "    }\n",
       "\n",
       "    .dataframe tbody tr th {\n",
       "        vertical-align: top;\n",
       "    }\n",
       "\n",
       "    .dataframe thead th {\n",
       "        text-align: right;\n",
       "    }\n",
       "</style>\n",
       "<table border=\"1\" class=\"dataframe\">\n",
       "  <thead>\n",
       "    <tr style=\"text-align: right;\">\n",
       "      <th></th>\n",
       "      <th></th>\n",
       "      <th>monthly_total</th>\n",
       "    </tr>\n",
       "    <tr>\n",
       "      <th>month</th>\n",
       "      <th>subscription_type</th>\n",
       "      <th></th>\n",
       "    </tr>\n",
       "  </thead>\n",
       "  <tbody>\n",
       "    <tr>\n",
       "      <th rowspan=\"2\" valign=\"top\">1</th>\n",
       "      <th>free</th>\n",
       "      <td>321.906040</td>\n",
       "    </tr>\n",
       "    <tr>\n",
       "      <th>ultra</th>\n",
       "      <td>367.953846</td>\n",
       "    </tr>\n",
       "    <tr>\n",
       "      <th rowspan=\"2\" valign=\"top\">2</th>\n",
       "      <th>free</th>\n",
       "      <td>313.099237</td>\n",
       "    </tr>\n",
       "    <tr>\n",
       "      <th>ultra</th>\n",
       "      <td>351.033898</td>\n",
       "    </tr>\n",
       "    <tr>\n",
       "      <th rowspan=\"2\" valign=\"top\">3</th>\n",
       "      <th>free</th>\n",
       "      <td>335.811252</td>\n",
       "    </tr>\n",
       "    <tr>\n",
       "      <th>ultra</th>\n",
       "      <td>358.772727</td>\n",
       "    </tr>\n",
       "    <tr>\n",
       "      <th rowspan=\"2\" valign=\"top\">4</th>\n",
       "      <th>free</th>\n",
       "      <td>332.507246</td>\n",
       "    </tr>\n",
       "    <tr>\n",
       "      <th>ultra</th>\n",
       "      <td>365.844920</td>\n",
       "    </tr>\n",
       "    <tr>\n",
       "      <th rowspan=\"2\" valign=\"top\">5</th>\n",
       "      <th>free</th>\n",
       "      <td>324.961538</td>\n",
       "    </tr>\n",
       "    <tr>\n",
       "      <th>ultra</th>\n",
       "      <td>367.029630</td>\n",
       "    </tr>\n",
       "    <tr>\n",
       "      <th rowspan=\"2\" valign=\"top\">6</th>\n",
       "      <th>free</th>\n",
       "      <td>324.044293</td>\n",
       "    </tr>\n",
       "    <tr>\n",
       "      <th>ultra</th>\n",
       "      <td>360.155779</td>\n",
       "    </tr>\n",
       "    <tr>\n",
       "      <th rowspan=\"2\" valign=\"top\">7</th>\n",
       "      <th>free</th>\n",
       "      <td>326.502674</td>\n",
       "    </tr>\n",
       "    <tr>\n",
       "      <th>ultra</th>\n",
       "      <td>366.400000</td>\n",
       "    </tr>\n",
       "    <tr>\n",
       "      <th rowspan=\"2\" valign=\"top\">8</th>\n",
       "      <th>free</th>\n",
       "      <td>328.547069</td>\n",
       "    </tr>\n",
       "    <tr>\n",
       "      <th>ultra</th>\n",
       "      <td>359.625000</td>\n",
       "    </tr>\n",
       "    <tr>\n",
       "      <th rowspan=\"2\" valign=\"top\">9</th>\n",
       "      <th>free</th>\n",
       "      <td>332.930556</td>\n",
       "    </tr>\n",
       "    <tr>\n",
       "      <th>ultra</th>\n",
       "      <td>362.994366</td>\n",
       "    </tr>\n",
       "    <tr>\n",
       "      <th rowspan=\"2\" valign=\"top\">10</th>\n",
       "      <th>free</th>\n",
       "      <td>328.754579</td>\n",
       "    </tr>\n",
       "    <tr>\n",
       "      <th>ultra</th>\n",
       "      <td>358.725806</td>\n",
       "    </tr>\n",
       "    <tr>\n",
       "      <th rowspan=\"2\" valign=\"top\">11</th>\n",
       "      <th>free</th>\n",
       "      <td>320.054250</td>\n",
       "    </tr>\n",
       "    <tr>\n",
       "      <th>ultra</th>\n",
       "      <td>356.203390</td>\n",
       "    </tr>\n",
       "    <tr>\n",
       "      <th rowspan=\"2\" valign=\"top\">12</th>\n",
       "      <th>free</th>\n",
       "      <td>329.023891</td>\n",
       "    </tr>\n",
       "    <tr>\n",
       "      <th>ultra</th>\n",
       "      <td>361.614958</td>\n",
       "    </tr>\n",
       "  </tbody>\n",
       "</table>\n",
       "</div>"
      ],
      "text/plain": [
       "                         monthly_total\n",
       "month subscription_type               \n",
       "1     free                  321.906040\n",
       "      ultra                 367.953846\n",
       "2     free                  313.099237\n",
       "      ultra                 351.033898\n",
       "3     free                  335.811252\n",
       "      ultra                 358.772727\n",
       "4     free                  332.507246\n",
       "      ultra                 365.844920\n",
       "5     free                  324.961538\n",
       "      ultra                 367.029630\n",
       "6     free                  324.044293\n",
       "      ultra                 360.155779\n",
       "7     free                  326.502674\n",
       "      ultra                 366.400000\n",
       "8     free                  328.547069\n",
       "      ultra                 359.625000\n",
       "9     free                  332.930556\n",
       "      ultra                 362.994366\n",
       "10    free                  328.754579\n",
       "      ultra                 358.725806\n",
       "11    free                  320.054250\n",
       "      ultra                 356.203390\n",
       "12    free                  329.023891\n",
       "      ultra                 361.614958"
      ]
     },
     "metadata": {},
     "output_type": "display_data"
    }
   ],
   "source": [
    "groupby_columns = ['month', 'subscription_type']\n",
    "data_for63 = aggregated_data.groupby(groupby_columns).agg({\n",
    "    'monthly_total': 'mean'\n",
    "})\n",
    "\n",
    "display(data_for63)"
   ]
  },
  {
   "cell_type": "code",
   "execution_count": 53,
   "id": "6610ff70",
   "metadata": {},
   "outputs": [
    {
     "data": {
      "text/plain": [
       "<AxesSubplot:title={'center':'Monthly Total by Subscription Type'}, xlabel='Month', ylabel='Monthly Total'>"
      ]
     },
     "execution_count": 53,
     "metadata": {},
     "output_type": "execute_result"
    },
    {
     "data": {
      "image/png": "[encoded data removed]",
      "text/plain": [
       "<Figure size 432x288 with 1 Axes>"
      ]
     },
     "metadata": {
      "needs_background": "light"
     },
     "output_type": "display_data"
    }
   ],
   "source": [
    "grouped_data_for63 = data_for63.pivot_table(index='month', columns='subscription_type', values='monthly_total')\n",
    "\n",
    "grouped_data_for63.plot(kind='bar', position=0, width=0.4, title='Monthly Total by Subscription Type', xlabel='Month', ylabel='Monthly Total')\n"
   ]
  },
  {
   "cell_type": "markdown",
   "id": "9cec603d",
   "metadata": {},
   "source": [
    "На этом же графике и таблице мы видим, что в среднем люди с подпиской платят больше чем люди без нее. Следовательно  в среднем выручка с одного человека с подпиской больше чем с человека без подписки"
   ]
  },
  {
   "cell_type": "markdown",
   "id": "8d43f2c4",
   "metadata": {},
   "source": [
    "Для проверки гипотезы о том, будет ли помесячная выручка от пользователей с подпиской выше, чем у пользователей без подписки, воспользуемся t-тестом для независимых выборок."
   ]
  },
  {
   "cell_type": "markdown",
   "id": "17f9e508",
   "metadata": {},
   "source": [
    "Нулевая гипотеза (H0): Средняя выручка от пользователей с подпиской не превышает среднюю выручку от пользователей без подписки.\n",
    "Альтернативная гипотеза (H1): Средняя выручка от пользователей с подпиской выше средней выручки от пользователей без подписки."
   ]
  },
  {
   "cell_type": "code",
   "execution_count": 54,
   "id": "6b142426",
   "metadata": {},
   "outputs": [
    {
     "name": "stdout",
     "output_type": "stream",
     "text": [
      "t-статистика: 13.773667511671047\n",
      "P-значение: 8.716480143060768e-43\n",
      "Отвергаем нулевую гипотезу: средняя выручка от пользователей с подпиской выше\n"
     ]
    }
   ],
   "source": [
    "t_stat, p_value = ttest_ind(aggregated_data[aggregated_data['subscription_type'] == 'ultra']['monthly_total'], aggregated_data[aggregated_data['subscription_type'] == 'free']['monthly_total'], equal_var=False)\n",
    "\n",
    "print(f\"t-статистика: {t_stat}\")\n",
    "print(f\"P-значение: {p_value}\")\n",
    "\n",
    "alpha = 0.05\n",
    "if p_value < alpha:\n",
    "    print(\"Отвергаем нулевую гипотезу: средняя выручка от пользователей с подпиской выше\")\n",
    "else:\n",
    "    print(\"Не удалось отвергнуть нулевую гипотезу: средняя выручка от пользователей с подпиской не превышает выручки от пользователей без подписки\")"
   ]
  },
  {
   "cell_type": "markdown",
   "id": "12ec123f",
   "metadata": {},
   "source": [
    "Благодаря статистическому тесту нам стало понятно, что средняя выручка от пользователей с подпиской выше."
   ]
  },
  {
   "cell_type": "markdown",
   "id": "69ec1a21",
   "metadata": {},
   "source": [
    "6.4 Представьте такую ситуацию: техническая команда сервиса обновила сервера, с которыми взаимодействует мобильное приложение. Она надеется, что из-за этого количество обращений в техподдержку значимо снизилось. Некоторый файл содержит для каждого пользователя данные о количестве обращений до обновления и после него. Какой тест вам понадобился бы для проверки этой гипотезы?"
   ]
  },
  {
   "cell_type": "markdown",
   "id": "0ca654a7",
   "metadata": {},
   "source": [
    "Мы хотим проверить гипотезу о том, что обновление серверов снизило количество обращений в техподдержку. Нулевая гипотеза (H0) звучит как \"среднее количество обращений до и после обновления серверов равны\", в то время как альтернативная гипотеза (H1) утверждает, что \"среднее количество обращений до и после обновления серверов не равны\". Мы выбираем уровень значимости, например, 0.05, и используем t-тест для независимых выборок, так как у нас есть две независимые группы пользователей (до и после обновления). Собираем данные о количестве обращений для каждого пользователя до и после обновления, применяем t-тест и, если p-value меньше выбранного уровня значимости, отклоняем нулевую гипотезу. Таким образом, мы понимаем, что есть статистически значимые различия в количестве обращений до и после обновления серверов в будущем."
   ]
  },
  {
   "cell_type": "markdown",
   "id": "80b04bdb",
   "metadata": {},
   "source": [
    "__Общий вывод__"
   ]
  },
  {
   "cell_type": "markdown",
   "id": "bb9f191f",
   "metadata": {},
   "source": [
    "В ходе исследования были рассмотрены несколько гипотез, нацеленных на понимание ключевых аспектов поведения пользователей и эффективности бизнес-модели. Результаты анализа продолжительности поездок показали, что пользователи с подпиской не только тратят меньше времени на поездки, но и не превышают оптимальное расстояние в 3130 метров, что положительно сказывается на состоянии самокатов.\n",
    "\n",
    "Особенно важным выводом является тот факт, что, несмотря на возможное уменьшение выручки от пользователей с подпиской, эти пользователи представляют ценность для компании в других аспектах. Например, они могут быть более лояльными клиентами или внести вклад в популяризацию сервиса.\n",
    "\n",
    "В целом, проведенные анализы и статистические тесты предоставили ценные инсайты о поведении пользователей, эффективности бизнес-модели и воздействии технических изменений на взаимодействие с сервисом. Выводы этого исследования представляют важную основу для разработки стратегий улучшения сервиса и оптимизации взаимодействия с клиентами."
   ]
  }
 ],
 "metadata": {
  "ExecuteTimeLog": [
   {
    "duration": 460,
    "start_time": "2023-12-06T17:52:13.412Z"
   },
   {
    "duration": 89,
    "start_time": "2023-12-06T17:52:13.874Z"
   },
   {
    "duration": 76,
    "start_time": "2023-12-06T17:52:13.965Z"
   },
   {
    "duration": 88,
    "start_time": "2023-12-06T17:52:14.043Z"
   },
   {
    "duration": 13,
    "start_time": "2023-12-06T17:52:14.133Z"
   },
   {
    "duration": 20,
    "start_time": "2023-12-06T17:52:14.147Z"
   },
   {
    "duration": 17,
    "start_time": "2023-12-06T17:52:14.169Z"
   },
   {
    "duration": 14,
    "start_time": "2023-12-06T17:52:14.187Z"
   },
   {
    "duration": 24,
    "start_time": "2023-12-06T17:52:14.202Z"
   },
   {
    "duration": 11,
    "start_time": "2023-12-06T17:52:14.228Z"
   },
   {
    "duration": 17,
    "start_time": "2023-12-06T17:52:14.241Z"
   },
   {
    "duration": 10,
    "start_time": "2023-12-06T17:52:14.260Z"
   },
   {
    "duration": 10,
    "start_time": "2023-12-06T17:52:14.271Z"
   },
   {
    "duration": 8,
    "start_time": "2023-12-06T17:52:14.284Z"
   },
   {
    "duration": 11,
    "start_time": "2023-12-06T17:52:14.293Z"
   },
   {
    "duration": 28,
    "start_time": "2023-12-06T17:52:14.305Z"
   },
   {
    "duration": 11,
    "start_time": "2023-12-06T17:52:14.335Z"
   },
   {
    "duration": 8,
    "start_time": "2023-12-06T17:52:14.347Z"
   },
   {
    "duration": 20,
    "start_time": "2023-12-06T17:52:14.357Z"
   },
   {
    "duration": 5,
    "start_time": "2023-12-06T17:52:14.378Z"
   },
   {
    "duration": 7,
    "start_time": "2023-12-06T17:52:14.385Z"
   },
   {
    "duration": 23,
    "start_time": "2023-12-06T17:52:14.393Z"
   },
   {
    "duration": 418,
    "start_time": "2023-12-06T17:52:14.417Z"
   },
   {
    "duration": 8,
    "start_time": "2023-12-06T17:52:14.837Z"
   },
   {
    "duration": 150,
    "start_time": "2023-12-06T17:52:14.846Z"
   },
   {
    "duration": 6,
    "start_time": "2023-12-06T17:52:14.998Z"
   },
   {
    "duration": 327,
    "start_time": "2023-12-06T17:52:15.005Z"
   },
   {
    "duration": 9,
    "start_time": "2023-12-06T17:52:15.334Z"
   },
   {
    "duration": 391,
    "start_time": "2023-12-06T17:52:15.344Z"
   },
   {
    "duration": 9,
    "start_time": "2023-12-06T17:52:15.737Z"
   },
   {
    "duration": 315,
    "start_time": "2023-12-06T17:52:15.747Z"
   },
   {
    "duration": 15,
    "start_time": "2023-12-06T17:52:16.064Z"
   },
   {
    "duration": 233,
    "start_time": "2023-12-06T17:52:16.081Z"
   },
   {
    "duration": 10,
    "start_time": "2023-12-06T17:52:16.315Z"
   },
   {
    "duration": 329,
    "start_time": "2023-12-06T17:52:16.326Z"
   },
   {
    "duration": 40,
    "start_time": "2023-12-06T17:52:16.656Z"
   },
   {
    "duration": 74,
    "start_time": "2023-12-06T17:52:16.697Z"
   },
   {
    "duration": 50,
    "start_time": "2023-12-06T17:52:16.773Z"
   },
   {
    "duration": 604,
    "start_time": "2023-12-06T17:52:16.825Z"
   },
   {
    "duration": 681,
    "start_time": "2023-12-06T17:52:17.431Z"
   },
   {
    "duration": 9,
    "start_time": "2023-12-06T17:52:18.116Z"
   },
   {
    "duration": 22,
    "start_time": "2023-12-06T17:52:18.127Z"
   },
   {
    "duration": 31,
    "start_time": "2023-12-06T17:52:18.151Z"
   },
   {
    "duration": 176,
    "start_time": "2023-12-06T17:52:18.184Z"
   },
   {
    "duration": 24,
    "start_time": "2023-12-06T17:52:18.362Z"
   },
   {
    "duration": 24,
    "start_time": "2023-12-06T17:52:18.388Z"
   },
   {
    "duration": 302,
    "start_time": "2023-12-06T17:52:18.413Z"
   },
   {
    "duration": 22,
    "start_time": "2023-12-06T17:52:18.716Z"
   },
   {
    "duration": 12,
    "start_time": "2023-12-06T17:52:18.740Z"
   },
   {
    "duration": 274,
    "start_time": "2023-12-06T17:52:18.753Z"
   },
   {
    "duration": 13,
    "start_time": "2023-12-06T17:52:19.029Z"
   },
   {
    "duration": 250,
    "start_time": "2023-12-06T17:52:19.044Z"
   },
   {
    "duration": 429,
    "start_time": "2023-12-07T04:33:16.616Z"
   },
   {
    "duration": 77,
    "start_time": "2023-12-07T04:33:17.047Z"
   },
   {
    "duration": 106,
    "start_time": "2023-12-07T04:33:17.125Z"
   },
   {
    "duration": 68,
    "start_time": "2023-12-07T04:33:17.232Z"
   },
   {
    "duration": 12,
    "start_time": "2023-12-07T04:33:17.303Z"
   },
   {
    "duration": 13,
    "start_time": "2023-12-07T04:33:17.316Z"
   },
   {
    "duration": 11,
    "start_time": "2023-12-07T04:33:17.331Z"
   },
   {
    "duration": 5,
    "start_time": "2023-12-07T04:33:17.344Z"
   },
   {
    "duration": 11,
    "start_time": "2023-12-07T04:33:17.350Z"
   },
   {
    "duration": 11,
    "start_time": "2023-12-07T04:33:17.362Z"
   },
   {
    "duration": 5,
    "start_time": "2023-12-07T04:33:17.375Z"
   },
   {
    "duration": 9,
    "start_time": "2023-12-07T04:33:17.381Z"
   },
   {
    "duration": 17,
    "start_time": "2023-12-07T04:33:17.391Z"
   },
   {
    "duration": 10,
    "start_time": "2023-12-07T04:33:17.411Z"
   },
   {
    "duration": 6,
    "start_time": "2023-12-07T04:33:17.443Z"
   },
   {
    "duration": 22,
    "start_time": "2023-12-07T04:33:17.450Z"
   },
   {
    "duration": 7,
    "start_time": "2023-12-07T04:33:17.474Z"
   },
   {
    "duration": 6,
    "start_time": "2023-12-07T04:33:17.483Z"
   },
   {
    "duration": 9,
    "start_time": "2023-12-07T04:33:17.491Z"
   },
   {
    "duration": 3,
    "start_time": "2023-12-07T04:33:17.502Z"
   },
   {
    "duration": 17,
    "start_time": "2023-12-07T04:33:17.507Z"
   },
   {
    "duration": 17,
    "start_time": "2023-12-07T04:33:17.526Z"
   },
   {
    "duration": 552,
    "start_time": "2023-12-07T04:33:17.545Z"
   },
   {
    "duration": 6,
    "start_time": "2023-12-07T04:33:18.099Z"
   },
   {
    "duration": 130,
    "start_time": "2023-12-07T04:33:18.106Z"
   },
   {
    "duration": 7,
    "start_time": "2023-12-07T04:33:18.242Z"
   },
   {
    "duration": 256,
    "start_time": "2023-12-07T04:33:18.250Z"
   },
   {
    "duration": 11,
    "start_time": "2023-12-07T04:33:18.507Z"
   },
   {
    "duration": 362,
    "start_time": "2023-12-07T04:33:18.520Z"
   },
   {
    "duration": 8,
    "start_time": "2023-12-07T04:33:18.884Z"
   },
   {
    "duration": 289,
    "start_time": "2023-12-07T04:33:18.894Z"
   },
   {
    "duration": 15,
    "start_time": "2023-12-07T04:33:19.185Z"
   },
   {
    "duration": 216,
    "start_time": "2023-12-07T04:33:19.201Z"
   },
   {
    "duration": 6,
    "start_time": "2023-12-07T04:33:19.419Z"
   },
   {
    "duration": 309,
    "start_time": "2023-12-07T04:33:19.427Z"
   },
   {
    "duration": 43,
    "start_time": "2023-12-07T04:33:19.742Z"
   },
   {
    "duration": 64,
    "start_time": "2023-12-07T04:33:19.787Z"
   },
   {
    "duration": 25,
    "start_time": "2023-12-07T04:33:19.852Z"
   },
   {
    "duration": 644,
    "start_time": "2023-12-07T04:33:19.878Z"
   },
   {
    "duration": 588,
    "start_time": "2023-12-07T04:33:20.523Z"
   },
   {
    "duration": 6,
    "start_time": "2023-12-07T04:33:21.115Z"
   },
   {
    "duration": 31,
    "start_time": "2023-12-07T04:33:21.122Z"
   },
   {
    "duration": 30,
    "start_time": "2023-12-07T04:33:21.155Z"
   },
   {
    "duration": 168,
    "start_time": "2023-12-07T04:33:21.186Z"
   },
   {
    "duration": 20,
    "start_time": "2023-12-07T04:33:21.356Z"
   },
   {
    "duration": 4,
    "start_time": "2023-12-07T04:33:21.377Z"
   },
   {
    "duration": 291,
    "start_time": "2023-12-07T04:33:21.383Z"
   },
   {
    "duration": 19,
    "start_time": "2023-12-07T04:33:21.675Z"
   },
   {
    "duration": 12,
    "start_time": "2023-12-07T04:33:21.695Z"
   },
   {
    "duration": 258,
    "start_time": "2023-12-07T04:33:21.708Z"
   },
   {
    "duration": 14,
    "start_time": "2023-12-07T04:33:21.968Z"
   },
   {
    "duration": 220,
    "start_time": "2023-12-07T04:33:21.983Z"
   },
   {
    "duration": 10,
    "start_time": "2023-12-07T04:54:39.365Z"
   },
   {
    "duration": 833,
    "start_time": "2023-12-09T22:43:30.866Z"
   },
   {
    "duration": 77,
    "start_time": "2023-12-09T22:43:31.701Z"
   },
   {
    "duration": 101,
    "start_time": "2023-12-09T22:43:31.780Z"
   },
   {
    "duration": 76,
    "start_time": "2023-12-09T22:43:31.883Z"
   },
   {
    "duration": 11,
    "start_time": "2023-12-09T22:43:31.961Z"
   },
   {
    "duration": 66,
    "start_time": "2023-12-09T22:43:31.974Z"
   },
   {
    "duration": 49,
    "start_time": "2023-12-09T22:43:32.042Z"
   },
   {
    "duration": 29,
    "start_time": "2023-12-09T22:43:32.093Z"
   },
   {
    "duration": 52,
    "start_time": "2023-12-09T22:43:32.124Z"
   },
   {
    "duration": 48,
    "start_time": "2023-12-09T22:43:32.179Z"
   },
   {
    "duration": 11,
    "start_time": "2023-12-09T22:43:32.228Z"
   },
   {
    "duration": 24,
    "start_time": "2023-12-09T22:43:32.241Z"
   },
   {
    "duration": 42,
    "start_time": "2023-12-09T22:43:32.266Z"
   },
   {
    "duration": 26,
    "start_time": "2023-12-09T22:43:32.310Z"
   },
   {
    "duration": 76,
    "start_time": "2023-12-09T22:43:32.337Z"
   },
   {
    "duration": 24,
    "start_time": "2023-12-09T22:43:32.415Z"
   },
   {
    "duration": 32,
    "start_time": "2023-12-09T22:43:32.440Z"
   },
   {
    "duration": 24,
    "start_time": "2023-12-09T22:43:32.474Z"
   },
   {
    "duration": 14,
    "start_time": "2023-12-09T22:43:32.500Z"
   },
   {
    "duration": 15,
    "start_time": "2023-12-09T22:43:32.515Z"
   },
   {
    "duration": 15,
    "start_time": "2023-12-09T22:43:32.532Z"
   },
   {
    "duration": 20,
    "start_time": "2023-12-09T22:43:32.549Z"
   },
   {
    "duration": 17,
    "start_time": "2023-12-09T22:43:32.570Z"
   },
   {
    "duration": 390,
    "start_time": "2023-12-09T22:43:32.589Z"
   },
   {
    "duration": 6,
    "start_time": "2023-12-09T22:43:32.980Z"
   },
   {
    "duration": 86,
    "start_time": "2023-12-09T22:43:32.987Z"
   },
   {
    "duration": 5,
    "start_time": "2023-12-09T22:43:33.075Z"
   },
   {
    "duration": 247,
    "start_time": "2023-12-09T22:43:33.084Z"
   },
   {
    "duration": 7,
    "start_time": "2023-12-09T22:43:33.333Z"
   },
   {
    "duration": 10,
    "start_time": "2023-12-09T22:43:33.341Z"
   },
   {
    "duration": 302,
    "start_time": "2023-12-09T22:43:33.352Z"
   },
   {
    "duration": 9,
    "start_time": "2023-12-09T22:43:33.656Z"
   },
   {
    "duration": 282,
    "start_time": "2023-12-09T22:43:33.667Z"
   },
   {
    "duration": 16,
    "start_time": "2023-12-09T22:43:33.951Z"
   },
   {
    "duration": 200,
    "start_time": "2023-12-09T22:43:33.968Z"
   },
   {
    "duration": 5,
    "start_time": "2023-12-09T22:43:34.170Z"
   },
   {
    "duration": 273,
    "start_time": "2023-12-09T22:43:34.177Z"
   },
   {
    "duration": 40,
    "start_time": "2023-12-09T22:43:34.451Z"
   },
   {
    "duration": 61,
    "start_time": "2023-12-09T22:43:34.493Z"
   },
   {
    "duration": 108,
    "start_time": "2023-12-09T22:43:34.555Z"
   },
   {
    "duration": 575,
    "start_time": "2023-12-09T22:43:34.664Z"
   },
   {
    "duration": 559,
    "start_time": "2023-12-09T22:43:35.241Z"
   },
   {
    "duration": 5,
    "start_time": "2023-12-09T22:43:35.802Z"
   },
   {
    "duration": 25,
    "start_time": "2023-12-09T22:43:35.808Z"
   },
   {
    "duration": 27,
    "start_time": "2023-12-09T22:43:35.834Z"
   },
   {
    "duration": 150,
    "start_time": "2023-12-09T22:43:35.863Z"
   },
   {
    "duration": 6,
    "start_time": "2023-12-09T22:43:36.015Z"
   },
   {
    "duration": 18,
    "start_time": "2023-12-09T22:43:36.030Z"
   },
   {
    "duration": 27,
    "start_time": "2023-12-09T22:43:36.050Z"
   },
   {
    "duration": 22,
    "start_time": "2023-12-09T22:43:36.079Z"
   },
   {
    "duration": 210,
    "start_time": "2023-12-09T22:43:36.103Z"
   },
   {
    "duration": 20,
    "start_time": "2023-12-09T22:43:36.315Z"
   },
   {
    "duration": 301,
    "start_time": "2023-12-09T22:43:36.337Z"
   },
   {
    "duration": 10,
    "start_time": "2023-12-09T22:43:36.640Z"
   },
   {
    "duration": 827,
    "start_time": "2023-12-10T05:04:32.831Z"
   },
   {
    "duration": 107,
    "start_time": "2023-12-10T05:04:33.660Z"
   },
   {
    "duration": 123,
    "start_time": "2023-12-10T05:04:33.768Z"
   },
   {
    "duration": 70,
    "start_time": "2023-12-10T05:04:33.892Z"
   },
   {
    "duration": 12,
    "start_time": "2023-12-10T05:04:33.964Z"
   },
   {
    "duration": 39,
    "start_time": "2023-12-10T05:04:33.977Z"
   },
   {
    "duration": 10,
    "start_time": "2023-12-10T05:04:34.018Z"
   },
   {
    "duration": 5,
    "start_time": "2023-12-10T05:04:34.029Z"
   },
   {
    "duration": 8,
    "start_time": "2023-12-10T05:04:34.035Z"
   },
   {
    "duration": 16,
    "start_time": "2023-12-10T05:04:34.044Z"
   },
   {
    "duration": 5,
    "start_time": "2023-12-10T05:04:34.061Z"
   },
   {
    "duration": 8,
    "start_time": "2023-12-10T05:04:34.068Z"
   },
   {
    "duration": 27,
    "start_time": "2023-12-10T05:04:34.077Z"
   },
   {
    "duration": 7,
    "start_time": "2023-12-10T05:04:34.106Z"
   },
   {
    "duration": 6,
    "start_time": "2023-12-10T05:04:34.115Z"
   },
   {
    "duration": 5,
    "start_time": "2023-12-10T05:04:34.122Z"
   },
   {
    "duration": 5,
    "start_time": "2023-12-10T05:04:34.129Z"
   },
   {
    "duration": 6,
    "start_time": "2023-12-10T05:04:34.135Z"
   },
   {
    "duration": 10,
    "start_time": "2023-12-10T05:04:34.142Z"
   },
   {
    "duration": 4,
    "start_time": "2023-12-10T05:04:34.154Z"
   },
   {
    "duration": 40,
    "start_time": "2023-12-10T05:04:34.160Z"
   },
   {
    "duration": 14,
    "start_time": "2023-12-10T05:04:34.202Z"
   },
   {
    "duration": 6,
    "start_time": "2023-12-10T05:04:34.218Z"
   },
   {
    "duration": 551,
    "start_time": "2023-12-10T05:04:34.226Z"
   },
   {
    "duration": 6,
    "start_time": "2023-12-10T05:04:34.778Z"
   },
   {
    "duration": 86,
    "start_time": "2023-12-10T05:04:34.785Z"
   },
   {
    "duration": 5,
    "start_time": "2023-12-10T05:04:34.873Z"
   },
   {
    "duration": 264,
    "start_time": "2023-12-10T05:04:34.880Z"
   },
   {
    "duration": 8,
    "start_time": "2023-12-10T05:04:35.146Z"
   },
   {
    "duration": 32,
    "start_time": "2023-12-10T05:04:35.155Z"
   },
   {
    "duration": 292,
    "start_time": "2023-12-10T05:04:35.189Z"
   },
   {
    "duration": 8,
    "start_time": "2023-12-10T05:04:35.483Z"
   },
   {
    "duration": 274,
    "start_time": "2023-12-10T05:04:35.498Z"
   },
   {
    "duration": 16,
    "start_time": "2023-12-10T05:04:35.773Z"
   },
   {
    "duration": 203,
    "start_time": "2023-12-10T05:04:35.791Z"
   },
   {
    "duration": 5,
    "start_time": "2023-12-10T05:04:35.998Z"
   },
   {
    "duration": 359,
    "start_time": "2023-12-10T05:04:36.004Z"
   },
   {
    "duration": 46,
    "start_time": "2023-12-10T05:04:36.365Z"
   },
   {
    "duration": 49,
    "start_time": "2023-12-10T05:04:36.413Z"
   },
   {
    "duration": 50,
    "start_time": "2023-12-10T05:04:36.464Z"
   },
   {
    "duration": 554,
    "start_time": "2023-12-10T05:04:36.518Z"
   },
   {
    "duration": 544,
    "start_time": "2023-12-10T05:04:37.074Z"
   },
   {
    "duration": 6,
    "start_time": "2023-12-10T05:04:37.619Z"
   },
   {
    "duration": 14,
    "start_time": "2023-12-10T05:04:37.627Z"
   },
   {
    "duration": 26,
    "start_time": "2023-12-10T05:04:37.642Z"
   },
   {
    "duration": 244,
    "start_time": "2023-12-10T05:04:37.669Z"
   },
   {
    "duration": 4,
    "start_time": "2023-12-10T05:04:37.915Z"
   },
   {
    "duration": 27,
    "start_time": "2023-12-10T05:04:37.921Z"
   },
   {
    "duration": 23,
    "start_time": "2023-12-10T05:04:37.949Z"
   },
   {
    "duration": 13,
    "start_time": "2023-12-10T05:04:37.973Z"
   },
   {
    "duration": 213,
    "start_time": "2023-12-10T05:04:37.987Z"
   },
   {
    "duration": 12,
    "start_time": "2023-12-10T05:04:38.202Z"
   },
   {
    "duration": 222,
    "start_time": "2023-12-10T05:04:38.215Z"
   },
   {
    "duration": 9,
    "start_time": "2023-12-10T05:04:38.438Z"
   },
   {
    "duration": 48,
    "start_time": "2023-12-10T09:50:59.241Z"
   },
   {
    "duration": 1141,
    "start_time": "2023-12-10T09:51:04.719Z"
   },
   {
    "duration": 153,
    "start_time": "2023-12-10T09:51:05.862Z"
   },
   {
    "duration": 111,
    "start_time": "2023-12-10T09:51:06.017Z"
   },
   {
    "duration": 71,
    "start_time": "2023-12-10T09:51:06.130Z"
   },
   {
    "duration": 13,
    "start_time": "2023-12-10T09:51:06.203Z"
   },
   {
    "duration": 31,
    "start_time": "2023-12-10T09:51:06.218Z"
   },
   {
    "duration": 17,
    "start_time": "2023-12-10T09:51:06.251Z"
   },
   {
    "duration": 15,
    "start_time": "2023-12-10T09:51:06.270Z"
   },
   {
    "duration": 15,
    "start_time": "2023-12-10T09:51:06.287Z"
   },
   {
    "duration": 37,
    "start_time": "2023-12-10T09:51:06.304Z"
   },
   {
    "duration": 5,
    "start_time": "2023-12-10T09:51:06.343Z"
   },
   {
    "duration": 29,
    "start_time": "2023-12-10T09:51:06.350Z"
   },
   {
    "duration": 15,
    "start_time": "2023-12-10T09:51:06.381Z"
   },
   {
    "duration": 25,
    "start_time": "2023-12-10T09:51:06.398Z"
   },
   {
    "duration": 18,
    "start_time": "2023-12-10T09:51:06.425Z"
   },
   {
    "duration": 23,
    "start_time": "2023-12-10T09:51:06.444Z"
   },
   {
    "duration": 9,
    "start_time": "2023-12-10T09:51:06.469Z"
   },
   {
    "duration": 9,
    "start_time": "2023-12-10T09:51:06.479Z"
   },
   {
    "duration": 8,
    "start_time": "2023-12-10T09:51:06.489Z"
   },
   {
    "duration": 7,
    "start_time": "2023-12-10T09:51:06.498Z"
   },
   {
    "duration": 26,
    "start_time": "2023-12-10T09:51:06.507Z"
   },
   {
    "duration": 15,
    "start_time": "2023-12-10T09:51:06.534Z"
   },
   {
    "duration": 10,
    "start_time": "2023-12-10T09:51:06.551Z"
   },
   {
    "duration": 159,
    "start_time": "2023-12-10T09:51:06.562Z"
   },
   {
    "duration": 6,
    "start_time": "2023-12-10T09:51:06.723Z"
   },
   {
    "duration": 127,
    "start_time": "2023-12-10T09:51:10.530Z"
   },
   {
    "duration": 67,
    "start_time": "2023-12-10T10:03:01.189Z"
   },
   {
    "duration": 343,
    "start_time": "2023-12-10T10:06:30.133Z"
   },
   {
    "duration": 82,
    "start_time": "2023-12-10T10:06:33.665Z"
   },
   {
    "duration": 58,
    "start_time": "2023-12-10T10:06:47.310Z"
   },
   {
    "duration": 3,
    "start_time": "2023-12-10T10:07:11.206Z"
   },
   {
    "duration": 78,
    "start_time": "2023-12-10T10:07:11.210Z"
   },
   {
    "duration": 74,
    "start_time": "2023-12-10T10:07:11.289Z"
   },
   {
    "duration": 45,
    "start_time": "2023-12-10T10:07:11.364Z"
   },
   {
    "duration": 10,
    "start_time": "2023-12-10T10:07:11.411Z"
   },
   {
    "duration": 34,
    "start_time": "2023-12-10T10:07:11.422Z"
   },
   {
    "duration": 11,
    "start_time": "2023-12-10T10:07:11.457Z"
   },
   {
    "duration": 31,
    "start_time": "2023-12-10T10:07:11.469Z"
   },
   {
    "duration": 25,
    "start_time": "2023-12-10T10:07:11.501Z"
   },
   {
    "duration": 26,
    "start_time": "2023-12-10T10:07:11.528Z"
   },
   {
    "duration": 6,
    "start_time": "2023-12-10T10:07:11.556Z"
   },
   {
    "duration": 11,
    "start_time": "2023-12-10T10:07:11.564Z"
   },
   {
    "duration": 12,
    "start_time": "2023-12-10T10:07:11.578Z"
   },
   {
    "duration": 14,
    "start_time": "2023-12-10T10:07:11.592Z"
   },
   {
    "duration": 12,
    "start_time": "2023-12-10T10:07:11.608Z"
   },
   {
    "duration": 8,
    "start_time": "2023-12-10T10:07:11.621Z"
   },
   {
    "duration": 9,
    "start_time": "2023-12-10T10:07:11.630Z"
   },
   {
    "duration": 6,
    "start_time": "2023-12-10T10:07:11.640Z"
   },
   {
    "duration": 8,
    "start_time": "2023-12-10T10:07:11.647Z"
   },
   {
    "duration": 10,
    "start_time": "2023-12-10T10:07:11.656Z"
   },
   {
    "duration": 7,
    "start_time": "2023-12-10T10:07:11.667Z"
   },
   {
    "duration": 19,
    "start_time": "2023-12-10T10:07:11.675Z"
   },
   {
    "duration": 23,
    "start_time": "2023-12-10T10:07:11.695Z"
   },
   {
    "duration": 177,
    "start_time": "2023-12-10T10:07:11.719Z"
   },
   {
    "duration": 6,
    "start_time": "2023-12-10T10:07:11.898Z"
   },
   {
    "duration": 144,
    "start_time": "2023-12-10T10:07:11.905Z"
   },
   {
    "duration": 5,
    "start_time": "2023-12-10T10:07:12.051Z"
   },
   {
    "duration": 248,
    "start_time": "2023-12-10T10:07:12.065Z"
   },
   {
    "duration": 7,
    "start_time": "2023-12-10T10:07:12.315Z"
   },
   {
    "duration": 17,
    "start_time": "2023-12-10T10:07:12.324Z"
   },
   {
    "duration": 305,
    "start_time": "2023-12-10T10:07:12.343Z"
   },
   {
    "duration": 21,
    "start_time": "2023-12-10T10:07:12.650Z"
   },
   {
    "duration": 286,
    "start_time": "2023-12-10T10:07:12.673Z"
   },
   {
    "duration": 19,
    "start_time": "2023-12-10T10:07:12.960Z"
   },
   {
    "duration": 279,
    "start_time": "2023-12-10T10:07:12.981Z"
   },
   {
    "duration": 5,
    "start_time": "2023-12-10T10:07:13.265Z"
   },
   {
    "duration": 304,
    "start_time": "2023-12-10T10:07:13.275Z"
   },
   {
    "duration": 40,
    "start_time": "2023-12-10T10:07:13.581Z"
   },
   {
    "duration": 67,
    "start_time": "2023-12-10T10:07:13.623Z"
   },
   {
    "duration": 26,
    "start_time": "2023-12-10T10:07:13.691Z"
   },
   {
    "duration": 616,
    "start_time": "2023-12-10T10:07:13.719Z"
   },
   {
    "duration": 576,
    "start_time": "2023-12-10T10:07:14.336Z"
   },
   {
    "duration": 5,
    "start_time": "2023-12-10T10:07:14.913Z"
   },
   {
    "duration": 13,
    "start_time": "2023-12-10T10:07:14.920Z"
   },
   {
    "duration": 44,
    "start_time": "2023-12-10T10:07:14.935Z"
   },
   {
    "duration": 229,
    "start_time": "2023-12-10T10:07:14.980Z"
   },
   {
    "duration": 6,
    "start_time": "2023-12-10T10:07:15.210Z"
   },
   {
    "duration": 5,
    "start_time": "2023-12-10T10:07:15.217Z"
   },
   {
    "duration": 42,
    "start_time": "2023-12-10T10:07:15.224Z"
   },
   {
    "duration": 12,
    "start_time": "2023-12-10T10:07:15.268Z"
   },
   {
    "duration": 237,
    "start_time": "2023-12-10T10:07:15.281Z"
   },
   {
    "duration": 12,
    "start_time": "2023-12-10T10:07:15.520Z"
   },
   {
    "duration": 218,
    "start_time": "2023-12-10T10:07:15.534Z"
   },
   {
    "duration": 17,
    "start_time": "2023-12-10T10:07:15.754Z"
   },
   {
    "duration": 10,
    "start_time": "2023-12-10T10:11:13.479Z"
   },
   {
    "duration": 1325,
    "start_time": "2023-12-10T17:38:20.740Z"
   },
   {
    "duration": 122,
    "start_time": "2023-12-10T17:38:22.067Z"
   },
   {
    "duration": 77,
    "start_time": "2023-12-10T17:38:22.191Z"
   },
   {
    "duration": 48,
    "start_time": "2023-12-10T17:38:22.270Z"
   },
   {
    "duration": 13,
    "start_time": "2023-12-10T17:38:22.320Z"
   },
   {
    "duration": 13,
    "start_time": "2023-12-10T17:38:22.335Z"
   },
   {
    "duration": 11,
    "start_time": "2023-12-10T17:38:22.350Z"
   },
   {
    "duration": 11,
    "start_time": "2023-12-10T17:38:22.362Z"
   },
   {
    "duration": 8,
    "start_time": "2023-12-10T17:38:22.375Z"
   },
   {
    "duration": 12,
    "start_time": "2023-12-10T17:38:22.385Z"
   },
   {
    "duration": 4,
    "start_time": "2023-12-10T17:38:22.399Z"
   },
   {
    "duration": 39,
    "start_time": "2023-12-10T17:38:22.405Z"
   },
   {
    "duration": 6,
    "start_time": "2023-12-10T17:38:22.446Z"
   },
   {
    "duration": 6,
    "start_time": "2023-12-10T17:38:22.453Z"
   },
   {
    "duration": 5,
    "start_time": "2023-12-10T17:38:22.461Z"
   },
   {
    "duration": 17,
    "start_time": "2023-12-10T17:38:22.468Z"
   },
   {
    "duration": 5,
    "start_time": "2023-12-10T17:38:22.487Z"
   },
   {
    "duration": 5,
    "start_time": "2023-12-10T17:38:22.494Z"
   },
   {
    "duration": 8,
    "start_time": "2023-12-10T17:38:22.500Z"
   },
   {
    "duration": 3,
    "start_time": "2023-12-10T17:38:22.543Z"
   },
   {
    "duration": 3,
    "start_time": "2023-12-10T17:38:22.548Z"
   },
   {
    "duration": 15,
    "start_time": "2023-12-10T17:38:22.553Z"
   },
   {
    "duration": 5,
    "start_time": "2023-12-10T17:38:22.570Z"
   },
   {
    "duration": 189,
    "start_time": "2023-12-10T17:38:22.576Z"
   },
   {
    "duration": 6,
    "start_time": "2023-12-10T17:38:22.766Z"
   },
   {
    "duration": 155,
    "start_time": "2023-12-10T17:38:22.773Z"
   },
   {
    "duration": 5,
    "start_time": "2023-12-10T17:38:22.930Z"
   },
   {
    "duration": 288,
    "start_time": "2023-12-10T17:38:22.944Z"
   },
   {
    "duration": 10,
    "start_time": "2023-12-10T17:38:23.233Z"
   },
   {
    "duration": 9,
    "start_time": "2023-12-10T17:38:23.244Z"
   },
   {
    "duration": 302,
    "start_time": "2023-12-10T17:38:23.254Z"
   },
   {
    "duration": 8,
    "start_time": "2023-12-10T17:38:23.557Z"
   },
   {
    "duration": 298,
    "start_time": "2023-12-10T17:38:23.567Z"
   },
   {
    "duration": 15,
    "start_time": "2023-12-10T17:38:23.867Z"
   },
   {
    "duration": 232,
    "start_time": "2023-12-10T17:38:23.884Z"
   },
   {
    "duration": 6,
    "start_time": "2023-12-10T17:38:24.118Z"
   },
   {
    "duration": 388,
    "start_time": "2023-12-10T17:38:24.126Z"
   },
   {
    "duration": 53,
    "start_time": "2023-12-10T17:38:24.516Z"
   },
   {
    "duration": 72,
    "start_time": "2023-12-10T17:38:24.571Z"
   },
   {
    "duration": 25,
    "start_time": "2023-12-10T17:38:24.645Z"
   },
   {
    "duration": 588,
    "start_time": "2023-12-10T17:38:24.672Z"
   },
   {
    "duration": 626,
    "start_time": "2023-12-10T17:38:25.261Z"
   },
   {
    "duration": 6,
    "start_time": "2023-12-10T17:38:25.889Z"
   },
   {
    "duration": 13,
    "start_time": "2023-12-10T17:38:25.896Z"
   },
   {
    "duration": 50,
    "start_time": "2023-12-10T17:38:25.911Z"
   },
   {
    "duration": 147,
    "start_time": "2023-12-10T17:38:25.963Z"
   },
   {
    "duration": 8,
    "start_time": "2023-12-10T17:38:26.112Z"
   },
   {
    "duration": 21,
    "start_time": "2023-12-10T17:38:26.122Z"
   },
   {
    "duration": 32,
    "start_time": "2023-12-10T17:38:26.145Z"
   },
   {
    "duration": 16,
    "start_time": "2023-12-10T17:38:26.180Z"
   },
   {
    "duration": 324,
    "start_time": "2023-12-10T17:38:26.198Z"
   },
   {
    "duration": 23,
    "start_time": "2023-12-10T17:38:26.524Z"
   },
   {
    "duration": 237,
    "start_time": "2023-12-10T17:38:26.549Z"
   },
   {
    "duration": 10,
    "start_time": "2023-12-10T17:38:26.789Z"
   }
  ],
  "kernelspec": {
   "display_name": "Python 3 (ipykernel)",
   "language": "python",
   "name": "python3"
  },
  "language_info": {
   "codemirror_mode": {
    "name": "ipython",
    "version": 3
   },
   "file_extension": ".py",
   "mimetype": "text/x-python",
   "name": "python",
   "nbconvert_exporter": "python",
   "pygments_lexer": "ipython3",
   "version": "3.11.5"
  },
  "toc": {
   "base_numbering": 1,
   "nav_menu": {},
   "number_sections": true,
   "sideBar": true,
   "skip_h1_title": true,
   "title_cell": "Table of Contents",
   "title_sidebar": "Contents",
   "toc_cell": false,
   "toc_position": {},
   "toc_section_display": true,
   "toc_window_display": false
  }
 },
 "nbformat": 4,
 "nbformat_minor": 5
}
