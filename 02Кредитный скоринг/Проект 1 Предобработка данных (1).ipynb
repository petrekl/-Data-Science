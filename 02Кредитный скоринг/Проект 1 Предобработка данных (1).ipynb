{
 "cells": [
  {
   "cell_type": "markdown",
   "id": "945bbeff",
   "metadata": {
    "deletable": false,
    "editable": false,
    "id": "c81daeeb"
   },
   "source": [
    "# Исследование надежности заемщиков\n"
   ]
  },
  {
   "cell_type": "markdown",
   "id": "9eabd4df",
   "metadata": {
    "deletable": false,
    "editable": false,
    "id": "827c20bf"
   },
   "source": [
    "Во второй части проекта вы выполните шаги 3 и 4. Их вручную проверит ревьюер.\n",
    "Чтобы вам не пришлось писать код заново для шагов 1 и 2, мы добавили авторские решения в ячейки с кодом. \n",
    "\n"
   ]
  },
  {
   "cell_type": "markdown",
   "id": "7376560e",
   "metadata": {
    "deletable": false,
    "editable": false,
    "id": "744d7639"
   },
   "source": [
    "## Откройте таблицу и изучите общую информацию о данных"
   ]
  },
  {
   "cell_type": "markdown",
   "id": "c45bb214",
   "metadata": {
    "deletable": false,
    "editable": false,
    "id": "e7a14c31"
   },
   "source": [
    "**Задание 1. Импортируйте библиотеку pandas. Считайте данные из csv-файла в датафрейм и сохраните в переменную `data`. Путь к файлу:**\n",
    "\n",
    "`/datasets/data.csv`"
   ]
  },
  {
   "cell_type": "code",
   "execution_count": 1,
   "id": "79f1d9c6",
   "metadata": {
    "deletable": false,
    "id": "7bcf75c9"
   },
   "outputs": [],
   "source": [
    "import pandas as pd\n",
    "\n",
    "try:\n",
    "    data = pd.read_csv('/datasets/data.csv')\n",
    "except:\n",
    "    data = pd.read_csv('https://code.s3.yandex.net/datasets/data.csv')"
   ]
  },
  {
   "cell_type": "markdown",
   "id": "13b75a09",
   "metadata": {
    "deletable": false,
    "editable": false,
    "id": "b8038fe3"
   },
   "source": [
    "**Задание 2. Выведите первые 20 строчек датафрейма `data` на экран.**"
   ]
  },
  {
   "cell_type": "code",
   "execution_count": 2,
   "id": "5fa6b7f5",
   "metadata": {
    "deletable": false,
    "id": "2a7cab99",
    "outputId": "1a8f3ef2-d323-4ec2-ddf7-89670b5944c4"
   },
   "outputs": [
    {
     "data": {
      "text/html": [
       "<div>\n",
       "<style scoped>\n",
       "    .dataframe tbody tr th:only-of-type {\n",
       "        vertical-align: middle;\n",
       "    }\n",
       "\n",
       "    .dataframe tbody tr th {\n",
       "        vertical-align: top;\n",
       "    }\n",
       "\n",
       "    .dataframe thead th {\n",
       "        text-align: right;\n",
       "    }\n",
       "</style>\n",
       "<table border=\"1\" class=\"dataframe\">\n",
       "  <thead>\n",
       "    <tr style=\"text-align: right;\">\n",
       "      <th></th>\n",
       "      <th>children</th>\n",
       "      <th>days_employed</th>\n",
       "      <th>dob_years</th>\n",
       "      <th>education</th>\n",
       "      <th>education_id</th>\n",
       "      <th>family_status</th>\n",
       "      <th>family_status_id</th>\n",
       "      <th>gender</th>\n",
       "      <th>income_type</th>\n",
       "      <th>debt</th>\n",
       "      <th>total_income</th>\n",
       "      <th>purpose</th>\n",
       "    </tr>\n",
       "  </thead>\n",
       "  <tbody>\n",
       "    <tr>\n",
       "      <th>0</th>\n",
       "      <td>1</td>\n",
       "      <td>-8437.673028</td>\n",
       "      <td>42</td>\n",
       "      <td>высшее</td>\n",
       "      <td>0</td>\n",
       "      <td>женат / замужем</td>\n",
       "      <td>0</td>\n",
       "      <td>F</td>\n",
       "      <td>сотрудник</td>\n",
       "      <td>0</td>\n",
       "      <td>253875.639453</td>\n",
       "      <td>покупка жилья</td>\n",
       "    </tr>\n",
       "    <tr>\n",
       "      <th>1</th>\n",
       "      <td>1</td>\n",
       "      <td>-4024.803754</td>\n",
       "      <td>36</td>\n",
       "      <td>среднее</td>\n",
       "      <td>1</td>\n",
       "      <td>женат / замужем</td>\n",
       "      <td>0</td>\n",
       "      <td>F</td>\n",
       "      <td>сотрудник</td>\n",
       "      <td>0</td>\n",
       "      <td>112080.014102</td>\n",
       "      <td>приобретение автомобиля</td>\n",
       "    </tr>\n",
       "    <tr>\n",
       "      <th>2</th>\n",
       "      <td>0</td>\n",
       "      <td>-5623.422610</td>\n",
       "      <td>33</td>\n",
       "      <td>Среднее</td>\n",
       "      <td>1</td>\n",
       "      <td>женат / замужем</td>\n",
       "      <td>0</td>\n",
       "      <td>M</td>\n",
       "      <td>сотрудник</td>\n",
       "      <td>0</td>\n",
       "      <td>145885.952297</td>\n",
       "      <td>покупка жилья</td>\n",
       "    </tr>\n",
       "    <tr>\n",
       "      <th>3</th>\n",
       "      <td>3</td>\n",
       "      <td>-4124.747207</td>\n",
       "      <td>32</td>\n",
       "      <td>среднее</td>\n",
       "      <td>1</td>\n",
       "      <td>женат / замужем</td>\n",
       "      <td>0</td>\n",
       "      <td>M</td>\n",
       "      <td>сотрудник</td>\n",
       "      <td>0</td>\n",
       "      <td>267628.550329</td>\n",
       "      <td>дополнительное образование</td>\n",
       "    </tr>\n",
       "    <tr>\n",
       "      <th>4</th>\n",
       "      <td>0</td>\n",
       "      <td>340266.072047</td>\n",
       "      <td>53</td>\n",
       "      <td>среднее</td>\n",
       "      <td>1</td>\n",
       "      <td>гражданский брак</td>\n",
       "      <td>1</td>\n",
       "      <td>F</td>\n",
       "      <td>пенсионер</td>\n",
       "      <td>0</td>\n",
       "      <td>158616.077870</td>\n",
       "      <td>сыграть свадьбу</td>\n",
       "    </tr>\n",
       "    <tr>\n",
       "      <th>5</th>\n",
       "      <td>0</td>\n",
       "      <td>-926.185831</td>\n",
       "      <td>27</td>\n",
       "      <td>высшее</td>\n",
       "      <td>0</td>\n",
       "      <td>гражданский брак</td>\n",
       "      <td>1</td>\n",
       "      <td>M</td>\n",
       "      <td>компаньон</td>\n",
       "      <td>0</td>\n",
       "      <td>255763.565419</td>\n",
       "      <td>покупка жилья</td>\n",
       "    </tr>\n",
       "    <tr>\n",
       "      <th>6</th>\n",
       "      <td>0</td>\n",
       "      <td>-2879.202052</td>\n",
       "      <td>43</td>\n",
       "      <td>высшее</td>\n",
       "      <td>0</td>\n",
       "      <td>женат / замужем</td>\n",
       "      <td>0</td>\n",
       "      <td>F</td>\n",
       "      <td>компаньон</td>\n",
       "      <td>0</td>\n",
       "      <td>240525.971920</td>\n",
       "      <td>операции с жильем</td>\n",
       "    </tr>\n",
       "    <tr>\n",
       "      <th>7</th>\n",
       "      <td>0</td>\n",
       "      <td>-152.779569</td>\n",
       "      <td>50</td>\n",
       "      <td>СРЕДНЕЕ</td>\n",
       "      <td>1</td>\n",
       "      <td>женат / замужем</td>\n",
       "      <td>0</td>\n",
       "      <td>M</td>\n",
       "      <td>сотрудник</td>\n",
       "      <td>0</td>\n",
       "      <td>135823.934197</td>\n",
       "      <td>образование</td>\n",
       "    </tr>\n",
       "    <tr>\n",
       "      <th>8</th>\n",
       "      <td>2</td>\n",
       "      <td>-6929.865299</td>\n",
       "      <td>35</td>\n",
       "      <td>ВЫСШЕЕ</td>\n",
       "      <td>0</td>\n",
       "      <td>гражданский брак</td>\n",
       "      <td>1</td>\n",
       "      <td>F</td>\n",
       "      <td>сотрудник</td>\n",
       "      <td>0</td>\n",
       "      <td>95856.832424</td>\n",
       "      <td>на проведение свадьбы</td>\n",
       "    </tr>\n",
       "    <tr>\n",
       "      <th>9</th>\n",
       "      <td>0</td>\n",
       "      <td>-2188.756445</td>\n",
       "      <td>41</td>\n",
       "      <td>среднее</td>\n",
       "      <td>1</td>\n",
       "      <td>женат / замужем</td>\n",
       "      <td>0</td>\n",
       "      <td>M</td>\n",
       "      <td>сотрудник</td>\n",
       "      <td>0</td>\n",
       "      <td>144425.938277</td>\n",
       "      <td>покупка жилья для семьи</td>\n",
       "    </tr>\n",
       "    <tr>\n",
       "      <th>10</th>\n",
       "      <td>2</td>\n",
       "      <td>-4171.483647</td>\n",
       "      <td>36</td>\n",
       "      <td>высшее</td>\n",
       "      <td>0</td>\n",
       "      <td>женат / замужем</td>\n",
       "      <td>0</td>\n",
       "      <td>M</td>\n",
       "      <td>компаньон</td>\n",
       "      <td>0</td>\n",
       "      <td>113943.491460</td>\n",
       "      <td>покупка недвижимости</td>\n",
       "    </tr>\n",
       "    <tr>\n",
       "      <th>11</th>\n",
       "      <td>0</td>\n",
       "      <td>-792.701887</td>\n",
       "      <td>40</td>\n",
       "      <td>среднее</td>\n",
       "      <td>1</td>\n",
       "      <td>женат / замужем</td>\n",
       "      <td>0</td>\n",
       "      <td>F</td>\n",
       "      <td>сотрудник</td>\n",
       "      <td>0</td>\n",
       "      <td>77069.234271</td>\n",
       "      <td>покупка коммерческой недвижимости</td>\n",
       "    </tr>\n",
       "    <tr>\n",
       "      <th>12</th>\n",
       "      <td>0</td>\n",
       "      <td>NaN</td>\n",
       "      <td>65</td>\n",
       "      <td>среднее</td>\n",
       "      <td>1</td>\n",
       "      <td>гражданский брак</td>\n",
       "      <td>1</td>\n",
       "      <td>M</td>\n",
       "      <td>пенсионер</td>\n",
       "      <td>0</td>\n",
       "      <td>NaN</td>\n",
       "      <td>сыграть свадьбу</td>\n",
       "    </tr>\n",
       "    <tr>\n",
       "      <th>13</th>\n",
       "      <td>0</td>\n",
       "      <td>-1846.641941</td>\n",
       "      <td>54</td>\n",
       "      <td>неоконченное высшее</td>\n",
       "      <td>2</td>\n",
       "      <td>женат / замужем</td>\n",
       "      <td>0</td>\n",
       "      <td>F</td>\n",
       "      <td>сотрудник</td>\n",
       "      <td>0</td>\n",
       "      <td>130458.228857</td>\n",
       "      <td>приобретение автомобиля</td>\n",
       "    </tr>\n",
       "    <tr>\n",
       "      <th>14</th>\n",
       "      <td>0</td>\n",
       "      <td>-1844.956182</td>\n",
       "      <td>56</td>\n",
       "      <td>высшее</td>\n",
       "      <td>0</td>\n",
       "      <td>гражданский брак</td>\n",
       "      <td>1</td>\n",
       "      <td>F</td>\n",
       "      <td>компаньон</td>\n",
       "      <td>1</td>\n",
       "      <td>165127.911772</td>\n",
       "      <td>покупка жилой недвижимости</td>\n",
       "    </tr>\n",
       "    <tr>\n",
       "      <th>15</th>\n",
       "      <td>1</td>\n",
       "      <td>-972.364419</td>\n",
       "      <td>26</td>\n",
       "      <td>среднее</td>\n",
       "      <td>1</td>\n",
       "      <td>женат / замужем</td>\n",
       "      <td>0</td>\n",
       "      <td>F</td>\n",
       "      <td>сотрудник</td>\n",
       "      <td>0</td>\n",
       "      <td>116820.904450</td>\n",
       "      <td>строительство собственной недвижимости</td>\n",
       "    </tr>\n",
       "    <tr>\n",
       "      <th>16</th>\n",
       "      <td>0</td>\n",
       "      <td>-1719.934226</td>\n",
       "      <td>35</td>\n",
       "      <td>среднее</td>\n",
       "      <td>1</td>\n",
       "      <td>женат / замужем</td>\n",
       "      <td>0</td>\n",
       "      <td>F</td>\n",
       "      <td>сотрудник</td>\n",
       "      <td>0</td>\n",
       "      <td>289202.704229</td>\n",
       "      <td>недвижимость</td>\n",
       "    </tr>\n",
       "    <tr>\n",
       "      <th>17</th>\n",
       "      <td>0</td>\n",
       "      <td>-2369.999720</td>\n",
       "      <td>33</td>\n",
       "      <td>высшее</td>\n",
       "      <td>0</td>\n",
       "      <td>гражданский брак</td>\n",
       "      <td>1</td>\n",
       "      <td>M</td>\n",
       "      <td>сотрудник</td>\n",
       "      <td>0</td>\n",
       "      <td>90410.586745</td>\n",
       "      <td>строительство недвижимости</td>\n",
       "    </tr>\n",
       "    <tr>\n",
       "      <th>18</th>\n",
       "      <td>0</td>\n",
       "      <td>400281.136913</td>\n",
       "      <td>53</td>\n",
       "      <td>среднее</td>\n",
       "      <td>1</td>\n",
       "      <td>вдовец / вдова</td>\n",
       "      <td>2</td>\n",
       "      <td>F</td>\n",
       "      <td>пенсионер</td>\n",
       "      <td>0</td>\n",
       "      <td>56823.777243</td>\n",
       "      <td>на покупку подержанного автомобиля</td>\n",
       "    </tr>\n",
       "    <tr>\n",
       "      <th>19</th>\n",
       "      <td>0</td>\n",
       "      <td>-10038.818549</td>\n",
       "      <td>48</td>\n",
       "      <td>СРЕДНЕЕ</td>\n",
       "      <td>1</td>\n",
       "      <td>в разводе</td>\n",
       "      <td>3</td>\n",
       "      <td>F</td>\n",
       "      <td>сотрудник</td>\n",
       "      <td>0</td>\n",
       "      <td>242831.107982</td>\n",
       "      <td>на покупку своего автомобиля</td>\n",
       "    </tr>\n",
       "  </tbody>\n",
       "</table>\n",
       "</div>"
      ],
      "text/plain": [
       "    children  days_employed  dob_years            education  education_id  \\\n",
       "0          1   -8437.673028         42               высшее             0   \n",
       "1          1   -4024.803754         36              среднее             1   \n",
       "2          0   -5623.422610         33              Среднее             1   \n",
       "3          3   -4124.747207         32              среднее             1   \n",
       "4          0  340266.072047         53              среднее             1   \n",
       "5          0    -926.185831         27               высшее             0   \n",
       "6          0   -2879.202052         43               высшее             0   \n",
       "7          0    -152.779569         50              СРЕДНЕЕ             1   \n",
       "8          2   -6929.865299         35               ВЫСШЕЕ             0   \n",
       "9          0   -2188.756445         41              среднее             1   \n",
       "10         2   -4171.483647         36               высшее             0   \n",
       "11         0    -792.701887         40              среднее             1   \n",
       "12         0            NaN         65              среднее             1   \n",
       "13         0   -1846.641941         54  неоконченное высшее             2   \n",
       "14         0   -1844.956182         56               высшее             0   \n",
       "15         1    -972.364419         26              среднее             1   \n",
       "16         0   -1719.934226         35              среднее             1   \n",
       "17         0   -2369.999720         33               высшее             0   \n",
       "18         0  400281.136913         53              среднее             1   \n",
       "19         0  -10038.818549         48              СРЕДНЕЕ             1   \n",
       "\n",
       "       family_status  family_status_id gender income_type  debt  \\\n",
       "0    женат / замужем                 0      F   сотрудник     0   \n",
       "1    женат / замужем                 0      F   сотрудник     0   \n",
       "2    женат / замужем                 0      M   сотрудник     0   \n",
       "3    женат / замужем                 0      M   сотрудник     0   \n",
       "4   гражданский брак                 1      F   пенсионер     0   \n",
       "5   гражданский брак                 1      M   компаньон     0   \n",
       "6    женат / замужем                 0      F   компаньон     0   \n",
       "7    женат / замужем                 0      M   сотрудник     0   \n",
       "8   гражданский брак                 1      F   сотрудник     0   \n",
       "9    женат / замужем                 0      M   сотрудник     0   \n",
       "10   женат / замужем                 0      M   компаньон     0   \n",
       "11   женат / замужем                 0      F   сотрудник     0   \n",
       "12  гражданский брак                 1      M   пенсионер     0   \n",
       "13   женат / замужем                 0      F   сотрудник     0   \n",
       "14  гражданский брак                 1      F   компаньон     1   \n",
       "15   женат / замужем                 0      F   сотрудник     0   \n",
       "16   женат / замужем                 0      F   сотрудник     0   \n",
       "17  гражданский брак                 1      M   сотрудник     0   \n",
       "18    вдовец / вдова                 2      F   пенсионер     0   \n",
       "19         в разводе                 3      F   сотрудник     0   \n",
       "\n",
       "     total_income                                 purpose  \n",
       "0   253875.639453                           покупка жилья  \n",
       "1   112080.014102                 приобретение автомобиля  \n",
       "2   145885.952297                           покупка жилья  \n",
       "3   267628.550329              дополнительное образование  \n",
       "4   158616.077870                         сыграть свадьбу  \n",
       "5   255763.565419                           покупка жилья  \n",
       "6   240525.971920                       операции с жильем  \n",
       "7   135823.934197                             образование  \n",
       "8    95856.832424                   на проведение свадьбы  \n",
       "9   144425.938277                 покупка жилья для семьи  \n",
       "10  113943.491460                    покупка недвижимости  \n",
       "11   77069.234271       покупка коммерческой недвижимости  \n",
       "12            NaN                         сыграть свадьбу  \n",
       "13  130458.228857                 приобретение автомобиля  \n",
       "14  165127.911772              покупка жилой недвижимости  \n",
       "15  116820.904450  строительство собственной недвижимости  \n",
       "16  289202.704229                            недвижимость  \n",
       "17   90410.586745              строительство недвижимости  \n",
       "18   56823.777243      на покупку подержанного автомобиля  \n",
       "19  242831.107982            на покупку своего автомобиля  "
      ]
     },
     "execution_count": 2,
     "metadata": {},
     "output_type": "execute_result"
    }
   ],
   "source": [
    "data.head(20)"
   ]
  },
  {
   "cell_type": "markdown",
   "id": "7e1b2ae2",
   "metadata": {
    "deletable": false,
    "editable": false,
    "id": "1c12e233"
   },
   "source": [
    "**Задание 3. Выведите основную информацию о датафрейме с помощью метода `info()`.**"
   ]
  },
  {
   "cell_type": "code",
   "execution_count": 3,
   "id": "ae030169",
   "metadata": {
    "deletable": false,
    "id": "2b757bca",
    "outputId": "15376089-8dad-46c9-b520-c05248d43158"
   },
   "outputs": [
    {
     "name": "stdout",
     "output_type": "stream",
     "text": [
      "<class 'pandas.core.frame.DataFrame'>\n",
      "RangeIndex: 21525 entries, 0 to 21524\n",
      "Data columns (total 12 columns):\n",
      " #   Column            Non-Null Count  Dtype  \n",
      "---  ------            --------------  -----  \n",
      " 0   children          21525 non-null  int64  \n",
      " 1   days_employed     19351 non-null  float64\n",
      " 2   dob_years         21525 non-null  int64  \n",
      " 3   education         21525 non-null  object \n",
      " 4   education_id      21525 non-null  int64  \n",
      " 5   family_status     21525 non-null  object \n",
      " 6   family_status_id  21525 non-null  int64  \n",
      " 7   gender            21525 non-null  object \n",
      " 8   income_type       21525 non-null  object \n",
      " 9   debt              21525 non-null  int64  \n",
      " 10  total_income      19351 non-null  float64\n",
      " 11  purpose           21525 non-null  object \n",
      "dtypes: float64(2), int64(5), object(5)\n",
      "memory usage: 2.0+ MB\n"
     ]
    }
   ],
   "source": [
    "data.info()"
   ]
  },
  {
   "cell_type": "markdown",
   "id": "ca5c1b0d",
   "metadata": {
    "deletable": false,
    "editable": false,
    "id": "333ec665"
   },
   "source": [
    "## Предобработка данных"
   ]
  },
  {
   "cell_type": "markdown",
   "id": "533b3f3f",
   "metadata": {
    "deletable": false,
    "editable": false,
    "id": "02d92d53"
   },
   "source": [
    "### Удаление пропусков"
   ]
  },
  {
   "cell_type": "markdown",
   "id": "fe570c94",
   "metadata": {
    "deletable": false,
    "editable": false,
    "id": "cd84967c"
   },
   "source": [
    "**Задание 4. Выведите количество пропущенных значений для каждого столбца. Используйте комбинацию двух методов.**"
   ]
  },
  {
   "cell_type": "code",
   "execution_count": 4,
   "id": "55cf3648",
   "metadata": {
    "deletable": false,
    "id": "7f9b2309",
    "outputId": "81f4d817-781c-465c-ed15-91ce4446810d"
   },
   "outputs": [
    {
     "data": {
      "text/plain": [
       "children               0\n",
       "days_employed       2174\n",
       "dob_years              0\n",
       "education              0\n",
       "education_id           0\n",
       "family_status          0\n",
       "family_status_id       0\n",
       "gender                 0\n",
       "income_type            0\n",
       "debt                   0\n",
       "total_income        2174\n",
       "purpose                0\n",
       "dtype: int64"
      ]
     },
     "execution_count": 4,
     "metadata": {},
     "output_type": "execute_result"
    }
   ],
   "source": [
    "data.isna().sum()"
   ]
  },
  {
   "cell_type": "markdown",
   "id": "f7f432f1",
   "metadata": {
    "deletable": false,
    "editable": false,
    "id": "db86e27b"
   },
   "source": [
    "**Задание 5. В двух столбцах есть пропущенные значения. Один из них — `days_employed`. Пропуски в этом столбце вы обработаете на следующем этапе. Другой столбец с пропущенными значениями — `total_income` — хранит данные о доходах. На сумму дохода сильнее всего влияет тип занятости, поэтому заполнить пропуски в этом столбце нужно медианным значением по каждому типу из столбца `income_type`. Например, у человека с типом занятости `сотрудник` пропуск в столбце `total_income` должен быть заполнен медианным доходом среди всех записей с тем же типом.**"
   ]
  },
  {
   "cell_type": "code",
   "execution_count": 5,
   "id": "37e9f710",
   "metadata": {
    "deletable": false,
    "id": "42006a93"
   },
   "outputs": [],
   "source": [
    "for t in data['income_type'].unique():\n",
    "    data.loc[(data['income_type'] == t) & (data['total_income'].isna()), 'total_income'] = \\\n",
    "    data.loc[(data['income_type'] == t), 'total_income'].median()"
   ]
  },
  {
   "cell_type": "markdown",
   "id": "16195acb",
   "metadata": {
    "deletable": false,
    "editable": false,
    "id": "89da5ece"
   },
   "source": [
    "### Обработка аномальных значений"
   ]
  },
  {
   "cell_type": "markdown",
   "id": "ca5fb7b7",
   "metadata": {
    "deletable": false,
    "editable": false,
    "id": "57964554"
   },
   "source": [
    "**Задание 6. В данных могут встречаться артефакты (аномалии) — значения, которые не отражают действительность и появились по какой-то ошибке. таким артефактом будет отрицательное количество дней трудового стажа в столбце `days_employed`. Для реальных данных это нормально. Обработайте значения в этом столбце: замените все отрицательные значения положительными с помощью метода `abs()`.**"
   ]
  },
  {
   "cell_type": "code",
   "execution_count": 6,
   "id": "96cff7f2",
   "metadata": {
    "deletable": false,
    "id": "f6f055bf"
   },
   "outputs": [],
   "source": [
    "data['days_employed'] = data['days_employed'].abs()"
   ]
  },
  {
   "cell_type": "markdown",
   "id": "78daaff3",
   "metadata": {
    "deletable": false,
    "editable": false,
    "id": "6107dd2f"
   },
   "source": [
    "**Задание 7. Для каждого типа занятости выведите медианное значение трудового стажа `days_employed` в днях.**"
   ]
  },
  {
   "cell_type": "code",
   "execution_count": 8,
   "id": "1a7bba5e",
   "metadata": {
    "deletable": false,
    "id": "85a5faf6",
    "outputId": "801ef80e-522b-4668-f34e-565af7432bcf"
   },
   "outputs": [
    {
     "data": {
      "text/plain": [
       "income_type\n",
       "безработный        366413.652744\n",
       "в декрете            3296.759962\n",
       "госслужащий          2689.368353\n",
       "компаньон            1547.382223\n",
       "пенсионер          365213.306266\n",
       "предприниматель       520.848083\n",
       "сотрудник            1574.202821\n",
       "студент               578.751554\n",
       "Name: days_employed, dtype: float64"
      ]
     },
     "execution_count": 8,
     "metadata": {},
     "output_type": "execute_result"
    }
   ],
   "source": [
    "data.groupby('income_type')['days_employed'].agg('median')"
   ]
  },
  {
   "cell_type": "markdown",
   "id": "57d116a0",
   "metadata": {
    "deletable": false,
    "editable": false,
    "id": "38d1a030"
   },
   "source": [
    "У двух типов (безработные и пенсионеры) получатся аномально большие значения. Исправить такие значения сложно, поэтому оставьте их как есть. Тем более этот столбец не понадобится вам для исследования."
   ]
  },
  {
   "cell_type": "markdown",
   "id": "b0dd7bb8",
   "metadata": {
    "deletable": false,
    "editable": false,
    "id": "d8a9f147"
   },
   "source": [
    "**Задание 8. Выведите перечень уникальных значений столбца `children`.**"
   ]
  },
  {
   "cell_type": "code",
   "execution_count": 9,
   "id": "63016b57",
   "metadata": {
    "deletable": false,
    "id": "ef5056eb",
    "outputId": "6975b15c-7f95-4697-d16d-a0c79b657b03"
   },
   "outputs": [
    {
     "data": {
      "text/plain": [
       "array([ 1,  0,  3,  2, -1,  4, 20,  5])"
      ]
     },
     "execution_count": 9,
     "metadata": {},
     "output_type": "execute_result"
    }
   ],
   "source": [
    "data['children'].unique()"
   ]
  },
  {
   "cell_type": "markdown",
   "id": "284cbb9e",
   "metadata": {
    "deletable": false,
    "editable": false,
    "id": "40b9ebf2"
   },
   "source": [
    "**Задание 9. В столбце `children` есть два аномальных значения. Удалите строки, в которых встречаются такие аномальные значения из датафрейма `data`.**"
   ]
  },
  {
   "cell_type": "code",
   "execution_count": 10,
   "id": "12a32cff",
   "metadata": {
    "deletable": false,
    "id": "3ff9801d"
   },
   "outputs": [],
   "source": [
    "data = data[(data['children'] != -1) & (data['children'] != 20)]"
   ]
  },
  {
   "cell_type": "markdown",
   "id": "0091aadd",
   "metadata": {
    "deletable": false,
    "editable": false,
    "id": "bbc4d0ce"
   },
   "source": [
    "**Задание 10. Ещё раз выведите перечень уникальных значений столбца `children`, чтобы убедиться, что артефакты удалены.**"
   ]
  },
  {
   "cell_type": "code",
   "execution_count": 11,
   "id": "eed66a15",
   "metadata": {
    "deletable": false,
    "id": "ad4fa8b7",
    "outputId": "b2097101-d49d-44d9-901b-32a65c9463d1"
   },
   "outputs": [
    {
     "data": {
      "text/plain": [
       "array([1, 0, 3, 2, 4, 5])"
      ]
     },
     "execution_count": 11,
     "metadata": {},
     "output_type": "execute_result"
    }
   ],
   "source": [
    "data['children'].unique()"
   ]
  },
  {
   "cell_type": "markdown",
   "id": "16b2f065",
   "metadata": {
    "deletable": false,
    "editable": false,
    "id": "75440b63"
   },
   "source": [
    "### Удаление пропусков (продолжение)"
   ]
  },
  {
   "cell_type": "markdown",
   "id": "6fa4a08e",
   "metadata": {
    "deletable": false,
    "editable": false,
    "id": "f4ea573f"
   },
   "source": [
    "**Задание 11. Заполните пропуски в столбце `days_employed` медианными значениями по каждого типа занятости `income_type`.**"
   ]
  },
  {
   "cell_type": "code",
   "execution_count": 12,
   "id": "d77b7057",
   "metadata": {
    "deletable": false,
    "id": "af6b1a7e"
   },
   "outputs": [],
   "source": [
    "for t in data['income_type'].unique():\n",
    "    data.loc[(data['income_type'] == t) & (data['days_employed'].isna()), 'days_employed'] = \\\n",
    "    data.loc[(data['income_type'] == t), 'days_employed'].median()"
   ]
  },
  {
   "cell_type": "markdown",
   "id": "5dfeb9a0",
   "metadata": {
    "deletable": false,
    "editable": false,
    "id": "2753f40d"
   },
   "source": [
    "**Задание 12. Убедитесь, что все пропуски заполнены. Проверьте себя и ещё раз выведите количество пропущенных значений для каждого столбца с помощью двух методов.**"
   ]
  },
  {
   "cell_type": "code",
   "execution_count": 13,
   "id": "e18341a1",
   "metadata": {
    "deletable": false,
    "id": "55f78bc2",
    "outputId": "8da1e4e1-358e-4e87-98c9-f261bce0a7b2"
   },
   "outputs": [
    {
     "data": {
      "text/plain": [
       "children            0\n",
       "days_employed       0\n",
       "dob_years           0\n",
       "education           0\n",
       "education_id        0\n",
       "family_status       0\n",
       "family_status_id    0\n",
       "gender              0\n",
       "income_type         0\n",
       "debt                0\n",
       "total_income        0\n",
       "purpose             0\n",
       "dtype: int64"
      ]
     },
     "execution_count": 13,
     "metadata": {},
     "output_type": "execute_result"
    }
   ],
   "source": [
    "data.isna().sum()"
   ]
  },
  {
   "cell_type": "markdown",
   "id": "a567b24e",
   "metadata": {
    "deletable": false,
    "editable": false,
    "id": "ddc81e43"
   },
   "source": [
    "### Изменение типов данных"
   ]
  },
  {
   "cell_type": "markdown",
   "id": "ece4dfa7",
   "metadata": {
    "deletable": false,
    "editable": false,
    "id": "42d19d24"
   },
   "source": [
    "**Задание 13. Замените вещественный тип данных в столбце `total_income` на целочисленный с помощью метода `astype()`.**"
   ]
  },
  {
   "cell_type": "code",
   "execution_count": 14,
   "id": "fdf92abc",
   "metadata": {
    "deletable": false,
    "id": "920b65ad"
   },
   "outputs": [],
   "source": [
    "data['total_income'] = data['total_income'].astype(int)"
   ]
  },
  {
   "cell_type": "markdown",
   "id": "021655e9",
   "metadata": {
    "deletable": false,
    "editable": false,
    "id": "80c420ba"
   },
   "source": [
    "### Обработка дубликатов"
   ]
  },
  {
   "cell_type": "markdown",
   "id": "1af65b6a",
   "metadata": {
    "deletable": false,
    "editable": false
   },
   "source": [
    "**Задание 14. Обработайте неявные дубликаты в столбце `education`. В этом столбце есть одни и те же значения, но записанные по-разному: с использованием заглавных и строчных букв. Приведите их к нижнему регистру. Проверьте остальные столбцы.**"
   ]
  },
  {
   "cell_type": "code",
   "execution_count": 15,
   "id": "0ff152c7",
   "metadata": {
    "deletable": false
   },
   "outputs": [],
   "source": [
    "data['education'] = data['education'].str.lower()"
   ]
  },
  {
   "cell_type": "markdown",
   "id": "4743b5af",
   "metadata": {
    "deletable": false,
    "editable": false,
    "id": "dc587695"
   },
   "source": [
    "**Задание 15. Выведите на экран количество строк-дубликатов в данных. Если такие строки присутствуют, удалите их.**"
   ]
  },
  {
   "cell_type": "code",
   "execution_count": 16,
   "id": "6d906d07",
   "metadata": {
    "deletable": false,
    "id": "3ee445e4",
    "outputId": "9684deba-1934-42d1-99e1-cda61740f822"
   },
   "outputs": [
    {
     "data": {
      "text/plain": [
       "71"
      ]
     },
     "execution_count": 16,
     "metadata": {},
     "output_type": "execute_result"
    }
   ],
   "source": [
    "data.duplicated().sum()"
   ]
  },
  {
   "cell_type": "code",
   "execution_count": 17,
   "id": "d4ca99b2",
   "metadata": {
    "deletable": false,
    "id": "8575fe05"
   },
   "outputs": [],
   "source": [
    "data = data.drop_duplicates()"
   ]
  },
  {
   "cell_type": "markdown",
   "id": "b6d2fe70",
   "metadata": {
    "deletable": false,
    "editable": false,
    "id": "9904cf55"
   },
   "source": [
    "### Категоризация данных"
   ]
  },
  {
   "cell_type": "markdown",
   "id": "65f55a6f",
   "metadata": {
    "deletable": false,
    "editable": false,
    "id": "72fcc8a2"
   },
   "source": [
    "**Задание 16. На основании диапазонов, указанных ниже, создайте в датафрейме `data` столбец `total_income_category` с категориями:**\n",
    "\n",
    "- 0–30000 — `'E'`;\n",
    "- 30001–50000 — `'D'`;\n",
    "- 50001–200000 — `'C'`;\n",
    "- 200001–1000000 — `'B'`;\n",
    "- 1000001 и выше — `'A'`.\n",
    "\n",
    "\n",
    "**Например, кредитополучателю с доходом 25000 нужно назначить категорию `'E'`, а клиенту, получающему 235000, — `'B'`. Используйте собственную функцию с именем `categorize_income()` и метод `apply()`.**"
   ]
  },
  {
   "cell_type": "code",
   "execution_count": 18,
   "id": "e8069c1e",
   "metadata": {
    "deletable": false,
    "id": "e1771346"
   },
   "outputs": [],
   "source": [
    "def categorize_income(income):\n",
    "    try:\n",
    "        if 0 <= income <= 30000:\n",
    "            return 'E'\n",
    "        elif 30001 <= income <= 50000:\n",
    "            return 'D'\n",
    "        elif 50001 <= income <= 200000:\n",
    "            return 'C'\n",
    "        elif 200001 <= income <= 1000000:\n",
    "            return 'B'\n",
    "        elif income >= 1000001:\n",
    "            return 'A'\n",
    "    except:\n",
    "        pass"
   ]
  },
  {
   "cell_type": "code",
   "execution_count": 19,
   "id": "0c4d184d",
   "metadata": {
    "deletable": false,
    "id": "d5f3586d"
   },
   "outputs": [],
   "source": [
    "data['total_income_category'] = data['total_income'].apply(categorize_income)"
   ]
  },
  {
   "cell_type": "markdown",
   "id": "dc847461",
   "metadata": {
    "deletable": false,
    "editable": false,
    "id": "dde49b5c"
   },
   "source": [
    "**Задание 17. Выведите на экран перечень уникальных целей взятия кредита из столбца `purpose`.**"
   ]
  },
  {
   "cell_type": "code",
   "execution_count": 20,
   "id": "5c32f538",
   "metadata": {
    "deletable": false,
    "id": "f67ce9b3",
    "outputId": "673c12d9-7d7e-4ae0-9812-c622c89dd244"
   },
   "outputs": [
    {
     "data": {
      "text/plain": [
       "array(['покупка жилья', 'приобретение автомобиля',\n",
       "       'дополнительное образование', 'сыграть свадьбу',\n",
       "       'операции с жильем', 'образование', 'на проведение свадьбы',\n",
       "       'покупка жилья для семьи', 'покупка недвижимости',\n",
       "       'покупка коммерческой недвижимости', 'покупка жилой недвижимости',\n",
       "       'строительство собственной недвижимости', 'недвижимость',\n",
       "       'строительство недвижимости', 'на покупку подержанного автомобиля',\n",
       "       'на покупку своего автомобиля',\n",
       "       'операции с коммерческой недвижимостью',\n",
       "       'строительство жилой недвижимости', 'жилье',\n",
       "       'операции со своей недвижимостью', 'автомобили',\n",
       "       'заняться образованием', 'сделка с подержанным автомобилем',\n",
       "       'получение образования', 'автомобиль', 'свадьба',\n",
       "       'получение дополнительного образования', 'покупка своего жилья',\n",
       "       'операции с недвижимостью', 'получение высшего образования',\n",
       "       'свой автомобиль', 'сделка с автомобилем',\n",
       "       'профильное образование', 'высшее образование',\n",
       "       'покупка жилья для сдачи', 'на покупку автомобиля', 'ремонт жилью',\n",
       "       'заняться высшим образованием'], dtype=object)"
      ]
     },
     "execution_count": 20,
     "metadata": {},
     "output_type": "execute_result"
    }
   ],
   "source": [
    "data['purpose'].unique()"
   ]
  },
  {
   "cell_type": "markdown",
   "id": "9aab9c29",
   "metadata": {
    "deletable": false,
    "editable": false,
    "id": "85d0aef0"
   },
   "source": [
    "**Задание 18. Создайте функцию, которая на основании данных из столбца `purpose` сформирует новый столбец `purpose_category`, в который войдут следующие категории:**\n",
    "\n",
    "- `'операции с автомобилем'`,\n",
    "- `'операции с недвижимостью'`,\n",
    "- `'проведение свадьбы'`,\n",
    "- `'получение образования'`.\n",
    "\n",
    "**Например, если в столбце `purpose` находится подстрока `'на покупку автомобиля'`, то в столбце `purpose_category` должна появиться строка `'операции с автомобилем'`.**\n",
    "\n",
    "**Используйте собственную функцию с именем `categorize_purpose()` и метод `apply()`. Изучите данные в столбце `purpose` и определите, какие подстроки помогут вам правильно определить категорию.**"
   ]
  },
  {
   "cell_type": "code",
   "execution_count": 21,
   "id": "5d4da006",
   "metadata": {
    "deletable": false,
    "id": "e149fab4"
   },
   "outputs": [],
   "source": [
    "def categorize_purpose(row):\n",
    "    try:\n",
    "        if 'автом' in row:\n",
    "            return 'операции с автомобилем'\n",
    "        elif 'жил' in row or 'недвиж' in row:\n",
    "            return 'операции с недвижимостью'\n",
    "        elif 'свад' in row:\n",
    "            return 'проведение свадьбы'\n",
    "        elif 'образов' in row:\n",
    "            return 'получение образования'\n",
    "    except:\n",
    "        return 'нет категории'"
   ]
  },
  {
   "cell_type": "code",
   "execution_count": 22,
   "id": "7d574e2f",
   "metadata": {
    "deletable": false,
    "id": "bf36e69b"
   },
   "outputs": [],
   "source": [
    "data['purpose_category'] = data['purpose'].apply(categorize_purpose)"
   ]
  },
  {
   "cell_type": "markdown",
   "id": "dde880c7",
   "metadata": {
    "deletable": false,
    "editable": false,
    "id": "09b242bf"
   },
   "source": [
    "### Шаг 3. Исследуйте данные и ответьте на вопросы"
   ]
  },
  {
   "cell_type": "markdown",
   "id": "2e0b50fe",
   "metadata": {
    "deletable": false,
    "editable": false,
    "id": "c5d66278"
   },
   "source": [
    "#### 3.1 Есть ли зависимость между количеством детей и возвратом кредита в срок?"
   ]
  },
  {
   "cell_type": "code",
   "execution_count": 23,
   "id": "792d3801",
   "metadata": {
    "deletable": false,
    "id": "2cacfc4a"
   },
   "outputs": [
    {
     "name": "stdout",
     "output_type": "stream",
     "text": [
      "children\n",
      "0    14091\n",
      "1     4808\n",
      "2     2052\n",
      "3      330\n",
      "4       41\n",
      "5        9\n",
      "Name: debt, dtype: int64\n"
     ]
    }
   ],
   "source": [
    "#Давайте сначала определим общее количество людей, у которых есть определенное количество детей или же нет детей вовсе.\n",
    "print(data.groupby('children')['debt'].count())"
   ]
  },
  {
   "cell_type": "code",
   "execution_count": 24,
   "id": "6aa8df2d",
   "metadata": {},
   "outputs": [
    {
     "name": "stdout",
     "output_type": "stream",
     "text": [
      "children\n",
      "0    1063\n",
      "1     444\n",
      "2     194\n",
      "3      27\n",
      "4       4\n",
      "5       0\n",
      "Name: debt, dtype: int64\n"
     ]
    }
   ],
   "source": [
    "#Псосле чего определим у скоьких из них есть задолженность перед банком\n",
    "print(data.groupby('children')['debt'].sum())"
   ]
  },
  {
   "cell_type": "code",
   "execution_count": 25,
   "id": "fd8b51f4",
   "metadata": {
    "scrolled": true
   },
   "outputs": [
    {
     "name": "stdout",
     "output_type": "stream",
     "text": [
      "children\n",
      "0    7.543822\n",
      "1    9.234609\n",
      "2    9.454191\n",
      "3    8.181818\n",
      "4    9.756098\n",
      "5    0.000000\n",
      "Name: debt, dtype: float64\n"
     ]
    }
   ],
   "source": [
    "#Далее подсчитаем среднее количество людей с задолженостью в каждой из категорий \n",
    "#можно разделить перове значение на второе или воспользоваться методом mean(), умножим полученные значения на 100 для перевода в проценты\n",
    "print(data.groupby('children')['debt'].mean()*100)"
   ]
  },
  {
   "cell_type": "code",
   "execution_count": 40,
   "id": "e8727597",
   "metadata": {},
   "outputs": [
    {
     "data": {
      "image/png": "[encoded data removed]",
      "text/plain": [
       "<Figure size 720x432 with 1 Axes>"
      ]
     },
     "metadata": {
      "needs_background": "light"
     },
     "output_type": "display_data"
    }
   ],
   "source": [
    "import matplotlib.pyplot as plt\n",
    "import matplotlib.ticker as mtick\n",
    "\n",
    "df_children = data.groupby('children')['debt'].mean() * 100\n",
    "\n",
    "fig, ax = plt.subplots(figsize=(10, 6))\n",
    "df_children.plot(kind='bar', color='red')\n",
    "\n",
    "plt.xlabel('Количество детей')\n",
    "plt.ylabel('Процент')\n",
    "plt.title('Статистика задолженности в зависимости от количества детей')\n",
    "\n",
    "ax.yaxis.set_major_formatter(mtick.PercentFormatter())\n",
    "\n",
    "plt.show()\n"
   ]
  },
  {
   "cell_type": "markdown",
   "id": "3db539b2",
   "metadata": {
    "deletable": false,
    "id": "3a6b99ec"
   },
   "source": [
    "**Вывод**:\n",
    "Исследование показывает, что процент людей с задолженностью перед банком варьируется в зависимости от наличия детей. Доля людей без детей, имеющих задолженность перед банком, составляет 7,54%. Среди родителей с детьми эта цифра выше: 9,23% с одним ребенком и 9,45% с двумя детьми имеют задолженность перед банком. У семей с тремя детьми этот показатель снижается до 8,18%, а у семей с четырьмя детьми 9,75% находятся в должниках.\n",
    "\n",
    "Эти данные свидетельствуют о том, что наличие детей может увеличивать риск задолженности перед банком. Вероятно, это связано с дополнительными финансовыми обязательствами, которые несут родители, заботясь о своих детях.  "
   ]
  },
  {
   "cell_type": "markdown",
   "id": "a3552d05",
   "metadata": {},
   "source": [
    "Заметим, что трех детей имеют 330 сесмей, 4-ех детей имеют 41 семья, а 5 детей есть у 9 семей, эти три категории имеют маленький размер выборки, поэтому  по ним нельзя делть каких-либо выводов"
   ]
  },
  {
   "cell_type": "markdown",
   "id": "2f4021eb",
   "metadata": {
    "deletable": false,
    "editable": false,
    "id": "97be82ca"
   },
   "source": [
    "#### 3.2 Есть ли зависимость между семейным положением и возвратом кредита в срок?"
   ]
  },
  {
   "cell_type": "markdown",
   "id": "345f9de3",
   "metadata": {
    "deletable": false,
    "id": "dc3f7ee8"
   },
   "source": [
    "Аналогично заданию 2.7.1, изанчально определяем общее количество людей в каждой из категорий family_status. После определяем количество должников и считаем процент должников в каждой категории."
   ]
  },
  {
   "cell_type": "code",
   "execution_count": 26,
   "id": "1041e387",
   "metadata": {},
   "outputs": [
    {
     "name": "stdout",
     "output_type": "stream",
     "text": [
      "family_status\n",
      "Не женат / не замужем     2796\n",
      "в разводе                 1189\n",
      "вдовец / вдова             951\n",
      "гражданский брак          4134\n",
      "женат / замужем          12261\n",
      "Name: debt, dtype: int64\n"
     ]
    }
   ],
   "source": [
    "print(data.groupby('family_status')['debt'].count())"
   ]
  },
  {
   "cell_type": "code",
   "execution_count": 27,
   "id": "d796cb76",
   "metadata": {},
   "outputs": [
    {
     "name": "stdout",
     "output_type": "stream",
     "text": [
      "family_status\n",
      "Не женат / не замужем    273\n",
      "в разводе                 84\n",
      "вдовец / вдова            63\n",
      "гражданский брак         385\n",
      "женат / замужем          927\n",
      "Name: debt, dtype: int64\n"
     ]
    }
   ],
   "source": [
    "print(data.groupby('family_status')['debt'].sum())"
   ]
  },
  {
   "cell_type": "code",
   "execution_count": 28,
   "id": "aad7b348",
   "metadata": {},
   "outputs": [
    {
     "name": "stdout",
     "output_type": "stream",
     "text": [
      "family_status\n",
      "Не женат / не замужем    9.763948\n",
      "в разводе                7.064760\n",
      "вдовец / вдова           6.624606\n",
      "гражданский брак         9.313014\n",
      "женат / замужем          7.560558\n",
      "Name: debt, dtype: float64\n"
     ]
    }
   ],
   "source": [
    "print(data.groupby('family_status')['debt'].mean()*100)"
   ]
  },
  {
   "cell_type": "code",
   "execution_count": 41,
   "id": "972fa184",
   "metadata": {},
   "outputs": [
    {
     "data": {
      "image/png": "[encoded data removed]",
      "text/plain": [
       "<Figure size 720x432 with 1 Axes>"
      ]
     },
     "metadata": {
      "needs_background": "light"
     },
     "output_type": "display_data"
    }
   ],
   "source": [
    "df_family_status = data.groupby('family_status')['debt'].mean()*100\n",
    "\n",
    "fig, ax = plt.subplots(figsize=(10, 6))\n",
    "df_family_status.plot(kind='bar', ax=ax, color = 'red')\n",
    "\n",
    "plt.xlabel('Семейное положение')\n",
    "plt.ylabel('Процент')\n",
    "plt.title('Статистика задолженности в зависимости от семейного положения')\n",
    "\n",
    "ax.yaxis.set_major_formatter(mtick.PercentFormatter())\n",
    "\n",
    "plt.show()"
   ]
  },
  {
   "cell_type": "markdown",
   "id": "498affa9",
   "metadata": {
    "deletable": false,
    "id": "1cef7837"
   },
   "source": [
    "**Вывод:** \n",
    "Среди различных категорий заемщиков, наименьший процент должников наблюдается среди вдовцов и вдов (6.62%). Задолженность встречается у 7.06% людей, находящихся в разводе, и у 7.56% женатых/замужних. Люди в гражданском браке имеют задолженность в 9.31% случаев, а среди тех, кто не женат/не замужем, этот показатель составляет 9.76%.\n",
    "Причиныами таких показателей могли стать различные факторы, например:\n",
    "1)Вдовцы/вдовы, возможно, имеют более устойчивую финансовую ситуацию благодаря наличию собственности или страховых выплат.\n",
    "2)Развод может сопровождаться стрессом и финансовыми трудностями, что может влиять на способность выплачивать долги.\n",
    "3)В семейных парах, где партнеры состоят в официальном браке, распределение финансовых обязательств может быть более четким и эффективным.В гражданском же браке или не состоящих в браке парах, отсутствие официального статуса может привести к менее строгому учету совместных финансов.\n",
    "4)Люди, не состоящие в браке, могут иметь более стабильную финансовую ситуацию, что способствует более низкому проценту должников."
   ]
  },
  {
   "cell_type": "code",
   "execution_count": 29,
   "id": "6ee92656",
   "metadata": {},
   "outputs": [
    {
     "name": "stdout",
     "output_type": "stream",
     "text": [
      "                       count  sum      mean\n",
      "family_status                              \n",
      "Не женат / не замужем   2796  273  9.763948\n",
      "в разводе               1189   84  7.064760\n",
      "вдовец / вдова           951   63  6.624606\n",
      "гражданский брак        4134  385  9.313014\n",
      "женат / замужем        12261  927  7.560558\n"
     ]
    }
   ],
   "source": [
    "#Можно сделать все в одной таблице, так она получается информативнее и более легкой для восприятия, спасибо за замечание\n",
    "print(data.groupby('family_status')['debt'].agg(count='count',sum='sum',mean=lambda x: x.mean() * 100))\n"
   ]
  },
  {
   "cell_type": "markdown",
   "id": "edf92ca8",
   "metadata": {
    "deletable": false,
    "editable": false,
    "id": "1e8b2fca"
   },
   "source": [
    "#### 3.3 Есть ли зависимость между уровнем дохода и возвратом кредита в срок?"
   ]
  },
  {
   "cell_type": "markdown",
   "id": "aec8072b",
   "metadata": {},
   "source": [
    "Аналогично заданию 2.7.1 и 2.7.2, изанчально определяем общее количество людей в каждой из категорий total_income_category. После определяем количество должников и считаем процент должников в каждой категории."
   ]
  },
  {
   "cell_type": "code",
   "execution_count": 30,
   "id": "c546ae69",
   "metadata": {
    "deletable": false,
    "id": "cd7e3720"
   },
   "outputs": [
    {
     "name": "stdout",
     "output_type": "stream",
     "text": [
      "total_income_category\n",
      "A       25\n",
      "B     5014\n",
      "C    15921\n",
      "D      349\n",
      "E       22\n",
      "Name: debt, dtype: int64\n"
     ]
    }
   ],
   "source": [
    "print(data.groupby('total_income_category')['debt'].count())"
   ]
  },
  {
   "cell_type": "code",
   "execution_count": 31,
   "id": "3b27b75c",
   "metadata": {},
   "outputs": [
    {
     "name": "stdout",
     "output_type": "stream",
     "text": [
      "total_income_category\n",
      "A       2\n",
      "B     354\n",
      "C    1353\n",
      "D      21\n",
      "E       2\n",
      "Name: debt, dtype: int64\n"
     ]
    }
   ],
   "source": [
    "print(data.groupby('total_income_category')['debt'].sum())"
   ]
  },
  {
   "cell_type": "code",
   "execution_count": 32,
   "id": "c8d817e5",
   "metadata": {},
   "outputs": [
    {
     "name": "stdout",
     "output_type": "stream",
     "text": [
      "total_income_category\n",
      "A    8.000000\n",
      "B    7.060231\n",
      "C    8.498210\n",
      "D    6.017192\n",
      "E    9.090909\n",
      "Name: debt, dtype: float64\n"
     ]
    }
   ],
   "source": [
    "print(data.groupby('total_income_category')['debt'].mean()*100)"
   ]
  },
  {
   "cell_type": "code",
   "execution_count": 42,
   "id": "4be5050f",
   "metadata": {},
   "outputs": [
    {
     "data": {
      "image/png": "[encoded data removed]",
      "text/plain": [
       "<Figure size 720x432 with 1 Axes>"
      ]
     },
     "metadata": {
      "needs_background": "light"
     },
     "output_type": "display_data"
    }
   ],
   "source": [
    "df_total_income_category = data.groupby('total_income_category')['debt'].mean()*100\n",
    "\n",
    "fig, ax = plt.subplots(figsize=(10, 6))\n",
    "df_total_income_category.plot(kind='bar', color = 'red')\n",
    "\n",
    "plt.xlabel('Уровень дохода')\n",
    "plt.ylabel('Процент')\n",
    "plt.title('Статистика задолженности в зависимости от уровня дохода')\n",
    "\n",
    "ax.yaxis.set_major_formatter(mtick.PercentFormatter())\n",
    "\n",
    "plt.show()"
   ]
  },
  {
   "cell_type": "markdown",
   "id": "59f9cb78",
   "metadata": {
    "deletable": false,
    "id": "e8593def"
   },
   "source": [
    "**Вывод:** \n",
    "Наименьший процент должников наблюдается в группе D, имеющий доход от 30000 до 50000. Это может свидетельствовать о том, что люди с уровнем дохода в этом диапазоне чаще всего справляются с финансовыми обязательствами. Группа заемщиков с наименьшим уровнем дохода E (до 30 000) имеет самый высокий процент должников (9.09%). Это может быть объяснено ограниченными финансовыми ресурсами и возможностями в погашении долгов. Среди людей с доходом от 50000 процент должников находится в диапозоне от 7 до 8.5 %.Заемщики с доходом C (50 001 - 200 000) имеют процент должников 8.50%. Вероятно, это связано с тем, что в данной категории доходов есть больший разброс, что может привести к различным финансовым обязательствам."
   ]
  },
  {
   "cell_type": "markdown",
   "id": "97345b60",
   "metadata": {},
   "source": [
    "В категориях A и E всего 25 и 22 человека соотвественно, по ним мы не можем делать каких-либо выводов из-за недостаточного объема информации"
   ]
  },
  {
   "cell_type": "markdown",
   "id": "23cb9506",
   "metadata": {
    "deletable": false,
    "editable": false,
    "id": "99ecbd1f"
   },
   "source": [
    "#### 3.4 Как разные цели кредита влияют на его возврат в срок?"
   ]
  },
  {
   "cell_type": "markdown",
   "id": "fb4083e4",
   "metadata": {},
   "source": [
    "Аналогично заданию 2.7.1, 2.7.2 и 2.7.3, изанчально определяем общее количество людей в каждой из категорий purpose_category. После определяем количество должников и считаем процент должников в каждой категории."
   ]
  },
  {
   "cell_type": "code",
   "execution_count": 33,
   "id": "60707b9a",
   "metadata": {},
   "outputs": [
    {
     "name": "stdout",
     "output_type": "stream",
     "text": [
      "purpose_category\n",
      "операции с автомобилем       4279\n",
      "операции с недвижимостью    10751\n",
      "получение образования        3988\n",
      "проведение свадьбы           2313\n",
      "Name: debt, dtype: int64\n"
     ]
    }
   ],
   "source": [
    "print(data.groupby('purpose_category')['debt'].count())"
   ]
  },
  {
   "cell_type": "code",
   "execution_count": 34,
   "id": "765a9b6a",
   "metadata": {},
   "outputs": [
    {
     "name": "stdout",
     "output_type": "stream",
     "text": [
      "purpose_category\n",
      "операции с автомобилем      400\n",
      "операции с недвижимостью    780\n",
      "получение образования       369\n",
      "проведение свадьбы          183\n",
      "Name: debt, dtype: int64\n"
     ]
    }
   ],
   "source": [
    "print(data.groupby('purpose_category')['debt'].sum())"
   ]
  },
  {
   "cell_type": "code",
   "execution_count": 35,
   "id": "3b1ac3bb",
   "metadata": {
    "deletable": false,
    "id": "2b687290"
   },
   "outputs": [
    {
     "name": "stdout",
     "output_type": "stream",
     "text": [
      "purpose_category\n",
      "операции с автомобилем      9.347978\n",
      "операции с недвижимостью    7.255139\n",
      "получение образования       9.252758\n",
      "проведение свадьбы          7.911803\n",
      "Name: debt, dtype: float64\n"
     ]
    }
   ],
   "source": [
    "print(data.groupby('purpose_category')['debt'].mean()*100)"
   ]
  },
  {
   "cell_type": "code",
   "execution_count": 43,
   "id": "0cc9f519",
   "metadata": {},
   "outputs": [
    {
     "data": {
      "image/png": "[encoded data removed]",
      "text/plain": [
       "<Figure size 720x432 with 1 Axes>"
      ]
     },
     "metadata": {
      "needs_background": "light"
     },
     "output_type": "display_data"
    }
   ],
   "source": [
    "df_purpose_category = data.groupby('purpose_category')['debt'].mean()*100\n",
    "\n",
    "fig, ax = plt.subplots(figsize=(10, 6))\n",
    "df_purpose_category.plot(kind='bar', color = 'red')\n",
    "\n",
    "plt.xlabel('Цель кредита')\n",
    "plt.ylabel('Процент')\n",
    "plt.title('Статистика задолженности в зависимости от цели кредита')\n",
    "\n",
    "ax.yaxis.set_major_formatter(mtick.PercentFormatter())\n",
    "\n",
    "plt.show()"
   ]
  },
  {
   "cell_type": "markdown",
   "id": "04a1026e",
   "metadata": {
    "deletable": false,
    "id": "b4bb2ce6"
   },
   "source": [
    "**Вывод:** \n",
    "Исходя из предоставленной таблицы, можно сделать следующие выводы: \n",
    "1)Операции с автомобилем (9.35%): Эта категория имеет самый высокий процент должников. Вероятно, это связано с тем, что операции с автомобилями часто требуют значительных финансовых затрат, и некоторые заемщики могут столкнуться с трудностями в погашении кредитов.\n",
    "2)Операции с недвижимостью (7.26%): В этой категории процент должников ниже, чем в категории с автомобилями. Это может быть связано с тем, что операции с недвижимостью чаще имеют долгосрочный характер, и заемщики более ответственно подходят к таким сделкам.\n",
    "3)Получение образования (9.25%): Эта категория также имеет высокий процент должников, что может быть связано с тем, что образование может быть длительным процессом с накоплением расходов.\n",
    "4)Проведение свадьбы (7.91%): Эта категория имеет ниже средний процент должников. Вероятно, свадьба как событие может иметь менее значимый финансовый вклад, по сравнению с другими категориями.\n",
    "Общий вывод: Из анализа видно, что категории \"Операции с автомобилем\" и \"Получение образования\" имеют более высокий процент должников, что может требовать дополнительного внимания и анализа для разработки более эффективных кредитных стратегий в этих областях."
   ]
  },
  {
   "cell_type": "markdown",
   "id": "7108cb3f",
   "metadata": {
    "deletable": false,
    "editable": false,
    "id": "09c3ac4c"
   },
   "source": [
    "#### 3.5 Приведите возможные причины появления пропусков в исходных данных."
   ]
  },
  {
   "cell_type": "markdown",
   "id": "3184a7d2",
   "metadata": {
    "deletable": false,
    "id": "9da2ceda"
   },
   "source": [
    "*Ответ:* \n",
    "Пропуски в исходных данных могут возникать по разным причинам, например:\n",
    "1)Ошибка при сборе данных: В процессе сбора данных могут возникнуть сбои или ошибки, что приводит к неполным или некорректным данным.\n",
    "2)Отсутствие информации: Некоторые атрибуты могут быть просто недоступны для записи. Например, если определенное измерение невозможно выполнить, соответствующее значение данных будет отсутствовать.\n",
    "3)Ошибки при передаче данных: При передаче данных по сети могут возникнуть ошибки, приводящие к потере части данных."
   ]
  },
  {
   "cell_type": "markdown",
   "id": "7c792514",
   "metadata": {
    "deletable": false,
    "editable": false,
    "id": "7b0487d6"
   },
   "source": [
    "#### 3.6 Объясните, почему заполнить пропуски медианным значением — лучшее решение для количественных переменных."
   ]
  },
  {
   "cell_type": "markdown",
   "id": "4b10e4d1",
   "metadata": {
    "deletable": false,
    "id": "7ecf2b8e"
   },
   "source": [
    "*Ответ:* \n",
    "Заполнение пропусков медианным значением может быть хорошим решением в первую очередь из-за того, что Медиана представляет собой центральную точку распределения данных и не подвержена влиянию крайних значений, если в данных есть выбросы или аномальные значения, то медиана будет менее чувствительна к ним, чем среднее. Это может быть особенно важно в случаях, когда выбросы несут в себе ошибки или аномалии. Также медиану можно вычислить относительно быстро и не сложно, что делает этот метод простым и эффективным. (в своем исследовании мы использовали среднее так как работали с качественным показателем debt)\n"
   ]
  },
  {
   "cell_type": "markdown",
   "id": "68d0bc43",
   "metadata": {
    "deletable": false,
    "editable": false,
    "id": "6db5255a"
   },
   "source": [
    "### Шаг 4: общий вывод."
   ]
  },
  {
   "cell_type": "markdown",
   "id": "952945a8",
   "metadata": {
    "deletable": false,
    "id": "bad65432"
   },
   "source": [
    "Из проведенного анализа данных видно, что наличие детей может увеличивать риск задолженности перед банком. Вероятно, это связано с дополнительными финансовыми обязательствами, которые несут родители, заботясь о своих детях.\n",
    "\n",
    "Среди различных категорий заемщиков, наименьший процент должников наблюдается среди вдовцов и вдов (6.62%). Задолженность встречается у 7.06% людей, находящихся в разводе, и у 7.56% женатых/замужних. Люди в гражданском браке имеют задолженность в 9.31% случаев, а среди тех, кто не женат/не замужем, этот показатель составляет 9.76%. Возможные причины таких различий могут быть связаны с разными финансовыми обстоятельствами, которые характерны для каждой из этих групп.\n",
    "\n",
    "Среди разных уровней дохода, заемщики с доходом в диапазоне от 30,000 до 50,000 имеют наименьший процент должников, что может свидетельствовать о их более устойчивой финансовой ситуации. Самый высокий процент должников наблюдается среди заемщиков с доходом менее 30,000 (группа E).\n",
    "\n",
    "Анализ категорий кредитных целей показал, что операции с автомобилем имеют самый высокий процент должников (9.35%), возможно из-за значительных финансовых затрат, связанных с этой категорией.\n",
    "\n",
    "В целом, из анализа можно сделать вывод, что разные факторы, такие как наличие детей, семейное положение, уровень дохода и цель кредита, могут существенно влиять на вероятность задолженности перед банком. Эти выводы представляют важную информацию для разработки более эффективных кредитных стратегий и оценки рисков."
   ]
  },
  {
   "cell_type": "markdown",
   "id": "7f91ba3a",
   "metadata": {},
   "source": [
    "Изучил отправленные вами материалы, добавил визуализацию, но получилось сделать красивый график только для одного показателя (mean()*100), пробовал сделать график с всеми тремя метриками(count, sum, mean), получилось не информативно(см. график ниже), подскажите пожалуйста, как можно объеденить три графика в один, и стоит ли вообще так делать ? "
   ]
  },
  {
   "cell_type": "code",
   "execution_count": 45,
   "id": "bc5cf696",
   "metadata": {},
   "outputs": [
    {
     "data": {
      "image/png": "[encoded data removed]",
      "text/plain": [
       "<Figure size 720x432 with 1 Axes>"
      ]
     },
     "metadata": {
      "needs_background": "light"
     },
     "output_type": "display_data"
    }
   ],
   "source": [
    "import matplotlib.pyplot as plt\n",
    "\n",
    "df = data.groupby('family_status')['debt'].agg(count='count', sum='sum', mean=lambda x: x.mean() * 100)\n",
    "\n",
    "fig, ax = plt.subplots(figsize=(10, 6))\n",
    "df.plot(kind='bar', ax=ax)\n",
    "\n",
    "plt.xlabel('Семейное положение')\n",
    "plt.ylabel('Значение')\n",
    "plt.title('Статистика задолженности в зависимости от семейного положения')\n",
    "\n",
    "for i, value in enumerate(df.values):\n",
    "    plt.text(i, value[0] + 0.1, f'{value[0]:.0f}', ha='center', va='bottom')\n",
    "    plt.text(i, value[1] + 0.1, f'{value[1]:.0f}', ha='center', va='bottom')\n",
    "    plt.text(i, value[2] + 0.1, f'{value[2]:.2f}', ha='center', va='bottom')\n",
    "\n",
    "plt.show()\n"
   ]
  }
 ],
 "metadata": {
  "ExecuteTimeLog": [
   {
    "duration": 477,
    "start_time": "2023-11-06T17:59:36.179Z"
   },
   {
    "duration": 23,
    "start_time": "2023-11-06T17:59:41.630Z"
   },
   {
    "duration": 75,
    "start_time": "2023-11-06T19:27:35.697Z"
   },
   {
    "duration": 17,
    "start_time": "2023-11-06T19:38:48.696Z"
   },
   {
    "duration": 8,
    "start_time": "2023-11-06T19:38:56.397Z"
   },
   {
    "duration": 9,
    "start_time": "2023-11-06T19:39:23.685Z"
   },
   {
    "duration": 7,
    "start_time": "2023-11-06T19:40:28.093Z"
   },
   {
    "duration": 3,
    "start_time": "2023-11-06T19:42:20.429Z"
   },
   {
    "duration": 14,
    "start_time": "2023-11-06T19:42:28.829Z"
   },
   {
    "duration": 87,
    "start_time": "2023-11-06T19:42:55.037Z"
   },
   {
    "duration": 3,
    "start_time": "2023-11-06T19:43:02.038Z"
   },
   {
    "duration": 4,
    "start_time": "2023-11-06T19:43:09.244Z"
   },
   {
    "duration": 11,
    "start_time": "2023-11-06T19:44:03.145Z"
   },
   {
    "duration": 3,
    "start_time": "2023-11-06T19:44:13.435Z"
   },
   {
    "duration": 10,
    "start_time": "2023-11-06T19:44:22.325Z"
   },
   {
    "duration": 12,
    "start_time": "2023-11-06T19:45:18.414Z"
   },
   {
    "duration": 10,
    "start_time": "2023-11-06T19:45:26.885Z"
   },
   {
    "duration": 74,
    "start_time": "2023-11-06T19:45:50.608Z"
   },
   {
    "duration": 15,
    "start_time": "2023-11-06T19:45:52.671Z"
   },
   {
    "duration": 15,
    "start_time": "2023-11-06T19:45:55.551Z"
   },
   {
    "duration": 10,
    "start_time": "2023-11-06T19:45:58.122Z"
   },
   {
    "duration": 37,
    "start_time": "2023-11-06T19:46:00.273Z"
   },
   {
    "duration": 4,
    "start_time": "2023-11-06T19:46:02.475Z"
   },
   {
    "duration": 11,
    "start_time": "2023-11-06T19:46:04.507Z"
   },
   {
    "duration": 4,
    "start_time": "2023-11-06T19:46:07.185Z"
   },
   {
    "duration": 6,
    "start_time": "2023-11-06T19:46:09.497Z"
   },
   {
    "duration": 5,
    "start_time": "2023-11-06T19:46:12.133Z"
   },
   {
    "duration": 37,
    "start_time": "2023-11-06T19:46:14.536Z"
   },
   {
    "duration": 11,
    "start_time": "2023-11-06T19:46:24.687Z"
   },
   {
    "duration": 4,
    "start_time": "2023-11-06T19:46:27.322Z"
   },
   {
    "duration": 12,
    "start_time": "2023-11-06T19:46:30.507Z"
   },
   {
    "duration": 19,
    "start_time": "2023-11-06T19:46:32.987Z"
   },
   {
    "duration": 17,
    "start_time": "2023-11-06T19:46:35.134Z"
   },
   {
    "duration": 3,
    "start_time": "2023-11-06T19:46:37.728Z"
   },
   {
    "duration": 10,
    "start_time": "2023-11-06T19:46:40.418Z"
   },
   {
    "duration": 6,
    "start_time": "2023-11-06T19:46:42.251Z"
   },
   {
    "duration": 3,
    "start_time": "2023-11-06T19:46:44.969Z"
   },
   {
    "duration": 10,
    "start_time": "2023-11-06T19:46:48.401Z"
   },
   {
    "duration": 8,
    "start_time": "2023-11-06T19:46:54.070Z"
   },
   {
    "duration": 14,
    "start_time": "2023-11-06T19:46:56.688Z"
   },
   {
    "duration": 5,
    "start_time": "2023-11-06T19:47:22.559Z"
   },
   {
    "duration": 8,
    "start_time": "2023-11-06T19:48:00.796Z"
   },
   {
    "duration": 6,
    "start_time": "2023-11-06T19:48:47.315Z"
   },
   {
    "duration": 5,
    "start_time": "2023-11-06T19:49:24.120Z"
   },
   {
    "duration": 6,
    "start_time": "2023-11-06T19:50:11.818Z"
   },
   {
    "duration": 6,
    "start_time": "2023-11-06T19:54:15.396Z"
   },
   {
    "duration": 8,
    "start_time": "2023-11-06T21:08:51.865Z"
   },
   {
    "duration": 6,
    "start_time": "2023-11-06T21:08:54.759Z"
   },
   {
    "duration": 10,
    "start_time": "2023-11-06T21:28:53.440Z"
   },
   {
    "duration": 5,
    "start_time": "2023-11-06T21:32:31.365Z"
   },
   {
    "duration": 5,
    "start_time": "2023-11-06T21:35:50.568Z"
   },
   {
    "duration": 6,
    "start_time": "2023-11-06T21:36:05.920Z"
   },
   {
    "duration": 5,
    "start_time": "2023-11-06T21:36:25.903Z"
   },
   {
    "duration": 8,
    "start_time": "2023-11-06T21:40:58.049Z"
   },
   {
    "duration": 7,
    "start_time": "2023-11-06T21:41:09.861Z"
   },
   {
    "duration": 6,
    "start_time": "2023-11-06T21:41:14.030Z"
   },
   {
    "duration": 3,
    "start_time": "2023-11-06T21:41:42.047Z"
   },
   {
    "duration": 50,
    "start_time": "2023-11-07T09:43:45.616Z"
   },
   {
    "duration": 669,
    "start_time": "2023-11-07T09:44:02.470Z"
   },
   {
    "duration": 22,
    "start_time": "2023-11-07T09:44:05.549Z"
   },
   {
    "duration": 19,
    "start_time": "2023-11-07T09:44:10.500Z"
   },
   {
    "duration": 11,
    "start_time": "2023-11-07T09:44:13.271Z"
   },
   {
    "duration": 35,
    "start_time": "2023-11-07T09:44:16.724Z"
   },
   {
    "duration": 4,
    "start_time": "2023-11-07T09:44:19.955Z"
   },
   {
    "duration": 7,
    "start_time": "2023-11-07T09:44:22.763Z"
   },
   {
    "duration": 5,
    "start_time": "2023-11-07T09:44:25.782Z"
   },
   {
    "duration": 7,
    "start_time": "2023-11-07T09:44:28.572Z"
   },
   {
    "duration": 5,
    "start_time": "2023-11-07T09:44:31.961Z"
   },
   {
    "duration": 6,
    "start_time": "2023-11-07T09:44:36.804Z"
   },
   {
    "duration": 36,
    "start_time": "2023-11-07T09:44:39.826Z"
   },
   {
    "duration": 11,
    "start_time": "2023-11-07T09:44:44.182Z"
   },
   {
    "duration": 3,
    "start_time": "2023-11-07T09:44:47.586Z"
   },
   {
    "duration": 12,
    "start_time": "2023-11-07T09:44:50.193Z"
   },
   {
    "duration": 19,
    "start_time": "2023-11-07T09:44:53.108Z"
   },
   {
    "duration": 17,
    "start_time": "2023-11-07T09:44:57.202Z"
   },
   {
    "duration": 4,
    "start_time": "2023-11-07T09:45:01.026Z"
   },
   {
    "duration": 14,
    "start_time": "2023-11-07T09:45:07.516Z"
   },
   {
    "duration": 7,
    "start_time": "2023-11-07T09:45:10.904Z"
   },
   {
    "duration": 3,
    "start_time": "2023-11-07T09:47:02.016Z"
   },
   {
    "duration": 10,
    "start_time": "2023-11-07T09:47:04.567Z"
   },
   {
    "duration": 6,
    "start_time": "2023-11-07T09:47:08.079Z"
   },
   {
    "duration": 6,
    "start_time": "2023-11-07T09:47:11.035Z"
   },
   {
    "duration": 5,
    "start_time": "2023-11-07T09:47:14.230Z"
   },
   {
    "duration": 7,
    "start_time": "2023-11-07T09:47:19.541Z"
   },
   {
    "duration": 8,
    "start_time": "2023-11-07T09:47:23.788Z"
   },
   {
    "duration": 8,
    "start_time": "2023-11-07T09:47:26.701Z"
   },
   {
    "duration": 8,
    "start_time": "2023-11-07T09:47:30.059Z"
   },
   {
    "duration": 5,
    "start_time": "2023-11-07T09:48:20.739Z"
   },
   {
    "duration": 8,
    "start_time": "2023-11-07T09:48:34.497Z"
   },
   {
    "duration": 6,
    "start_time": "2023-11-07T09:49:10.390Z"
   },
   {
    "duration": 7,
    "start_time": "2023-11-07T09:49:25.766Z"
   },
   {
    "duration": 7,
    "start_time": "2023-11-07T09:49:38.637Z"
   },
   {
    "duration": 43,
    "start_time": "2023-11-07T13:17:17.105Z"
   },
   {
    "duration": 693,
    "start_time": "2023-11-07T13:18:19.736Z"
   },
   {
    "duration": 27,
    "start_time": "2023-11-07T13:18:22.408Z"
   },
   {
    "duration": 13,
    "start_time": "2023-11-07T13:18:24.883Z"
   },
   {
    "duration": 9,
    "start_time": "2023-11-07T13:18:27.054Z"
   },
   {
    "duration": 50,
    "start_time": "2023-11-07T13:18:29.644Z"
   },
   {
    "duration": 3,
    "start_time": "2023-11-07T13:18:31.057Z"
   },
   {
    "duration": 7,
    "start_time": "2023-11-07T13:18:32.617Z"
   },
   {
    "duration": 5,
    "start_time": "2023-11-07T13:18:34.648Z"
   },
   {
    "duration": 6,
    "start_time": "2023-11-07T13:18:36.171Z"
   },
   {
    "duration": 5,
    "start_time": "2023-11-07T13:18:37.720Z"
   },
   {
    "duration": 29,
    "start_time": "2023-11-07T13:18:39.695Z"
   },
   {
    "duration": 9,
    "start_time": "2023-11-07T13:18:41.322Z"
   },
   {
    "duration": 3,
    "start_time": "2023-11-07T13:18:43.450Z"
   },
   {
    "duration": 11,
    "start_time": "2023-11-07T13:18:44.823Z"
   },
   {
    "duration": 20,
    "start_time": "2023-11-07T13:18:46.421Z"
   },
   {
    "duration": 17,
    "start_time": "2023-11-07T13:18:48.221Z"
   },
   {
    "duration": 3,
    "start_time": "2023-11-07T13:18:50.000Z"
   },
   {
    "duration": 9,
    "start_time": "2023-11-07T13:18:51.866Z"
   },
   {
    "duration": 5,
    "start_time": "2023-11-07T13:18:53.305Z"
   },
   {
    "duration": 4,
    "start_time": "2023-11-07T13:18:55.735Z"
   },
   {
    "duration": 8,
    "start_time": "2023-11-07T13:18:58.548Z"
   },
   {
    "duration": 5,
    "start_time": "2023-11-07T13:19:00.493Z"
   },
   {
    "duration": 5,
    "start_time": "2023-11-07T13:19:03.493Z"
   },
   {
    "duration": 5,
    "start_time": "2023-11-07T13:19:06.018Z"
   },
   {
    "duration": 5,
    "start_time": "2023-11-07T13:19:08.943Z"
   },
   {
    "duration": 7,
    "start_time": "2023-11-07T13:19:10.690Z"
   },
   {
    "duration": 9,
    "start_time": "2023-11-07T13:19:12.491Z"
   },
   {
    "duration": 6,
    "start_time": "2023-11-07T13:19:15.365Z"
   },
   {
    "duration": 6,
    "start_time": "2023-11-07T13:19:17.131Z"
   },
   {
    "duration": 6,
    "start_time": "2023-11-07T13:19:18.987Z"
   },
   {
    "duration": 7,
    "start_time": "2023-11-07T13:19:21.784Z"
   },
   {
    "duration": 6,
    "start_time": "2023-11-07T13:20:24.925Z"
   },
   {
    "duration": 7,
    "start_time": "2023-11-07T13:21:10.184Z"
   },
   {
    "duration": 6,
    "start_time": "2023-11-07T13:51:44.092Z"
   },
   {
    "duration": 8,
    "start_time": "2023-11-07T13:51:47.451Z"
   },
   {
    "duration": 46,
    "start_time": "2023-11-07T19:54:41.691Z"
   },
   {
    "duration": 720,
    "start_time": "2023-11-07T19:54:46.677Z"
   },
   {
    "duration": 21,
    "start_time": "2023-11-07T19:54:49.486Z"
   },
   {
    "duration": 16,
    "start_time": "2023-11-07T19:54:55.484Z"
   },
   {
    "duration": 12,
    "start_time": "2023-11-07T19:54:58.664Z"
   },
   {
    "duration": 35,
    "start_time": "2023-11-07T19:55:01.870Z"
   },
   {
    "duration": 4,
    "start_time": "2023-11-07T19:55:04.334Z"
   },
   {
    "duration": 7,
    "start_time": "2023-11-07T19:55:07.172Z"
   },
   {
    "duration": 5,
    "start_time": "2023-11-07T19:55:09.475Z"
   },
   {
    "duration": 7,
    "start_time": "2023-11-07T19:55:11.524Z"
   },
   {
    "duration": 5,
    "start_time": "2023-11-07T19:55:14.264Z"
   },
   {
    "duration": 48,
    "start_time": "2023-11-07T19:55:16.666Z"
   },
   {
    "duration": 11,
    "start_time": "2023-11-07T19:55:19.564Z"
   },
   {
    "duration": 4,
    "start_time": "2023-11-07T19:55:22.427Z"
   },
   {
    "duration": 14,
    "start_time": "2023-11-07T19:55:24.830Z"
   },
   {
    "duration": 21,
    "start_time": "2023-11-07T19:55:26.864Z"
   },
   {
    "duration": 19,
    "start_time": "2023-11-07T19:55:29.390Z"
   },
   {
    "duration": 5,
    "start_time": "2023-11-07T19:55:32.280Z"
   },
   {
    "duration": 18,
    "start_time": "2023-11-07T19:55:34.603Z"
   },
   {
    "duration": 6,
    "start_time": "2023-11-07T19:55:36.689Z"
   },
   {
    "duration": 4,
    "start_time": "2023-11-07T19:55:40.335Z"
   },
   {
    "duration": 9,
    "start_time": "2023-11-07T19:55:42.726Z"
   },
   {
    "duration": 5,
    "start_time": "2023-11-07T19:55:45.740Z"
   },
   {
    "duration": 5,
    "start_time": "2023-11-07T19:55:48.026Z"
   },
   {
    "duration": 6,
    "start_time": "2023-11-07T19:55:50.278Z"
   },
   {
    "duration": 7,
    "start_time": "2023-11-07T19:55:53.718Z"
   },
   {
    "duration": 8,
    "start_time": "2023-11-07T19:55:55.798Z"
   },
   {
    "duration": 7,
    "start_time": "2023-11-07T19:55:57.934Z"
   },
   {
    "duration": 6,
    "start_time": "2023-11-07T19:56:01.210Z"
   },
   {
    "duration": 6,
    "start_time": "2023-11-07T19:56:03.661Z"
   },
   {
    "duration": 7,
    "start_time": "2023-11-07T19:56:06.064Z"
   },
   {
    "duration": 7,
    "start_time": "2023-11-07T19:56:10.642Z"
   },
   {
    "duration": 7,
    "start_time": "2023-11-07T19:56:12.876Z"
   },
   {
    "duration": 10,
    "start_time": "2023-11-07T19:56:15.784Z"
   },
   {
    "duration": 9,
    "start_time": "2023-11-07T20:01:14.800Z"
   },
   {
    "duration": 516,
    "start_time": "2023-11-07T20:46:41.098Z"
   },
   {
    "duration": 24,
    "start_time": "2023-11-07T20:46:41.616Z"
   },
   {
    "duration": 18,
    "start_time": "2023-11-07T20:46:41.642Z"
   },
   {
    "duration": 13,
    "start_time": "2023-11-07T20:46:41.662Z"
   },
   {
    "duration": 44,
    "start_time": "2023-11-07T20:46:41.677Z"
   },
   {
    "duration": 3,
    "start_time": "2023-11-07T20:46:41.723Z"
   },
   {
    "duration": 100,
    "start_time": "2023-11-07T20:46:41.728Z"
   },
   {
    "duration": 17,
    "start_time": "2023-11-07T20:46:41.830Z"
   },
   {
    "duration": 11,
    "start_time": "2023-11-07T20:46:41.849Z"
   },
   {
    "duration": 5,
    "start_time": "2023-11-07T20:46:41.863Z"
   },
   {
    "duration": 38,
    "start_time": "2023-11-07T20:46:41.870Z"
   },
   {
    "duration": 11,
    "start_time": "2023-11-07T20:46:41.910Z"
   },
   {
    "duration": 36,
    "start_time": "2023-11-07T20:46:41.923Z"
   },
   {
    "duration": 26,
    "start_time": "2023-11-07T20:46:41.960Z"
   },
   {
    "duration": 25,
    "start_time": "2023-11-07T20:46:41.988Z"
   },
   {
    "duration": 16,
    "start_time": "2023-11-07T20:46:42.015Z"
   },
   {
    "duration": 3,
    "start_time": "2023-11-07T20:46:42.033Z"
   },
   {
    "duration": 13,
    "start_time": "2023-11-07T20:46:42.038Z"
   },
   {
    "duration": 5,
    "start_time": "2023-11-07T20:46:42.053Z"
   },
   {
    "duration": 4,
    "start_time": "2023-11-07T20:46:42.060Z"
   },
   {
    "duration": 16,
    "start_time": "2023-11-07T20:46:42.065Z"
   },
   {
    "duration": 9,
    "start_time": "2023-11-07T20:46:42.083Z"
   },
   {
    "duration": 6,
    "start_time": "2023-11-07T20:46:42.093Z"
   },
   {
    "duration": 6,
    "start_time": "2023-11-07T20:46:42.100Z"
   },
   {
    "duration": 12,
    "start_time": "2023-11-07T20:46:42.107Z"
   },
   {
    "duration": 24,
    "start_time": "2023-11-07T20:46:42.121Z"
   },
   {
    "duration": 22,
    "start_time": "2023-11-07T20:46:42.146Z"
   },
   {
    "duration": 6,
    "start_time": "2023-11-07T20:46:42.171Z"
   },
   {
    "duration": 7,
    "start_time": "2023-11-07T20:46:42.179Z"
   },
   {
    "duration": 8,
    "start_time": "2023-11-07T20:46:42.187Z"
   },
   {
    "duration": 7,
    "start_time": "2023-11-07T20:46:42.196Z"
   },
   {
    "duration": 41,
    "start_time": "2023-11-07T20:46:42.204Z"
   },
   {
    "duration": 8,
    "start_time": "2023-11-07T20:46:42.247Z"
   },
   {
    "duration": 3,
    "start_time": "2023-11-09T21:23:53.433Z"
   },
   {
    "duration": 84,
    "start_time": "2023-11-09T21:24:33.926Z"
   },
   {
    "duration": 73,
    "start_time": "2023-11-09T21:24:39.976Z"
   },
   {
    "duration": 714,
    "start_time": "2023-11-09T21:24:47.468Z"
   },
   {
    "duration": 22,
    "start_time": "2023-11-09T21:24:50.517Z"
   },
   {
    "duration": 19,
    "start_time": "2023-11-09T21:24:53.263Z"
   },
   {
    "duration": 13,
    "start_time": "2023-11-09T21:24:55.588Z"
   },
   {
    "duration": 60,
    "start_time": "2023-11-09T21:24:58.456Z"
   },
   {
    "duration": 5,
    "start_time": "2023-11-09T21:25:00.982Z"
   },
   {
    "duration": 12,
    "start_time": "2023-11-09T21:25:02.452Z"
   },
   {
    "duration": 6,
    "start_time": "2023-11-09T21:25:04.443Z"
   },
   {
    "duration": 9,
    "start_time": "2023-11-09T21:25:06.455Z"
   },
   {
    "duration": 5,
    "start_time": "2023-11-09T21:25:08.234Z"
   },
   {
    "duration": 36,
    "start_time": "2023-11-09T21:25:10.368Z"
   },
   {
    "duration": 13,
    "start_time": "2023-11-09T21:25:12.661Z"
   },
   {
    "duration": 4,
    "start_time": "2023-11-09T21:25:15.100Z"
   },
   {
    "duration": 12,
    "start_time": "2023-11-09T21:25:17.305Z"
   },
   {
    "duration": 21,
    "start_time": "2023-11-09T21:25:19.164Z"
   },
   {
    "duration": 27,
    "start_time": "2023-11-09T21:25:21.358Z"
   },
   {
    "duration": 6,
    "start_time": "2023-11-09T21:25:24.062Z"
   },
   {
    "duration": 18,
    "start_time": "2023-11-09T21:25:26.067Z"
   },
   {
    "duration": 6,
    "start_time": "2023-11-09T21:25:30.145Z"
   },
   {
    "duration": 5,
    "start_time": "2023-11-09T21:25:33.029Z"
   },
   {
    "duration": 14,
    "start_time": "2023-11-09T21:25:35.062Z"
   },
   {
    "duration": 7,
    "start_time": "2023-11-09T21:25:37.569Z"
   },
   {
    "duration": 6,
    "start_time": "2023-11-09T21:25:39.642Z"
   },
   {
    "duration": 6,
    "start_time": "2023-11-09T21:25:42.226Z"
   },
   {
    "duration": 7,
    "start_time": "2023-11-09T21:25:48.543Z"
   },
   {
    "duration": 9,
    "start_time": "2023-11-09T21:25:50.772Z"
   },
   {
    "duration": 10,
    "start_time": "2023-11-09T21:25:54.397Z"
   },
   {
    "duration": 13,
    "start_time": "2023-11-09T21:25:57.663Z"
   },
   {
    "duration": 15,
    "start_time": "2023-11-09T21:26:36.329Z"
   },
   {
    "duration": 18,
    "start_time": "2023-11-09T21:26:51.207Z"
   },
   {
    "duration": 11,
    "start_time": "2023-11-09T21:27:16.332Z"
   },
   {
    "duration": 683,
    "start_time": "2023-11-10T08:11:25.238Z"
   },
   {
    "duration": 20,
    "start_time": "2023-11-10T08:11:31.539Z"
   },
   {
    "duration": 12,
    "start_time": "2023-11-10T08:11:37.544Z"
   },
   {
    "duration": 8,
    "start_time": "2023-11-10T08:11:45.619Z"
   },
   {
    "duration": 30,
    "start_time": "2023-11-10T08:11:48.137Z"
   },
   {
    "duration": 3,
    "start_time": "2023-11-10T08:11:50.904Z"
   },
   {
    "duration": 8,
    "start_time": "2023-11-10T08:11:54.191Z"
   },
   {
    "duration": 7,
    "start_time": "2023-11-10T08:11:59.862Z"
   },
   {
    "duration": 4,
    "start_time": "2023-11-10T08:12:03.986Z"
   },
   {
    "duration": 6,
    "start_time": "2023-11-10T08:12:08.484Z"
   },
   {
    "duration": 4,
    "start_time": "2023-11-10T08:12:11.369Z"
   },
   {
    "duration": 30,
    "start_time": "2023-11-10T08:12:13.819Z"
   },
   {
    "duration": 8,
    "start_time": "2023-11-10T08:12:16.273Z"
   },
   {
    "duration": 3,
    "start_time": "2023-11-10T08:12:18.970Z"
   },
   {
    "duration": 10,
    "start_time": "2023-11-10T08:12:22.081Z"
   },
   {
    "duration": 19,
    "start_time": "2023-11-10T08:12:24.425Z"
   },
   {
    "duration": 17,
    "start_time": "2023-11-10T08:12:28.945Z"
   },
   {
    "duration": 3,
    "start_time": "2023-11-10T08:12:33.036Z"
   },
   {
    "duration": 9,
    "start_time": "2023-11-10T08:12:37.422Z"
   },
   {
    "duration": 5,
    "start_time": "2023-11-10T08:12:43.044Z"
   },
   {
    "duration": 4,
    "start_time": "2023-11-10T08:12:47.460Z"
   },
   {
    "duration": 9,
    "start_time": "2023-11-10T08:12:50.555Z"
   },
   {
    "duration": 5,
    "start_time": "2023-11-10T08:12:53.794Z"
   },
   {
    "duration": 5,
    "start_time": "2023-11-10T08:12:56.586Z"
   },
   {
    "duration": 5,
    "start_time": "2023-11-10T08:13:00.270Z"
   },
   {
    "duration": 6,
    "start_time": "2023-11-10T08:13:03.705Z"
   },
   {
    "duration": 7,
    "start_time": "2023-11-10T08:13:06.158Z"
   },
   {
    "duration": 7,
    "start_time": "2023-11-10T08:13:09.023Z"
   },
   {
    "duration": 12,
    "start_time": "2023-11-10T08:13:12.667Z"
   },
   {
    "duration": 6,
    "start_time": "2023-11-10T08:13:15.505Z"
   },
   {
    "duration": 5,
    "start_time": "2023-11-10T08:13:18.429Z"
   },
   {
    "duration": 6,
    "start_time": "2023-11-10T08:13:22.653Z"
   },
   {
    "duration": 8,
    "start_time": "2023-11-10T08:13:26.890Z"
   },
   {
    "duration": 7,
    "start_time": "2023-11-10T08:13:30.915Z"
   },
   {
    "duration": 7,
    "start_time": "2023-11-10T08:13:33.365Z"
   },
   {
    "duration": 553,
    "start_time": "2023-11-10T08:14:20.868Z"
   },
   {
    "duration": 121,
    "start_time": "2023-11-10T08:16:34.912Z"
   },
   {
    "duration": 124,
    "start_time": "2023-11-10T08:17:42.122Z"
   },
   {
    "duration": 168,
    "start_time": "2023-11-10T08:17:53.609Z"
   },
   {
    "duration": 127,
    "start_time": "2023-11-10T08:20:02.077Z"
   },
   {
    "duration": 142,
    "start_time": "2023-11-10T08:21:14.629Z"
   },
   {
    "duration": 119,
    "start_time": "2023-11-10T08:22:31.315Z"
   },
   {
    "duration": 143,
    "start_time": "2023-11-10T08:24:00.756Z"
   },
   {
    "duration": 215,
    "start_time": "2023-11-10T08:24:52.859Z"
   },
   {
    "duration": 219,
    "start_time": "2023-11-10T08:31:08.243Z"
   }
  ],
  "colab": {
   "name": "dpp_template_part2.ipynb",
   "provenance": []
  },
  "kernelspec": {
   "display_name": "Python 3 (ipykernel)",
   "language": "python",
   "name": "python3"
  },
  "language_info": {
   "codemirror_mode": {
    "name": "ipython",
    "version": 3
   },
   "file_extension": ".py",
   "mimetype": "text/x-python",
   "name": "python",
   "nbconvert_exporter": "python",
   "pygments_lexer": "ipython3",
   "version": "3.11.5"
  },
  "toc": {
   "base_numbering": 1,
   "nav_menu": {},
   "number_sections": true,
   "sideBar": true,
   "skip_h1_title": true,
   "title_cell": "Table of Contents",
   "title_sidebar": "Contents",
   "toc_cell": false,
   "toc_position": {},
   "toc_section_display": true,
   "toc_window_display": false
  }
 },
 "nbformat": 4,
 "nbformat_minor": 5
}
